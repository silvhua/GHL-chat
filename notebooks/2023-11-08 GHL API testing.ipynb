{
 "cells": [
  {
   "attachments": {},
   "cell_type": "markdown",
   "metadata": {},
   "source": [
    "# Title\n",
    "[]()"
   ]
  },
  {
   "cell_type": "code",
   "execution_count": 2,
   "metadata": {},
   "outputs": [],
   "source": [
    "\n",
    "import pandas as pd\n",
    "import sys\n",
    "sys.path.append(r\"C:\\Users\\silvh\\OneDrive\\lighthouse\\custom_python\")\n",
    "from silvhua import *\n",
    "# from datetime import datetime\n",
    "# sys.path.append(r\"C:\\Users\\silvh\\OneDrive\\lighthouse\\portfolio-projects\\online-PT-social-media-NLP\\src\")"
   ]
  },
  {
   "cell_type": "code",
   "execution_count": 3,
   "metadata": {},
   "outputs": [],
   "source": [
    "# set the option to wrap text within cells\n",
    "pd.set_option('display.max_colwidth', 100)\n",
    "# pd.set_option('display.max_colwidth', None)\n",
    "pd.set_option('display.max_rows', 20)\n",
    "pd.set_option('display.max_columns', None)\n",
    "pd.set_option('display.width', None)"
   ]
  },
  {
   "cell_type": "markdown",
   "metadata": {},
   "source": [
    "# Set up"
   ]
  },
  {
   "cell_type": "code",
   "execution_count": 5,
   "metadata": {},
   "outputs": [],
   "source": [
    "response_dict = dict()"
   ]
  },
  {
   "cell_type": "code",
   "execution_count": 9,
   "metadata": {},
   "outputs": [],
   "source": [
    "with open('../private/contacts.json') as contacts_file:\n",
    "    contacts = json.load(contacts_file)"
   ]
  },
  {
   "cell_type": "markdown",
   "metadata": {},
   "source": [
    "# Test `new auth_token_response.json` structure"
   ]
  },
  {
   "cell_type": "code",
   "execution_count": 4,
   "metadata": {},
   "outputs": [],
   "source": [
    "import json\n",
    "with open('../private/auth_token_response.json') as token_file:\n",
    "    token = json.load(token_file)\n",
    "\n",
    "token['SamLab']['access_token']"
   ]
  },
  {
   "cell_type": "code",
   "execution_count": 8,
   "metadata": {},
   "outputs": [
    {
     "data": {
      "text/plain": [
       "False"
      ]
     },
     "execution_count": 8,
     "metadata": {},
     "output_type": "execute_result"
    }
   ],
   "source": [
    "token['SamLab']['access_token'] == token['CoachMcloone']['access_token']"
   ]
  },
  {
   "cell_type": "markdown",
   "metadata": {},
   "source": [
    "# Continuation from Oct 14 notebook"
   ]
  },
  {
   "cell_type": "code",
   "execution_count": 7,
   "metadata": {},
   "outputs": [
    {
     "name": "stdout",
     "output_type": "stream",
     "text": [
      "Sending Email messages with these parameters:\n",
      "{'type': 'Email', 'message': 'Hi, me. This is a test message from the GHL API using Python at 2023-11-08 13:50:36 Pacific time', 'subject': 'Testing GHL API with Python threadId', 'emailFrom': 'Brian Quinlan <brian@ownitfit.com.au>', 'threadId': 'Y0ecBIIPiHa7bpZr616G'}\n",
      "Status code 404: Not Found\n"
     ]
    }
   ],
   "source": [
    "import requests\n",
    "from datetime import datetime\n",
    "\n",
    "def send_message(contactId, message_dict, location='SamLab'):\n",
    "    \"\"\"\n",
    "    Send a message to a contact in GoHighLevel.\n",
    "    \n",
    "    Parameters:\n",
    "    - contactId (str): Contact ID.\n",
    "    - message_dict (dict): Dictionary containing message parameters. Dictionary keys should be:\n",
    "        - type (str): 'Email' or 'SMS'.\n",
    "        - message (str): Message body.\n",
    "        - subject (str): Email subject line.\n",
    "        - emailFrom (str): Email sender as shown in the email.\n",
    "\n",
    "        Here is an example message_dict:\n",
    "        \n",
    "            message_dict = {\n",
    "                \"type\": \"Email\",\n",
    "                \"message\": f\"Hi, me. This is a test message from the GHL API using Python at {timestamp} Pacific time\",\n",
    "                \"subject\": \"Testing GHL API with Python threadId\",\n",
    "                \"emailFrom\": \"Brian Quinlan <brian@ownitfit.com.au>\",\n",
    "                \"threadId\": 'Y0ecBIIPiHa7bpZr616G'\n",
    "            }\n",
    "    Returns:\n",
    "    - response_dict (dict): Dictionary containing the response from the API.\n",
    "    \"\"\"\n",
    "    url = \"https://services.leadconnectorhq.com/conversations/messages\"\n",
    "    with open('../private/auth_token_response.json') as token_file:\n",
    "        token = json.load(token_file)\n",
    "    type = message_dict['type']\n",
    "    message = message_dict['message']\n",
    "    subject = message_dict['subject']\n",
    "    threadId = message_dict.get('threadId', None)\n",
    "    print(f'Sending {type} messages with these parameters:')\n",
    "    print(message_dict)\n",
    "\n",
    "    payload = {\n",
    "        \"type\": type,\n",
    "        \"contactId\": contactId\n",
    "    }\n",
    "    if type == 'Email':\n",
    "        emailFrom = message_dict['emailFrom']\n",
    "        payload['emailFrom'] = emailFrom\n",
    "        payload['html'] = message\n",
    "        payload[\"subject\"] = subject\n",
    "    elif type == 'SMS':\n",
    "        payload['message'] = message\n",
    "        \n",
    "    \n",
    "    if threadId:\n",
    "        payload['threadId'] = threadId\n",
    "    \n",
    "    headers = {\n",
    "        \"Authorization\": f\"Bearer {token['access_token']}\",\n",
    "        \"Version\": \"2021-04-15\",\n",
    "        \"Content-Type\": \"application/json\",\n",
    "        \"Accept\": \"application/json\"\n",
    "    }\n",
    "    response = requests.post(url, json=payload, headers=headers)\n",
    "    print(f'Status code {response.status_code}: {response.reason}')\n",
    "\n",
    "    return response.json()\n",
    "\n",
    "def get_email_history(contactId, message_dict, location='SamLab'):\n",
    "    \"\"\"\n",
    "    \"\"\"\n",
    "    url = \"https://services.leadconnectorhq.com/conversations/search\"\n",
    "    with open('../private/auth_token_response.json') as token_file:\n",
    "        token = json.load(token_file)[location]\n",
    "    type = message_dict['type']\n",
    "    message = message_dict['message']\n",
    "    subject = message_dict['subject']\n",
    "    threadId = message_dict.get('threadId', None)\n",
    "    print(f'Sending {type} messages with these parameters:')\n",
    "    print(message_dict)\n",
    "\n",
    "    payload = {\n",
    "        \"type\": type,\n",
    "        \"contactId\": contactId\n",
    "    }\n",
    "    if type == 'Email':\n",
    "        emailFrom = message_dict['emailFrom']\n",
    "        payload['emailFrom'] = emailFrom\n",
    "        payload['html'] = message\n",
    "        payload[\"subject\"] = subject\n",
    "    elif type == 'SMS':\n",
    "        payload['message'] = message\n",
    "        \n",
    "    \n",
    "    if threadId:\n",
    "        payload['threadId'] = threadId\n",
    "    \n",
    "    headers = {\n",
    "        \"Authorization\": f\"Bearer {token['access_token']}\",\n",
    "        \"Version\": \"2021-04-15\",\n",
    "        \"Content-Type\": \"application/json\",\n",
    "        \"Accept\": \"application/json\"\n",
    "    }\n",
    "    response = requests.post(url, json=payload, headers=headers)\n",
    "    print(f'Status code {response.status_code}: {response.reason}')\n",
    "\n",
    "    return response.json()\n",
    "\n",
    "iteration = 1\n",
    "timestamp = datetime.strftime(datetime.now(), '%Y-%m-%d %H:%M:%S')\n",
    "message_dict = {\n",
    "    \"type\": \"Email\",\n",
    "    \"message\": f\"Hi, me. This is a test message from the GHL API using Python at {timestamp} Pacific time\",\n",
    "    \"subject\": \"Testing GHL API with Python threadId\",\n",
    "    \"emailFrom\": \"Brian Quinlan <brian@ownitfit.com.au>\",\n",
    "    \"threadId\": 'Y0ecBIIPiHa7bpZr616G'\n",
    "}\n",
    "\n",
    "response_dict[iteration] = get_email_history(contacts['me'], message_dict)\n",
    "# response_dict[iteration] = send_message(contacts['me'], message_dict)"
   ]
  },
  {
   "cell_type": "code",
   "execution_count": 11,
   "metadata": {},
   "outputs": [
    {
     "data": {
      "text/plain": [
       "{'statusCode': 404,\n",
       " 'message': 'Cannot POST /conversations/search',\n",
       " 'error': 'Not Found'}"
      ]
     },
     "execution_count": 11,
     "metadata": {},
     "output_type": "execute_result"
    }
   ],
   "source": [
    "response_dict[1]"
   ]
  },
  {
   "cell_type": "markdown",
   "metadata": {},
   "source": [
    "## 1.1"
   ]
  },
  {
   "cell_type": "code",
   "execution_count": 10,
   "metadata": {},
   "outputs": [
    {
     "name": "stdout",
     "output_type": "stream",
     "text": [
      "Sending Email messages with these parameters:\n",
      "{'type': 'Email', 'message': 'Hi, me. This is a test message from the GHL API using Python at 2023-11-08 13:50:36 Pacific time', 'subject': 'Testing GHL API with Python threadId', 'emailFrom': 'Brian Quinlan <brian@ownitfit.com.au>'}\n"
     ]
    },
    {
     "ename": "KeyError",
     "evalue": "'access_token'",
     "output_type": "error",
     "traceback": [
      "\u001b[1;31m---------------------------------------------------------------------------\u001b[0m",
      "\u001b[1;31mKeyError\u001b[0m                                  Traceback (most recent call last)",
      "\u001b[1;32mc:\\Users\\silvh\\OneDrive\\lighthouse\\portfolio-projects\\GHL-chat\\notebooks\\2023-11-08 GHL API testing.ipynb Cell 13\u001b[0m line \u001b[0;36m7\n\u001b[0;32m      <a href='vscode-notebook-cell:/c%3A/Users/silvh/OneDrive/lighthouse/portfolio-projects/GHL-chat/notebooks/2023-11-08%20GHL%20API%20testing.ipynb#X50sZmlsZQ%3D%3D?line=0'>1</a>\u001b[0m message_dict \u001b[39m=\u001b[39m {\n\u001b[0;32m      <a href='vscode-notebook-cell:/c%3A/Users/silvh/OneDrive/lighthouse/portfolio-projects/GHL-chat/notebooks/2023-11-08%20GHL%20API%20testing.ipynb#X50sZmlsZQ%3D%3D?line=1'>2</a>\u001b[0m     \u001b[39m\"\u001b[39m\u001b[39mtype\u001b[39m\u001b[39m\"\u001b[39m: \u001b[39m\"\u001b[39m\u001b[39mEmail\u001b[39m\u001b[39m\"\u001b[39m,\n\u001b[0;32m      <a href='vscode-notebook-cell:/c%3A/Users/silvh/OneDrive/lighthouse/portfolio-projects/GHL-chat/notebooks/2023-11-08%20GHL%20API%20testing.ipynb#X50sZmlsZQ%3D%3D?line=2'>3</a>\u001b[0m     \u001b[39m\"\u001b[39m\u001b[39mmessage\u001b[39m\u001b[39m\"\u001b[39m: \u001b[39mf\u001b[39m\u001b[39m\"\u001b[39m\u001b[39mHi, me. This is a test message from the GHL API using Python at \u001b[39m\u001b[39m{\u001b[39;00mtimestamp\u001b[39m}\u001b[39;00m\u001b[39m Pacific time\u001b[39m\u001b[39m\"\u001b[39m,\n\u001b[0;32m      <a href='vscode-notebook-cell:/c%3A/Users/silvh/OneDrive/lighthouse/portfolio-projects/GHL-chat/notebooks/2023-11-08%20GHL%20API%20testing.ipynb#X50sZmlsZQ%3D%3D?line=3'>4</a>\u001b[0m     \u001b[39m\"\u001b[39m\u001b[39msubject\u001b[39m\u001b[39m\"\u001b[39m: \u001b[39m\"\u001b[39m\u001b[39mTesting GHL API with Python threadId\u001b[39m\u001b[39m\"\u001b[39m,\n\u001b[0;32m      <a href='vscode-notebook-cell:/c%3A/Users/silvh/OneDrive/lighthouse/portfolio-projects/GHL-chat/notebooks/2023-11-08%20GHL%20API%20testing.ipynb#X50sZmlsZQ%3D%3D?line=4'>5</a>\u001b[0m     \u001b[39m\"\u001b[39m\u001b[39memailFrom\u001b[39m\u001b[39m\"\u001b[39m: \u001b[39m\"\u001b[39m\u001b[39mBrian Quinlan <brian@ownitfit.com.au>\u001b[39m\u001b[39m\"\u001b[39m,\n\u001b[0;32m      <a href='vscode-notebook-cell:/c%3A/Users/silvh/OneDrive/lighthouse/portfolio-projects/GHL-chat/notebooks/2023-11-08%20GHL%20API%20testing.ipynb#X50sZmlsZQ%3D%3D?line=5'>6</a>\u001b[0m }\n\u001b[1;32m----> <a href='vscode-notebook-cell:/c%3A/Users/silvh/OneDrive/lighthouse/portfolio-projects/GHL-chat/notebooks/2023-11-08%20GHL%20API%20testing.ipynb#X50sZmlsZQ%3D%3D?line=6'>7</a>\u001b[0m response_dict[iteration] \u001b[39m=\u001b[39m send_message(contacts[\u001b[39m'\u001b[39m\u001b[39mme_mcloone\u001b[39m\u001b[39m'\u001b[39m], message_dict)\n",
      "\u001b[1;32mc:\\Users\\silvh\\OneDrive\\lighthouse\\portfolio-projects\\GHL-chat\\notebooks\\2023-11-08 GHL API testing.ipynb Cell 13\u001b[0m line \u001b[0;36m5\n\u001b[0;32m     <a href='vscode-notebook-cell:/c%3A/Users/silvh/OneDrive/lighthouse/portfolio-projects/GHL-chat/notebooks/2023-11-08%20GHL%20API%20testing.ipynb#X50sZmlsZQ%3D%3D?line=50'>51</a>\u001b[0m \u001b[39mif\u001b[39;00m threadId:\n\u001b[0;32m     <a href='vscode-notebook-cell:/c%3A/Users/silvh/OneDrive/lighthouse/portfolio-projects/GHL-chat/notebooks/2023-11-08%20GHL%20API%20testing.ipynb#X50sZmlsZQ%3D%3D?line=51'>52</a>\u001b[0m     payload[\u001b[39m'\u001b[39m\u001b[39mthreadId\u001b[39m\u001b[39m'\u001b[39m] \u001b[39m=\u001b[39m threadId\n\u001b[0;32m     <a href='vscode-notebook-cell:/c%3A/Users/silvh/OneDrive/lighthouse/portfolio-projects/GHL-chat/notebooks/2023-11-08%20GHL%20API%20testing.ipynb#X50sZmlsZQ%3D%3D?line=53'>54</a>\u001b[0m headers \u001b[39m=\u001b[39m {\n\u001b[1;32m---> <a href='vscode-notebook-cell:/c%3A/Users/silvh/OneDrive/lighthouse/portfolio-projects/GHL-chat/notebooks/2023-11-08%20GHL%20API%20testing.ipynb#X50sZmlsZQ%3D%3D?line=54'>55</a>\u001b[0m     \u001b[39m\"\u001b[39m\u001b[39mAuthorization\u001b[39m\u001b[39m\"\u001b[39m: \u001b[39mf\u001b[39m\u001b[39m\"\u001b[39m\u001b[39mBearer \u001b[39m\u001b[39m{\u001b[39;00mtoken[\u001b[39m'\u001b[39m\u001b[39maccess_token\u001b[39m\u001b[39m'\u001b[39m]\u001b[39m}\u001b[39;00m\u001b[39m\"\u001b[39m,\n\u001b[0;32m     <a href='vscode-notebook-cell:/c%3A/Users/silvh/OneDrive/lighthouse/portfolio-projects/GHL-chat/notebooks/2023-11-08%20GHL%20API%20testing.ipynb#X50sZmlsZQ%3D%3D?line=55'>56</a>\u001b[0m     \u001b[39m\"\u001b[39m\u001b[39mVersion\u001b[39m\u001b[39m\"\u001b[39m: \u001b[39m\"\u001b[39m\u001b[39m2021-04-15\u001b[39m\u001b[39m\"\u001b[39m,\n\u001b[0;32m     <a href='vscode-notebook-cell:/c%3A/Users/silvh/OneDrive/lighthouse/portfolio-projects/GHL-chat/notebooks/2023-11-08%20GHL%20API%20testing.ipynb#X50sZmlsZQ%3D%3D?line=56'>57</a>\u001b[0m     \u001b[39m\"\u001b[39m\u001b[39mContent-Type\u001b[39m\u001b[39m\"\u001b[39m: \u001b[39m\"\u001b[39m\u001b[39mapplication/json\u001b[39m\u001b[39m\"\u001b[39m,\n\u001b[0;32m     <a href='vscode-notebook-cell:/c%3A/Users/silvh/OneDrive/lighthouse/portfolio-projects/GHL-chat/notebooks/2023-11-08%20GHL%20API%20testing.ipynb#X50sZmlsZQ%3D%3D?line=57'>58</a>\u001b[0m     \u001b[39m\"\u001b[39m\u001b[39mAccept\u001b[39m\u001b[39m\"\u001b[39m: \u001b[39m\"\u001b[39m\u001b[39mapplication/json\u001b[39m\u001b[39m\"\u001b[39m\n\u001b[0;32m     <a href='vscode-notebook-cell:/c%3A/Users/silvh/OneDrive/lighthouse/portfolio-projects/GHL-chat/notebooks/2023-11-08%20GHL%20API%20testing.ipynb#X50sZmlsZQ%3D%3D?line=58'>59</a>\u001b[0m }\n\u001b[0;32m     <a href='vscode-notebook-cell:/c%3A/Users/silvh/OneDrive/lighthouse/portfolio-projects/GHL-chat/notebooks/2023-11-08%20GHL%20API%20testing.ipynb#X50sZmlsZQ%3D%3D?line=59'>60</a>\u001b[0m response \u001b[39m=\u001b[39m requests\u001b[39m.\u001b[39mpost(url, json\u001b[39m=\u001b[39mpayload, headers\u001b[39m=\u001b[39mheaders)\n\u001b[0;32m     <a href='vscode-notebook-cell:/c%3A/Users/silvh/OneDrive/lighthouse/portfolio-projects/GHL-chat/notebooks/2023-11-08%20GHL%20API%20testing.ipynb#X50sZmlsZQ%3D%3D?line=60'>61</a>\u001b[0m \u001b[39mprint\u001b[39m(\u001b[39mf\u001b[39m\u001b[39m'\u001b[39m\u001b[39mStatus code \u001b[39m\u001b[39m{\u001b[39;00mresponse\u001b[39m.\u001b[39mstatus_code\u001b[39m}\u001b[39;00m\u001b[39m: \u001b[39m\u001b[39m{\u001b[39;00mresponse\u001b[39m.\u001b[39mreason\u001b[39m}\u001b[39;00m\u001b[39m'\u001b[39m)\n",
      "\u001b[1;31mKeyError\u001b[0m: 'access_token'"
     ]
    }
   ],
   "source": [
    "import requests\n",
    "from datetime import datetime\n",
    "\n",
    "def send_message(contactId, message_dict, location='SamLab'):\n",
    "    \"\"\"\n",
    "    Send a message to a contact in GoHighLevel.\n",
    "    \n",
    "    Parameters:\n",
    "    - contactId (str): Contact ID.\n",
    "    - message_dict (dict): Dictionary containing message parameters. Dictionary keys should be:\n",
    "        - type (str): 'Email' or 'SMS'.\n",
    "        - message (str): Message body.\n",
    "        - subject (str): Email subject line.\n",
    "        - emailFrom (str): Email sender as shown in the email.\n",
    "\n",
    "        Here is an example message_dict:\n",
    "        \n",
    "            message_dict = {\n",
    "                \"type\": \"Email\",\n",
    "                \"message\": f\"Hi, me. This is a test message from the GHL API using Python at {timestamp} Pacific time\",\n",
    "                \"subject\": \"Testing GHL API with Python threadId\",\n",
    "                \"emailFrom\": \"Brian Quinlan <brian@ownitfit.com.au>\",\n",
    "                \"threadId\": 'Y0ecBIIPiHa7bpZr616G'\n",
    "            }\n",
    "    Returns:\n",
    "    - response_dict (dict): Dictionary containing the response from the API.\n",
    "    \"\"\"\n",
    "    url = \"https://services.leadconnectorhq.com/conversations/messages\"\n",
    "    with open('../private/auth_token_response.json') as token_file:\n",
    "        token = json.load(token_file)\n",
    "    type = message_dict['type']\n",
    "    message = message_dict['message']\n",
    "    subject = message_dict['subject']\n",
    "    threadId = message_dict.get('threadId', None)\n",
    "    print(f'Sending {type} messages with these parameters:')\n",
    "    print(message_dict)\n",
    "\n",
    "    payload = {\n",
    "        \"type\": type,\n",
    "        \"contactId\": contactId\n",
    "    }\n",
    "    if type == 'Email':\n",
    "        emailFrom = message_dict['emailFrom']\n",
    "        payload['emailFrom'] = emailFrom\n",
    "        payload['html'] = message\n",
    "        payload[\"subject\"] = subject\n",
    "    elif type == 'SMS':\n",
    "        payload['message'] = message\n",
    "        \n",
    "    \n",
    "    if threadId:\n",
    "        payload['threadId'] = threadId\n",
    "    \n",
    "    headers = {\n",
    "        \"Authorization\": f\"Bearer {token['access_token']}\",\n",
    "        \"Version\": \"2021-04-15\",\n",
    "        \"Content-Type\": \"application/json\",\n",
    "        \"Accept\": \"application/json\"\n",
    "    }\n",
    "    response = requests.post(url, json=payload, headers=headers)\n",
    "    print(f'Status code {response.status_code}: {response.reason}')\n",
    "\n",
    "    return response.json()\n",
    "\n",
    "def get_email_history(contactId, message_dict, location='SamLab'):\n",
    "    \"\"\"\n",
    "    \"\"\"\n",
    "    url = \"https://services.leadconnectorhq.com/conversations/search\"\n",
    "    with open('../private/auth_token_response.json') as token_file:\n",
    "        token = json.load(token_file)[location]\n",
    "    type = message_dict['type']\n",
    "    message = message_dict['message']\n",
    "    subject = message_dict['subject']\n",
    "    threadId = message_dict.get('threadId', None)\n",
    "    print(f'Sending {type} messages with these parameters:')\n",
    "    print(message_dict)\n",
    "\n",
    "    payload = {\n",
    "        \"type\": type,\n",
    "        \"contactId\": contactId\n",
    "    }\n",
    "    if type == 'Email':\n",
    "        emailFrom = message_dict['emailFrom']\n",
    "        payload['emailFrom'] = emailFrom\n",
    "        payload['html'] = message\n",
    "        payload[\"subject\"] = subject\n",
    "    elif type == 'SMS':\n",
    "        payload['message'] = message\n",
    "        \n",
    "    \n",
    "    if threadId:\n",
    "        payload['threadId'] = threadId\n",
    "    \n",
    "    headers = {\n",
    "        \"Authorization\": f\"Bearer {token['access_token']}\",\n",
    "        \"Version\": \"2021-04-15\",\n",
    "        \"Content-Type\": \"application/json\",\n",
    "        \"Accept\": \"application/json\"\n",
    "    }\n",
    "    response = requests.post(url, json=payload, headers=headers)\n",
    "    print(f'Status code {response.status_code}: {response.reason}')\n",
    "\n",
    "    return response.json()\n",
    "\n",
    "iteration = 1.1\n",
    "timestamp = datetime.strftime(datetime.now(), '%Y-%m-%d %H:%M:%S')\n",
    "# response_dict[iteration] = get_email_history(contacts['me'], message_dict)\n",
    "# \n",
    "message_dict = {\n",
    "    \"type\": \"Email\",\n",
    "    \"message\": f\"Hi, me. This is a test message from the GHL API using Python at {timestamp} Pacific time\",\n",
    "    \"subject\": \"Testing GHL API with Python threadId\",\n",
    "    \"emailFrom\": \"Brian Quinlan <brian@ownitfit.com.au>\",\n",
    "}\n",
    "response_dict[iteration] = send_message(contacts['me_mcloone'], message_dict)"
   ]
  },
  {
   "cell_type": "code",
   "execution_count": null,
   "metadata": {},
   "outputs": [],
   "source": [
    "response_dict[iteration] = get_email_history(contacts['me_mcloone'], message_dict)"
   ]
  },
  {
   "cell_type": "markdown",
   "metadata": {},
   "source": [
    "## 1.2"
   ]
  },
  {
   "cell_type": "code",
   "execution_count": 15,
   "metadata": {},
   "outputs": [
    {
     "name": "stdout",
     "output_type": "stream",
     "text": [
      "Status code 400: Bad Request\n"
     ]
    }
   ],
   "source": [
    "import requests\n",
    "from datetime import datetime\n",
    "\n",
    "def send_message(contactId, message_dict, location='SamLab'):\n",
    "    \"\"\"\n",
    "    Send a message to a contact in GoHighLevel.\n",
    "    \n",
    "    Parameters:\n",
    "    - contactId (str): Contact ID.\n",
    "    - message_dict (dict): Dictionary containing message parameters. Dictionary keys should be:\n",
    "        - type (str): 'Email' or 'SMS'.\n",
    "        - message (str): Message body.\n",
    "        - subject (str): Email subject line.\n",
    "        - emailFrom (str): Email sender as shown in the email.\n",
    "\n",
    "        Here is an example message_dict:\n",
    "        \n",
    "            message_dict = {\n",
    "                \"type\": \"Email\",\n",
    "                \"message\": f\"Hi, me. This is a test message from the GHL API using Python at {timestamp} Pacific time\",\n",
    "                \"subject\": \"Testing GHL API with Python threadId\",\n",
    "                \"emailFrom\": \"Brian Quinlan <brian@ownitfit.com.au>\",\n",
    "                \"threadId\": 'Y0ecBIIPiHa7bpZr616G'\n",
    "            }\n",
    "    Returns:\n",
    "    - response_dict (dict): Dictionary containing the response from the API.\n",
    "    \"\"\"\n",
    "    url = \"https://services.leadconnectorhq.com/conversations/messages\"\n",
    "    with open('../private/auth_token_response.json') as token_file:\n",
    "        token = json.load(token_file)\n",
    "    type = message_dict['type']\n",
    "    message = message_dict['message']\n",
    "    subject = message_dict['subject']\n",
    "    threadId = message_dict.get('threadId', None)\n",
    "    print(f'Sending {type} messages with these parameters:')\n",
    "    print(message_dict)\n",
    "\n",
    "    payload = {\n",
    "        \"type\": type,\n",
    "        \"contactId\": contactId\n",
    "    }\n",
    "    if type == 'Email':\n",
    "        emailFrom = message_dict['emailFrom']\n",
    "        payload['emailFrom'] = emailFrom\n",
    "        payload['html'] = message\n",
    "        payload[\"subject\"] = subject\n",
    "    elif type == 'SMS':\n",
    "        payload['message'] = message\n",
    "        \n",
    "    \n",
    "    if threadId:\n",
    "        payload['threadId'] = threadId\n",
    "    \n",
    "    headers = {\n",
    "        \"Authorization\": f\"Bearer {token['access_token']}\",\n",
    "        \"Version\": \"2021-04-15\",\n",
    "        \"Content-Type\": \"application/json\",\n",
    "        \"Accept\": \"application/json\"\n",
    "    }\n",
    "    response = requests.post(url, json=payload, headers=headers)\n",
    "    print(f'Status code {response.status_code}: {response.reason}')\n",
    "\n",
    "    return response.json()\n",
    "\n",
    "def get_email_history(contactId, message_dict, location='SamLab'):\n",
    "    \"\"\"\n",
    "    \"\"\"\n",
    "    url = \"https://services.leadconnectorhq.com/conversations/search\"\n",
    "    with open('../private/auth_token_response.json') as token_file:\n",
    "        token = json.load(token_file)[location]\n",
    "    \n",
    "    headers = {\n",
    "        \"Authorization\": f\"Bearer {token['access_token']}\",\n",
    "        \"Version\": \"2021-04-15\",\n",
    "        \"Accept\": \"application/json\"\n",
    "    }\n",
    "    response = requests.get(url, headers=headers)\n",
    "    print(f'Status code {response.status_code}: {response.reason}')\n",
    "\n",
    "    return response.json()\n",
    "\n",
    "iteration = 1.2\n",
    "timestamp = datetime.strftime(datetime.now(), '%Y-%m-%d %H:%M:%S')\n",
    "# \n",
    "message_dict = {\n",
    "    \"type\": \"Email\",\n",
    "    \"message\": f\"Hi, me. This is a test message from the GHL API using Python at {timestamp} Pacific time\",\n",
    "    \"subject\": \"Testing GHL API with Python threadId\",\n",
    "    \"emailFrom\": \"Brian Quinlan <brian@ownitfit.com.au>\",\n",
    "}\n",
    "response_dict[iteration] = get_email_history(contacts['me'], message_dict)\n",
    "# response_dict[iteration] = send_message(contacts['me_mcloone'], message_dict)"
   ]
  },
  {
   "cell_type": "code",
   "execution_count": 16,
   "metadata": {},
   "outputs": [
    {
     "data": {
      "text/plain": [
       "{'statusCode': 400, 'message': 'Location id or Contact id not given.'}"
      ]
     },
     "execution_count": 16,
     "metadata": {},
     "output_type": "execute_result"
    }
   ],
   "source": [
    "response_dict[iteration]"
   ]
  },
  {
   "cell_type": "markdown",
   "metadata": {},
   "source": [
    "## 1.3"
   ]
  },
  {
   "cell_type": "code",
   "execution_count": 17,
   "metadata": {},
   "outputs": [
    {
     "name": "stdout",
     "output_type": "stream",
     "text": [
      "Status code 200: OK\n"
     ]
    },
    {
     "data": {
      "text/plain": [
       "{'conversations': [{'id': 'uWJzpI3ncVnKsrKdb3fV',\n",
       "   'locationId': 'QSZ6lvarPNxtmTFl84W8',\n",
       "   'dateAdded': 1695604262278,\n",
       "   'dateUpdated': 1697349648703,\n",
       "   'lastMessageDate': 1697349648703,\n",
       "   'lastMessageType': 'TYPE_EMAIL',\n",
       "   'lastMessageBody': 'Hi, me. This is a test message from the GHL API using Python at 2023-10-14 23:00:46 Pacific time',\n",
       "   'lastOutboundMessageAction': 'manual',\n",
       "   'lastMessageDirection': 'outbound',\n",
       "   'inbox': True,\n",
       "   'unreadCount': 0,\n",
       "   'lastManualMessageDate': 1697349648703,\n",
       "   'contactId': 'C3a796qLEF4HtDjvKJ1K',\n",
       "   'fullName': 'Silvia Test 2023-08-16 13:35',\n",
       "   'contactName': 'Silvia test 2023-08-16 13:35',\n",
       "   'email': 'silvia.hua@mail.mcgill.ca',\n",
       "   'tags': [],\n",
       "   'type': 'TYPE_PHONE',\n",
       "   'sort': [1697349648703]}],\n",
       " 'total': 1,\n",
       " 'traceId': 'e57b0141-8db9-4175-9276-060d0a8bc5ff'}"
      ]
     },
     "execution_count": 17,
     "metadata": {},
     "output_type": "execute_result"
    }
   ],
   "source": [
    "import requests\n",
    "from datetime import datetime\n",
    "\n",
    "def send_message(contactId, message_dict, location='SamLab'):\n",
    "    \"\"\"\n",
    "    Send a message to a contact in GoHighLevel.\n",
    "    \n",
    "    Parameters:\n",
    "    - contactId (str): Contact ID.\n",
    "    - message_dict (dict): Dictionary containing message parameters. Dictionary keys should be:\n",
    "        - type (str): 'Email' or 'SMS'.\n",
    "        - message (str): Message body.\n",
    "        - subject (str): Email subject line.\n",
    "        - emailFrom (str): Email sender as shown in the email.\n",
    "\n",
    "        Here is an example message_dict:\n",
    "        \n",
    "            message_dict = {\n",
    "                \"type\": \"Email\",\n",
    "                \"message\": f\"Hi, me. This is a test message from the GHL API using Python at {timestamp} Pacific time\",\n",
    "                \"subject\": \"Testing GHL API with Python threadId\",\n",
    "                \"emailFrom\": \"Brian Quinlan <brian@ownitfit.com.au>\",\n",
    "                \"threadId\": 'Y0ecBIIPiHa7bpZr616G'\n",
    "            }\n",
    "    Returns:\n",
    "    - response_dict (dict): Dictionary containing the response from the API.\n",
    "    \"\"\"\n",
    "    url = \"https://services.leadconnectorhq.com/conversations/messages\"\n",
    "    with open('../private/auth_token_response.json') as token_file:\n",
    "        token = json.load(token_file)\n",
    "    type = message_dict['type']\n",
    "    message = message_dict['message']\n",
    "    subject = message_dict['subject']\n",
    "    threadId = message_dict.get('threadId', None)\n",
    "    print(f'Sending {type} messages with these parameters:')\n",
    "    print(message_dict)\n",
    "\n",
    "    payload = {\n",
    "        \"type\": type,\n",
    "        \"contactId\": contactId\n",
    "    }\n",
    "    if type == 'Email':\n",
    "        emailFrom = message_dict['emailFrom']\n",
    "        payload['emailFrom'] = emailFrom\n",
    "        payload['html'] = message\n",
    "        payload[\"subject\"] = subject\n",
    "    elif type == 'SMS':\n",
    "        payload['message'] = message\n",
    "        \n",
    "    \n",
    "    if threadId:\n",
    "        payload['threadId'] = threadId\n",
    "    \n",
    "    headers = {\n",
    "        \"Authorization\": f\"Bearer {token['access_token']}\",\n",
    "        \"Version\": \"2021-04-15\",\n",
    "        \"Content-Type\": \"application/json\",\n",
    "        \"Accept\": \"application/json\"\n",
    "    }\n",
    "    response = requests.post(url, json=payload, headers=headers)\n",
    "    print(f'Status code {response.status_code}: {response.reason}')\n",
    "\n",
    "    return response.json()\n",
    "\n",
    "def get_email_history(contactId, message_dict, location='SamLab'):\n",
    "    \"\"\"\n",
    "    \"\"\"\n",
    "    url = f\"https://services.leadconnectorhq.com/conversations/search?contactId={contactId}\"\n",
    "    with open('../private/auth_token_response.json') as token_file:\n",
    "        token = json.load(token_file)[location]\n",
    "    \n",
    "    headers = {\n",
    "        \"Authorization\": f\"Bearer {token['access_token']}\",\n",
    "        \"Version\": \"2021-04-15\",\n",
    "        \"Accept\": \"application/json\"\n",
    "    }\n",
    "    response = requests.get(url, headers=headers)\n",
    "    print(f'Status code {response.status_code}: {response.reason}')\n",
    "\n",
    "    return response.json()\n",
    "\n",
    "iteration = 1.3\n",
    "response_dict[iteration] = get_email_history(contacts['me'], message_dict)\n",
    "# response_dict[iteration] = send_message(contacts['me_mcloone'], message_dict)\n",
    "response_dict[iteration]"
   ]
  },
  {
   "cell_type": "markdown",
   "metadata": {},
   "source": [
    "### 1.31"
   ]
  },
  {
   "cell_type": "code",
   "execution_count": 18,
   "metadata": {},
   "outputs": [
    {
     "name": "stdout",
     "output_type": "stream",
     "text": [
      "Sending Email messages with these parameters:\n",
      "{'type': 'Email', 'message': 'Hi, me. This is a test message from the GHL API using Python at 2023-11-08 14:23:20 Pacific time', 'subject': 'Testing GHL API with Python threadId', 'emailFrom': 'Brian Quinlan <brian@ownitfit.com.au>'}\n"
     ]
    },
    {
     "ename": "KeyError",
     "evalue": "'access_token'",
     "output_type": "error",
     "traceback": [
      "\u001b[1;31m---------------------------------------------------------------------------\u001b[0m",
      "\u001b[1;31mKeyError\u001b[0m                                  Traceback (most recent call last)",
      "\u001b[1;32mc:\\Users\\silvh\\OneDrive\\lighthouse\\portfolio-projects\\GHL-chat\\notebooks\\2023-11-08 GHL API testing.ipynb Cell 22\u001b[0m line \u001b[0;36m9\n\u001b[0;32m      <a href='vscode-notebook-cell:/c%3A/Users/silvh/OneDrive/lighthouse/portfolio-projects/GHL-chat/notebooks/2023-11-08%20GHL%20API%20testing.ipynb#X10sZmlsZQ%3D%3D?line=1'>2</a>\u001b[0m timestamp \u001b[39m=\u001b[39m datetime\u001b[39m.\u001b[39mstrftime(datetime\u001b[39m.\u001b[39mnow(), \u001b[39m'\u001b[39m\u001b[39m%\u001b[39m\u001b[39mY-\u001b[39m\u001b[39m%\u001b[39m\u001b[39mm-\u001b[39m\u001b[39m%d\u001b[39;00m\u001b[39m \u001b[39m\u001b[39m%\u001b[39m\u001b[39mH:\u001b[39m\u001b[39m%\u001b[39m\u001b[39mM:\u001b[39m\u001b[39m%\u001b[39m\u001b[39mS\u001b[39m\u001b[39m'\u001b[39m)\n\u001b[0;32m      <a href='vscode-notebook-cell:/c%3A/Users/silvh/OneDrive/lighthouse/portfolio-projects/GHL-chat/notebooks/2023-11-08%20GHL%20API%20testing.ipynb#X10sZmlsZQ%3D%3D?line=2'>3</a>\u001b[0m message_dict \u001b[39m=\u001b[39m {\n\u001b[0;32m      <a href='vscode-notebook-cell:/c%3A/Users/silvh/OneDrive/lighthouse/portfolio-projects/GHL-chat/notebooks/2023-11-08%20GHL%20API%20testing.ipynb#X10sZmlsZQ%3D%3D?line=3'>4</a>\u001b[0m     \u001b[39m\"\u001b[39m\u001b[39mtype\u001b[39m\u001b[39m\"\u001b[39m: \u001b[39m\"\u001b[39m\u001b[39mEmail\u001b[39m\u001b[39m\"\u001b[39m,\n\u001b[0;32m      <a href='vscode-notebook-cell:/c%3A/Users/silvh/OneDrive/lighthouse/portfolio-projects/GHL-chat/notebooks/2023-11-08%20GHL%20API%20testing.ipynb#X10sZmlsZQ%3D%3D?line=4'>5</a>\u001b[0m     \u001b[39m\"\u001b[39m\u001b[39mmessage\u001b[39m\u001b[39m\"\u001b[39m: \u001b[39mf\u001b[39m\u001b[39m\"\u001b[39m\u001b[39mHi, me. This is a test message from the GHL API using Python at \u001b[39m\u001b[39m{\u001b[39;00mtimestamp\u001b[39m}\u001b[39;00m\u001b[39m Pacific time\u001b[39m\u001b[39m\"\u001b[39m,\n\u001b[0;32m      <a href='vscode-notebook-cell:/c%3A/Users/silvh/OneDrive/lighthouse/portfolio-projects/GHL-chat/notebooks/2023-11-08%20GHL%20API%20testing.ipynb#X10sZmlsZQ%3D%3D?line=5'>6</a>\u001b[0m     \u001b[39m\"\u001b[39m\u001b[39msubject\u001b[39m\u001b[39m\"\u001b[39m: \u001b[39m\"\u001b[39m\u001b[39mTesting GHL API with Python threadId\u001b[39m\u001b[39m\"\u001b[39m,\n\u001b[0;32m      <a href='vscode-notebook-cell:/c%3A/Users/silvh/OneDrive/lighthouse/portfolio-projects/GHL-chat/notebooks/2023-11-08%20GHL%20API%20testing.ipynb#X10sZmlsZQ%3D%3D?line=6'>7</a>\u001b[0m     \u001b[39m\"\u001b[39m\u001b[39memailFrom\u001b[39m\u001b[39m\"\u001b[39m: \u001b[39m\"\u001b[39m\u001b[39mBrian Quinlan <brian@ownitfit.com.au>\u001b[39m\u001b[39m\"\u001b[39m,\n\u001b[0;32m      <a href='vscode-notebook-cell:/c%3A/Users/silvh/OneDrive/lighthouse/portfolio-projects/GHL-chat/notebooks/2023-11-08%20GHL%20API%20testing.ipynb#X10sZmlsZQ%3D%3D?line=7'>8</a>\u001b[0m }\n\u001b[1;32m----> <a href='vscode-notebook-cell:/c%3A/Users/silvh/OneDrive/lighthouse/portfolio-projects/GHL-chat/notebooks/2023-11-08%20GHL%20API%20testing.ipynb#X10sZmlsZQ%3D%3D?line=8'>9</a>\u001b[0m response_dict[iteration] \u001b[39m=\u001b[39m send_message(contacts[\u001b[39m'\u001b[39m\u001b[39mme_mcloone\u001b[39m\u001b[39m'\u001b[39m], message_dict)\n\u001b[0;32m     <a href='vscode-notebook-cell:/c%3A/Users/silvh/OneDrive/lighthouse/portfolio-projects/GHL-chat/notebooks/2023-11-08%20GHL%20API%20testing.ipynb#X10sZmlsZQ%3D%3D?line=9'>10</a>\u001b[0m response_dict[iteration]\n",
      "\u001b[1;32mc:\\Users\\silvh\\OneDrive\\lighthouse\\portfolio-projects\\GHL-chat\\notebooks\\2023-11-08 GHL API testing.ipynb Cell 22\u001b[0m line \u001b[0;36m5\n\u001b[0;32m     <a href='vscode-notebook-cell:/c%3A/Users/silvh/OneDrive/lighthouse/portfolio-projects/GHL-chat/notebooks/2023-11-08%20GHL%20API%20testing.ipynb#X10sZmlsZQ%3D%3D?line=50'>51</a>\u001b[0m \u001b[39mif\u001b[39;00m threadId:\n\u001b[0;32m     <a href='vscode-notebook-cell:/c%3A/Users/silvh/OneDrive/lighthouse/portfolio-projects/GHL-chat/notebooks/2023-11-08%20GHL%20API%20testing.ipynb#X10sZmlsZQ%3D%3D?line=51'>52</a>\u001b[0m     payload[\u001b[39m'\u001b[39m\u001b[39mthreadId\u001b[39m\u001b[39m'\u001b[39m] \u001b[39m=\u001b[39m threadId\n\u001b[0;32m     <a href='vscode-notebook-cell:/c%3A/Users/silvh/OneDrive/lighthouse/portfolio-projects/GHL-chat/notebooks/2023-11-08%20GHL%20API%20testing.ipynb#X10sZmlsZQ%3D%3D?line=53'>54</a>\u001b[0m headers \u001b[39m=\u001b[39m {\n\u001b[1;32m---> <a href='vscode-notebook-cell:/c%3A/Users/silvh/OneDrive/lighthouse/portfolio-projects/GHL-chat/notebooks/2023-11-08%20GHL%20API%20testing.ipynb#X10sZmlsZQ%3D%3D?line=54'>55</a>\u001b[0m     \u001b[39m\"\u001b[39m\u001b[39mAuthorization\u001b[39m\u001b[39m\"\u001b[39m: \u001b[39mf\u001b[39m\u001b[39m\"\u001b[39m\u001b[39mBearer \u001b[39m\u001b[39m{\u001b[39;00mtoken[\u001b[39m'\u001b[39m\u001b[39maccess_token\u001b[39m\u001b[39m'\u001b[39m]\u001b[39m}\u001b[39;00m\u001b[39m\"\u001b[39m,\n\u001b[0;32m     <a href='vscode-notebook-cell:/c%3A/Users/silvh/OneDrive/lighthouse/portfolio-projects/GHL-chat/notebooks/2023-11-08%20GHL%20API%20testing.ipynb#X10sZmlsZQ%3D%3D?line=55'>56</a>\u001b[0m     \u001b[39m\"\u001b[39m\u001b[39mVersion\u001b[39m\u001b[39m\"\u001b[39m: \u001b[39m\"\u001b[39m\u001b[39m2021-04-15\u001b[39m\u001b[39m\"\u001b[39m,\n\u001b[0;32m     <a href='vscode-notebook-cell:/c%3A/Users/silvh/OneDrive/lighthouse/portfolio-projects/GHL-chat/notebooks/2023-11-08%20GHL%20API%20testing.ipynb#X10sZmlsZQ%3D%3D?line=56'>57</a>\u001b[0m     \u001b[39m\"\u001b[39m\u001b[39mContent-Type\u001b[39m\u001b[39m\"\u001b[39m: \u001b[39m\"\u001b[39m\u001b[39mapplication/json\u001b[39m\u001b[39m\"\u001b[39m,\n\u001b[0;32m     <a href='vscode-notebook-cell:/c%3A/Users/silvh/OneDrive/lighthouse/portfolio-projects/GHL-chat/notebooks/2023-11-08%20GHL%20API%20testing.ipynb#X10sZmlsZQ%3D%3D?line=57'>58</a>\u001b[0m     \u001b[39m\"\u001b[39m\u001b[39mAccept\u001b[39m\u001b[39m\"\u001b[39m: \u001b[39m\"\u001b[39m\u001b[39mapplication/json\u001b[39m\u001b[39m\"\u001b[39m\n\u001b[0;32m     <a href='vscode-notebook-cell:/c%3A/Users/silvh/OneDrive/lighthouse/portfolio-projects/GHL-chat/notebooks/2023-11-08%20GHL%20API%20testing.ipynb#X10sZmlsZQ%3D%3D?line=58'>59</a>\u001b[0m }\n\u001b[0;32m     <a href='vscode-notebook-cell:/c%3A/Users/silvh/OneDrive/lighthouse/portfolio-projects/GHL-chat/notebooks/2023-11-08%20GHL%20API%20testing.ipynb#X10sZmlsZQ%3D%3D?line=59'>60</a>\u001b[0m response \u001b[39m=\u001b[39m requests\u001b[39m.\u001b[39mpost(url, json\u001b[39m=\u001b[39mpayload, headers\u001b[39m=\u001b[39mheaders)\n\u001b[0;32m     <a href='vscode-notebook-cell:/c%3A/Users/silvh/OneDrive/lighthouse/portfolio-projects/GHL-chat/notebooks/2023-11-08%20GHL%20API%20testing.ipynb#X10sZmlsZQ%3D%3D?line=60'>61</a>\u001b[0m \u001b[39mprint\u001b[39m(\u001b[39mf\u001b[39m\u001b[39m'\u001b[39m\u001b[39mStatus code \u001b[39m\u001b[39m{\u001b[39;00mresponse\u001b[39m.\u001b[39mstatus_code\u001b[39m}\u001b[39;00m\u001b[39m: \u001b[39m\u001b[39m{\u001b[39;00mresponse\u001b[39m.\u001b[39mreason\u001b[39m}\u001b[39;00m\u001b[39m'\u001b[39m)\n",
      "\u001b[1;31mKeyError\u001b[0m: 'access_token'"
     ]
    }
   ],
   "source": [
    "iteration = 1.31\n",
    "timestamp = datetime.strftime(datetime.now(), '%Y-%m-%d %H:%M:%S')\n",
    "message_dict = {\n",
    "    \"type\": \"Email\",\n",
    "    \"message\": f\"Hi, me. This is a test message from the GHL API using Python at {timestamp} Pacific time\",\n",
    "    \"subject\": \"Testing GHL API with Python threadId\",\n",
    "    \"emailFrom\": \"Brian Quinlan <brian@ownitfit.com.au>\",\n",
    "}\n",
    "response_dict[iteration] = send_message(contacts['me_mcloone'], message_dict)\n",
    "response_dict[iteration]"
   ]
  },
  {
   "cell_type": "markdown",
   "metadata": {},
   "source": [
    "## 1.4"
   ]
  },
  {
   "cell_type": "code",
   "execution_count": 19,
   "metadata": {},
   "outputs": [
    {
     "name": "stdout",
     "output_type": "stream",
     "text": [
      "Sending Email messages with these parameters:\n",
      "{'type': 'Email', 'message': 'Hi, me. This is a test message from the GHL API using Python at 2023-11-08 14:24:54 Pacific time', 'subject': 'Testing GHL API with Python threadId', 'emailFrom': 'Brian Quinlan <brian@ownitfit.com.au>'}\n",
      "Status code 403: Forbidden\n"
     ]
    },
    {
     "data": {
      "text/plain": [
       "{'statusCode': 403,\n",
       " 'message': 'The token does not have access to this location.'}"
      ]
     },
     "execution_count": 19,
     "metadata": {},
     "output_type": "execute_result"
    }
   ],
   "source": [
    "import requests\n",
    "from datetime import datetime\n",
    "\n",
    "def send_message(contactId, message_dict, location='SamLab'):\n",
    "    \"\"\"\n",
    "    Send a message to a contact in GoHighLevel.\n",
    "    \n",
    "    Parameters:\n",
    "    - contactId (str): Contact ID.\n",
    "    - message_dict (dict): Dictionary containing message parameters. Dictionary keys should be:\n",
    "        - type (str): 'Email' or 'SMS'.\n",
    "        - message (str): Message body.\n",
    "        - subject (str): Email subject line.\n",
    "        - emailFrom (str): Email sender as shown in the email.\n",
    "\n",
    "        Here is an example message_dict:\n",
    "        \n",
    "            message_dict = {\n",
    "                \"type\": \"Email\",\n",
    "                \"message\": f\"Hi, me. This is a test message from the GHL API using Python at {timestamp} Pacific time\",\n",
    "                \"subject\": \"Testing GHL API with Python threadId\",\n",
    "                \"emailFrom\": \"Brian Quinlan <brian@ownitfit.com.au>\",\n",
    "                \"threadId\": 'Y0ecBIIPiHa7bpZr616G'\n",
    "            }\n",
    "    Returns:\n",
    "    - response_dict (dict): Dictionary containing the response from the API.\n",
    "    \"\"\"\n",
    "    url = \"https://services.leadconnectorhq.com/conversations/messages\"\n",
    "    with open('../private/auth_token_response.json') as token_file:\n",
    "        token = json.load(token_file)[location]\n",
    "    type = message_dict['type']\n",
    "    message = message_dict['message']\n",
    "    subject = message_dict['subject']\n",
    "    threadId = message_dict.get('threadId', None)\n",
    "    print(f'Sending {type} messages with these parameters:')\n",
    "    print(message_dict)\n",
    "\n",
    "    payload = {\n",
    "        \"type\": type,\n",
    "        \"contactId\": contactId\n",
    "    }\n",
    "    if type == 'Email':\n",
    "        emailFrom = message_dict['emailFrom']\n",
    "        payload['emailFrom'] = emailFrom\n",
    "        payload['html'] = message\n",
    "        payload[\"subject\"] = subject\n",
    "    elif type == 'SMS':\n",
    "        payload['message'] = message\n",
    "        \n",
    "    \n",
    "    if threadId:\n",
    "        payload['threadId'] = threadId\n",
    "    \n",
    "    headers = {\n",
    "        \"Authorization\": f\"Bearer {token['access_token']}\",\n",
    "        \"Version\": \"2021-04-15\",\n",
    "        \"Content-Type\": \"application/json\",\n",
    "        \"Accept\": \"application/json\"\n",
    "    }\n",
    "    response = requests.post(url, json=payload, headers=headers)\n",
    "    print(f'Status code {response.status_code}: {response.reason}')\n",
    "\n",
    "    return response.json()\n",
    "\n",
    "def get_email_history(contactId, message_dict, location='SamLab'):\n",
    "    \"\"\"\n",
    "    \"\"\"\n",
    "    url = f\"https://services.leadconnectorhq.com/conversations/search?contactId={contactId}\"\n",
    "    with open('../private/auth_token_response.json') as token_file:\n",
    "        token = json.load(token_file)[location]\n",
    "    \n",
    "    headers = {\n",
    "        \"Authorization\": f\"Bearer {token['access_token']}\",\n",
    "        \"Version\": \"2021-04-15\",\n",
    "        \"Accept\": \"application/json\"\n",
    "    }\n",
    "    response = requests.get(url, headers=headers)\n",
    "    print(f'Status code {response.status_code}: {response.reason}')\n",
    "\n",
    "    return response.json()\n",
    "\n",
    "iteration = 1.4\n",
    "timestamp = datetime.strftime(datetime.now(), '%Y-%m-%d %H:%M:%S')\n",
    "message_dict = {\n",
    "    \"type\": \"Email\",\n",
    "    \"message\": f\"Hi, me. This is a test message from the GHL API using Python at {timestamp} Pacific time\",\n",
    "    \"subject\": \"Testing GHL API with Python threadId\",\n",
    "    \"emailFrom\": \"Brian Quinlan <brian@ownitfit.com.au>\",\n",
    "}\n",
    "# response_dict[iteration] = get_email_history(contacts['me'], message_dict)\n",
    "response_dict[iteration] = send_message(contacts['me_mcloone'], message_dict, location='CoachMcloone')\n",
    "response_dict[iteration]"
   ]
  },
  {
   "cell_type": "markdown",
   "metadata": {},
   "source": [
    "## 1.5"
   ]
  },
  {
   "cell_type": "code",
   "execution_count": 21,
   "metadata": {},
   "outputs": [
    {
     "name": "stdout",
     "output_type": "stream",
     "text": [
      "Sending Email messages with these parameters:\n",
      "{'type': 'Email', 'message': 'Hi, me. This is a test message from the GHL API using Python at 2023-11-08 14:32:04 Pacific time', 'subject': 'Testing GHL API with Python threadId', 'emailFrom': 'Brian Quinlan <brian@ownitfit.com.au>'}\n"
     ]
    },
    {
     "name": "stdout",
     "output_type": "stream",
     "text": [
      "Status code 201: Created\n"
     ]
    },
    {
     "data": {
      "text/plain": [
       "{'threadId': 'XOvP8etqnAWBXCEdYs98',\n",
       " 'messageId': 'oVgSUP2hWrVY5qEhT5ca',\n",
       " 'msg': 'Email queued successfully.',\n",
       " 'conversationId': 'M4GDc4lp049VQFATz8G3',\n",
       " 'traceId': '2396c23a-7a92-47b6-8223-c92e9f1ee099'}"
      ]
     },
     "execution_count": 21,
     "metadata": {},
     "output_type": "execute_result"
    }
   ],
   "source": [
    "import requests\n",
    "from datetime import datetime\n",
    "\n",
    "def send_message(contactId, message_dict, location='SamLab'):\n",
    "    \"\"\"\n",
    "    Send a message to a contact in GoHighLevel.\n",
    "    \n",
    "    Parameters:\n",
    "    - contactId (str): Contact ID.\n",
    "    - message_dict (dict): Dictionary containing message parameters. Dictionary keys should be:\n",
    "        - type (str): 'Email' or 'SMS'.\n",
    "        - message (str): Message body.\n",
    "        - subject (str): Email subject line.\n",
    "        - emailFrom (str): Email sender as shown in the email.\n",
    "\n",
    "        Here is an example message_dict:\n",
    "        \n",
    "            message_dict = {\n",
    "                \"type\": \"Email\",\n",
    "                \"message\": f\"Hi, me. This is a test message from the GHL API using Python at {timestamp} Pacific time\",\n",
    "                \"subject\": \"Testing GHL API with Python threadId\",\n",
    "                \"emailFrom\": \"Brian Quinlan <brian@ownitfit.com.au>\",\n",
    "                \"threadId\": 'Y0ecBIIPiHa7bpZr616G'\n",
    "            }\n",
    "    Returns:\n",
    "    - response_dict (dict): Dictionary containing the response from the API.\n",
    "    \"\"\"\n",
    "    url = \"https://services.leadconnectorhq.com/conversations/messages\"\n",
    "    with open('../private/auth_token_response.json') as token_file:\n",
    "        token = json.load(token_file)[location]\n",
    "    type = message_dict['type']\n",
    "    message = message_dict['message']\n",
    "    subject = message_dict['subject']\n",
    "    threadId = message_dict.get('threadId', None)\n",
    "    print(f'Sending {type} messages with these parameters:')\n",
    "    print(message_dict)\n",
    "\n",
    "    payload = {\n",
    "        \"type\": type,\n",
    "        \"contactId\": contactId\n",
    "    }\n",
    "    if type == 'Email':\n",
    "        emailFrom = message_dict['emailFrom']\n",
    "        payload['emailFrom'] = emailFrom\n",
    "        payload['html'] = message\n",
    "        payload[\"subject\"] = subject\n",
    "    elif type == 'SMS':\n",
    "        payload['message'] = message\n",
    "        \n",
    "    \n",
    "    if threadId:\n",
    "        payload['threadId'] = threadId\n",
    "    \n",
    "    headers = {\n",
    "        \"Authorization\": f\"Bearer {token['access_token']}\",\n",
    "        \"Version\": \"2021-04-15\",\n",
    "        \"Content-Type\": \"application/json\",\n",
    "        \"Accept\": \"application/json\"\n",
    "    }\n",
    "    response = requests.post(url, json=payload, headers=headers)\n",
    "    print(f'Status code {response.status_code}: {response.reason}')\n",
    "\n",
    "    return response.json()\n",
    "\n",
    "def get_email_history(contactId, message_dict, location='SamLab'):\n",
    "    \"\"\"\n",
    "    \"\"\"\n",
    "    url = f\"https://services.leadconnectorhq.com/conversations/search?contactId={contactId}\"\n",
    "    with open('../private/auth_token_response.json') as token_file:\n",
    "        token = json.load(token_file)[location]\n",
    "    \n",
    "    headers = {\n",
    "        \"Authorization\": f\"Bearer {token['access_token']}\",\n",
    "        \"Version\": \"2021-04-15\",\n",
    "        \"Accept\": \"application/json\"\n",
    "    }\n",
    "    response = requests.get(url, headers=headers)\n",
    "    print(f'Status code {response.status_code}: {response.reason}')\n",
    "\n",
    "    return response.json()\n",
    "\n",
    "iteration = 1.5\n",
    "timestamp = datetime.strftime(datetime.now(), '%Y-%m-%d %H:%M:%S')\n",
    "message_dict = {\n",
    "    \"type\": \"Email\",\n",
    "    \"message\": f\"Hi, me. This is a test message from the GHL API using Python at {timestamp} Pacific time\",\n",
    "    \"subject\": \"Testing GHL API with Python threadId\",\n",
    "    \"emailFrom\": \"Brian Quinlan <brian@ownitfit.com.au>\",\n",
    "}\n",
    "# response_dict[iteration] = get_email_history(contacts['me'], message_dict)\n",
    "response_dict[iteration] = send_message(contacts['me_mcloone'], message_dict, location='CoachMcloone')\n",
    "response_dict[iteration]"
   ]
  },
  {
   "cell_type": "markdown",
   "metadata": {},
   "source": []
  },
  {
   "cell_type": "code",
   "execution_count": null,
   "metadata": {},
   "outputs": [],
   "source": []
  },
  {
   "cell_type": "code",
   "execution_count": null,
   "metadata": {},
   "outputs": [],
   "source": []
  },
  {
   "cell_type": "code",
   "execution_count": null,
   "metadata": {},
   "outputs": [],
   "source": []
  },
  {
   "cell_type": "code",
   "execution_count": null,
   "metadata": {},
   "outputs": [],
   "source": []
  },
  {
   "cell_type": "code",
   "execution_count": null,
   "metadata": {},
   "outputs": [],
   "source": []
  },
  {
   "cell_type": "code",
   "execution_count": null,
   "metadata": {},
   "outputs": [],
   "source": []
  },
  {
   "cell_type": "code",
   "execution_count": null,
   "metadata": {},
   "outputs": [],
   "source": []
  },
  {
   "cell_type": "code",
   "execution_count": null,
   "metadata": {},
   "outputs": [],
   "source": []
  },
  {
   "cell_type": "code",
   "execution_count": null,
   "metadata": {},
   "outputs": [],
   "source": []
  },
  {
   "cell_type": "code",
   "execution_count": null,
   "metadata": {},
   "outputs": [],
   "source": []
  },
  {
   "cell_type": "code",
   "execution_count": null,
   "metadata": {},
   "outputs": [],
   "source": []
  },
  {
   "cell_type": "code",
   "execution_count": null,
   "metadata": {},
   "outputs": [],
   "source": []
  },
  {
   "cell_type": "code",
   "execution_count": null,
   "metadata": {},
   "outputs": [],
   "source": []
  },
  {
   "cell_type": "code",
   "execution_count": null,
   "metadata": {},
   "outputs": [],
   "source": []
  },
  {
   "cell_type": "code",
   "execution_count": null,
   "metadata": {},
   "outputs": [],
   "source": []
  },
  {
   "attachments": {},
   "cell_type": "markdown",
   "metadata": {},
   "source": [
    "# *End of Page*"
   ]
  }
 ],
 "metadata": {
  "kernelspec": {
   "display_name": "Python 3.9.13 64-bit",
   "language": "python",
   "name": "python3"
  },
  "language_info": {
   "codemirror_mode": {
    "name": "ipython",
    "version": 3
   },
   "file_extension": ".py",
   "mimetype": "text/x-python",
   "name": "python",
   "nbconvert_exporter": "python",
   "pygments_lexer": "ipython3",
   "version": "3.11.4"
  },
  "orig_nbformat": 4,
  "vscode": {
   "interpreter": {
    "hash": "11938c6bc6919ae2720b4d5011047913343b08a43b18698fd82dedb0d4417594"
   }
  }
 },
 "nbformat": 4,
 "nbformat_minor": 2
}
