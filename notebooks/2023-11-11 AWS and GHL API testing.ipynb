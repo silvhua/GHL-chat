{
 "cells": [
  {
   "attachments": {},
   "cell_type": "markdown",
   "metadata": {},
   "source": [
    "# Title\n",
    "[]()"
   ]
  },
  {
   "cell_type": "code",
   "execution_count": 2,
   "metadata": {},
   "outputs": [],
   "source": [
    "\n",
    "import pandas as pd\n",
    "import sys\n",
    "sys.path.append(r\"C:\\Users\\silvh\\OneDrive\\lighthouse\\custom_python\")\n",
    "from silvhua import *\n",
    "# from datetime import datetime\n",
    "# sys.path.append(r\"C:\\Users\\silvh\\OneDrive\\lighthouse\\portfolio-projects\\online-PT-social-media-NLP\\src\")"
   ]
  },
  {
   "cell_type": "markdown",
   "metadata": {},
   "source": [
    "# From `data_functions.py`"
   ]
  },
  {
   "cell_type": "code",
   "execution_count": 2,
   "metadata": {},
   "outputs": [],
   "source": [
    "import boto3\n",
    "from boto3.dynamodb.conditions import Key\n",
    "import json\n",
    "from datetime import datetime, timezone\n",
    "import sys\n",
    "import os\n",
    "\n",
    "def query_dynamodb_table(table_name, value, key='SessionId', region_name=\"us-west-2\"):\n",
    "    \"\"\"\n",
    "    Query a Dynamodb table and print the results.\n",
    "    Parameters:\n",
    "        table_name (str): The name of the DynamoDB table.\n",
    "        value (str): The value of the key.\n",
    "        key (str): The name of the key.\n",
    "        region_name (str): The name of the AWS region.\n",
    "\n",
    "    Returns:\n",
    "        dict: The results of the query. The 'Items' key contains the table record.       \n",
    "    From 2023-10-22 notebook.\n",
    "    \"\"\"\n",
    "    dynamodb = boto3.resource('dynamodb', region_name=region_name)\n",
    "    table = dynamodb.Table(table_name)\n",
    "    response = table.query(\n",
    "        KeyConditionExpression=Key(key).eq(value)\n",
    "    )\n",
    "    return response"
   ]
  },
  {
   "cell_type": "markdown",
   "metadata": {},
   "source": [
    "# Payload"
   ]
  },
  {
   "cell_type": "code",
   "execution_count": 3,
   "metadata": {},
   "outputs": [],
   "source": [
    "event = {\n",
    "  \"body\": {\n",
    "    \"type\": \"InboundMessage\",\n",
    "    \"locationId\": \"QSZ6lvarPNxtmTFl84W8\",\n",
    "    \"attachments\": [],\n",
    "    \"body\": \"This is another test inbound message\",\n",
    "    \"contactId\": \"test\",\n",
    "    \"contentType\": \"text/plain\",\n",
    "    \"conversationId\": \"fcanlLgpbQgQhderivVs\",\n",
    "    \"dateAdded\": \"2023-11-10T12:26:02.000Z\",\n",
    "    \"direction\": \"inbound\",\n",
    "    \"messageType\": \"SMS\",\n",
    "    \"userId\": \"80pzXdC3MCqKRpzrteuj\"\n",
    "  }\n",
    "}\n",
    "payload = event[\"body\"]"
   ]
  },
  {
   "cell_type": "markdown",
   "metadata": {},
   "source": [
    "# Iteration 1 "
   ]
  },
  {
   "cell_type": "code",
   "execution_count": 5,
   "metadata": {},
   "outputs": [],
   "source": [
    "message_events = ['InboundMessage', 'OutboundMessage', 'NoteCreate']\n",
    "contact_id_key = 'contactId' if payload['type'] in message_events else 'id'\n",
    "contact_data = query_dynamodb_table(\n",
    "    'SessionTable', payload[contact_id_key], key='SessionId'\n",
    "    )"
   ]
  },
  {
   "cell_type": "code",
   "execution_count": 6,
   "metadata": {},
   "outputs": [
    {
     "data": {
      "text/plain": [
       "{'Items': [],\n",
       " 'Count': 0,\n",
       " 'ScannedCount': 0,\n",
       " 'ResponseMetadata': {'RequestId': 'MRGSD8EQ2SJUUE7JO93SRR6LOJVV4KQNSO5AEMVJF66Q9ASUAAJG',\n",
       "  'HTTPStatusCode': 200,\n",
       "  'HTTPHeaders': {'server': 'Server',\n",
       "   'date': 'Sat, 11 Nov 2023 20:21:42 GMT',\n",
       "   'content-type': 'application/x-amz-json-1.0',\n",
       "   'content-length': '39',\n",
       "   'connection': 'keep-alive',\n",
       "   'x-amzn-requestid': 'MRGSD8EQ2SJUUE7JO93SRR6LOJVV4KQNSO5AEMVJF66Q9ASUAAJG',\n",
       "   'x-amz-crc32': '3413411624'},\n",
       "  'RetryAttempts': 0}}"
      ]
     },
     "execution_count": 6,
     "metadata": {},
     "output_type": "execute_result"
    }
   ],
   "source": [
    "contact_data"
   ]
  },
  {
   "cell_type": "code",
   "execution_count": 8,
   "metadata": {},
   "outputs": [
    {
     "name": "stdout",
     "output_type": "stream",
     "text": [
      "No contact data found\n"
     ]
    }
   ],
   "source": [
    "if contact_data['Items']:\n",
    "    print(contact_data['Items'])\n",
    "else:\n",
    "    print('No contact data found')"
   ]
  },
  {
   "cell_type": "markdown",
   "metadata": {},
   "source": []
  },
  {
   "cell_type": "markdown",
   "metadata": {},
   "source": []
  },
  {
   "cell_type": "code",
   "execution_count": null,
   "metadata": {},
   "outputs": [],
   "source": []
  },
  {
   "cell_type": "code",
   "execution_count": null,
   "metadata": {},
   "outputs": [],
   "source": []
  },
  {
   "cell_type": "code",
   "execution_count": null,
   "metadata": {},
   "outputs": [],
   "source": []
  },
  {
   "cell_type": "code",
   "execution_count": null,
   "metadata": {},
   "outputs": [],
   "source": []
  },
  {
   "cell_type": "code",
   "execution_count": null,
   "metadata": {},
   "outputs": [],
   "source": []
  },
  {
   "cell_type": "code",
   "execution_count": null,
   "metadata": {},
   "outputs": [],
   "source": []
  },
  {
   "cell_type": "code",
   "execution_count": null,
   "metadata": {},
   "outputs": [],
   "source": []
  },
  {
   "cell_type": "code",
   "execution_count": null,
   "metadata": {},
   "outputs": [],
   "source": []
  },
  {
   "cell_type": "code",
   "execution_count": null,
   "metadata": {},
   "outputs": [],
   "source": []
  },
  {
   "cell_type": "code",
   "execution_count": null,
   "metadata": {},
   "outputs": [],
   "source": []
  },
  {
   "cell_type": "code",
   "execution_count": null,
   "metadata": {},
   "outputs": [],
   "source": []
  },
  {
   "cell_type": "code",
   "execution_count": null,
   "metadata": {},
   "outputs": [],
   "source": []
  },
  {
   "cell_type": "code",
   "execution_count": null,
   "metadata": {},
   "outputs": [],
   "source": []
  },
  {
   "cell_type": "code",
   "execution_count": null,
   "metadata": {},
   "outputs": [],
   "source": []
  },
  {
   "cell_type": "code",
   "execution_count": null,
   "metadata": {},
   "outputs": [],
   "source": []
  },
  {
   "cell_type": "code",
   "execution_count": null,
   "metadata": {},
   "outputs": [],
   "source": []
  },
  {
   "cell_type": "code",
   "execution_count": null,
   "metadata": {},
   "outputs": [],
   "source": []
  },
  {
   "attachments": {},
   "cell_type": "markdown",
   "metadata": {},
   "source": [
    "# *End of Page*"
   ]
  }
 ],
 "metadata": {
  "kernelspec": {
   "display_name": "Python 3.9.13 64-bit",
   "language": "python",
   "name": "python3"
  },
  "language_info": {
   "codemirror_mode": {
    "name": "ipython",
    "version": 3
   },
   "file_extension": ".py",
   "mimetype": "text/x-python",
   "name": "python",
   "nbconvert_exporter": "python",
   "pygments_lexer": "ipython3",
   "version": "3.11.4"
  },
  "orig_nbformat": 4,
  "vscode": {
   "interpreter": {
    "hash": "11938c6bc6919ae2720b4d5011047913343b08a43b18698fd82dedb0d4417594"
   }
  }
 },
 "nbformat": 4,
 "nbformat_minor": 2
}
