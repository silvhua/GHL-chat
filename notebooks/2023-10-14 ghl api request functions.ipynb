{
 "cells": [
  {
   "attachments": {},
   "cell_type": "markdown",
   "metadata": {},
   "source": [
    "# Title\n",
    "[]()"
   ]
  },
  {
   "cell_type": "code",
   "execution_count": 1,
   "metadata": {},
   "outputs": [],
   "source": [
    "\n",
    "import pandas as pd\n",
    "import sys\n",
    "sys.path.append(r\"C:\\Users\\silvh\\OneDrive\\lighthouse\\custom_python\")\n",
    "sys.path.append(r\"C:\\Users\\silvh\\OneDrive\\lighthouse\\portfolio-projects\\GHL-chat\\src\")\n",
    "from silvhua import *"
   ]
  },
  {
   "cell_type": "markdown",
   "metadata": {},
   "source": [
    "# Set up"
   ]
  },
  {
   "cell_type": "code",
   "execution_count": 2,
   "metadata": {},
   "outputs": [],
   "source": [
    "response_dict = dict()"
   ]
  },
  {
   "cell_type": "code",
   "execution_count": 7,
   "metadata": {},
   "outputs": [],
   "source": [
    "with open('../private/contacts.json') as contacts_file:\n",
    "    contacts = json.load(contacts_file)"
   ]
  },
  {
   "cell_type": "markdown",
   "metadata": {},
   "source": [
    "# Updated from [2023-07-30 note book section 2.12](./2023-07-30%20GHL%20API%20sending%20messages.ipynb)"
   ]
  },
  {
   "cell_type": "code",
   "execution_count": 4,
   "metadata": {},
   "outputs": [
    {
     "name": "stdout",
     "output_type": "stream",
     "text": [
      "Sending Email messages with these parameters:\n",
      "{'type': 'Email', 'message': 'Hi, me. This is a test message from the GHL API using Python at 2023-10-14 23:00:46 Pacific time', 'subject': 'Testing GHL API with Python threadId', 'emailFrom': 'Brian Quinlan <brian@ownitfit.com.au>', 'threadId': 'Y0ecBIIPiHa7bpZr616G'}\n",
      "Status code 201: Created\n"
     ]
    }
   ],
   "source": [
    "import requests\n",
    "from datetime import datetime\n",
    "\n",
    "def send_message(contactId, message_dict):\n",
    "    \"\"\"\n",
    "    Send a message to a contact in GoHighLevel.\n",
    "    \n",
    "    Parameters:\n",
    "    - contactId (str): Contact ID.\n",
    "    - message_dict (dict): Dictionary containing message parameters. Dictionary keys should be:\n",
    "        - type (str): 'Email' or 'SMS'.\n",
    "        - message (str): Message body.\n",
    "        - subject (str): Email subject line.\n",
    "        - emailFrom (str): Email sender as shown in the email.\n",
    "\n",
    "        Here is an example message_dict:\n",
    "        \n",
    "            message_dict = {\n",
    "                \"type\": \"Email\",\n",
    "                \"message\": f\"Hi, me. This is a test message from the GHL API using Python at {timestamp} Pacific time\",\n",
    "                \"subject\": \"Testing GHL API with Python threadId\",\n",
    "                \"emailFrom\": \"Brian Quinlan <brian@ownitfit.com.au>\",\n",
    "                \"threadId\": 'Y0ecBIIPiHa7bpZr616G'\n",
    "            }\n",
    "    Returns:\n",
    "    - response_dict (dict): Dictionary containing the response from the API.\n",
    "    \"\"\"\n",
    "    url = \"https://services.leadconnectorhq.com/conversations/messages\"\n",
    "    with open('../private/auth_token_response.json') as token_file:\n",
    "        token = json.load(token_file)\n",
    "    type = message_dict['type']\n",
    "    message = message_dict['message']\n",
    "    subject = message_dict['subject']\n",
    "    threadId = message_dict.get('threadId', None)\n",
    "    print(f'Sending {type} messages with these parameters:')\n",
    "    print(message_dict)\n",
    "\n",
    "    payload = {\n",
    "        \"type\": type,\n",
    "        \"contactId\": contactId\n",
    "    }\n",
    "    if type == 'Email':\n",
    "        emailFrom = message_dict['emailFrom']\n",
    "        payload['emailFrom'] = emailFrom\n",
    "        payload['html'] = message\n",
    "        payload[\"subject\"] = subject\n",
    "    elif type == 'SMS':\n",
    "        payload['message'] = message\n",
    "        \n",
    "    \n",
    "    if threadId:\n",
    "        payload['threadId'] = threadId\n",
    "    \n",
    "    headers = {\n",
    "        \"Authorization\": f\"Bearer {token['access_token']}\",\n",
    "        \"Version\": \"2021-04-15\",\n",
    "        \"Content-Type\": \"application/json\",\n",
    "        \"Accept\": \"application/json\"\n",
    "    }\n",
    "    response = requests.post(url, json=payload, headers=headers)\n",
    "    print(f'Status code {response.status_code}: {response.reason}')\n",
    "\n",
    "    return response.json()\n",
    "    # return payload\n",
    "\n",
    "iteration = 2.12\n",
    "timestamp = datetime.strftime(datetime.now(), '%Y-%m-%d %H:%M:%S')\n",
    "message_dict = {\n",
    "    \"type\": \"Email\",\n",
    "    \"message\": f\"Hi, me. This is a test message from the GHL API using Python at {timestamp} Pacific time\",\n",
    "    \"subject\": \"Testing GHL API with Python threadId\",\n",
    "    \"emailFrom\": \"Brian Quinlan <brian@ownitfit.com.au>\",\n",
    "    \"threadId\": 'Y0ecBIIPiHa7bpZr616G'\n",
    "}\n",
    "\n",
    "response_dict[iteration] = send_message(contacts['me'], message_dict)\n",
    "# response_dict[iteration] = send_message(contacts['me'], message_dict)"
   ]
  },
  {
   "cell_type": "markdown",
   "metadata": {},
   "source": [
    "# Iteration 1: Test how to get contact email history"
   ]
  },
  {
   "cell_type": "code",
   "execution_count": null,
   "metadata": {},
   "outputs": [],
   "source": [
    "import requests\n",
    "from datetime import datetime\n",
    "\n",
    "def send_message(contactId, message_dict):\n",
    "    \"\"\"\n",
    "    Send a message to a contact in GoHighLevel.\n",
    "    \n",
    "    Parameters:\n",
    "    - contactId (str): Contact ID.\n",
    "    - message_dict (dict): Dictionary containing message parameters. Dictionary keys should be:\n",
    "        - type (str): 'Email' or 'SMS'.\n",
    "        - message (str): Message body.\n",
    "        - subject (str): Email subject line.\n",
    "        - emailFrom (str): Email sender as shown in the email.\n",
    "\n",
    "        Here is an example message_dict:\n",
    "        \n",
    "            message_dict = {\n",
    "                \"type\": \"Email\",\n",
    "                \"message\": f\"Hi, me. This is a test message from the GHL API using Python at {timestamp} Pacific time\",\n",
    "                \"subject\": \"Testing GHL API with Python threadId\",\n",
    "                \"emailFrom\": \"Brian Quinlan <brian@ownitfit.com.au>\",\n",
    "                \"threadId\": 'Y0ecBIIPiHa7bpZr616G'\n",
    "            }\n",
    "    Returns:\n",
    "    - response_dict (dict): Dictionary containing the response from the API.\n",
    "    \"\"\"\n",
    "    url = \"https://services.leadconnectorhq.com/conversations/messages\"\n",
    "    with open('../private/auth_token_response.json') as token_file:\n",
    "        token = json.load(token_file)\n",
    "    type = message_dict['type']\n",
    "    message = message_dict['message']\n",
    "    subject = message_dict['subject']\n",
    "    threadId = message_dict.get('threadId', None)\n",
    "    print(f'Sending {type} messages with these parameters:')\n",
    "    print(message_dict)\n",
    "\n",
    "    payload = {\n",
    "        \"type\": type,\n",
    "        \"contactId\": contactId\n",
    "    }\n",
    "    if type == 'Email':\n",
    "        emailFrom = message_dict['emailFrom']\n",
    "        payload['emailFrom'] = emailFrom\n",
    "        payload['html'] = message\n",
    "        payload[\"subject\"] = subject\n",
    "    elif type == 'SMS':\n",
    "        payload['message'] = message\n",
    "        \n",
    "    \n",
    "    if threadId:\n",
    "        payload['threadId'] = threadId\n",
    "    \n",
    "    headers = {\n",
    "        \"Authorization\": f\"Bearer {token['access_token']}\",\n",
    "        \"Version\": \"2021-04-15\",\n",
    "        \"Content-Type\": \"application/json\",\n",
    "        \"Accept\": \"application/json\"\n",
    "    }\n",
    "    response = requests.post(url, json=payload, headers=headers)\n",
    "    print(f'Status code {response.status_code}: {response.reason}')\n",
    "\n",
    "    return response.json()\n",
    "\n",
    "def get_email_history(contactId, message_dict):\n",
    "    \"\"\"\n",
    "    \"\"\"\n",
    "    url = \"https://services.leadconnectorhq.com/conversations/messages\"\n",
    "    with open('../private/auth_token_response.json') as token_file:\n",
    "        token = json.load(token_file)\n",
    "    type = message_dict['type']\n",
    "    message = message_dict['message']\n",
    "    subject = message_dict['subject']\n",
    "    threadId = message_dict.get('threadId', None)\n",
    "    print(f'Sending {type} messages with these parameters:')\n",
    "    print(message_dict)\n",
    "\n",
    "    payload = {\n",
    "        \"type\": type,\n",
    "        \"contactId\": contactId\n",
    "    }\n",
    "    if type == 'Email':\n",
    "        emailFrom = message_dict['emailFrom']\n",
    "        payload['emailFrom'] = emailFrom\n",
    "        payload['html'] = message\n",
    "        payload[\"subject\"] = subject\n",
    "    elif type == 'SMS':\n",
    "        payload['message'] = message\n",
    "        \n",
    "    \n",
    "    if threadId:\n",
    "        payload['threadId'] = threadId\n",
    "    \n",
    "    headers = {\n",
    "        \"Authorization\": f\"Bearer {token['access_token']}\",\n",
    "        \"Version\": \"2021-04-15\",\n",
    "        \"Content-Type\": \"application/json\",\n",
    "        \"Accept\": \"application/json\"\n",
    "    }\n",
    "    response = requests.post(url, json=payload, headers=headers)\n",
    "    print(f'Status code {response.status_code}: {response.reason}')\n",
    "\n",
    "    return response.json()\n",
    "\n",
    "iteration = 1\n",
    "timestamp = datetime.strftime(datetime.now(), '%Y-%m-%d %H:%M:%S')\n",
    "message_dict = {\n",
    "    \"type\": \"Email\",\n",
    "    \"message\": f\"Hi, me. This is a test message from the GHL API using Python at {timestamp} Pacific time\",\n",
    "    \"subject\": \"Testing GHL API with Python threadId\",\n",
    "    \"emailFrom\": \"Brian Quinlan <brian@ownitfit.com.au>\",\n",
    "    \"threadId\": 'Y0ecBIIPiHa7bpZr616G'\n",
    "}\n",
    "\n",
    "response_dict[iteration] = send_message(contacts['me'], message_dict)\n",
    "# response_dict[iteration] = send_message(contacts['me'], message_dict)"
   ]
  },
  {
   "cell_type": "code",
   "execution_count": null,
   "metadata": {},
   "outputs": [],
   "source": []
  },
  {
   "cell_type": "code",
   "execution_count": null,
   "metadata": {},
   "outputs": [],
   "source": []
  },
  {
   "cell_type": "code",
   "execution_count": null,
   "metadata": {},
   "outputs": [],
   "source": []
  },
  {
   "cell_type": "code",
   "execution_count": null,
   "metadata": {},
   "outputs": [],
   "source": []
  },
  {
   "cell_type": "code",
   "execution_count": null,
   "metadata": {},
   "outputs": [],
   "source": []
  },
  {
   "cell_type": "code",
   "execution_count": null,
   "metadata": {},
   "outputs": [],
   "source": []
  },
  {
   "cell_type": "code",
   "execution_count": null,
   "metadata": {},
   "outputs": [],
   "source": []
  },
  {
   "cell_type": "code",
   "execution_count": null,
   "metadata": {},
   "outputs": [],
   "source": []
  },
  {
   "cell_type": "code",
   "execution_count": null,
   "metadata": {},
   "outputs": [],
   "source": []
  },
  {
   "cell_type": "code",
   "execution_count": null,
   "metadata": {},
   "outputs": [],
   "source": []
  },
  {
   "cell_type": "code",
   "execution_count": null,
   "metadata": {},
   "outputs": [],
   "source": []
  },
  {
   "cell_type": "code",
   "execution_count": null,
   "metadata": {},
   "outputs": [],
   "source": []
  },
  {
   "cell_type": "code",
   "execution_count": null,
   "metadata": {},
   "outputs": [],
   "source": []
  },
  {
   "cell_type": "code",
   "execution_count": null,
   "metadata": {},
   "outputs": [],
   "source": []
  },
  {
   "cell_type": "code",
   "execution_count": null,
   "metadata": {},
   "outputs": [],
   "source": []
  },
  {
   "cell_type": "code",
   "execution_count": null,
   "metadata": {},
   "outputs": [],
   "source": []
  },
  {
   "cell_type": "code",
   "execution_count": null,
   "metadata": {},
   "outputs": [],
   "source": []
  },
  {
   "cell_type": "code",
   "execution_count": null,
   "metadata": {},
   "outputs": [],
   "source": []
  },
  {
   "cell_type": "code",
   "execution_count": null,
   "metadata": {},
   "outputs": [],
   "source": []
  },
  {
   "attachments": {},
   "cell_type": "markdown",
   "metadata": {},
   "source": [
    "# *End of Page*"
   ]
  }
 ],
 "metadata": {
  "kernelspec": {
   "display_name": "Python 3.9.13 64-bit",
   "language": "python",
   "name": "python3"
  },
  "language_info": {
   "codemirror_mode": {
    "name": "ipython",
    "version": 3
   },
   "file_extension": ".py",
   "mimetype": "text/x-python",
   "name": "python",
   "nbconvert_exporter": "python",
   "pygments_lexer": "ipython3",
   "version": "3.11.4"
  },
  "orig_nbformat": 4,
  "vscode": {
   "interpreter": {
    "hash": "11938c6bc6919ae2720b4d5011047913343b08a43b18698fd82dedb0d4417594"
   }
  }
 },
 "nbformat": 4,
 "nbformat_minor": 2
}
