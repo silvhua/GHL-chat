{
 "cells": [
  {
   "attachments": {},
   "cell_type": "markdown",
   "metadata": {},
   "source": [
    "# Title\n",
    "[]()"
   ]
  },
  {
   "cell_type": "code",
   "execution_count": 1,
   "metadata": {},
   "outputs": [],
   "source": [
    "\n",
    "import pandas as pd\n",
    "import sys\n",
    "sys.path.append(r\"C:\\Users\\silvh\\OneDrive\\lighthouse\\custom_python\")\n",
    "from silvhua import *\n",
    "# from datetime import datetime\n",
    "# sys.path.append(r\"C:\\Users\\silvh\\OneDrive\\lighthouse\\portfolio-projects\\online-PT-social-media-NLP\\src\")"
   ]
  },
  {
   "cell_type": "code",
   "execution_count": 3,
   "metadata": {},
   "outputs": [],
   "source": [
    "# set the option to wrap text within cells\n",
    "pd.set_option('display.max_colwidth', 100)\n",
    "# pd.set_option('display.max_colwidth', None)\n",
    "pd.set_option('display.max_rows', 20)\n",
    "pd.set_option('display.max_columns', None)\n",
    "pd.set_option('display.width', None)"
   ]
  },
  {
   "cell_type": "markdown",
   "metadata": {},
   "source": [
    "# Set up"
   ]
  },
  {
   "cell_type": "code",
   "execution_count": 3,
   "metadata": {},
   "outputs": [],
   "source": [
    "results_dict = dict()"
   ]
  },
  {
   "cell_type": "markdown",
   "metadata": {},
   "source": [
    "# itertion 1"
   ]
  },
  {
   "cell_type": "code",
   "execution_count": 4,
   "metadata": {},
   "outputs": [
    {
     "name": "stdout",
     "output_type": "stream",
     "text": [
      "{'SessionId': '3WqsCxM93dgvS81zMj9S', 'History': [{'type': 'human', 'data': {'content': 'Is 10 ok?', 'additional_kwargs': {}, 'example': False}}, {'type': 'ai', 'data': {'content': '10am is perfect.\\n\\nBefore then could you please complete the pre exercise questionnaire linked below\\n\\nhttps://api.leadconnectorhq.com/widget/form/nxdSRDrPtEoXJ94s07SV\\n\\nHave a great weekend Viginia and if anything comes up or you need to reschedule just let me know.\\n\\nThanks', 'additional_kwargs': {}, 'example': False}}]}\n"
     ]
    }
   ],
   "source": [
    "\"\"\"\n",
    "Query a Dynamodb table and print the results\n",
    "\"\"\"\n",
    "import boto3\n",
    "from boto3.dynamodb.conditions import Key\n",
    "\n",
    "def query_dynamodb_table(table_name, value, key='SessionId'):\n",
    "    dynamodb = boto3.resource('dynamodb', region_name=\"us-west-2\")\n",
    "    table = dynamodb.Table(table_name)\n",
    "    response = table.query(\n",
    "        KeyConditionExpression=Key(key).eq(value)\n",
    "    )\n",
    "    items = response['Items']\n",
    "    for item in items:\n",
    "        print(item)\n",
    "\n",
    "iteration = 1\n",
    "table_name = 'SessionTable'\n",
    "session_id = '3WqsCxM93dgvS81zMj9S'\n",
    "\n",
    "results_dict[iteration] = query_dynamodb_table(table_name, session_id)\n",
    "results_dict[iteration]"
   ]
  },
  {
   "cell_type": "markdown",
   "metadata": {},
   "source": [
    "## 1.1 See if default region from configuration file applies"
   ]
  },
  {
   "cell_type": "code",
   "execution_count": 8,
   "metadata": {},
   "outputs": [
    {
     "name": "stdout",
     "output_type": "stream",
     "text": [
      "{'SessionId': '3WqsCxM93dgvS81zMj9S', 'History': [{'type': 'human', 'data': {'content': 'Is 10 ok?', 'additional_kwargs': {}, 'example': False}}, {'type': 'ai', 'data': {'content': '10am is perfect.\\n\\nBefore then could you please complete the pre exercise questionnaire linked below\\n\\nhttps://api.leadconnectorhq.com/widget/form/nxdSRDrPtEoXJ94s07SV\\n\\nHave a great weekend Viginia and if anything comes up or you need to reschedule just let me know.\\n\\nThanks', 'additional_kwargs': {}, 'example': False}}]}\n"
     ]
    },
    {
     "data": {
      "text/plain": [
       "{'Items': [{'SessionId': '3WqsCxM93dgvS81zMj9S',\n",
       "   'History': [{'type': 'human',\n",
       "     'data': {'content': 'Is 10 ok?',\n",
       "      'additional_kwargs': {},\n",
       "      'example': False}},\n",
       "    {'type': 'ai',\n",
       "     'data': {'content': '10am is perfect.\\n\\nBefore then could you please complete the pre exercise questionnaire linked below\\n\\nhttps://api.leadconnectorhq.com/widget/form/nxdSRDrPtEoXJ94s07SV\\n\\nHave a great weekend Viginia and if anything comes up or you need to reschedule just let me know.\\n\\nThanks',\n",
       "      'additional_kwargs': {},\n",
       "      'example': False}}]}],\n",
       " 'Count': 1,\n",
       " 'ScannedCount': 1,\n",
       " 'ResponseMetadata': {'RequestId': 'UOSQNDD9GQFAJJBS3MFRAOKE4VVV4KQNSO5AEMVJF66Q9ASUAAJG',\n",
       "  'HTTPStatusCode': 200,\n",
       "  'HTTPHeaders': {'server': 'Server',\n",
       "   'date': 'Sun, 22 Oct 2023 16:29:56 GMT',\n",
       "   'content-type': 'application/x-amz-json-1.0',\n",
       "   'content-length': '619',\n",
       "   'connection': 'keep-alive',\n",
       "   'x-amzn-requestid': 'UOSQNDD9GQFAJJBS3MFRAOKE4VVV4KQNSO5AEMVJF66Q9ASUAAJG',\n",
       "   'x-amz-crc32': '3330600140'},\n",
       "  'RetryAttempts': 0}}"
      ]
     },
     "execution_count": 8,
     "metadata": {},
     "output_type": "execute_result"
    }
   ],
   "source": [
    "\n",
    "import boto3\n",
    "from boto3.dynamodb.conditions import Key\n",
    "\n",
    "def query_dynamodb_table(table_name, value, key='SessionId', region_name=\"us-west-2\"):\n",
    "    \"\"\"\n",
    "    Query a Dynamodb table and print the results.\n",
    "    Parameters:\n",
    "        table_name (str): The name of the DynamoDB table.\n",
    "        value (str): The value of the key.\n",
    "        key (str): The name of the key.\n",
    "        region_name (str): The name of the AWS region.\n",
    "\n",
    "    Returns:\n",
    "        dict: The results of the query. The 'Items' key contains the table record.       \n",
    "\n",
    "    \"\"\"\n",
    "    dynamodb = boto3.resource('dynamodb', region_name=region_name)\n",
    "    table = dynamodb.Table(table_name)\n",
    "    response = table.query(\n",
    "        KeyConditionExpression=Key(key).eq(value)\n",
    "    )\n",
    "    items = response['Items']\n",
    "    for item in items:\n",
    "        print(item)\n",
    "    return response\n",
    "\n",
    "iteration = 1.1\n",
    "table_name = 'SessionTable'\n",
    "session_id = '3WqsCxM93dgvS81zMj9S'\n",
    "\n",
    "results_dict[iteration] = query_dynamodb_table(table_name, session_id, region_name=None)\n",
    "results_dict[iteration]"
   ]
  },
  {
   "cell_type": "code",
   "execution_count": 9,
   "metadata": {},
   "outputs": [
    {
     "data": {
      "text/plain": [
       "{'Items': [],\n",
       " 'Count': 0,\n",
       " 'ScannedCount': 0,\n",
       " 'ResponseMetadata': {'RequestId': 'JTO2TO4ARTL89N8QTESDBA1MR7VV4KQNSO5AEMVJF66Q9ASUAAJG',\n",
       "  'HTTPStatusCode': 200,\n",
       "  'HTTPHeaders': {'server': 'Server',\n",
       "   'date': 'Sun, 22 Oct 2023 16:30:13 GMT',\n",
       "   'content-type': 'application/x-amz-json-1.0',\n",
       "   'content-length': '39',\n",
       "   'connection': 'keep-alive',\n",
       "   'x-amzn-requestid': 'JTO2TO4ARTL89N8QTESDBA1MR7VV4KQNSO5AEMVJF66Q9ASUAAJG',\n",
       "   'x-amz-crc32': '3413411624'},\n",
       "  'RetryAttempts': 0}}"
      ]
     },
     "execution_count": 9,
     "metadata": {},
     "output_type": "execute_result"
    }
   ],
   "source": [
    "itration = 1.11\n",
    "session_id = '2'\n",
    "results_dict[iteration] = query_dynamodb_table(table_name, session_id)\n",
    "results_dict[iteration]"
   ]
  },
  {
   "cell_type": "code",
   "execution_count": 10,
   "metadata": {},
   "outputs": [],
   "source": [
    "if results_dict[iteration]['Items'] == None:\n",
    "    print('No results found')"
   ]
  },
  {
   "cell_type": "code",
   "execution_count": 11,
   "metadata": {},
   "outputs": [
    {
     "name": "stdout",
     "output_type": "stream",
     "text": [
      "No results found\n"
     ]
    }
   ],
   "source": [
    "if len(results_dict[iteration]['Items']) == 0:\n",
    "    print('No results found')"
   ]
  },
  {
   "cell_type": "markdown",
   "metadata": {},
   "source": []
  },
  {
   "cell_type": "code",
   "execution_count": null,
   "metadata": {},
   "outputs": [],
   "source": []
  },
  {
   "cell_type": "code",
   "execution_count": null,
   "metadata": {},
   "outputs": [],
   "source": []
  },
  {
   "cell_type": "code",
   "execution_count": null,
   "metadata": {},
   "outputs": [],
   "source": []
  },
  {
   "cell_type": "code",
   "execution_count": null,
   "metadata": {},
   "outputs": [],
   "source": []
  },
  {
   "cell_type": "code",
   "execution_count": null,
   "metadata": {},
   "outputs": [],
   "source": []
  },
  {
   "cell_type": "code",
   "execution_count": null,
   "metadata": {},
   "outputs": [],
   "source": []
  },
  {
   "cell_type": "code",
   "execution_count": null,
   "metadata": {},
   "outputs": [],
   "source": []
  },
  {
   "cell_type": "code",
   "execution_count": null,
   "metadata": {},
   "outputs": [],
   "source": []
  },
  {
   "cell_type": "code",
   "execution_count": null,
   "metadata": {},
   "outputs": [],
   "source": []
  },
  {
   "cell_type": "code",
   "execution_count": null,
   "metadata": {},
   "outputs": [],
   "source": []
  },
  {
   "cell_type": "code",
   "execution_count": null,
   "metadata": {},
   "outputs": [],
   "source": []
  },
  {
   "cell_type": "code",
   "execution_count": null,
   "metadata": {},
   "outputs": [],
   "source": []
  },
  {
   "cell_type": "code",
   "execution_count": null,
   "metadata": {},
   "outputs": [],
   "source": []
  },
  {
   "cell_type": "code",
   "execution_count": null,
   "metadata": {},
   "outputs": [],
   "source": []
  },
  {
   "cell_type": "code",
   "execution_count": null,
   "metadata": {},
   "outputs": [],
   "source": []
  },
  {
   "cell_type": "code",
   "execution_count": null,
   "metadata": {},
   "outputs": [],
   "source": []
  },
  {
   "cell_type": "code",
   "execution_count": null,
   "metadata": {},
   "outputs": [],
   "source": []
  },
  {
   "cell_type": "code",
   "execution_count": null,
   "metadata": {},
   "outputs": [],
   "source": []
  },
  {
   "cell_type": "code",
   "execution_count": null,
   "metadata": {},
   "outputs": [],
   "source": []
  },
  {
   "attachments": {},
   "cell_type": "markdown",
   "metadata": {},
   "source": [
    "# *End of Page*"
   ]
  }
 ],
 "metadata": {
  "kernelspec": {
   "display_name": "Python 3.9.13 64-bit",
   "language": "python",
   "name": "python3"
  },
  "language_info": {
   "codemirror_mode": {
    "name": "ipython",
    "version": 3
   },
   "file_extension": ".py",
   "mimetype": "text/x-python",
   "name": "python",
   "nbconvert_exporter": "python",
   "pygments_lexer": "ipython3",
   "version": "3.11.4"
  },
  "orig_nbformat": 4,
  "vscode": {
   "interpreter": {
    "hash": "11938c6bc6919ae2720b4d5011047913343b08a43b18698fd82dedb0d4417594"
   }
  }
 },
 "nbformat": 4,
 "nbformat_minor": 2
}
