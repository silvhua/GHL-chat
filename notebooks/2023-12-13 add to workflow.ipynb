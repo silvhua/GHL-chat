{
 "cells": [
  {
   "attachments": {},
   "cell_type": "markdown",
   "metadata": {},
   "source": [
    "# Title\n",
    "[]()"
   ]
  },
  {
   "cell_type": "code",
   "execution_count": 32,
   "metadata": {},
   "outputs": [],
   "source": [
    "\n",
    "import pandas as pd\n",
    "import sys\n",
    "sys.path.append(r\"C:\\Users\\silvh\\OneDrive\\lighthouse\\custom_python\")\n",
    "sys.path.append(r'C:\\Users\\silvh\\OneDrive\\lighthouse\\portfolio-projects\\GHL-chat\\src\\app')\n",
    "from silvhua import *\n",
    "from ghl_requests import refresh_token\n",
    "# from datetime import datetime\n",
    "# sys.path.append(r\"C:\\Users\\silvh\\OneDrive\\lighthouse\\portfolio-projects\\online-PT-social-media-NLP\\src\")"
   ]
  },
  {
   "cell_type": "markdown",
   "metadata": {},
   "source": [
    "# time stamp formating"
   ]
  },
  {
   "cell_type": "code",
   "execution_count": 10,
   "metadata": {},
   "outputs": [
    {
     "name": "stdout",
     "output_type": "stream",
     "text": [
      "2023-12-14T06:31:07Z\n",
      "2023-12-14T06:31:07\n",
      "2023-12-13T22:31:07\n",
      "2023-12-14 06:31:07.062588\n",
      "2023-12-13T22:31:07.062588\n"
     ]
    }
   ],
   "source": [
    "# import pytz # Not included in Lambda by default\n",
    "import sys\n",
    "import requests\n",
    "from datetime import datetime\n",
    "import json\n",
    "from urllib.parse import urlencode\n",
    "import boto3\n",
    "\n",
    "print(datetime.utcnow().strftime('%Y-%m-%dT%H:%M:%SZ'))\n",
    "print(datetime.utcnow().strftime('%Y-%m-%dT%H:%M:%S%z'))\n",
    "print(datetime.now().strftime('%Y-%m-%dT%H:%M:%S%z'))\n",
    "print(datetime.utcnow())\n",
    "print(datetime.now().isoformat())"
   ]
  },
  {
   "cell_type": "code",
   "execution_count": 7,
   "metadata": {},
   "outputs": [
    {
     "name": "stdout",
     "output_type": "stream",
     "text": [
      "2023-12-14T07:29:09+0100\n"
     ]
    }
   ],
   "source": [
    "from datetime import datetime, timedelta, timezone\n",
    "\n",
    "# Get the current time in UTC\n",
    "current_time_utc = datetime.utcnow()\n",
    "\n",
    "# Define the desired timezone offset (in this case, +01:00)\n",
    "desired_timezone_offset = timezone(timedelta(hours=1))\n",
    "\n",
    "# Combine the current time with the timezone offset\n",
    "timestamp_with_timezone = current_time_utc.replace(tzinfo=timezone.utc).astimezone(desired_timezone_offset)\n",
    "\n",
    "# Format the timestamp as a string\n",
    "formatted_timestamp = timestamp_with_timezone.strftime('%Y-%m-%dT%H:%M:%S%z')\n",
    "\n",
    "print(formatted_timestamp)\n"
   ]
  },
  {
   "cell_type": "code",
   "execution_count": 8,
   "metadata": {},
   "outputs": [
    {
     "data": {
      "text/plain": [
       "'2023-12-14T07:29:09+0100'"
      ]
     },
     "execution_count": 8,
     "metadata": {},
     "output_type": "execute_result"
    }
   ],
   "source": [
    "formatted_timestamp"
   ]
  },
  {
   "cell_type": "code",
   "execution_count": 11,
   "metadata": {},
   "outputs": [
    {
     "name": "stdout",
     "output_type": "stream",
     "text": [
      "2023-12-14T06:31:53+00:00\n"
     ]
    }
   ],
   "source": [
    "from datetime import datetime\n",
    "\n",
    "# Get the current UTC time\n",
    "current_time_utc = datetime.utcnow()\n",
    "\n",
    "# Format the timestamp as a string\n",
    "formatted_timestamp = current_time_utc.strftime('%Y-%m-%dT%H:%M:%S+00:00')\n",
    "\n",
    "print(formatted_timestamp)\n"
   ]
  },
  {
   "cell_type": "code",
   "execution_count": 12,
   "metadata": {},
   "outputs": [
    {
     "name": "stdout",
     "output_type": "stream",
     "text": [
      "2023-12-14T06:39:24+00:00\n"
     ]
    }
   ],
   "source": [
    "from datetime import datetime, timedelta\n",
    "import random\n",
    "\n",
    "# Get the current UTC time\n",
    "current_time_utc = datetime.utcnow()\n",
    "\n",
    "# Generate a random delay between 2 and 10 minutes\n",
    "random_delay_minutes = random.randint(2, 10)\n",
    "\n",
    "# Add the random delay to the current time\n",
    "delayed_time_utc = current_time_utc + timedelta(minutes=random_delay_minutes)\n",
    "\n",
    "# Format the delayed timestamp as a string\n",
    "formatted_timestamp = delayed_time_utc.strftime('%Y-%m-%dT%H:%M:%S+00:00')\n",
    "\n",
    "print(formatted_timestamp)\n"
   ]
  },
  {
   "cell_type": "code",
   "execution_count": 14,
   "metadata": {},
   "outputs": [
    {
     "name": "stdout",
     "output_type": "stream",
     "text": [
      "2023-12-14T06:38:36+00:00\n"
     ]
    }
   ],
   "source": [
    "print((datetime.utcnow() + timedelta(minutes=random.randint(2, 10))).strftime('%Y-%m-%dT%H:%M:%S+00:00'))"
   ]
  },
  {
   "cell_type": "code",
   "execution_count": 15,
   "metadata": {},
   "outputs": [
    {
     "name": "stdout",
     "output_type": "stream",
     "text": [
      "2023-12-14T06:38:42+00:00\n"
     ]
    }
   ],
   "source": [
    "print((datetime.utcnow() + timedelta(minutes=random.randint(2, 10))).strftime('%Y-%m-%dT%H:%M:%S+00:00'))"
   ]
  },
  {
   "cell_type": "code",
   "execution_count": 16,
   "metadata": {},
   "outputs": [
    {
     "name": "stdout",
     "output_type": "stream",
     "text": [
      "2023-12-14T06:44:53+00:00\n"
     ]
    }
   ],
   "source": [
    "print((datetime.utcnow() + timedelta(minutes=random.randint(2, 10))).strftime('%Y-%m-%dT%H:%M:%S+00:00'))"
   ]
  },
  {
   "cell_type": "code",
   "execution_count": 17,
   "metadata": {},
   "outputs": [
    {
     "name": "stdout",
     "output_type": "stream",
     "text": [
      "2023-12-14T06:46:04+00:00\n"
     ]
    }
   ],
   "source": [
    "print((datetime.utcnow() + timedelta(minutes=random.randint(2, 10))).strftime('%Y-%m-%dT%H:%M:%S+00:00'))"
   ]
  },
  {
   "cell_type": "code",
   "execution_count": 18,
   "metadata": {},
   "outputs": [
    {
     "name": "stdout",
     "output_type": "stream",
     "text": [
      "2023-12-14T06:42:11+00:00\n"
     ]
    }
   ],
   "source": [
    "print((datetime.utcnow() + timedelta(minutes=random.randint(2, 10))).strftime('%Y-%m-%dT%H:%M:%S+00:00'))"
   ]
  },
  {
   "cell_type": "markdown",
   "metadata": {},
   "source": [
    "# initialize "
   ]
  },
  {
   "cell_type": "code",
   "execution_count": 20,
   "metadata": {},
   "outputs": [],
   "source": [
    "results_dict = dict()"
   ]
  },
  {
   "cell_type": "code",
   "execution_count": 24,
   "metadata": {},
   "outputs": [],
   "source": [
    "contacts = load_json('contacts.json', r'c:/Users/silvh/OneDrive/lighthouse/portfolio-projects/GHL-chat/src/app/private')"
   ]
  },
  {
   "cell_type": "code",
   "execution_count": 28,
   "metadata": {},
   "outputs": [],
   "source": [
    "path = r'c:/Users/silvh/OneDrive/lighthouse/portfolio-projects/GHL-chat/src/app/private'\n",
    "locationId = load_json('auth_token_response.json', path)['SamLab']['locationId']"
   ]
  },
  {
   "cell_type": "markdown",
   "metadata": {},
   "source": [
    "# `ghl_request`"
   ]
  },
  {
   "cell_type": "markdown",
   "metadata": {},
   "source": [
    "## iteration 1"
   ]
  },
  {
   "cell_type": "code",
   "execution_count": 30,
   "metadata": {},
   "outputs": [
    {
     "name": "stdout",
     "output_type": "stream",
     "text": [
      "Status code 401: Unauthorized\n"
     ]
    },
    {
     "data": {
      "text/plain": [
       "{'statusCode': 401,\n",
       " 'message': 'The token is not authorized for this scope.',\n",
       " 'error': 'Unauthorized',\n",
       " 'status_code': 401,\n",
       " 'response_reason': 'Unauthorized'}"
      ]
     },
     "execution_count": 30,
     "metadata": {},
     "output_type": "execute_result"
    }
   ],
   "source": [
    "# import pytz # Not included in Lambda by default\n",
    "import sys\n",
    "import requests\n",
    "from datetime import datetime, timedelta\n",
    "import json\n",
    "from urllib.parse import urlencode\n",
    "import boto3\n",
    "\n",
    "\n",
    "def ghl_request(\n",
    "        contactId, endpoint='createTask', text=None, payload=None, location='SamLab', \n",
    "        path_param=None\n",
    "        ):\n",
    "    \"\"\"\n",
    "    Send a message to a contact in GoHighLevel or retrieve email history.\n",
    "\n",
    "    Parameters:\n",
    "    - contactId (str): Contact ID OR locationId if endpoint is 'getWorkflow'.\n",
    "    - endpoint (str): API endpoint. Valid values are 'createTask', 'createNote', 'send_message', and 'getEmailHistory'.\n",
    "    - payload (dict): Dictionary containing the payload for the request.\n",
    "    - params_dict (dict): Dictionary containing additional parameters for the request.\n",
    "    - location (str): Location value for retrieving the authentication token.\n",
    "    - path_param (str): Additional path parameter for the request.\n",
    "    - params (dict): Additional query parameters for the request.\n",
    "\n",
    "    Example payload for sendMessage endpoint:\n",
    "        \n",
    "            payload = {\n",
    "                \"type\": \"Email\",\n",
    "                \"message\": f\"Hi, me. This is a test message from the GHL API using Python at {timestamp} Pacific time\",\n",
    "                \"subject\": \"Testing GHL API with Python threadId\",\n",
    "                \"emailFrom\": \"Brian Quinlan <brian@ownitfit.com.au>\",\n",
    "                \"threadId\": 'Y0ecBIIPiHa7bpZr616G'\n",
    "            }\n",
    "\n",
    "    Returns:\n",
    "    - response_dict (dict): Dictionary containing the response from the API.\n",
    "    \"\"\"\n",
    "    url_root = 'https://services.leadconnectorhq.com/'\n",
    "    if payload:\n",
    "        print(f'input payload: {payload}')\n",
    "    try:\n",
    "        if endpoint == 'getContact':\n",
    "            endpoint_url = f'contacts/{contactId}'\n",
    "            request_type = 'GET'\n",
    "            payload = None\n",
    "        elif endpoint == 'createTask':\n",
    "            endpoint_url = f'contacts/{contactId}/tasks'\n",
    "            request_type = 'POST'\n",
    "            if payload == None:\n",
    "                payload = {}\n",
    "                payload['title'] = f'Send message to contact {contactId}'\n",
    "                payload['body'] = text if text else f\"Test task via GHL API at {datetime.utcnow().strftime('%Y-%m-%dT%H:%M:%SZ')} Pacific time\"\n",
    "            payload['dueDate'] = payload[3] if len(payload) > 3 else datetime.utcnow().strftime('%Y-%m-%dT%H:%M:%SZ')\n",
    "            payload['completed'] = False\n",
    "        elif endpoint == 'workflow':\n",
    "            endpoint_url = f'contacts/{contactId}/workflow/{path_param}'\n",
    "            request_type = 'POST'\n",
    "            payload = {}\n",
    "            payload['eventStartTime'] = (datetime.utcnow() + timedelta(minutes=random.randint(2, 10))).strftime('%Y-%m-%dT%H:%M:%S+00:00')\n",
    "        elif endpoint == 'getWorkflow':\n",
    "            endpoint_url = r'workflows/'\n",
    "            request_type = 'GET'\n",
    "            params = {'locationId': contactId}\n",
    "        elif endpoint == 'createNote':\n",
    "            endpoint_url = f'contacts/{contactId}/notes'\n",
    "            request_type = 'POST'\n",
    "            if payload == None:\n",
    "                payload = {}\n",
    "                payload['body'] = (f\"Reply to SMS (contactID {contactId}) {datetime.utcnow().strftime('%Y-%m-%dT%H:%M:%SZ')}\" if text==None else text)\n",
    "                payload['userId'] = contactId\n",
    "        elif endpoint == 'sendMessage':\n",
    "            endpoint_url = f'conversations/messages'\n",
    "            request_type = 'POST'\n",
    "            payload[\"contactId\"] = contactId\n",
    "            if payload['type'] == 'Email':\n",
    "                payload['html'] = payload['message']\n",
    "        elif endpoint == 'getEmailHistory':\n",
    "            endpoint_url = f'conversations/search?contactId={contactId}'\n",
    "            request_type = 'GET'\n",
    "            payload = None\n",
    "        else:\n",
    "            raise ValueError(\"Invalid endpoint value. Valid values are 'createTask', 'createNote', 'sendMessage', and 'getEmailHistory'.\")\n",
    "\n",
    "        url = f'{url_root}{endpoint_url}'\n",
    "        try:\n",
    "            s3 = boto3.client('s3')\n",
    "            response = s3.get_object(Bucket='ownitfit-silvhua', Key='auth_token_response.json')\n",
    "            token = json.loads(response['Body'].read().decode('utf-8'))[location]\n",
    "        except Exception as error:\n",
    "            exc_type, exc_obj, tb = sys.exc_info()\n",
    "            f = tb.tb_frame\n",
    "            lineno = tb.tb_lineno\n",
    "            filename = f.f_code.co_filename\n",
    "            message = f'Error in line {lineno} of {filename}: {str(error)}'\n",
    "            print(message)\n",
    "            return message\n",
    "\n",
    "        headers = {\n",
    "            \"Authorization\": f\"Bearer {token['access_token']}\",\n",
    "            \"Version\": \"2021-04-15\",\n",
    "            \"Content-Type\": \"application/json\",\n",
    "            \"Accept\": \"application/json\"\n",
    "        }\n",
    "\n",
    "\n",
    "        if request_type == 'POST':\n",
    "            response = requests.post(\n",
    "                url, headers=headers, \n",
    "                json=payload if payload else None\n",
    "            )\n",
    "        elif request_type == 'GET':\n",
    "            response = requests.get(\n",
    "                url, headers=headers, \n",
    "                json=payload if payload else None,\n",
    "                params=params if params else None\n",
    "            )\n",
    "        else:\n",
    "            raise ValueError(\"Invalid request type. Valid values are 'POST' and 'GET'.\")\n",
    "\n",
    "        print(f'Status code {response.status_code}: {response.reason}')\n",
    "        data = response.json()\n",
    "        data['status_code'] = response.status_code\n",
    "        data['response_reason'] = response.reason\n",
    "        try:\n",
    "            if endpoint == 'getEmailHistory':\n",
    "                email_timestamp = data['conversations'][0]['dateUpdated']/1000\n",
    "                utc_time = datetime.utcfromtimestamp(email_timestamp)\n",
    "                pacific_time = utc_time.replace(tzinfo=pytz.utc).astimezone(pytz.timezone('US/Pacific'))\n",
    "                email_timestamp_str = pacific_time.strftime('%Y-%m-%d %H:%M:%S')\n",
    "\n",
    "                print(f'Last email sent: {email_timestamp_str} Pacific time')\n",
    "                data['emailTimestamp_pacific'] = email_timestamp_str\n",
    "        except Exception as error:\n",
    "            exc_type, exc_obj, tb = sys.exc_info()\n",
    "            f = tb.tb_frame\n",
    "            lineno = tb.tb_lineno\n",
    "            filename = f.f_code.co_filename\n",
    "            print(f'Error in line {lineno} of {filename}: {str(error)}')\n",
    "            return '[Chatbot response]'\n",
    "        return data\n",
    "    except Exception as error:\n",
    "        exc_type, exc_obj, tb = sys.exc_info()\n",
    "        f = tb.tb_frame\n",
    "        lineno = tb.tb_lineno\n",
    "        filename = f.f_code.co_filename\n",
    "        print(f'Error in line {lineno} of {filename}: {str(error)}')\n",
    "        return '[Chatbot response]'\n",
    "    \n",
    "\n",
    "iteration = 1\n",
    "contactId = contacts['me']\n",
    "params = {''}\n",
    "# workflowId = \n",
    "results_dict[iteration] = ghl_request(\n",
    "    locationId, 'getWorkflow'\n",
    ")\n",
    "results_dict[iteration]"
   ]
  },
  {
   "cell_type": "code",
   "execution_count": 31,
   "metadata": {},
   "outputs": [
    {
     "name": "stdout",
     "output_type": "stream",
     "text": [
      "Status code 401: Unauthorized\n"
     ]
    },
    {
     "data": {
      "text/plain": [
       "{'statusCode': 401,\n",
       " 'message': 'The token is not authorized for this scope.',\n",
       " 'error': 'Unauthorized',\n",
       " 'status_code': 401,\n",
       " 'response_reason': 'Unauthorized'}"
      ]
     },
     "execution_count": 31,
     "metadata": {},
     "output_type": "execute_result"
    }
   ],
   "source": [
    "iteration = 1.1\n",
    "contactId = contacts['me']\n",
    "# workflowId = \n",
    "results_dict[iteration] = ghl_request(\n",
    "    locationId, 'getWorkflow'\n",
    ")\n",
    "results_dict[iteration]"
   ]
  },
  {
   "cell_type": "code",
   "execution_count": 33,
   "metadata": {},
   "outputs": [
    {
     "name": "stdout",
     "output_type": "stream",
     "text": [
      "Status code 401: Unauthorized\n"
     ]
    },
    {
     "data": {
      "text/plain": [
       "{'statusCode': 401,\n",
       " 'message': 'The token is not authorized for this scope.',\n",
       " 'error': 'Unauthorized',\n",
       " 'status_code': 401,\n",
       " 'response_reason': 'Unauthorized'}"
      ]
     },
     "execution_count": 33,
     "metadata": {},
     "output_type": "execute_result"
    }
   ],
   "source": [
    "iteration = 1.11\n",
    "contactId = contacts['me']\n",
    "# workflowId = \n",
    "results_dict[iteration] = ghl_request(\n",
    "    locationId, 'getWorkflow'\n",
    ")\n",
    "results_dict[iteration]"
   ]
  },
  {
   "cell_type": "markdown",
   "metadata": {},
   "source": [
    "### After updating `app.py` and Marketplace app to include \"workflows.readonly\" scope"
   ]
  },
  {
   "cell_type": "code",
   "execution_count": null,
   "metadata": {},
   "outputs": [],
   "source": [
    "iteration = 1.13\n",
    "# results_dict['iteration'] = refresh_token()\n",
    "# results_dict['iteration']['statusCode']\n",
    "contactId = contacts['me']\n",
    "# workflowId = \n",
    "results_dict[iteration] = ghl_request(\n",
    "    locationId, 'getWorkflow'\n",
    ")\n",
    "results_dict[iteration]"
   ]
  },
  {
   "cell_type": "code",
   "execution_count": 35,
   "metadata": {},
   "outputs": [
    {
     "name": "stdout",
     "output_type": "stream",
     "text": [
      "Object saved as JSON: getWorkflows_response_2023-12-13_2330.json\n"
     ]
    }
   ],
   "source": [
    "description = 'getWorkflows_response'\n",
    "path = '../src/app/private/'\n",
    "save_to_json(results_dict[iteration], description=description, append_version=True, path=path)"
   ]
  },
  {
   "cell_type": "code",
   "execution_count": 95,
   "metadata": {},
   "outputs": [
    {
     "name": "stdout",
     "output_type": "stream",
     "text": [
      "dict_keys(['workflows', 'traceId', 'status_code', 'response_reason'])\n"
     ]
    }
   ],
   "source": [
    "print(results_dict[iteration].keys())\n"
   ]
  },
  {
   "cell_type": "code",
   "execution_count": 38,
   "metadata": {},
   "outputs": [
    {
     "name": "stdout",
     "output_type": "stream",
     "text": [
      "Object saved as JSON: getWorkflows_response_2023-12-13_2333.json\n"
     ]
    }
   ],
   "source": [
    "description = 'getWorkflows_response'\n",
    "path = '../src/app/private/'\n",
    "save_to_json(results_dict[iteration]['workflows'], description=description, append_version=True, path=path)"
   ]
  },
  {
   "cell_type": "markdown",
   "metadata": {},
   "source": [
    "### `dict_list_to_dict`"
   ]
  },
  {
   "cell_type": "code",
   "execution_count": null,
   "metadata": {},
   "outputs": [],
   "source": [
    "def dict_list_to_dict(dict_list, key='id'):\n",
    "    new_dict = {}\n",
    "    if key:\n",
    "        for dictionary in dict_list:\n",
    "            new_dict[dictionary[key]] = dictionary\n",
    "    else:\n",
    "        for index, dictionary in enumerate(dict_list):\n",
    "            new_dict[index] = dictionary\n",
    "    return new_dict\n",
    "\n",
    "workflow_dict = dict_list_to_dict(results_dict[iteration]['workflows'], key='name')\n",
    "workflow_dict"
   ]
  },
  {
   "cell_type": "code",
   "execution_count": 45,
   "metadata": {},
   "outputs": [
    {
     "name": "stdout",
     "output_type": "stream",
     "text": [
      "Object saved as JSON: getWorkflows_response_2023-12-13_2340.json\n"
     ]
    }
   ],
   "source": [
    "description = 'getWorkflows_response'\n",
    "path = '../src/app/private/'\n",
    "save_to_json(workflow_dict, description=description, append_version=True, path=path)"
   ]
  },
  {
   "cell_type": "markdown",
   "metadata": {},
   "source": [
    "#### iteration 2"
   ]
  },
  {
   "cell_type": "code",
   "execution_count": 52,
   "metadata": {},
   "outputs": [
    {
     "data": {
      "text/plain": [
       "'luckykduck'"
      ]
     },
     "execution_count": 52,
     "metadata": {},
     "output_type": "execute_result"
    }
   ],
   "source": [
    "'lucky duck'.replace(' ', 'k')"
   ]
  },
  {
   "cell_type": "code",
   "execution_count": null,
   "metadata": {},
   "outputs": [],
   "source": [
    "def dict_list_to_dict(dict_list, key='id'):\n",
    "    new_dict = {}\n",
    "    if key:\n",
    "        for dictionary in dict_list:\n",
    "            key_value = dictionary[key].replace(' ', '_')\n",
    "            new_dict[key_value] = dictionary\n",
    "    else:\n",
    "        for index, dictionary in enumerate(dict_list):\n",
    "            new_dict[index] = dictionary\n",
    "    return new_dict\n",
    "\n",
    "workflow_dict = dict_list_to_dict(results_dict[iteration]['workflows'], key='name')\n",
    "workflow_dict"
   ]
  },
  {
   "cell_type": "code",
   "execution_count": 55,
   "metadata": {},
   "outputs": [
    {
     "name": "stdout",
     "output_type": "stream",
     "text": [
      "Object saved as JSON: getWorkflows_response_2023-12-13_2347.json\n"
     ]
    }
   ],
   "source": [
    "description = 'getWorkflows_response'\n",
    "path = '../src/app/private/'\n",
    "save_to_json(workflow_dict, description=description, append_version=True, path=path)"
   ]
  },
  {
   "cell_type": "markdown",
   "metadata": {},
   "source": [
    "### dict_list_to_json"
   ]
  },
  {
   "cell_type": "code",
   "execution_count": null,
   "metadata": {},
   "outputs": [],
   "source": [
    "def dict_list_to_json(dict_list, key='id'):\n",
    "    new_dict = {}\n",
    "    if key:\n",
    "        for dictionary in dict_list:\n",
    "            key_value = dictionary[key].replace(' ', '_').replace('\\n','')\n",
    "            ## make sure each dictionary has a format compatible with json files.\n",
    "\n",
    "            new_dict[key_value] = dictionary\n",
    "    else:\n",
    "        for index, dictionary in enumerate(dict_list):\n",
    "            new_dict[index] = dictionary\n",
    "    return new_dict\n",
    "\n",
    "workflow_dict = dict_list_to_json(results_dict[iteration]['workflows'], key='name')\n",
    "workflow_dict"
   ]
  },
  {
   "cell_type": "code",
   "execution_count": 57,
   "metadata": {},
   "outputs": [
    {
     "name": "stdout",
     "output_type": "stream",
     "text": [
      "Object saved as JSON: getWorkflows_response_2023-12-13_2351.json\n"
     ]
    }
   ],
   "source": [
    "description = 'getWorkflows_response'\n",
    "path = '../src/app/private/'\n",
    "save_to_json(workflow_dict, description=description, append_version=True, path=path)"
   ]
  },
  {
   "cell_type": "markdown",
   "metadata": {},
   "source": [
    "#### Iteration 2"
   ]
  },
  {
   "cell_type": "code",
   "execution_count": null,
   "metadata": {},
   "outputs": [],
   "source": [
    "def dict_list_to_json(dict_list, primary_key='id'):\n",
    "    new_dict_list = []\n",
    "    result = dict()\n",
    "    for dictionary in dict_list:\n",
    "        new_dict = {}\n",
    "        for key, value in dictionary.items():\n",
    "            key = key.replace(' ', '_').replace('\\n','')\n",
    "            value = value.replace(' ', '_').replace('\\n','') if type(value) == str else value\n",
    "            new_dict[key] = value\n",
    "        new_dict_list.append(new_dict)\n",
    "    if primary_key:\n",
    "        for dictionary in new_dict_list:\n",
    "            key_value = dictionary[primary_key]\n",
    "            # print(f'key value: {key_value}\\n\\n')\n",
    "            result[key_value] = dictionary\n",
    "    else:\n",
    "        for index, dictionary in enumerate(new_dict_list):\n",
    "            result[index] = dictionary\n",
    "    return result\n",
    "\n",
    "workflow_dict = dict_list_to_json(results_dict[iteration]['workflows'], primary_key='name')\n",
    "# workflow_dict = dict_list_to_json(results_dict[iteration]['workflows'], primary_key=None)\n",
    "workflow_dict"
   ]
  },
  {
   "cell_type": "code",
   "execution_count": 94,
   "metadata": {},
   "outputs": [
    {
     "name": "stdout",
     "output_type": "stream",
     "text": [
      "Object saved as JSON: getWorkflows_response_2023-12-14_0014.json\n"
     ]
    }
   ],
   "source": [
    "description = 'getWorkflows_response'\n",
    "path = '../src/app/private/'\n",
    "save_to_json(workflow_dict, description=description, append_version=True, path=path)"
   ]
  },
  {
   "cell_type": "code",
   "execution_count": null,
   "metadata": {},
   "outputs": [],
   "source": []
  },
  {
   "cell_type": "code",
   "execution_count": null,
   "metadata": {},
   "outputs": [],
   "source": []
  },
  {
   "cell_type": "code",
   "execution_count": null,
   "metadata": {},
   "outputs": [],
   "source": []
  },
  {
   "cell_type": "code",
   "execution_count": null,
   "metadata": {},
   "outputs": [],
   "source": []
  },
  {
   "cell_type": "code",
   "execution_count": null,
   "metadata": {},
   "outputs": [],
   "source": []
  },
  {
   "cell_type": "code",
   "execution_count": null,
   "metadata": {},
   "outputs": [],
   "source": []
  },
  {
   "cell_type": "code",
   "execution_count": null,
   "metadata": {},
   "outputs": [],
   "source": []
  },
  {
   "cell_type": "code",
   "execution_count": null,
   "metadata": {},
   "outputs": [],
   "source": []
  },
  {
   "cell_type": "code",
   "execution_count": null,
   "metadata": {},
   "outputs": [],
   "source": []
  },
  {
   "attachments": {},
   "cell_type": "markdown",
   "metadata": {},
   "source": [
    "# *End of Page*"
   ]
  }
 ],
 "metadata": {
  "kernelspec": {
   "display_name": "Python 3.9.13 64-bit",
   "language": "python",
   "name": "python3"
  },
  "language_info": {
   "codemirror_mode": {
    "name": "ipython",
    "version": 3
   },
   "file_extension": ".py",
   "mimetype": "text/x-python",
   "name": "python",
   "nbconvert_exporter": "python",
   "pygments_lexer": "ipython3",
   "version": "3.11.4"
  },
  "orig_nbformat": 4,
  "vscode": {
   "interpreter": {
    "hash": "11938c6bc6919ae2720b4d5011047913343b08a43b18698fd82dedb0d4417594"
   }
  }
 },
 "nbformat": 4,
 "nbformat_minor": 2
}
