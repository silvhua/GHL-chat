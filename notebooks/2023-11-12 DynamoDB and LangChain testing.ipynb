{
 "cells": [
  {
   "attachments": {},
   "cell_type": "markdown",
   "metadata": {},
   "source": [
    "# Title\n",
    "[]()"
   ]
  },
  {
   "cell_type": "code",
   "execution_count": 2,
   "metadata": {},
   "outputs": [],
   "source": [
    "\n",
    "import pandas as pd\n",
    "import sys\n",
    "sys.path.append(r\"C:\\Users\\silvh\\OneDrive\\lighthouse\\custom_python\")\n",
    "from silvhua import *\n",
    "# from datetime import datetime\n",
    "# sys.path.append(r\"C:\\Users\\silvh\\OneDrive\\lighthouse\\portfolio-projects\\online-PT-social-media-NLP\\src\")"
   ]
  },
  {
   "cell_type": "markdown",
   "metadata": {},
   "source": [
    "# Initiate dicts"
   ]
  },
  {
   "cell_type": "code",
   "execution_count": 1,
   "metadata": {},
   "outputs": [],
   "source": [
    "query_dict = dict()"
   ]
  },
  {
   "cell_type": "markdown",
   "metadata": {},
   "source": [
    "# Original `query_dynamodb_table` from `data_functions.py`"
   ]
  },
  {
   "cell_type": "code",
   "execution_count": 1,
   "metadata": {},
   "outputs": [
    {
     "data": {
      "text/plain": [
       "{'Items': [{'SessionId': 'test',\n",
       "   'History': [{'type': 'human',\n",
       "     'data': {'type': 'human',\n",
       "      'content': 'Where do I find parking?',\n",
       "      'additional_kwargs': {},\n",
       "      'example': False}},\n",
       "    {'type': 'ai',\n",
       "     'data': {'type': 'ai',\n",
       "      'content': 'There is parking available outside the gym on McEvoy St, as well as on the surrounding side streets. Additionally, you can park for free in the car park next to Tuga Pastries.',\n",
       "      'additional_kwargs': {},\n",
       "      'example': False}},\n",
       "    {'type': 'human',\n",
       "     'data': {'type': 'human',\n",
       "      'content': 'What is the name of the gym?',\n",
       "      'additional_kwargs': {},\n",
       "      'example': False}},\n",
       "    {'type': 'ai',\n",
       "     'data': {'type': 'ai',\n",
       "      'content': 'The name of the gym is Strength and Movement Lab.',\n",
       "      'additional_kwargs': {},\n",
       "      'example': False}},\n",
       "    {'type': 'human',\n",
       "     'data': {'type': 'human',\n",
       "      'content': 'Where do I find parking?',\n",
       "      'additional_kwargs': {},\n",
       "      'example': False}},\n",
       "    {'type': 'ai',\n",
       "     'data': {'type': 'ai',\n",
       "      'content': 'There is parking available outside the gym on McEvoy St, as well as on the surrounding side streets. Additionally, you can park for free in the car park next to Tuga Pastries.',\n",
       "      'additional_kwargs': {},\n",
       "      'example': False}},\n",
       "    {'type': 'human',\n",
       "     'data': {'type': 'human',\n",
       "      'content': 'How long is the introductor session?',\n",
       "      'additional_kwargs': {},\n",
       "      'example': False}},\n",
       "    {'type': 'ai',\n",
       "     'data': {'type': 'ai',\n",
       "      'content': 'The introductory session typically lasts around 30 minutes. During this session, we will have a chat, show you the gym, and go through some basic movements to ensure you are moving safely and effectively.',\n",
       "      'additional_kwargs': {},\n",
       "      'example': False}},\n",
       "    {'type': 'human',\n",
       "     'data': {'type': 'human',\n",
       "      'content': 'Where do I find parking?',\n",
       "      'additional_kwargs': {},\n",
       "      'example': False}},\n",
       "    {'type': 'ai',\n",
       "     'data': {'type': 'ai',\n",
       "      'content': 'There is parking available outside the gym on McEvoy St, as well as on the surrounding side streets. Additionally, you can park for free in the car park next to Tuga Pastries.',\n",
       "      'additional_kwargs': {},\n",
       "      'example': False}},\n",
       "    {'type': 'human',\n",
       "     'data': {'type': 'human',\n",
       "      'content': 'What if I have injuries',\n",
       "      'additional_kwargs': {},\n",
       "      'example': False}},\n",
       "    {'type': 'ai',\n",
       "     'data': {'type': 'ai',\n",
       "      'content': \"If you have any injuries, don't worry! We have experience working with members who have different types of injuries, and we can adapt the program to accommodate your needs. During the introductory session, we will also go through a movement screen to ensure that you are moving safely, effectively, and without any pain.\",\n",
       "      'additional_kwargs': {},\n",
       "      'example': False}}]}],\n",
       " 'Count': 1,\n",
       " 'ScannedCount': 1,\n",
       " 'ResponseMetadata': {'RequestId': 'KNPHPGS9F8SHIQ0P5NMC5T10V7VV4KQNSO5AEMVJF66Q9ASUAAJG',\n",
       "  'HTTPStatusCode': 200,\n",
       "  'HTTPHeaders': {'server': 'Server',\n",
       "   'date': 'Mon, 13 Nov 2023 00:22:54 GMT',\n",
       "   'content-type': 'application/x-amz-json-1.0',\n",
       "   'content-length': '2960',\n",
       "   'connection': 'keep-alive',\n",
       "   'x-amzn-requestid': 'KNPHPGS9F8SHIQ0P5NMC5T10V7VV4KQNSO5AEMVJF66Q9ASUAAJG',\n",
       "   'x-amz-crc32': '2546537099'},\n",
       "  'RetryAttempts': 0}}"
      ]
     },
     "execution_count": 1,
     "metadata": {},
     "output_type": "execute_result"
    }
   ],
   "source": [
    "import boto3\n",
    "from boto3.dynamodb.conditions import Key\n",
    "\n",
    "def query_dynamodb_table(table_name, value, key='SessionId', region_name=\"us-west-2\"):\n",
    "    \"\"\"\n",
    "    Query a Dynamodb table and print the results.\n",
    "    Parameters:\n",
    "        table_name (str): The name of the DynamoDB table.\n",
    "        value (str): The value of the key.\n",
    "        key (str): The name of the key.\n",
    "        region_name (str): The name of the AWS region.\n",
    "\n",
    "    Returns:\n",
    "        dict: The results of the query. The 'Items' key contains the table record.       \n",
    "    From 2023-10-22 notebook.\n",
    "    \"\"\"\n",
    "    dynamodb = boto3.resource('dynamodb', region_name=region_name)\n",
    "    table = dynamodb.Table(table_name)\n",
    "    response = table.query(\n",
    "        KeyConditionExpression=Key(key).eq(value)\n",
    "    )\n",
    "    return response\n",
    "\n",
    "query_dynamodb_table('SessionTable', 'test')"
   ]
  },
  {
   "cell_type": "code",
   "execution_count": 3,
   "metadata": {},
   "outputs": [
    {
     "data": {
      "text/plain": [
       "{'Items': [],\n",
       " 'Count': 0,\n",
       " 'ScannedCount': 0,\n",
       " 'ResponseMetadata': {'RequestId': '1PG1SJJPGP0PON2DF3K55INF6JVV4KQNSO5AEMVJF66Q9ASUAAJG',\n",
       "  'HTTPStatusCode': 200,\n",
       "  'HTTPHeaders': {'server': 'Server',\n",
       "   'date': 'Mon, 13 Nov 2023 00:24:22 GMT',\n",
       "   'content-type': 'application/x-amz-json-1.0',\n",
       "   'content-length': '39',\n",
       "   'connection': 'keep-alive',\n",
       "   'x-amzn-requestid': '1PG1SJJPGP0PON2DF3K55INF6JVV4KQNSO5AEMVJF66Q9ASUAAJG',\n",
       "   'x-amz-crc32': '3413411624'},\n",
       "  'RetryAttempts': 0}}"
      ]
     },
     "execution_count": 3,
     "metadata": {},
     "output_type": "execute_result"
    }
   ],
   "source": [
    "query_dict[1.1] = query_dynamodb_table('SessionTable', '2HpTFaPg9hQ9TtmWRktX')\n",
    "query_dict[1.1]"
   ]
  },
  {
   "cell_type": "markdown",
   "metadata": {},
   "source": [
    "## 1.2"
   ]
  },
  {
   "cell_type": "code",
   "execution_count": 8,
   "metadata": {},
   "outputs": [
    {
     "ename": "TokenRetrievalError",
     "evalue": "Error when retrieving token from sso: Token has expired and refresh failed",
     "output_type": "error",
     "traceback": [
      "\u001b[1;31m---------------------------------------------------------------------------\u001b[0m",
      "\u001b[1;31mTokenRetrievalError\u001b[0m                       Traceback (most recent call last)",
      "\u001b[1;32mc:\\Users\\silvh\\OneDrive\\lighthouse\\portfolio-projects\\GHL-chat\\notebooks\\2023-11-12 DynamoDB and LangChain testing.ipynb Cell 9\u001b[0m line \u001b[0;36m2\n\u001b[0;32m     <a href='vscode-notebook-cell:/c%3A/Users/silvh/OneDrive/lighthouse/portfolio-projects/GHL-chat/notebooks/2023-11-12%20DynamoDB%20and%20LangChain%20testing.ipynb#W6sZmlsZQ%3D%3D?line=19'>20</a>\u001b[0m     response \u001b[39m=\u001b[39m table\u001b[39m.\u001b[39mquery(\n\u001b[0;32m     <a href='vscode-notebook-cell:/c%3A/Users/silvh/OneDrive/lighthouse/portfolio-projects/GHL-chat/notebooks/2023-11-12%20DynamoDB%20and%20LangChain%20testing.ipynb#W6sZmlsZQ%3D%3D?line=20'>21</a>\u001b[0m         KeyConditionExpression\u001b[39m=\u001b[39mKey(key)\u001b[39m.\u001b[39meq(value)\n\u001b[0;32m     <a href='vscode-notebook-cell:/c%3A/Users/silvh/OneDrive/lighthouse/portfolio-projects/GHL-chat/notebooks/2023-11-12%20DynamoDB%20and%20LangChain%20testing.ipynb#W6sZmlsZQ%3D%3D?line=21'>22</a>\u001b[0m     )\n\u001b[0;32m     <a href='vscode-notebook-cell:/c%3A/Users/silvh/OneDrive/lighthouse/portfolio-projects/GHL-chat/notebooks/2023-11-12%20DynamoDB%20and%20LangChain%20testing.ipynb#W6sZmlsZQ%3D%3D?line=22'>23</a>\u001b[0m     \u001b[39mreturn\u001b[39;00m response\n\u001b[1;32m---> <a href='vscode-notebook-cell:/c%3A/Users/silvh/OneDrive/lighthouse/portfolio-projects/GHL-chat/notebooks/2023-11-12%20DynamoDB%20and%20LangChain%20testing.ipynb#W6sZmlsZQ%3D%3D?line=24'>25</a>\u001b[0m query_dict[\u001b[39m1.2\u001b[39m] \u001b[39m=\u001b[39m query_dynamodb_table(\u001b[39m'\u001b[39m\u001b[39mSessionTable\u001b[39m\u001b[39m'\u001b[39m, \u001b[39m'\u001b[39m\u001b[39mtest\u001b[39m\u001b[39m'\u001b[39m)\n",
      "\u001b[1;32mc:\\Users\\silvh\\OneDrive\\lighthouse\\portfolio-projects\\GHL-chat\\notebooks\\2023-11-12 DynamoDB and LangChain testing.ipynb Cell 9\u001b[0m line \u001b[0;36m2\n\u001b[0;32m     <a href='vscode-notebook-cell:/c%3A/Users/silvh/OneDrive/lighthouse/portfolio-projects/GHL-chat/notebooks/2023-11-12%20DynamoDB%20and%20LangChain%20testing.ipynb#W6sZmlsZQ%3D%3D?line=17'>18</a>\u001b[0m dynamodb \u001b[39m=\u001b[39m session\u001b[39m.\u001b[39mresource(\u001b[39m'\u001b[39m\u001b[39mdynamodb\u001b[39m\u001b[39m'\u001b[39m, region_name\u001b[39m=\u001b[39mregion_name)\n\u001b[0;32m     <a href='vscode-notebook-cell:/c%3A/Users/silvh/OneDrive/lighthouse/portfolio-projects/GHL-chat/notebooks/2023-11-12%20DynamoDB%20and%20LangChain%20testing.ipynb#W6sZmlsZQ%3D%3D?line=18'>19</a>\u001b[0m table \u001b[39m=\u001b[39m dynamodb\u001b[39m.\u001b[39mTable(table_name)\n\u001b[1;32m---> <a href='vscode-notebook-cell:/c%3A/Users/silvh/OneDrive/lighthouse/portfolio-projects/GHL-chat/notebooks/2023-11-12%20DynamoDB%20and%20LangChain%20testing.ipynb#W6sZmlsZQ%3D%3D?line=19'>20</a>\u001b[0m response \u001b[39m=\u001b[39m table\u001b[39m.\u001b[39mquery(\n\u001b[0;32m     <a href='vscode-notebook-cell:/c%3A/Users/silvh/OneDrive/lighthouse/portfolio-projects/GHL-chat/notebooks/2023-11-12%20DynamoDB%20and%20LangChain%20testing.ipynb#W6sZmlsZQ%3D%3D?line=20'>21</a>\u001b[0m     KeyConditionExpression\u001b[39m=\u001b[39mKey(key)\u001b[39m.\u001b[39meq(value)\n\u001b[0;32m     <a href='vscode-notebook-cell:/c%3A/Users/silvh/OneDrive/lighthouse/portfolio-projects/GHL-chat/notebooks/2023-11-12%20DynamoDB%20and%20LangChain%20testing.ipynb#W6sZmlsZQ%3D%3D?line=21'>22</a>\u001b[0m )\n\u001b[0;32m     <a href='vscode-notebook-cell:/c%3A/Users/silvh/OneDrive/lighthouse/portfolio-projects/GHL-chat/notebooks/2023-11-12%20DynamoDB%20and%20LangChain%20testing.ipynb#W6sZmlsZQ%3D%3D?line=22'>23</a>\u001b[0m \u001b[39mreturn\u001b[39;00m response\n",
      "File \u001b[1;32mc:\\Users\\silvh\\.conda\\envs\\projects\\Lib\\site-packages\\boto3\\resources\\factory.py:580\u001b[0m, in \u001b[0;36mResourceFactory._create_action.<locals>.do_action\u001b[1;34m(self, *args, **kwargs)\u001b[0m\n\u001b[0;32m    579\u001b[0m \u001b[39mdef\u001b[39;00m \u001b[39mdo_action\u001b[39m(\u001b[39mself\u001b[39m, \u001b[39m*\u001b[39margs, \u001b[39m*\u001b[39m\u001b[39m*\u001b[39mkwargs):\n\u001b[1;32m--> 580\u001b[0m     response \u001b[39m=\u001b[39m action(\u001b[39mself\u001b[39m, \u001b[39m*\u001b[39margs, \u001b[39m*\u001b[39m\u001b[39m*\u001b[39mkwargs)\n\u001b[0;32m    582\u001b[0m     \u001b[39mif\u001b[39;00m \u001b[39mhasattr\u001b[39m(\u001b[39mself\u001b[39m, \u001b[39m'\u001b[39m\u001b[39mload\u001b[39m\u001b[39m'\u001b[39m):\n\u001b[0;32m    583\u001b[0m         \u001b[39m# Clear cached data. It will be reloaded the next\u001b[39;00m\n\u001b[0;32m    584\u001b[0m         \u001b[39m# time that an attribute is accessed.\u001b[39;00m\n\u001b[0;32m    585\u001b[0m         \u001b[39m# TODO: Make this configurable in the future?\u001b[39;00m\n\u001b[0;32m    586\u001b[0m         \u001b[39mself\u001b[39m\u001b[39m.\u001b[39mmeta\u001b[39m.\u001b[39mdata \u001b[39m=\u001b[39m \u001b[39mNone\u001b[39;00m\n",
      "File \u001b[1;32mc:\\Users\\silvh\\.conda\\envs\\projects\\Lib\\site-packages\\boto3\\resources\\action.py:88\u001b[0m, in \u001b[0;36mServiceAction.__call__\u001b[1;34m(self, parent, *args, **kwargs)\u001b[0m\n\u001b[0;32m     79\u001b[0m params\u001b[39m.\u001b[39mupdate(kwargs)\n\u001b[0;32m     81\u001b[0m logger\u001b[39m.\u001b[39mdebug(\n\u001b[0;32m     82\u001b[0m     \u001b[39m'\u001b[39m\u001b[39mCalling \u001b[39m\u001b[39m%s\u001b[39;00m\u001b[39m:\u001b[39m\u001b[39m%s\u001b[39;00m\u001b[39m with \u001b[39m\u001b[39m%r\u001b[39;00m\u001b[39m'\u001b[39m,\n\u001b[0;32m     83\u001b[0m     parent\u001b[39m.\u001b[39mmeta\u001b[39m.\u001b[39mservice_name,\n\u001b[0;32m     84\u001b[0m     operation_name,\n\u001b[0;32m     85\u001b[0m     params,\n\u001b[0;32m     86\u001b[0m )\n\u001b[1;32m---> 88\u001b[0m response \u001b[39m=\u001b[39m \u001b[39mgetattr\u001b[39m(parent\u001b[39m.\u001b[39mmeta\u001b[39m.\u001b[39mclient, operation_name)(\u001b[39m*\u001b[39margs, \u001b[39m*\u001b[39m\u001b[39m*\u001b[39mparams)\n\u001b[0;32m     90\u001b[0m logger\u001b[39m.\u001b[39mdebug(\u001b[39m'\u001b[39m\u001b[39mResponse: \u001b[39m\u001b[39m%r\u001b[39;00m\u001b[39m'\u001b[39m, response)\n\u001b[0;32m     92\u001b[0m \u001b[39mreturn\u001b[39;00m \u001b[39mself\u001b[39m\u001b[39m.\u001b[39m_response_handler(parent, params, response)\n",
      "File \u001b[1;32mc:\\Users\\silvh\\.conda\\envs\\projects\\Lib\\site-packages\\botocore\\client.py:535\u001b[0m, in \u001b[0;36mClientCreator._create_api_method.<locals>._api_call\u001b[1;34m(self, *args, **kwargs)\u001b[0m\n\u001b[0;32m    531\u001b[0m     \u001b[39mraise\u001b[39;00m \u001b[39mTypeError\u001b[39;00m(\n\u001b[0;32m    532\u001b[0m         \u001b[39mf\u001b[39m\u001b[39m\"\u001b[39m\u001b[39m{\u001b[39;00mpy_operation_name\u001b[39m}\u001b[39;00m\u001b[39m() only accepts keyword arguments.\u001b[39m\u001b[39m\"\u001b[39m\n\u001b[0;32m    533\u001b[0m     )\n\u001b[0;32m    534\u001b[0m \u001b[39m# The \"self\" in this scope is referring to the BaseClient.\u001b[39;00m\n\u001b[1;32m--> 535\u001b[0m \u001b[39mreturn\u001b[39;00m \u001b[39mself\u001b[39m\u001b[39m.\u001b[39m_make_api_call(operation_name, kwargs)\n",
      "File \u001b[1;32mc:\\Users\\silvh\\.conda\\envs\\projects\\Lib\\site-packages\\botocore\\client.py:963\u001b[0m, in \u001b[0;36mBaseClient._make_api_call\u001b[1;34m(self, operation_name, api_params)\u001b[0m\n\u001b[0;32m    959\u001b[0m     maybe_compress_request(\n\u001b[0;32m    960\u001b[0m         \u001b[39mself\u001b[39m\u001b[39m.\u001b[39mmeta\u001b[39m.\u001b[39mconfig, request_dict, operation_model\n\u001b[0;32m    961\u001b[0m     )\n\u001b[0;32m    962\u001b[0m     apply_request_checksum(request_dict)\n\u001b[1;32m--> 963\u001b[0m     http, parsed_response \u001b[39m=\u001b[39m \u001b[39mself\u001b[39m\u001b[39m.\u001b[39m_make_request(\n\u001b[0;32m    964\u001b[0m         operation_model, request_dict, request_context\n\u001b[0;32m    965\u001b[0m     )\n\u001b[0;32m    967\u001b[0m \u001b[39mself\u001b[39m\u001b[39m.\u001b[39mmeta\u001b[39m.\u001b[39mevents\u001b[39m.\u001b[39memit(\n\u001b[0;32m    968\u001b[0m     \u001b[39m'\u001b[39m\u001b[39mafter-call.\u001b[39m\u001b[39m{service_id}\u001b[39;00m\u001b[39m.\u001b[39m\u001b[39m{operation_name}\u001b[39;00m\u001b[39m'\u001b[39m\u001b[39m.\u001b[39mformat(\n\u001b[0;32m    969\u001b[0m         service_id\u001b[39m=\u001b[39mservice_id, operation_name\u001b[39m=\u001b[39moperation_name\n\u001b[1;32m   (...)\u001b[0m\n\u001b[0;32m    974\u001b[0m     context\u001b[39m=\u001b[39mrequest_context,\n\u001b[0;32m    975\u001b[0m )\n\u001b[0;32m    977\u001b[0m \u001b[39mif\u001b[39;00m http\u001b[39m.\u001b[39mstatus_code \u001b[39m>\u001b[39m\u001b[39m=\u001b[39m \u001b[39m300\u001b[39m:\n",
      "File \u001b[1;32mc:\\Users\\silvh\\.conda\\envs\\projects\\Lib\\site-packages\\botocore\\client.py:986\u001b[0m, in \u001b[0;36mBaseClient._make_request\u001b[1;34m(self, operation_model, request_dict, request_context)\u001b[0m\n\u001b[0;32m    984\u001b[0m \u001b[39mdef\u001b[39;00m \u001b[39m_make_request\u001b[39m(\u001b[39mself\u001b[39m, operation_model, request_dict, request_context):\n\u001b[0;32m    985\u001b[0m     \u001b[39mtry\u001b[39;00m:\n\u001b[1;32m--> 986\u001b[0m         \u001b[39mreturn\u001b[39;00m \u001b[39mself\u001b[39m\u001b[39m.\u001b[39m_endpoint\u001b[39m.\u001b[39mmake_request(operation_model, request_dict)\n\u001b[0;32m    987\u001b[0m     \u001b[39mexcept\u001b[39;00m \u001b[39mException\u001b[39;00m \u001b[39mas\u001b[39;00m e:\n\u001b[0;32m    988\u001b[0m         \u001b[39mself\u001b[39m\u001b[39m.\u001b[39mmeta\u001b[39m.\u001b[39mevents\u001b[39m.\u001b[39memit(\n\u001b[0;32m    989\u001b[0m             \u001b[39m'\u001b[39m\u001b[39mafter-call-error.\u001b[39m\u001b[39m{service_id}\u001b[39;00m\u001b[39m.\u001b[39m\u001b[39m{operation_name}\u001b[39;00m\u001b[39m'\u001b[39m\u001b[39m.\u001b[39mformat(\n\u001b[0;32m    990\u001b[0m                 service_id\u001b[39m=\u001b[39m\u001b[39mself\u001b[39m\u001b[39m.\u001b[39m_service_model\u001b[39m.\u001b[39mservice_id\u001b[39m.\u001b[39mhyphenize(),\n\u001b[1;32m   (...)\u001b[0m\n\u001b[0;32m    994\u001b[0m             context\u001b[39m=\u001b[39mrequest_context,\n\u001b[0;32m    995\u001b[0m         )\n",
      "File \u001b[1;32mc:\\Users\\silvh\\.conda\\envs\\projects\\Lib\\site-packages\\botocore\\endpoint.py:119\u001b[0m, in \u001b[0;36mEndpoint.make_request\u001b[1;34m(self, operation_model, request_dict)\u001b[0m\n\u001b[0;32m    113\u001b[0m \u001b[39mdef\u001b[39;00m \u001b[39mmake_request\u001b[39m(\u001b[39mself\u001b[39m, operation_model, request_dict):\n\u001b[0;32m    114\u001b[0m     logger\u001b[39m.\u001b[39mdebug(\n\u001b[0;32m    115\u001b[0m         \u001b[39m\"\u001b[39m\u001b[39mMaking request for \u001b[39m\u001b[39m%s\u001b[39;00m\u001b[39m with params: \u001b[39m\u001b[39m%s\u001b[39;00m\u001b[39m\"\u001b[39m,\n\u001b[0;32m    116\u001b[0m         operation_model,\n\u001b[0;32m    117\u001b[0m         request_dict,\n\u001b[0;32m    118\u001b[0m     )\n\u001b[1;32m--> 119\u001b[0m     \u001b[39mreturn\u001b[39;00m \u001b[39mself\u001b[39m\u001b[39m.\u001b[39m_send_request(request_dict, operation_model)\n",
      "File \u001b[1;32mc:\\Users\\silvh\\.conda\\envs\\projects\\Lib\\site-packages\\botocore\\endpoint.py:198\u001b[0m, in \u001b[0;36mEndpoint._send_request\u001b[1;34m(self, request_dict, operation_model)\u001b[0m\n\u001b[0;32m    196\u001b[0m context \u001b[39m=\u001b[39m request_dict[\u001b[39m'\u001b[39m\u001b[39mcontext\u001b[39m\u001b[39m'\u001b[39m]\n\u001b[0;32m    197\u001b[0m \u001b[39mself\u001b[39m\u001b[39m.\u001b[39m_update_retries_context(context, attempts)\n\u001b[1;32m--> 198\u001b[0m request \u001b[39m=\u001b[39m \u001b[39mself\u001b[39m\u001b[39m.\u001b[39mcreate_request(request_dict, operation_model)\n\u001b[0;32m    199\u001b[0m success_response, exception \u001b[39m=\u001b[39m \u001b[39mself\u001b[39m\u001b[39m.\u001b[39m_get_response(\n\u001b[0;32m    200\u001b[0m     request, operation_model, context\n\u001b[0;32m    201\u001b[0m )\n\u001b[0;32m    202\u001b[0m \u001b[39mwhile\u001b[39;00m \u001b[39mself\u001b[39m\u001b[39m.\u001b[39m_needs_retry(\n\u001b[0;32m    203\u001b[0m     attempts,\n\u001b[0;32m    204\u001b[0m     operation_model,\n\u001b[1;32m   (...)\u001b[0m\n\u001b[0;32m    207\u001b[0m     exception,\n\u001b[0;32m    208\u001b[0m ):\n",
      "File \u001b[1;32mc:\\Users\\silvh\\.conda\\envs\\projects\\Lib\\site-packages\\botocore\\endpoint.py:134\u001b[0m, in \u001b[0;36mEndpoint.create_request\u001b[1;34m(self, params, operation_model)\u001b[0m\n\u001b[0;32m    130\u001b[0m     service_id \u001b[39m=\u001b[39m operation_model\u001b[39m.\u001b[39mservice_model\u001b[39m.\u001b[39mservice_id\u001b[39m.\u001b[39mhyphenize()\n\u001b[0;32m    131\u001b[0m     event_name \u001b[39m=\u001b[39m \u001b[39m'\u001b[39m\u001b[39mrequest-created.\u001b[39m\u001b[39m{service_id}\u001b[39;00m\u001b[39m.\u001b[39m\u001b[39m{op_name}\u001b[39;00m\u001b[39m'\u001b[39m\u001b[39m.\u001b[39mformat(\n\u001b[0;32m    132\u001b[0m         service_id\u001b[39m=\u001b[39mservice_id, op_name\u001b[39m=\u001b[39moperation_model\u001b[39m.\u001b[39mname\n\u001b[0;32m    133\u001b[0m     )\n\u001b[1;32m--> 134\u001b[0m     \u001b[39mself\u001b[39m\u001b[39m.\u001b[39m_event_emitter\u001b[39m.\u001b[39memit(\n\u001b[0;32m    135\u001b[0m         event_name,\n\u001b[0;32m    136\u001b[0m         request\u001b[39m=\u001b[39mrequest,\n\u001b[0;32m    137\u001b[0m         operation_name\u001b[39m=\u001b[39moperation_model\u001b[39m.\u001b[39mname,\n\u001b[0;32m    138\u001b[0m     )\n\u001b[0;32m    139\u001b[0m prepared_request \u001b[39m=\u001b[39m \u001b[39mself\u001b[39m\u001b[39m.\u001b[39mprepare_request(request)\n\u001b[0;32m    140\u001b[0m \u001b[39mreturn\u001b[39;00m prepared_request\n",
      "File \u001b[1;32mc:\\Users\\silvh\\.conda\\envs\\projects\\Lib\\site-packages\\botocore\\hooks.py:412\u001b[0m, in \u001b[0;36mEventAliaser.emit\u001b[1;34m(self, event_name, **kwargs)\u001b[0m\n\u001b[0;32m    410\u001b[0m \u001b[39mdef\u001b[39;00m \u001b[39memit\u001b[39m(\u001b[39mself\u001b[39m, event_name, \u001b[39m*\u001b[39m\u001b[39m*\u001b[39mkwargs):\n\u001b[0;32m    411\u001b[0m     aliased_event_name \u001b[39m=\u001b[39m \u001b[39mself\u001b[39m\u001b[39m.\u001b[39m_alias_event_name(event_name)\n\u001b[1;32m--> 412\u001b[0m     \u001b[39mreturn\u001b[39;00m \u001b[39mself\u001b[39m\u001b[39m.\u001b[39m_emitter\u001b[39m.\u001b[39memit(aliased_event_name, \u001b[39m*\u001b[39m\u001b[39m*\u001b[39mkwargs)\n",
      "File \u001b[1;32mc:\\Users\\silvh\\.conda\\envs\\projects\\Lib\\site-packages\\botocore\\hooks.py:256\u001b[0m, in \u001b[0;36mHierarchicalEmitter.emit\u001b[1;34m(self, event_name, **kwargs)\u001b[0m\n\u001b[0;32m    245\u001b[0m \u001b[39mdef\u001b[39;00m \u001b[39memit\u001b[39m(\u001b[39mself\u001b[39m, event_name, \u001b[39m*\u001b[39m\u001b[39m*\u001b[39mkwargs):\n\u001b[0;32m    246\u001b[0m \u001b[39m    \u001b[39m\u001b[39m\"\"\"\u001b[39;00m\n\u001b[0;32m    247\u001b[0m \u001b[39m    Emit an event by name with arguments passed as keyword args.\u001b[39;00m\n\u001b[0;32m    248\u001b[0m \n\u001b[1;32m   (...)\u001b[0m\n\u001b[0;32m    254\u001b[0m \u001b[39m             handlers.\u001b[39;00m\n\u001b[0;32m    255\u001b[0m \u001b[39m    \"\"\"\u001b[39;00m\n\u001b[1;32m--> 256\u001b[0m     \u001b[39mreturn\u001b[39;00m \u001b[39mself\u001b[39m\u001b[39m.\u001b[39m_emit(event_name, kwargs)\n",
      "File \u001b[1;32mc:\\Users\\silvh\\.conda\\envs\\projects\\Lib\\site-packages\\botocore\\hooks.py:239\u001b[0m, in \u001b[0;36mHierarchicalEmitter._emit\u001b[1;34m(self, event_name, kwargs, stop_on_response)\u001b[0m\n\u001b[0;32m    237\u001b[0m \u001b[39mfor\u001b[39;00m handler \u001b[39min\u001b[39;00m handlers_to_call:\n\u001b[0;32m    238\u001b[0m     logger\u001b[39m.\u001b[39mdebug(\u001b[39m'\u001b[39m\u001b[39mEvent \u001b[39m\u001b[39m%s\u001b[39;00m\u001b[39m: calling handler \u001b[39m\u001b[39m%s\u001b[39;00m\u001b[39m'\u001b[39m, event_name, handler)\n\u001b[1;32m--> 239\u001b[0m     response \u001b[39m=\u001b[39m handler(\u001b[39m*\u001b[39m\u001b[39m*\u001b[39mkwargs)\n\u001b[0;32m    240\u001b[0m     responses\u001b[39m.\u001b[39mappend((handler, response))\n\u001b[0;32m    241\u001b[0m     \u001b[39mif\u001b[39;00m stop_on_response \u001b[39mand\u001b[39;00m response \u001b[39mis\u001b[39;00m \u001b[39mnot\u001b[39;00m \u001b[39mNone\u001b[39;00m:\n",
      "File \u001b[1;32mc:\\Users\\silvh\\.conda\\envs\\projects\\Lib\\site-packages\\botocore\\signers.py:105\u001b[0m, in \u001b[0;36mRequestSigner.handler\u001b[1;34m(self, operation_name, request, **kwargs)\u001b[0m\n\u001b[0;32m    100\u001b[0m \u001b[39mdef\u001b[39;00m \u001b[39mhandler\u001b[39m(\u001b[39mself\u001b[39m, operation_name\u001b[39m=\u001b[39m\u001b[39mNone\u001b[39;00m, request\u001b[39m=\u001b[39m\u001b[39mNone\u001b[39;00m, \u001b[39m*\u001b[39m\u001b[39m*\u001b[39mkwargs):\n\u001b[0;32m    101\u001b[0m     \u001b[39m# This is typically hooked up to the \"request-created\" event\u001b[39;00m\n\u001b[0;32m    102\u001b[0m     \u001b[39m# from a client's event emitter.  When a new request is created\u001b[39;00m\n\u001b[0;32m    103\u001b[0m     \u001b[39m# this method is invoked to sign the request.\u001b[39;00m\n\u001b[0;32m    104\u001b[0m     \u001b[39m# Don't call this method directly.\u001b[39;00m\n\u001b[1;32m--> 105\u001b[0m     \u001b[39mreturn\u001b[39;00m \u001b[39mself\u001b[39m\u001b[39m.\u001b[39msign(operation_name, request)\n",
      "File \u001b[1;32mc:\\Users\\silvh\\.conda\\envs\\projects\\Lib\\site-packages\\botocore\\signers.py:180\u001b[0m, in \u001b[0;36mRequestSigner.sign\u001b[1;34m(self, operation_name, request, region_name, signing_type, expires_in, signing_name)\u001b[0m\n\u001b[0;32m    178\u001b[0m     kwargs[\u001b[39m'\u001b[39m\u001b[39msigning_name\u001b[39m\u001b[39m'\u001b[39m] \u001b[39m=\u001b[39m signing_context[\u001b[39m'\u001b[39m\u001b[39msigning_name\u001b[39m\u001b[39m'\u001b[39m]\n\u001b[0;32m    179\u001b[0m \u001b[39mtry\u001b[39;00m:\n\u001b[1;32m--> 180\u001b[0m     auth \u001b[39m=\u001b[39m \u001b[39mself\u001b[39m\u001b[39m.\u001b[39mget_auth_instance(\u001b[39m*\u001b[39m\u001b[39m*\u001b[39mkwargs)\n\u001b[0;32m    181\u001b[0m \u001b[39mexcept\u001b[39;00m UnknownSignatureVersionError \u001b[39mas\u001b[39;00m e:\n\u001b[0;32m    182\u001b[0m     \u001b[39mif\u001b[39;00m signing_type \u001b[39m!=\u001b[39m \u001b[39m'\u001b[39m\u001b[39mstandard\u001b[39m\u001b[39m'\u001b[39m:\n",
      "File \u001b[1;32mc:\\Users\\silvh\\.conda\\envs\\projects\\Lib\\site-packages\\botocore\\signers.py:284\u001b[0m, in \u001b[0;36mRequestSigner.get_auth_instance\u001b[1;34m(self, signing_name, region_name, signature_version, **kwargs)\u001b[0m\n\u001b[0;32m    282\u001b[0m frozen_credentials \u001b[39m=\u001b[39m \u001b[39mNone\u001b[39;00m\n\u001b[0;32m    283\u001b[0m \u001b[39mif\u001b[39;00m \u001b[39mself\u001b[39m\u001b[39m.\u001b[39m_credentials \u001b[39mis\u001b[39;00m \u001b[39mnot\u001b[39;00m \u001b[39mNone\u001b[39;00m:\n\u001b[1;32m--> 284\u001b[0m     frozen_credentials \u001b[39m=\u001b[39m \u001b[39mself\u001b[39m\u001b[39m.\u001b[39m_credentials\u001b[39m.\u001b[39mget_frozen_credentials()\n\u001b[0;32m    285\u001b[0m kwargs[\u001b[39m'\u001b[39m\u001b[39mcredentials\u001b[39m\u001b[39m'\u001b[39m] \u001b[39m=\u001b[39m frozen_credentials\n\u001b[0;32m    286\u001b[0m \u001b[39mif\u001b[39;00m \u001b[39mcls\u001b[39m\u001b[39m.\u001b[39mREQUIRES_REGION:\n",
      "File \u001b[1;32mc:\\Users\\silvh\\.conda\\envs\\projects\\Lib\\site-packages\\botocore\\credentials.py:611\u001b[0m, in \u001b[0;36mRefreshableCredentials.get_frozen_credentials\u001b[1;34m(self)\u001b[0m\n\u001b[0;32m    577\u001b[0m \u001b[39mdef\u001b[39;00m \u001b[39mget_frozen_credentials\u001b[39m(\u001b[39mself\u001b[39m):\n\u001b[0;32m    578\u001b[0m \u001b[39m    \u001b[39m\u001b[39m\"\"\"Return immutable credentials.\u001b[39;00m\n\u001b[0;32m    579\u001b[0m \n\u001b[0;32m    580\u001b[0m \u001b[39m    The ``access_key``, ``secret_key``, and ``token`` properties\u001b[39;00m\n\u001b[1;32m   (...)\u001b[0m\n\u001b[0;32m    609\u001b[0m \n\u001b[0;32m    610\u001b[0m \u001b[39m    \"\"\"\u001b[39;00m\n\u001b[1;32m--> 611\u001b[0m     \u001b[39mself\u001b[39m\u001b[39m.\u001b[39m_refresh()\n\u001b[0;32m    612\u001b[0m     \u001b[39mreturn\u001b[39;00m \u001b[39mself\u001b[39m\u001b[39m.\u001b[39m_frozen_credentials\n",
      "File \u001b[1;32mc:\\Users\\silvh\\.conda\\envs\\projects\\Lib\\site-packages\\botocore\\credentials.py:499\u001b[0m, in \u001b[0;36mRefreshableCredentials._refresh\u001b[1;34m(self)\u001b[0m\n\u001b[0;32m    495\u001b[0m         \u001b[39mreturn\u001b[39;00m\n\u001b[0;32m    496\u001b[0m     is_mandatory_refresh \u001b[39m=\u001b[39m \u001b[39mself\u001b[39m\u001b[39m.\u001b[39mrefresh_needed(\n\u001b[0;32m    497\u001b[0m         \u001b[39mself\u001b[39m\u001b[39m.\u001b[39m_mandatory_refresh_timeout\n\u001b[0;32m    498\u001b[0m     )\n\u001b[1;32m--> 499\u001b[0m     \u001b[39mself\u001b[39m\u001b[39m.\u001b[39m_protected_refresh(is_mandatory\u001b[39m=\u001b[39mis_mandatory_refresh)\n\u001b[0;32m    500\u001b[0m     \u001b[39mreturn\u001b[39;00m\n\u001b[0;32m    501\u001b[0m \u001b[39mfinally\u001b[39;00m:\n",
      "File \u001b[1;32mc:\\Users\\silvh\\.conda\\envs\\projects\\Lib\\site-packages\\botocore\\credentials.py:515\u001b[0m, in \u001b[0;36mRefreshableCredentials._protected_refresh\u001b[1;34m(self, is_mandatory)\u001b[0m\n\u001b[0;32m    511\u001b[0m \u001b[39mdef\u001b[39;00m \u001b[39m_protected_refresh\u001b[39m(\u001b[39mself\u001b[39m, is_mandatory):\n\u001b[0;32m    512\u001b[0m     \u001b[39m# precondition: this method should only be called if you've acquired\u001b[39;00m\n\u001b[0;32m    513\u001b[0m     \u001b[39m# the self._refresh_lock.\u001b[39;00m\n\u001b[0;32m    514\u001b[0m     \u001b[39mtry\u001b[39;00m:\n\u001b[1;32m--> 515\u001b[0m         metadata \u001b[39m=\u001b[39m \u001b[39mself\u001b[39m\u001b[39m.\u001b[39m_refresh_using()\n\u001b[0;32m    516\u001b[0m     \u001b[39mexcept\u001b[39;00m \u001b[39mException\u001b[39;00m:\n\u001b[0;32m    517\u001b[0m         period_name \u001b[39m=\u001b[39m \u001b[39m'\u001b[39m\u001b[39mmandatory\u001b[39m\u001b[39m'\u001b[39m \u001b[39mif\u001b[39;00m is_mandatory \u001b[39melse\u001b[39;00m \u001b[39m'\u001b[39m\u001b[39madvisory\u001b[39m\u001b[39m'\u001b[39m\n",
      "File \u001b[1;32mc:\\Users\\silvh\\.conda\\envs\\projects\\Lib\\site-packages\\botocore\\credentials.py:662\u001b[0m, in \u001b[0;36mCachedCredentialFetcher.fetch_credentials\u001b[1;34m(self)\u001b[0m\n\u001b[0;32m    661\u001b[0m \u001b[39mdef\u001b[39;00m \u001b[39mfetch_credentials\u001b[39m(\u001b[39mself\u001b[39m):\n\u001b[1;32m--> 662\u001b[0m     \u001b[39mreturn\u001b[39;00m \u001b[39mself\u001b[39m\u001b[39m.\u001b[39m_get_cached_credentials()\n",
      "File \u001b[1;32mc:\\Users\\silvh\\.conda\\envs\\projects\\Lib\\site-packages\\botocore\\credentials.py:672\u001b[0m, in \u001b[0;36mCachedCredentialFetcher._get_cached_credentials\u001b[1;34m(self)\u001b[0m\n\u001b[0;32m    670\u001b[0m response \u001b[39m=\u001b[39m \u001b[39mself\u001b[39m\u001b[39m.\u001b[39m_load_from_cache()\n\u001b[0;32m    671\u001b[0m \u001b[39mif\u001b[39;00m response \u001b[39mis\u001b[39;00m \u001b[39mNone\u001b[39;00m:\n\u001b[1;32m--> 672\u001b[0m     response \u001b[39m=\u001b[39m \u001b[39mself\u001b[39m\u001b[39m.\u001b[39m_get_credentials()\n\u001b[0;32m    673\u001b[0m     \u001b[39mself\u001b[39m\u001b[39m.\u001b[39m_write_to_cache(response)\n\u001b[0;32m    674\u001b[0m \u001b[39melse\u001b[39;00m:\n",
      "File \u001b[1;32mc:\\Users\\silvh\\.conda\\envs\\projects\\Lib\\site-packages\\botocore\\credentials.py:2115\u001b[0m, in \u001b[0;36mSSOCredentialFetcher._get_credentials\u001b[1;34m(self)\u001b[0m\n\u001b[0;32m   2113\u001b[0m \u001b[39mif\u001b[39;00m \u001b[39mself\u001b[39m\u001b[39m.\u001b[39m_token_provider:\n\u001b[0;32m   2114\u001b[0m     initial_token_data \u001b[39m=\u001b[39m \u001b[39mself\u001b[39m\u001b[39m.\u001b[39m_token_provider\u001b[39m.\u001b[39mload_token()\n\u001b[1;32m-> 2115\u001b[0m     token \u001b[39m=\u001b[39m initial_token_data\u001b[39m.\u001b[39mget_frozen_token()\u001b[39m.\u001b[39mtoken\n\u001b[0;32m   2116\u001b[0m \u001b[39melse\u001b[39;00m:\n\u001b[0;32m   2117\u001b[0m     token \u001b[39m=\u001b[39m \u001b[39mself\u001b[39m\u001b[39m.\u001b[39m_token_loader(\u001b[39mself\u001b[39m\u001b[39m.\u001b[39m_start_url)[\u001b[39m'\u001b[39m\u001b[39maccessToken\u001b[39m\u001b[39m'\u001b[39m]\n",
      "File \u001b[1;32mc:\\Users\\silvh\\.conda\\envs\\projects\\Lib\\site-packages\\botocore\\tokens.py:82\u001b[0m, in \u001b[0;36mDeferredRefreshableToken.get_frozen_token\u001b[1;34m(self)\u001b[0m\n\u001b[0;32m     81\u001b[0m \u001b[39mdef\u001b[39;00m \u001b[39mget_frozen_token\u001b[39m(\u001b[39mself\u001b[39m):\n\u001b[1;32m---> 82\u001b[0m     \u001b[39mself\u001b[39m\u001b[39m.\u001b[39m_refresh()\n\u001b[0;32m     83\u001b[0m     \u001b[39mreturn\u001b[39;00m \u001b[39mself\u001b[39m\u001b[39m.\u001b[39m_frozen_token\n",
      "File \u001b[1;32mc:\\Users\\silvh\\.conda\\envs\\projects\\Lib\\site-packages\\botocore\\tokens.py:95\u001b[0m, in \u001b[0;36mDeferredRefreshableToken._refresh\u001b[1;34m(self)\u001b[0m\n\u001b[0;32m     93\u001b[0m \u001b[39mif\u001b[39;00m \u001b[39mself\u001b[39m\u001b[39m.\u001b[39m_refresh_lock\u001b[39m.\u001b[39macquire(block_for_refresh):\n\u001b[0;32m     94\u001b[0m     \u001b[39mtry\u001b[39;00m:\n\u001b[1;32m---> 95\u001b[0m         \u001b[39mself\u001b[39m\u001b[39m.\u001b[39m_protected_refresh()\n\u001b[0;32m     96\u001b[0m     \u001b[39mfinally\u001b[39;00m:\n\u001b[0;32m     97\u001b[0m         \u001b[39mself\u001b[39m\u001b[39m.\u001b[39m_refresh_lock\u001b[39m.\u001b[39mrelease()\n",
      "File \u001b[1;32mc:\\Users\\silvh\\.conda\\envs\\projects\\Lib\\site-packages\\botocore\\tokens.py:122\u001b[0m, in \u001b[0;36mDeferredRefreshableToken._protected_refresh\u001b[1;34m(self)\u001b[0m\n\u001b[0;32m    118\u001b[0m         \u001b[39mraise\u001b[39;00m\n\u001b[0;32m    120\u001b[0m \u001b[39mif\u001b[39;00m \u001b[39mself\u001b[39m\u001b[39m.\u001b[39m_is_expired():\n\u001b[0;32m    121\u001b[0m     \u001b[39m# Fresh credentials should never be expired\u001b[39;00m\n\u001b[1;32m--> 122\u001b[0m     \u001b[39mraise\u001b[39;00m TokenRetrievalError(\n\u001b[0;32m    123\u001b[0m         provider\u001b[39m=\u001b[39m\u001b[39mself\u001b[39m\u001b[39m.\u001b[39mmethod,\n\u001b[0;32m    124\u001b[0m         error_msg\u001b[39m=\u001b[39m\u001b[39m\"\u001b[39m\u001b[39mToken has expired and refresh failed\u001b[39m\u001b[39m\"\u001b[39m,\n\u001b[0;32m    125\u001b[0m     )\n",
      "\u001b[1;31mTokenRetrievalError\u001b[0m: Error when retrieving token from sso: Token has expired and refresh failed"
     ]
    }
   ],
   "source": [
    "import boto3\n",
    "from boto3.dynamodb.conditions import Key\n",
    "\n",
    "def query_dynamodb_table(table_name, value, key='SessionId', profile='mcgill', region_name=\"us-west-2\"):\n",
    "    \"\"\"\n",
    "    Query a Dynamodb table and print the results.\n",
    "    Parameters:\n",
    "        table_name (str): The name of the DynamoDB table.\n",
    "        value (str): The value of the key.\n",
    "        key (str): The name of the key.\n",
    "        region_name (str): The name of the AWS region.\n",
    "\n",
    "    Returns:\n",
    "        dict: The results of the query. The 'Items' key contains the table record.       \n",
    "    From 2023-10-22 notebook.\n",
    "    \"\"\"\n",
    "    session = boto3.Session(profile_name=profile)\n",
    "    dynamodb = session.resource('dynamodb', region_name=region_name)\n",
    "    table = dynamodb.Table(table_name)\n",
    "    response = table.query(\n",
    "        KeyConditionExpression=Key(key).eq(value)\n",
    "    )\n",
    "    return response\n",
    "\n",
    "query_dict[1.2] = query_dynamodb_table('SessionTable', 'test')"
   ]
  },
  {
   "cell_type": "markdown",
   "metadata": {},
   "source": [
    "## 1.3"
   ]
  },
  {
   "cell_type": "code",
   "execution_count": 2,
   "metadata": {},
   "outputs": [
    {
     "ename": "TokenRetrievalError",
     "evalue": "Error when retrieving token from sso: Token has expired and refresh failed",
     "output_type": "error",
     "traceback": [
      "\u001b[1;31m---------------------------------------------------------------------------\u001b[0m",
      "\u001b[1;31mTokenRetrievalError\u001b[0m                       Traceback (most recent call last)",
      "\u001b[1;32mc:\\Users\\silvh\\OneDrive\\lighthouse\\portfolio-projects\\GHL-chat\\notebooks\\2023-11-12 DynamoDB and LangChain testing.ipynb Cell 11\u001b[0m line \u001b[0;36m2\n\u001b[0;32m     <a href='vscode-notebook-cell:/c%3A/Users/silvh/OneDrive/lighthouse/portfolio-projects/GHL-chat/notebooks/2023-11-12%20DynamoDB%20and%20LangChain%20testing.ipynb#X45sZmlsZQ%3D%3D?line=22'>23</a>\u001b[0m     \u001b[39mreturn\u001b[39;00m response\n\u001b[0;32m     <a href='vscode-notebook-cell:/c%3A/Users/silvh/OneDrive/lighthouse/portfolio-projects/GHL-chat/notebooks/2023-11-12%20DynamoDB%20and%20LangChain%20testing.ipynb#X45sZmlsZQ%3D%3D?line=24'>25</a>\u001b[0m iteration \u001b[39m=\u001b[39m \u001b[39m1.3\u001b[39m\n\u001b[1;32m---> <a href='vscode-notebook-cell:/c%3A/Users/silvh/OneDrive/lighthouse/portfolio-projects/GHL-chat/notebooks/2023-11-12%20DynamoDB%20and%20LangChain%20testing.ipynb#X45sZmlsZQ%3D%3D?line=25'>26</a>\u001b[0m query_dict[iteration] \u001b[39m=\u001b[39m query_dynamodb_table(\u001b[39m'\u001b[39m\u001b[39mSessionTable\u001b[39m\u001b[39m'\u001b[39m, \u001b[39m'\u001b[39m\u001b[39mtest\u001b[39m\u001b[39m'\u001b[39m)\n\u001b[0;32m     <a href='vscode-notebook-cell:/c%3A/Users/silvh/OneDrive/lighthouse/portfolio-projects/GHL-chat/notebooks/2023-11-12%20DynamoDB%20and%20LangChain%20testing.ipynb#X45sZmlsZQ%3D%3D?line=26'>27</a>\u001b[0m query_dict[iteration]\n",
      "\u001b[1;32mc:\\Users\\silvh\\OneDrive\\lighthouse\\portfolio-projects\\GHL-chat\\notebooks\\2023-11-12 DynamoDB and LangChain testing.ipynb Cell 11\u001b[0m line \u001b[0;36m2\n\u001b[0;32m     <a href='vscode-notebook-cell:/c%3A/Users/silvh/OneDrive/lighthouse/portfolio-projects/GHL-chat/notebooks/2023-11-12%20DynamoDB%20and%20LangChain%20testing.ipynb#X45sZmlsZQ%3D%3D?line=17'>18</a>\u001b[0m dynamodb \u001b[39m=\u001b[39m session\u001b[39m.\u001b[39mresource(\u001b[39m'\u001b[39m\u001b[39mdynamodb\u001b[39m\u001b[39m'\u001b[39m, region_name\u001b[39m=\u001b[39mregion_name)\n\u001b[0;32m     <a href='vscode-notebook-cell:/c%3A/Users/silvh/OneDrive/lighthouse/portfolio-projects/GHL-chat/notebooks/2023-11-12%20DynamoDB%20and%20LangChain%20testing.ipynb#X45sZmlsZQ%3D%3D?line=18'>19</a>\u001b[0m table \u001b[39m=\u001b[39m dynamodb\u001b[39m.\u001b[39mTable(table_name)\n\u001b[1;32m---> <a href='vscode-notebook-cell:/c%3A/Users/silvh/OneDrive/lighthouse/portfolio-projects/GHL-chat/notebooks/2023-11-12%20DynamoDB%20and%20LangChain%20testing.ipynb#X45sZmlsZQ%3D%3D?line=19'>20</a>\u001b[0m response \u001b[39m=\u001b[39m table\u001b[39m.\u001b[39mquery(\n\u001b[0;32m     <a href='vscode-notebook-cell:/c%3A/Users/silvh/OneDrive/lighthouse/portfolio-projects/GHL-chat/notebooks/2023-11-12%20DynamoDB%20and%20LangChain%20testing.ipynb#X45sZmlsZQ%3D%3D?line=20'>21</a>\u001b[0m     KeyConditionExpression\u001b[39m=\u001b[39mKey(key)\u001b[39m.\u001b[39meq(value)\n\u001b[0;32m     <a href='vscode-notebook-cell:/c%3A/Users/silvh/OneDrive/lighthouse/portfolio-projects/GHL-chat/notebooks/2023-11-12%20DynamoDB%20and%20LangChain%20testing.ipynb#X45sZmlsZQ%3D%3D?line=21'>22</a>\u001b[0m )\n\u001b[0;32m     <a href='vscode-notebook-cell:/c%3A/Users/silvh/OneDrive/lighthouse/portfolio-projects/GHL-chat/notebooks/2023-11-12%20DynamoDB%20and%20LangChain%20testing.ipynb#X45sZmlsZQ%3D%3D?line=22'>23</a>\u001b[0m \u001b[39mreturn\u001b[39;00m response\n",
      "File \u001b[1;32mc:\\Users\\silvh\\.conda\\envs\\projects\\Lib\\site-packages\\boto3\\resources\\factory.py:580\u001b[0m, in \u001b[0;36mResourceFactory._create_action.<locals>.do_action\u001b[1;34m(self, *args, **kwargs)\u001b[0m\n\u001b[0;32m    579\u001b[0m \u001b[39mdef\u001b[39;00m \u001b[39mdo_action\u001b[39m(\u001b[39mself\u001b[39m, \u001b[39m*\u001b[39margs, \u001b[39m*\u001b[39m\u001b[39m*\u001b[39mkwargs):\n\u001b[1;32m--> 580\u001b[0m     response \u001b[39m=\u001b[39m action(\u001b[39mself\u001b[39m, \u001b[39m*\u001b[39margs, \u001b[39m*\u001b[39m\u001b[39m*\u001b[39mkwargs)\n\u001b[0;32m    582\u001b[0m     \u001b[39mif\u001b[39;00m \u001b[39mhasattr\u001b[39m(\u001b[39mself\u001b[39m, \u001b[39m'\u001b[39m\u001b[39mload\u001b[39m\u001b[39m'\u001b[39m):\n\u001b[0;32m    583\u001b[0m         \u001b[39m# Clear cached data. It will be reloaded the next\u001b[39;00m\n\u001b[0;32m    584\u001b[0m         \u001b[39m# time that an attribute is accessed.\u001b[39;00m\n\u001b[0;32m    585\u001b[0m         \u001b[39m# TODO: Make this configurable in the future?\u001b[39;00m\n\u001b[0;32m    586\u001b[0m         \u001b[39mself\u001b[39m\u001b[39m.\u001b[39mmeta\u001b[39m.\u001b[39mdata \u001b[39m=\u001b[39m \u001b[39mNone\u001b[39;00m\n",
      "File \u001b[1;32mc:\\Users\\silvh\\.conda\\envs\\projects\\Lib\\site-packages\\boto3\\resources\\action.py:88\u001b[0m, in \u001b[0;36mServiceAction.__call__\u001b[1;34m(self, parent, *args, **kwargs)\u001b[0m\n\u001b[0;32m     79\u001b[0m params\u001b[39m.\u001b[39mupdate(kwargs)\n\u001b[0;32m     81\u001b[0m logger\u001b[39m.\u001b[39mdebug(\n\u001b[0;32m     82\u001b[0m     \u001b[39m'\u001b[39m\u001b[39mCalling \u001b[39m\u001b[39m%s\u001b[39;00m\u001b[39m:\u001b[39m\u001b[39m%s\u001b[39;00m\u001b[39m with \u001b[39m\u001b[39m%r\u001b[39;00m\u001b[39m'\u001b[39m,\n\u001b[0;32m     83\u001b[0m     parent\u001b[39m.\u001b[39mmeta\u001b[39m.\u001b[39mservice_name,\n\u001b[0;32m     84\u001b[0m     operation_name,\n\u001b[0;32m     85\u001b[0m     params,\n\u001b[0;32m     86\u001b[0m )\n\u001b[1;32m---> 88\u001b[0m response \u001b[39m=\u001b[39m \u001b[39mgetattr\u001b[39m(parent\u001b[39m.\u001b[39mmeta\u001b[39m.\u001b[39mclient, operation_name)(\u001b[39m*\u001b[39margs, \u001b[39m*\u001b[39m\u001b[39m*\u001b[39mparams)\n\u001b[0;32m     90\u001b[0m logger\u001b[39m.\u001b[39mdebug(\u001b[39m'\u001b[39m\u001b[39mResponse: \u001b[39m\u001b[39m%r\u001b[39;00m\u001b[39m'\u001b[39m, response)\n\u001b[0;32m     92\u001b[0m \u001b[39mreturn\u001b[39;00m \u001b[39mself\u001b[39m\u001b[39m.\u001b[39m_response_handler(parent, params, response)\n",
      "File \u001b[1;32mc:\\Users\\silvh\\.conda\\envs\\projects\\Lib\\site-packages\\botocore\\client.py:535\u001b[0m, in \u001b[0;36mClientCreator._create_api_method.<locals>._api_call\u001b[1;34m(self, *args, **kwargs)\u001b[0m\n\u001b[0;32m    531\u001b[0m     \u001b[39mraise\u001b[39;00m \u001b[39mTypeError\u001b[39;00m(\n\u001b[0;32m    532\u001b[0m         \u001b[39mf\u001b[39m\u001b[39m\"\u001b[39m\u001b[39m{\u001b[39;00mpy_operation_name\u001b[39m}\u001b[39;00m\u001b[39m() only accepts keyword arguments.\u001b[39m\u001b[39m\"\u001b[39m\n\u001b[0;32m    533\u001b[0m     )\n\u001b[0;32m    534\u001b[0m \u001b[39m# The \"self\" in this scope is referring to the BaseClient.\u001b[39;00m\n\u001b[1;32m--> 535\u001b[0m \u001b[39mreturn\u001b[39;00m \u001b[39mself\u001b[39m\u001b[39m.\u001b[39m_make_api_call(operation_name, kwargs)\n",
      "File \u001b[1;32mc:\\Users\\silvh\\.conda\\envs\\projects\\Lib\\site-packages\\botocore\\client.py:963\u001b[0m, in \u001b[0;36mBaseClient._make_api_call\u001b[1;34m(self, operation_name, api_params)\u001b[0m\n\u001b[0;32m    959\u001b[0m     maybe_compress_request(\n\u001b[0;32m    960\u001b[0m         \u001b[39mself\u001b[39m\u001b[39m.\u001b[39mmeta\u001b[39m.\u001b[39mconfig, request_dict, operation_model\n\u001b[0;32m    961\u001b[0m     )\n\u001b[0;32m    962\u001b[0m     apply_request_checksum(request_dict)\n\u001b[1;32m--> 963\u001b[0m     http, parsed_response \u001b[39m=\u001b[39m \u001b[39mself\u001b[39m\u001b[39m.\u001b[39m_make_request(\n\u001b[0;32m    964\u001b[0m         operation_model, request_dict, request_context\n\u001b[0;32m    965\u001b[0m     )\n\u001b[0;32m    967\u001b[0m \u001b[39mself\u001b[39m\u001b[39m.\u001b[39mmeta\u001b[39m.\u001b[39mevents\u001b[39m.\u001b[39memit(\n\u001b[0;32m    968\u001b[0m     \u001b[39m'\u001b[39m\u001b[39mafter-call.\u001b[39m\u001b[39m{service_id}\u001b[39;00m\u001b[39m.\u001b[39m\u001b[39m{operation_name}\u001b[39;00m\u001b[39m'\u001b[39m\u001b[39m.\u001b[39mformat(\n\u001b[0;32m    969\u001b[0m         service_id\u001b[39m=\u001b[39mservice_id, operation_name\u001b[39m=\u001b[39moperation_name\n\u001b[1;32m   (...)\u001b[0m\n\u001b[0;32m    974\u001b[0m     context\u001b[39m=\u001b[39mrequest_context,\n\u001b[0;32m    975\u001b[0m )\n\u001b[0;32m    977\u001b[0m \u001b[39mif\u001b[39;00m http\u001b[39m.\u001b[39mstatus_code \u001b[39m>\u001b[39m\u001b[39m=\u001b[39m \u001b[39m300\u001b[39m:\n",
      "File \u001b[1;32mc:\\Users\\silvh\\.conda\\envs\\projects\\Lib\\site-packages\\botocore\\client.py:986\u001b[0m, in \u001b[0;36mBaseClient._make_request\u001b[1;34m(self, operation_model, request_dict, request_context)\u001b[0m\n\u001b[0;32m    984\u001b[0m \u001b[39mdef\u001b[39;00m \u001b[39m_make_request\u001b[39m(\u001b[39mself\u001b[39m, operation_model, request_dict, request_context):\n\u001b[0;32m    985\u001b[0m     \u001b[39mtry\u001b[39;00m:\n\u001b[1;32m--> 986\u001b[0m         \u001b[39mreturn\u001b[39;00m \u001b[39mself\u001b[39m\u001b[39m.\u001b[39m_endpoint\u001b[39m.\u001b[39mmake_request(operation_model, request_dict)\n\u001b[0;32m    987\u001b[0m     \u001b[39mexcept\u001b[39;00m \u001b[39mException\u001b[39;00m \u001b[39mas\u001b[39;00m e:\n\u001b[0;32m    988\u001b[0m         \u001b[39mself\u001b[39m\u001b[39m.\u001b[39mmeta\u001b[39m.\u001b[39mevents\u001b[39m.\u001b[39memit(\n\u001b[0;32m    989\u001b[0m             \u001b[39m'\u001b[39m\u001b[39mafter-call-error.\u001b[39m\u001b[39m{service_id}\u001b[39;00m\u001b[39m.\u001b[39m\u001b[39m{operation_name}\u001b[39;00m\u001b[39m'\u001b[39m\u001b[39m.\u001b[39mformat(\n\u001b[0;32m    990\u001b[0m                 service_id\u001b[39m=\u001b[39m\u001b[39mself\u001b[39m\u001b[39m.\u001b[39m_service_model\u001b[39m.\u001b[39mservice_id\u001b[39m.\u001b[39mhyphenize(),\n\u001b[1;32m   (...)\u001b[0m\n\u001b[0;32m    994\u001b[0m             context\u001b[39m=\u001b[39mrequest_context,\n\u001b[0;32m    995\u001b[0m         )\n",
      "File \u001b[1;32mc:\\Users\\silvh\\.conda\\envs\\projects\\Lib\\site-packages\\botocore\\endpoint.py:119\u001b[0m, in \u001b[0;36mEndpoint.make_request\u001b[1;34m(self, operation_model, request_dict)\u001b[0m\n\u001b[0;32m    113\u001b[0m \u001b[39mdef\u001b[39;00m \u001b[39mmake_request\u001b[39m(\u001b[39mself\u001b[39m, operation_model, request_dict):\n\u001b[0;32m    114\u001b[0m     logger\u001b[39m.\u001b[39mdebug(\n\u001b[0;32m    115\u001b[0m         \u001b[39m\"\u001b[39m\u001b[39mMaking request for \u001b[39m\u001b[39m%s\u001b[39;00m\u001b[39m with params: \u001b[39m\u001b[39m%s\u001b[39;00m\u001b[39m\"\u001b[39m,\n\u001b[0;32m    116\u001b[0m         operation_model,\n\u001b[0;32m    117\u001b[0m         request_dict,\n\u001b[0;32m    118\u001b[0m     )\n\u001b[1;32m--> 119\u001b[0m     \u001b[39mreturn\u001b[39;00m \u001b[39mself\u001b[39m\u001b[39m.\u001b[39m_send_request(request_dict, operation_model)\n",
      "File \u001b[1;32mc:\\Users\\silvh\\.conda\\envs\\projects\\Lib\\site-packages\\botocore\\endpoint.py:198\u001b[0m, in \u001b[0;36mEndpoint._send_request\u001b[1;34m(self, request_dict, operation_model)\u001b[0m\n\u001b[0;32m    196\u001b[0m context \u001b[39m=\u001b[39m request_dict[\u001b[39m'\u001b[39m\u001b[39mcontext\u001b[39m\u001b[39m'\u001b[39m]\n\u001b[0;32m    197\u001b[0m \u001b[39mself\u001b[39m\u001b[39m.\u001b[39m_update_retries_context(context, attempts)\n\u001b[1;32m--> 198\u001b[0m request \u001b[39m=\u001b[39m \u001b[39mself\u001b[39m\u001b[39m.\u001b[39mcreate_request(request_dict, operation_model)\n\u001b[0;32m    199\u001b[0m success_response, exception \u001b[39m=\u001b[39m \u001b[39mself\u001b[39m\u001b[39m.\u001b[39m_get_response(\n\u001b[0;32m    200\u001b[0m     request, operation_model, context\n\u001b[0;32m    201\u001b[0m )\n\u001b[0;32m    202\u001b[0m \u001b[39mwhile\u001b[39;00m \u001b[39mself\u001b[39m\u001b[39m.\u001b[39m_needs_retry(\n\u001b[0;32m    203\u001b[0m     attempts,\n\u001b[0;32m    204\u001b[0m     operation_model,\n\u001b[1;32m   (...)\u001b[0m\n\u001b[0;32m    207\u001b[0m     exception,\n\u001b[0;32m    208\u001b[0m ):\n",
      "File \u001b[1;32mc:\\Users\\silvh\\.conda\\envs\\projects\\Lib\\site-packages\\botocore\\endpoint.py:134\u001b[0m, in \u001b[0;36mEndpoint.create_request\u001b[1;34m(self, params, operation_model)\u001b[0m\n\u001b[0;32m    130\u001b[0m     service_id \u001b[39m=\u001b[39m operation_model\u001b[39m.\u001b[39mservice_model\u001b[39m.\u001b[39mservice_id\u001b[39m.\u001b[39mhyphenize()\n\u001b[0;32m    131\u001b[0m     event_name \u001b[39m=\u001b[39m \u001b[39m'\u001b[39m\u001b[39mrequest-created.\u001b[39m\u001b[39m{service_id}\u001b[39;00m\u001b[39m.\u001b[39m\u001b[39m{op_name}\u001b[39;00m\u001b[39m'\u001b[39m\u001b[39m.\u001b[39mformat(\n\u001b[0;32m    132\u001b[0m         service_id\u001b[39m=\u001b[39mservice_id, op_name\u001b[39m=\u001b[39moperation_model\u001b[39m.\u001b[39mname\n\u001b[0;32m    133\u001b[0m     )\n\u001b[1;32m--> 134\u001b[0m     \u001b[39mself\u001b[39m\u001b[39m.\u001b[39m_event_emitter\u001b[39m.\u001b[39memit(\n\u001b[0;32m    135\u001b[0m         event_name,\n\u001b[0;32m    136\u001b[0m         request\u001b[39m=\u001b[39mrequest,\n\u001b[0;32m    137\u001b[0m         operation_name\u001b[39m=\u001b[39moperation_model\u001b[39m.\u001b[39mname,\n\u001b[0;32m    138\u001b[0m     )\n\u001b[0;32m    139\u001b[0m prepared_request \u001b[39m=\u001b[39m \u001b[39mself\u001b[39m\u001b[39m.\u001b[39mprepare_request(request)\n\u001b[0;32m    140\u001b[0m \u001b[39mreturn\u001b[39;00m prepared_request\n",
      "File \u001b[1;32mc:\\Users\\silvh\\.conda\\envs\\projects\\Lib\\site-packages\\botocore\\hooks.py:412\u001b[0m, in \u001b[0;36mEventAliaser.emit\u001b[1;34m(self, event_name, **kwargs)\u001b[0m\n\u001b[0;32m    410\u001b[0m \u001b[39mdef\u001b[39;00m \u001b[39memit\u001b[39m(\u001b[39mself\u001b[39m, event_name, \u001b[39m*\u001b[39m\u001b[39m*\u001b[39mkwargs):\n\u001b[0;32m    411\u001b[0m     aliased_event_name \u001b[39m=\u001b[39m \u001b[39mself\u001b[39m\u001b[39m.\u001b[39m_alias_event_name(event_name)\n\u001b[1;32m--> 412\u001b[0m     \u001b[39mreturn\u001b[39;00m \u001b[39mself\u001b[39m\u001b[39m.\u001b[39m_emitter\u001b[39m.\u001b[39memit(aliased_event_name, \u001b[39m*\u001b[39m\u001b[39m*\u001b[39mkwargs)\n",
      "File \u001b[1;32mc:\\Users\\silvh\\.conda\\envs\\projects\\Lib\\site-packages\\botocore\\hooks.py:256\u001b[0m, in \u001b[0;36mHierarchicalEmitter.emit\u001b[1;34m(self, event_name, **kwargs)\u001b[0m\n\u001b[0;32m    245\u001b[0m \u001b[39mdef\u001b[39;00m \u001b[39memit\u001b[39m(\u001b[39mself\u001b[39m, event_name, \u001b[39m*\u001b[39m\u001b[39m*\u001b[39mkwargs):\n\u001b[0;32m    246\u001b[0m \u001b[39m    \u001b[39m\u001b[39m\"\"\"\u001b[39;00m\n\u001b[0;32m    247\u001b[0m \u001b[39m    Emit an event by name with arguments passed as keyword args.\u001b[39;00m\n\u001b[0;32m    248\u001b[0m \n\u001b[1;32m   (...)\u001b[0m\n\u001b[0;32m    254\u001b[0m \u001b[39m             handlers.\u001b[39;00m\n\u001b[0;32m    255\u001b[0m \u001b[39m    \"\"\"\u001b[39;00m\n\u001b[1;32m--> 256\u001b[0m     \u001b[39mreturn\u001b[39;00m \u001b[39mself\u001b[39m\u001b[39m.\u001b[39m_emit(event_name, kwargs)\n",
      "File \u001b[1;32mc:\\Users\\silvh\\.conda\\envs\\projects\\Lib\\site-packages\\botocore\\hooks.py:239\u001b[0m, in \u001b[0;36mHierarchicalEmitter._emit\u001b[1;34m(self, event_name, kwargs, stop_on_response)\u001b[0m\n\u001b[0;32m    237\u001b[0m \u001b[39mfor\u001b[39;00m handler \u001b[39min\u001b[39;00m handlers_to_call:\n\u001b[0;32m    238\u001b[0m     logger\u001b[39m.\u001b[39mdebug(\u001b[39m'\u001b[39m\u001b[39mEvent \u001b[39m\u001b[39m%s\u001b[39;00m\u001b[39m: calling handler \u001b[39m\u001b[39m%s\u001b[39;00m\u001b[39m'\u001b[39m, event_name, handler)\n\u001b[1;32m--> 239\u001b[0m     response \u001b[39m=\u001b[39m handler(\u001b[39m*\u001b[39m\u001b[39m*\u001b[39mkwargs)\n\u001b[0;32m    240\u001b[0m     responses\u001b[39m.\u001b[39mappend((handler, response))\n\u001b[0;32m    241\u001b[0m     \u001b[39mif\u001b[39;00m stop_on_response \u001b[39mand\u001b[39;00m response \u001b[39mis\u001b[39;00m \u001b[39mnot\u001b[39;00m \u001b[39mNone\u001b[39;00m:\n",
      "File \u001b[1;32mc:\\Users\\silvh\\.conda\\envs\\projects\\Lib\\site-packages\\botocore\\signers.py:105\u001b[0m, in \u001b[0;36mRequestSigner.handler\u001b[1;34m(self, operation_name, request, **kwargs)\u001b[0m\n\u001b[0;32m    100\u001b[0m \u001b[39mdef\u001b[39;00m \u001b[39mhandler\u001b[39m(\u001b[39mself\u001b[39m, operation_name\u001b[39m=\u001b[39m\u001b[39mNone\u001b[39;00m, request\u001b[39m=\u001b[39m\u001b[39mNone\u001b[39;00m, \u001b[39m*\u001b[39m\u001b[39m*\u001b[39mkwargs):\n\u001b[0;32m    101\u001b[0m     \u001b[39m# This is typically hooked up to the \"request-created\" event\u001b[39;00m\n\u001b[0;32m    102\u001b[0m     \u001b[39m# from a client's event emitter.  When a new request is created\u001b[39;00m\n\u001b[0;32m    103\u001b[0m     \u001b[39m# this method is invoked to sign the request.\u001b[39;00m\n\u001b[0;32m    104\u001b[0m     \u001b[39m# Don't call this method directly.\u001b[39;00m\n\u001b[1;32m--> 105\u001b[0m     \u001b[39mreturn\u001b[39;00m \u001b[39mself\u001b[39m\u001b[39m.\u001b[39msign(operation_name, request)\n",
      "File \u001b[1;32mc:\\Users\\silvh\\.conda\\envs\\projects\\Lib\\site-packages\\botocore\\signers.py:180\u001b[0m, in \u001b[0;36mRequestSigner.sign\u001b[1;34m(self, operation_name, request, region_name, signing_type, expires_in, signing_name)\u001b[0m\n\u001b[0;32m    178\u001b[0m     kwargs[\u001b[39m'\u001b[39m\u001b[39msigning_name\u001b[39m\u001b[39m'\u001b[39m] \u001b[39m=\u001b[39m signing_context[\u001b[39m'\u001b[39m\u001b[39msigning_name\u001b[39m\u001b[39m'\u001b[39m]\n\u001b[0;32m    179\u001b[0m \u001b[39mtry\u001b[39;00m:\n\u001b[1;32m--> 180\u001b[0m     auth \u001b[39m=\u001b[39m \u001b[39mself\u001b[39m\u001b[39m.\u001b[39mget_auth_instance(\u001b[39m*\u001b[39m\u001b[39m*\u001b[39mkwargs)\n\u001b[0;32m    181\u001b[0m \u001b[39mexcept\u001b[39;00m UnknownSignatureVersionError \u001b[39mas\u001b[39;00m e:\n\u001b[0;32m    182\u001b[0m     \u001b[39mif\u001b[39;00m signing_type \u001b[39m!=\u001b[39m \u001b[39m'\u001b[39m\u001b[39mstandard\u001b[39m\u001b[39m'\u001b[39m:\n",
      "File \u001b[1;32mc:\\Users\\silvh\\.conda\\envs\\projects\\Lib\\site-packages\\botocore\\signers.py:284\u001b[0m, in \u001b[0;36mRequestSigner.get_auth_instance\u001b[1;34m(self, signing_name, region_name, signature_version, **kwargs)\u001b[0m\n\u001b[0;32m    282\u001b[0m frozen_credentials \u001b[39m=\u001b[39m \u001b[39mNone\u001b[39;00m\n\u001b[0;32m    283\u001b[0m \u001b[39mif\u001b[39;00m \u001b[39mself\u001b[39m\u001b[39m.\u001b[39m_credentials \u001b[39mis\u001b[39;00m \u001b[39mnot\u001b[39;00m \u001b[39mNone\u001b[39;00m:\n\u001b[1;32m--> 284\u001b[0m     frozen_credentials \u001b[39m=\u001b[39m \u001b[39mself\u001b[39m\u001b[39m.\u001b[39m_credentials\u001b[39m.\u001b[39mget_frozen_credentials()\n\u001b[0;32m    285\u001b[0m kwargs[\u001b[39m'\u001b[39m\u001b[39mcredentials\u001b[39m\u001b[39m'\u001b[39m] \u001b[39m=\u001b[39m frozen_credentials\n\u001b[0;32m    286\u001b[0m \u001b[39mif\u001b[39;00m \u001b[39mcls\u001b[39m\u001b[39m.\u001b[39mREQUIRES_REGION:\n",
      "File \u001b[1;32mc:\\Users\\silvh\\.conda\\envs\\projects\\Lib\\site-packages\\botocore\\credentials.py:611\u001b[0m, in \u001b[0;36mRefreshableCredentials.get_frozen_credentials\u001b[1;34m(self)\u001b[0m\n\u001b[0;32m    577\u001b[0m \u001b[39mdef\u001b[39;00m \u001b[39mget_frozen_credentials\u001b[39m(\u001b[39mself\u001b[39m):\n\u001b[0;32m    578\u001b[0m \u001b[39m    \u001b[39m\u001b[39m\"\"\"Return immutable credentials.\u001b[39;00m\n\u001b[0;32m    579\u001b[0m \n\u001b[0;32m    580\u001b[0m \u001b[39m    The ``access_key``, ``secret_key``, and ``token`` properties\u001b[39;00m\n\u001b[1;32m   (...)\u001b[0m\n\u001b[0;32m    609\u001b[0m \n\u001b[0;32m    610\u001b[0m \u001b[39m    \"\"\"\u001b[39;00m\n\u001b[1;32m--> 611\u001b[0m     \u001b[39mself\u001b[39m\u001b[39m.\u001b[39m_refresh()\n\u001b[0;32m    612\u001b[0m     \u001b[39mreturn\u001b[39;00m \u001b[39mself\u001b[39m\u001b[39m.\u001b[39m_frozen_credentials\n",
      "File \u001b[1;32mc:\\Users\\silvh\\.conda\\envs\\projects\\Lib\\site-packages\\botocore\\credentials.py:499\u001b[0m, in \u001b[0;36mRefreshableCredentials._refresh\u001b[1;34m(self)\u001b[0m\n\u001b[0;32m    495\u001b[0m         \u001b[39mreturn\u001b[39;00m\n\u001b[0;32m    496\u001b[0m     is_mandatory_refresh \u001b[39m=\u001b[39m \u001b[39mself\u001b[39m\u001b[39m.\u001b[39mrefresh_needed(\n\u001b[0;32m    497\u001b[0m         \u001b[39mself\u001b[39m\u001b[39m.\u001b[39m_mandatory_refresh_timeout\n\u001b[0;32m    498\u001b[0m     )\n\u001b[1;32m--> 499\u001b[0m     \u001b[39mself\u001b[39m\u001b[39m.\u001b[39m_protected_refresh(is_mandatory\u001b[39m=\u001b[39mis_mandatory_refresh)\n\u001b[0;32m    500\u001b[0m     \u001b[39mreturn\u001b[39;00m\n\u001b[0;32m    501\u001b[0m \u001b[39mfinally\u001b[39;00m:\n",
      "File \u001b[1;32mc:\\Users\\silvh\\.conda\\envs\\projects\\Lib\\site-packages\\botocore\\credentials.py:515\u001b[0m, in \u001b[0;36mRefreshableCredentials._protected_refresh\u001b[1;34m(self, is_mandatory)\u001b[0m\n\u001b[0;32m    511\u001b[0m \u001b[39mdef\u001b[39;00m \u001b[39m_protected_refresh\u001b[39m(\u001b[39mself\u001b[39m, is_mandatory):\n\u001b[0;32m    512\u001b[0m     \u001b[39m# precondition: this method should only be called if you've acquired\u001b[39;00m\n\u001b[0;32m    513\u001b[0m     \u001b[39m# the self._refresh_lock.\u001b[39;00m\n\u001b[0;32m    514\u001b[0m     \u001b[39mtry\u001b[39;00m:\n\u001b[1;32m--> 515\u001b[0m         metadata \u001b[39m=\u001b[39m \u001b[39mself\u001b[39m\u001b[39m.\u001b[39m_refresh_using()\n\u001b[0;32m    516\u001b[0m     \u001b[39mexcept\u001b[39;00m \u001b[39mException\u001b[39;00m:\n\u001b[0;32m    517\u001b[0m         period_name \u001b[39m=\u001b[39m \u001b[39m'\u001b[39m\u001b[39mmandatory\u001b[39m\u001b[39m'\u001b[39m \u001b[39mif\u001b[39;00m is_mandatory \u001b[39melse\u001b[39;00m \u001b[39m'\u001b[39m\u001b[39madvisory\u001b[39m\u001b[39m'\u001b[39m\n",
      "File \u001b[1;32mc:\\Users\\silvh\\.conda\\envs\\projects\\Lib\\site-packages\\botocore\\credentials.py:662\u001b[0m, in \u001b[0;36mCachedCredentialFetcher.fetch_credentials\u001b[1;34m(self)\u001b[0m\n\u001b[0;32m    661\u001b[0m \u001b[39mdef\u001b[39;00m \u001b[39mfetch_credentials\u001b[39m(\u001b[39mself\u001b[39m):\n\u001b[1;32m--> 662\u001b[0m     \u001b[39mreturn\u001b[39;00m \u001b[39mself\u001b[39m\u001b[39m.\u001b[39m_get_cached_credentials()\n",
      "File \u001b[1;32mc:\\Users\\silvh\\.conda\\envs\\projects\\Lib\\site-packages\\botocore\\credentials.py:672\u001b[0m, in \u001b[0;36mCachedCredentialFetcher._get_cached_credentials\u001b[1;34m(self)\u001b[0m\n\u001b[0;32m    670\u001b[0m response \u001b[39m=\u001b[39m \u001b[39mself\u001b[39m\u001b[39m.\u001b[39m_load_from_cache()\n\u001b[0;32m    671\u001b[0m \u001b[39mif\u001b[39;00m response \u001b[39mis\u001b[39;00m \u001b[39mNone\u001b[39;00m:\n\u001b[1;32m--> 672\u001b[0m     response \u001b[39m=\u001b[39m \u001b[39mself\u001b[39m\u001b[39m.\u001b[39m_get_credentials()\n\u001b[0;32m    673\u001b[0m     \u001b[39mself\u001b[39m\u001b[39m.\u001b[39m_write_to_cache(response)\n\u001b[0;32m    674\u001b[0m \u001b[39melse\u001b[39;00m:\n",
      "File \u001b[1;32mc:\\Users\\silvh\\.conda\\envs\\projects\\Lib\\site-packages\\botocore\\credentials.py:2115\u001b[0m, in \u001b[0;36mSSOCredentialFetcher._get_credentials\u001b[1;34m(self)\u001b[0m\n\u001b[0;32m   2113\u001b[0m \u001b[39mif\u001b[39;00m \u001b[39mself\u001b[39m\u001b[39m.\u001b[39m_token_provider:\n\u001b[0;32m   2114\u001b[0m     initial_token_data \u001b[39m=\u001b[39m \u001b[39mself\u001b[39m\u001b[39m.\u001b[39m_token_provider\u001b[39m.\u001b[39mload_token()\n\u001b[1;32m-> 2115\u001b[0m     token \u001b[39m=\u001b[39m initial_token_data\u001b[39m.\u001b[39mget_frozen_token()\u001b[39m.\u001b[39mtoken\n\u001b[0;32m   2116\u001b[0m \u001b[39melse\u001b[39;00m:\n\u001b[0;32m   2117\u001b[0m     token \u001b[39m=\u001b[39m \u001b[39mself\u001b[39m\u001b[39m.\u001b[39m_token_loader(\u001b[39mself\u001b[39m\u001b[39m.\u001b[39m_start_url)[\u001b[39m'\u001b[39m\u001b[39maccessToken\u001b[39m\u001b[39m'\u001b[39m]\n",
      "File \u001b[1;32mc:\\Users\\silvh\\.conda\\envs\\projects\\Lib\\site-packages\\botocore\\tokens.py:82\u001b[0m, in \u001b[0;36mDeferredRefreshableToken.get_frozen_token\u001b[1;34m(self)\u001b[0m\n\u001b[0;32m     81\u001b[0m \u001b[39mdef\u001b[39;00m \u001b[39mget_frozen_token\u001b[39m(\u001b[39mself\u001b[39m):\n\u001b[1;32m---> 82\u001b[0m     \u001b[39mself\u001b[39m\u001b[39m.\u001b[39m_refresh()\n\u001b[0;32m     83\u001b[0m     \u001b[39mreturn\u001b[39;00m \u001b[39mself\u001b[39m\u001b[39m.\u001b[39m_frozen_token\n",
      "File \u001b[1;32mc:\\Users\\silvh\\.conda\\envs\\projects\\Lib\\site-packages\\botocore\\tokens.py:95\u001b[0m, in \u001b[0;36mDeferredRefreshableToken._refresh\u001b[1;34m(self)\u001b[0m\n\u001b[0;32m     93\u001b[0m \u001b[39mif\u001b[39;00m \u001b[39mself\u001b[39m\u001b[39m.\u001b[39m_refresh_lock\u001b[39m.\u001b[39macquire(block_for_refresh):\n\u001b[0;32m     94\u001b[0m     \u001b[39mtry\u001b[39;00m:\n\u001b[1;32m---> 95\u001b[0m         \u001b[39mself\u001b[39m\u001b[39m.\u001b[39m_protected_refresh()\n\u001b[0;32m     96\u001b[0m     \u001b[39mfinally\u001b[39;00m:\n\u001b[0;32m     97\u001b[0m         \u001b[39mself\u001b[39m\u001b[39m.\u001b[39m_refresh_lock\u001b[39m.\u001b[39mrelease()\n",
      "File \u001b[1;32mc:\\Users\\silvh\\.conda\\envs\\projects\\Lib\\site-packages\\botocore\\tokens.py:122\u001b[0m, in \u001b[0;36mDeferredRefreshableToken._protected_refresh\u001b[1;34m(self)\u001b[0m\n\u001b[0;32m    118\u001b[0m         \u001b[39mraise\u001b[39;00m\n\u001b[0;32m    120\u001b[0m \u001b[39mif\u001b[39;00m \u001b[39mself\u001b[39m\u001b[39m.\u001b[39m_is_expired():\n\u001b[0;32m    121\u001b[0m     \u001b[39m# Fresh credentials should never be expired\u001b[39;00m\n\u001b[1;32m--> 122\u001b[0m     \u001b[39mraise\u001b[39;00m TokenRetrievalError(\n\u001b[0;32m    123\u001b[0m         provider\u001b[39m=\u001b[39m\u001b[39mself\u001b[39m\u001b[39m.\u001b[39mmethod,\n\u001b[0;32m    124\u001b[0m         error_msg\u001b[39m=\u001b[39m\u001b[39m\"\u001b[39m\u001b[39mToken has expired and refresh failed\u001b[39m\u001b[39m\"\u001b[39m,\n\u001b[0;32m    125\u001b[0m     )\n",
      "\u001b[1;31mTokenRetrievalError\u001b[0m: Error when retrieving token from sso: Token has expired and refresh failed"
     ]
    }
   ],
   "source": [
    "import boto3\n",
    "from boto3.dynamodb.conditions import Key\n",
    "\n",
    "def query_dynamodb_table(table_name, value, key='SessionId', profile='mcgill', region_name=\"us-west-2\"):\n",
    "    \"\"\"\n",
    "    Query a Dynamodb table and print the results.\n",
    "    Parameters:\n",
    "        table_name (str): The name of the DynamoDB table.\n",
    "        value (str): The value of the key.\n",
    "        key (str): The name of the key.\n",
    "        region_name (str): The name of the AWS region.\n",
    "\n",
    "    Returns:\n",
    "        dict: The results of the query. The 'Items' key contains the table record.       \n",
    "    From 2023-10-22 notebook.\n",
    "    \"\"\"\n",
    "    session = boto3.Session(profile_name=profile)\n",
    "    dynamodb = session.resource('dynamodb', region_name=region_name)\n",
    "    table = dynamodb.Table(table_name)\n",
    "    response = table.query(\n",
    "        KeyConditionExpression=Key(key).eq(value)\n",
    "    )\n",
    "    return response\n",
    "\n",
    "iteration = 1.3\n",
    "query_dict[iteration] = query_dynamodb_table('SessionTable', 'test')\n",
    "query_dict[iteration]"
   ]
  },
  {
   "cell_type": "code",
   "execution_count": 3,
   "metadata": {},
   "outputs": [],
   "source": [
    "session = boto3.Session(profile_name='mcgill')"
   ]
  },
  {
   "cell_type": "code",
   "execution_count": 5,
   "metadata": {},
   "outputs": [
    {
     "data": {
      "text/plain": [
       "dynamodb.ServiceResource()"
      ]
     },
     "execution_count": 5,
     "metadata": {},
     "output_type": "execute_result"
    }
   ],
   "source": [
    "session.resource('dynamodb')"
   ]
  },
  {
   "cell_type": "code",
   "execution_count": 7,
   "metadata": {},
   "outputs": [],
   "source": [
    "table = session.resource('dynamodb').Table('SessionTable')"
   ]
  },
  {
   "cell_type": "code",
   "execution_count": 8,
   "metadata": {},
   "outputs": [
    {
     "data": {
      "text/plain": [
       "dynamodb.Table(name='SessionTable')"
      ]
     },
     "execution_count": 8,
     "metadata": {},
     "output_type": "execute_result"
    }
   ],
   "source": [
    "table"
   ]
  },
  {
   "cell_type": "code",
   "execution_count": 9,
   "metadata": {},
   "outputs": [
    {
     "ename": "TokenRetrievalError",
     "evalue": "Error when retrieving token from sso: Token has expired and refresh failed",
     "output_type": "error",
     "traceback": [
      "\u001b[1;31m---------------------------------------------------------------------------\u001b[0m",
      "\u001b[1;31mTokenRetrievalError\u001b[0m                       Traceback (most recent call last)",
      "\u001b[1;32mc:\\Users\\silvh\\OneDrive\\lighthouse\\portfolio-projects\\GHL-chat\\notebooks\\2023-11-12 DynamoDB and LangChain testing.ipynb Cell 16\u001b[0m line \u001b[0;36m1\n\u001b[1;32m----> <a href='vscode-notebook-cell:/c%3A/Users/silvh/OneDrive/lighthouse/portfolio-projects/GHL-chat/notebooks/2023-11-12%20DynamoDB%20and%20LangChain%20testing.ipynb#X53sZmlsZQ%3D%3D?line=0'>1</a>\u001b[0m table\u001b[39m.\u001b[39mquery(\n\u001b[0;32m      <a href='vscode-notebook-cell:/c%3A/Users/silvh/OneDrive/lighthouse/portfolio-projects/GHL-chat/notebooks/2023-11-12%20DynamoDB%20and%20LangChain%20testing.ipynb#X53sZmlsZQ%3D%3D?line=1'>2</a>\u001b[0m         KeyConditionExpression\u001b[39m=\u001b[39mKey(\u001b[39m'\u001b[39m\u001b[39mSessionId\u001b[39m\u001b[39m'\u001b[39m)\u001b[39m.\u001b[39meq(\u001b[39m'\u001b[39m\u001b[39mtest\u001b[39m\u001b[39m'\u001b[39m)\n\u001b[0;32m      <a href='vscode-notebook-cell:/c%3A/Users/silvh/OneDrive/lighthouse/portfolio-projects/GHL-chat/notebooks/2023-11-12%20DynamoDB%20and%20LangChain%20testing.ipynb#X53sZmlsZQ%3D%3D?line=2'>3</a>\u001b[0m     )\n",
      "File \u001b[1;32mc:\\Users\\silvh\\.conda\\envs\\projects\\Lib\\site-packages\\boto3\\resources\\factory.py:580\u001b[0m, in \u001b[0;36mResourceFactory._create_action.<locals>.do_action\u001b[1;34m(self, *args, **kwargs)\u001b[0m\n\u001b[0;32m    579\u001b[0m \u001b[39mdef\u001b[39;00m \u001b[39mdo_action\u001b[39m(\u001b[39mself\u001b[39m, \u001b[39m*\u001b[39margs, \u001b[39m*\u001b[39m\u001b[39m*\u001b[39mkwargs):\n\u001b[1;32m--> 580\u001b[0m     response \u001b[39m=\u001b[39m action(\u001b[39mself\u001b[39m, \u001b[39m*\u001b[39margs, \u001b[39m*\u001b[39m\u001b[39m*\u001b[39mkwargs)\n\u001b[0;32m    582\u001b[0m     \u001b[39mif\u001b[39;00m \u001b[39mhasattr\u001b[39m(\u001b[39mself\u001b[39m, \u001b[39m'\u001b[39m\u001b[39mload\u001b[39m\u001b[39m'\u001b[39m):\n\u001b[0;32m    583\u001b[0m         \u001b[39m# Clear cached data. It will be reloaded the next\u001b[39;00m\n\u001b[0;32m    584\u001b[0m         \u001b[39m# time that an attribute is accessed.\u001b[39;00m\n\u001b[0;32m    585\u001b[0m         \u001b[39m# TODO: Make this configurable in the future?\u001b[39;00m\n\u001b[0;32m    586\u001b[0m         \u001b[39mself\u001b[39m\u001b[39m.\u001b[39mmeta\u001b[39m.\u001b[39mdata \u001b[39m=\u001b[39m \u001b[39mNone\u001b[39;00m\n",
      "File \u001b[1;32mc:\\Users\\silvh\\.conda\\envs\\projects\\Lib\\site-packages\\boto3\\resources\\action.py:88\u001b[0m, in \u001b[0;36mServiceAction.__call__\u001b[1;34m(self, parent, *args, **kwargs)\u001b[0m\n\u001b[0;32m     79\u001b[0m params\u001b[39m.\u001b[39mupdate(kwargs)\n\u001b[0;32m     81\u001b[0m logger\u001b[39m.\u001b[39mdebug(\n\u001b[0;32m     82\u001b[0m     \u001b[39m'\u001b[39m\u001b[39mCalling \u001b[39m\u001b[39m%s\u001b[39;00m\u001b[39m:\u001b[39m\u001b[39m%s\u001b[39;00m\u001b[39m with \u001b[39m\u001b[39m%r\u001b[39;00m\u001b[39m'\u001b[39m,\n\u001b[0;32m     83\u001b[0m     parent\u001b[39m.\u001b[39mmeta\u001b[39m.\u001b[39mservice_name,\n\u001b[0;32m     84\u001b[0m     operation_name,\n\u001b[0;32m     85\u001b[0m     params,\n\u001b[0;32m     86\u001b[0m )\n\u001b[1;32m---> 88\u001b[0m response \u001b[39m=\u001b[39m \u001b[39mgetattr\u001b[39m(parent\u001b[39m.\u001b[39mmeta\u001b[39m.\u001b[39mclient, operation_name)(\u001b[39m*\u001b[39margs, \u001b[39m*\u001b[39m\u001b[39m*\u001b[39mparams)\n\u001b[0;32m     90\u001b[0m logger\u001b[39m.\u001b[39mdebug(\u001b[39m'\u001b[39m\u001b[39mResponse: \u001b[39m\u001b[39m%r\u001b[39;00m\u001b[39m'\u001b[39m, response)\n\u001b[0;32m     92\u001b[0m \u001b[39mreturn\u001b[39;00m \u001b[39mself\u001b[39m\u001b[39m.\u001b[39m_response_handler(parent, params, response)\n",
      "File \u001b[1;32mc:\\Users\\silvh\\.conda\\envs\\projects\\Lib\\site-packages\\botocore\\client.py:535\u001b[0m, in \u001b[0;36mClientCreator._create_api_method.<locals>._api_call\u001b[1;34m(self, *args, **kwargs)\u001b[0m\n\u001b[0;32m    531\u001b[0m     \u001b[39mraise\u001b[39;00m \u001b[39mTypeError\u001b[39;00m(\n\u001b[0;32m    532\u001b[0m         \u001b[39mf\u001b[39m\u001b[39m\"\u001b[39m\u001b[39m{\u001b[39;00mpy_operation_name\u001b[39m}\u001b[39;00m\u001b[39m() only accepts keyword arguments.\u001b[39m\u001b[39m\"\u001b[39m\n\u001b[0;32m    533\u001b[0m     )\n\u001b[0;32m    534\u001b[0m \u001b[39m# The \"self\" in this scope is referring to the BaseClient.\u001b[39;00m\n\u001b[1;32m--> 535\u001b[0m \u001b[39mreturn\u001b[39;00m \u001b[39mself\u001b[39m\u001b[39m.\u001b[39m_make_api_call(operation_name, kwargs)\n",
      "File \u001b[1;32mc:\\Users\\silvh\\.conda\\envs\\projects\\Lib\\site-packages\\botocore\\client.py:963\u001b[0m, in \u001b[0;36mBaseClient._make_api_call\u001b[1;34m(self, operation_name, api_params)\u001b[0m\n\u001b[0;32m    959\u001b[0m     maybe_compress_request(\n\u001b[0;32m    960\u001b[0m         \u001b[39mself\u001b[39m\u001b[39m.\u001b[39mmeta\u001b[39m.\u001b[39mconfig, request_dict, operation_model\n\u001b[0;32m    961\u001b[0m     )\n\u001b[0;32m    962\u001b[0m     apply_request_checksum(request_dict)\n\u001b[1;32m--> 963\u001b[0m     http, parsed_response \u001b[39m=\u001b[39m \u001b[39mself\u001b[39m\u001b[39m.\u001b[39m_make_request(\n\u001b[0;32m    964\u001b[0m         operation_model, request_dict, request_context\n\u001b[0;32m    965\u001b[0m     )\n\u001b[0;32m    967\u001b[0m \u001b[39mself\u001b[39m\u001b[39m.\u001b[39mmeta\u001b[39m.\u001b[39mevents\u001b[39m.\u001b[39memit(\n\u001b[0;32m    968\u001b[0m     \u001b[39m'\u001b[39m\u001b[39mafter-call.\u001b[39m\u001b[39m{service_id}\u001b[39;00m\u001b[39m.\u001b[39m\u001b[39m{operation_name}\u001b[39;00m\u001b[39m'\u001b[39m\u001b[39m.\u001b[39mformat(\n\u001b[0;32m    969\u001b[0m         service_id\u001b[39m=\u001b[39mservice_id, operation_name\u001b[39m=\u001b[39moperation_name\n\u001b[1;32m   (...)\u001b[0m\n\u001b[0;32m    974\u001b[0m     context\u001b[39m=\u001b[39mrequest_context,\n\u001b[0;32m    975\u001b[0m )\n\u001b[0;32m    977\u001b[0m \u001b[39mif\u001b[39;00m http\u001b[39m.\u001b[39mstatus_code \u001b[39m>\u001b[39m\u001b[39m=\u001b[39m \u001b[39m300\u001b[39m:\n",
      "File \u001b[1;32mc:\\Users\\silvh\\.conda\\envs\\projects\\Lib\\site-packages\\botocore\\client.py:986\u001b[0m, in \u001b[0;36mBaseClient._make_request\u001b[1;34m(self, operation_model, request_dict, request_context)\u001b[0m\n\u001b[0;32m    984\u001b[0m \u001b[39mdef\u001b[39;00m \u001b[39m_make_request\u001b[39m(\u001b[39mself\u001b[39m, operation_model, request_dict, request_context):\n\u001b[0;32m    985\u001b[0m     \u001b[39mtry\u001b[39;00m:\n\u001b[1;32m--> 986\u001b[0m         \u001b[39mreturn\u001b[39;00m \u001b[39mself\u001b[39m\u001b[39m.\u001b[39m_endpoint\u001b[39m.\u001b[39mmake_request(operation_model, request_dict)\n\u001b[0;32m    987\u001b[0m     \u001b[39mexcept\u001b[39;00m \u001b[39mException\u001b[39;00m \u001b[39mas\u001b[39;00m e:\n\u001b[0;32m    988\u001b[0m         \u001b[39mself\u001b[39m\u001b[39m.\u001b[39mmeta\u001b[39m.\u001b[39mevents\u001b[39m.\u001b[39memit(\n\u001b[0;32m    989\u001b[0m             \u001b[39m'\u001b[39m\u001b[39mafter-call-error.\u001b[39m\u001b[39m{service_id}\u001b[39;00m\u001b[39m.\u001b[39m\u001b[39m{operation_name}\u001b[39;00m\u001b[39m'\u001b[39m\u001b[39m.\u001b[39mformat(\n\u001b[0;32m    990\u001b[0m                 service_id\u001b[39m=\u001b[39m\u001b[39mself\u001b[39m\u001b[39m.\u001b[39m_service_model\u001b[39m.\u001b[39mservice_id\u001b[39m.\u001b[39mhyphenize(),\n\u001b[1;32m   (...)\u001b[0m\n\u001b[0;32m    994\u001b[0m             context\u001b[39m=\u001b[39mrequest_context,\n\u001b[0;32m    995\u001b[0m         )\n",
      "File \u001b[1;32mc:\\Users\\silvh\\.conda\\envs\\projects\\Lib\\site-packages\\botocore\\endpoint.py:119\u001b[0m, in \u001b[0;36mEndpoint.make_request\u001b[1;34m(self, operation_model, request_dict)\u001b[0m\n\u001b[0;32m    113\u001b[0m \u001b[39mdef\u001b[39;00m \u001b[39mmake_request\u001b[39m(\u001b[39mself\u001b[39m, operation_model, request_dict):\n\u001b[0;32m    114\u001b[0m     logger\u001b[39m.\u001b[39mdebug(\n\u001b[0;32m    115\u001b[0m         \u001b[39m\"\u001b[39m\u001b[39mMaking request for \u001b[39m\u001b[39m%s\u001b[39;00m\u001b[39m with params: \u001b[39m\u001b[39m%s\u001b[39;00m\u001b[39m\"\u001b[39m,\n\u001b[0;32m    116\u001b[0m         operation_model,\n\u001b[0;32m    117\u001b[0m         request_dict,\n\u001b[0;32m    118\u001b[0m     )\n\u001b[1;32m--> 119\u001b[0m     \u001b[39mreturn\u001b[39;00m \u001b[39mself\u001b[39m\u001b[39m.\u001b[39m_send_request(request_dict, operation_model)\n",
      "File \u001b[1;32mc:\\Users\\silvh\\.conda\\envs\\projects\\Lib\\site-packages\\botocore\\endpoint.py:198\u001b[0m, in \u001b[0;36mEndpoint._send_request\u001b[1;34m(self, request_dict, operation_model)\u001b[0m\n\u001b[0;32m    196\u001b[0m context \u001b[39m=\u001b[39m request_dict[\u001b[39m'\u001b[39m\u001b[39mcontext\u001b[39m\u001b[39m'\u001b[39m]\n\u001b[0;32m    197\u001b[0m \u001b[39mself\u001b[39m\u001b[39m.\u001b[39m_update_retries_context(context, attempts)\n\u001b[1;32m--> 198\u001b[0m request \u001b[39m=\u001b[39m \u001b[39mself\u001b[39m\u001b[39m.\u001b[39mcreate_request(request_dict, operation_model)\n\u001b[0;32m    199\u001b[0m success_response, exception \u001b[39m=\u001b[39m \u001b[39mself\u001b[39m\u001b[39m.\u001b[39m_get_response(\n\u001b[0;32m    200\u001b[0m     request, operation_model, context\n\u001b[0;32m    201\u001b[0m )\n\u001b[0;32m    202\u001b[0m \u001b[39mwhile\u001b[39;00m \u001b[39mself\u001b[39m\u001b[39m.\u001b[39m_needs_retry(\n\u001b[0;32m    203\u001b[0m     attempts,\n\u001b[0;32m    204\u001b[0m     operation_model,\n\u001b[1;32m   (...)\u001b[0m\n\u001b[0;32m    207\u001b[0m     exception,\n\u001b[0;32m    208\u001b[0m ):\n",
      "File \u001b[1;32mc:\\Users\\silvh\\.conda\\envs\\projects\\Lib\\site-packages\\botocore\\endpoint.py:134\u001b[0m, in \u001b[0;36mEndpoint.create_request\u001b[1;34m(self, params, operation_model)\u001b[0m\n\u001b[0;32m    130\u001b[0m     service_id \u001b[39m=\u001b[39m operation_model\u001b[39m.\u001b[39mservice_model\u001b[39m.\u001b[39mservice_id\u001b[39m.\u001b[39mhyphenize()\n\u001b[0;32m    131\u001b[0m     event_name \u001b[39m=\u001b[39m \u001b[39m'\u001b[39m\u001b[39mrequest-created.\u001b[39m\u001b[39m{service_id}\u001b[39;00m\u001b[39m.\u001b[39m\u001b[39m{op_name}\u001b[39;00m\u001b[39m'\u001b[39m\u001b[39m.\u001b[39mformat(\n\u001b[0;32m    132\u001b[0m         service_id\u001b[39m=\u001b[39mservice_id, op_name\u001b[39m=\u001b[39moperation_model\u001b[39m.\u001b[39mname\n\u001b[0;32m    133\u001b[0m     )\n\u001b[1;32m--> 134\u001b[0m     \u001b[39mself\u001b[39m\u001b[39m.\u001b[39m_event_emitter\u001b[39m.\u001b[39memit(\n\u001b[0;32m    135\u001b[0m         event_name,\n\u001b[0;32m    136\u001b[0m         request\u001b[39m=\u001b[39mrequest,\n\u001b[0;32m    137\u001b[0m         operation_name\u001b[39m=\u001b[39moperation_model\u001b[39m.\u001b[39mname,\n\u001b[0;32m    138\u001b[0m     )\n\u001b[0;32m    139\u001b[0m prepared_request \u001b[39m=\u001b[39m \u001b[39mself\u001b[39m\u001b[39m.\u001b[39mprepare_request(request)\n\u001b[0;32m    140\u001b[0m \u001b[39mreturn\u001b[39;00m prepared_request\n",
      "File \u001b[1;32mc:\\Users\\silvh\\.conda\\envs\\projects\\Lib\\site-packages\\botocore\\hooks.py:412\u001b[0m, in \u001b[0;36mEventAliaser.emit\u001b[1;34m(self, event_name, **kwargs)\u001b[0m\n\u001b[0;32m    410\u001b[0m \u001b[39mdef\u001b[39;00m \u001b[39memit\u001b[39m(\u001b[39mself\u001b[39m, event_name, \u001b[39m*\u001b[39m\u001b[39m*\u001b[39mkwargs):\n\u001b[0;32m    411\u001b[0m     aliased_event_name \u001b[39m=\u001b[39m \u001b[39mself\u001b[39m\u001b[39m.\u001b[39m_alias_event_name(event_name)\n\u001b[1;32m--> 412\u001b[0m     \u001b[39mreturn\u001b[39;00m \u001b[39mself\u001b[39m\u001b[39m.\u001b[39m_emitter\u001b[39m.\u001b[39memit(aliased_event_name, \u001b[39m*\u001b[39m\u001b[39m*\u001b[39mkwargs)\n",
      "File \u001b[1;32mc:\\Users\\silvh\\.conda\\envs\\projects\\Lib\\site-packages\\botocore\\hooks.py:256\u001b[0m, in \u001b[0;36mHierarchicalEmitter.emit\u001b[1;34m(self, event_name, **kwargs)\u001b[0m\n\u001b[0;32m    245\u001b[0m \u001b[39mdef\u001b[39;00m \u001b[39memit\u001b[39m(\u001b[39mself\u001b[39m, event_name, \u001b[39m*\u001b[39m\u001b[39m*\u001b[39mkwargs):\n\u001b[0;32m    246\u001b[0m \u001b[39m    \u001b[39m\u001b[39m\"\"\"\u001b[39;00m\n\u001b[0;32m    247\u001b[0m \u001b[39m    Emit an event by name with arguments passed as keyword args.\u001b[39;00m\n\u001b[0;32m    248\u001b[0m \n\u001b[1;32m   (...)\u001b[0m\n\u001b[0;32m    254\u001b[0m \u001b[39m             handlers.\u001b[39;00m\n\u001b[0;32m    255\u001b[0m \u001b[39m    \"\"\"\u001b[39;00m\n\u001b[1;32m--> 256\u001b[0m     \u001b[39mreturn\u001b[39;00m \u001b[39mself\u001b[39m\u001b[39m.\u001b[39m_emit(event_name, kwargs)\n",
      "File \u001b[1;32mc:\\Users\\silvh\\.conda\\envs\\projects\\Lib\\site-packages\\botocore\\hooks.py:239\u001b[0m, in \u001b[0;36mHierarchicalEmitter._emit\u001b[1;34m(self, event_name, kwargs, stop_on_response)\u001b[0m\n\u001b[0;32m    237\u001b[0m \u001b[39mfor\u001b[39;00m handler \u001b[39min\u001b[39;00m handlers_to_call:\n\u001b[0;32m    238\u001b[0m     logger\u001b[39m.\u001b[39mdebug(\u001b[39m'\u001b[39m\u001b[39mEvent \u001b[39m\u001b[39m%s\u001b[39;00m\u001b[39m: calling handler \u001b[39m\u001b[39m%s\u001b[39;00m\u001b[39m'\u001b[39m, event_name, handler)\n\u001b[1;32m--> 239\u001b[0m     response \u001b[39m=\u001b[39m handler(\u001b[39m*\u001b[39m\u001b[39m*\u001b[39mkwargs)\n\u001b[0;32m    240\u001b[0m     responses\u001b[39m.\u001b[39mappend((handler, response))\n\u001b[0;32m    241\u001b[0m     \u001b[39mif\u001b[39;00m stop_on_response \u001b[39mand\u001b[39;00m response \u001b[39mis\u001b[39;00m \u001b[39mnot\u001b[39;00m \u001b[39mNone\u001b[39;00m:\n",
      "File \u001b[1;32mc:\\Users\\silvh\\.conda\\envs\\projects\\Lib\\site-packages\\botocore\\signers.py:105\u001b[0m, in \u001b[0;36mRequestSigner.handler\u001b[1;34m(self, operation_name, request, **kwargs)\u001b[0m\n\u001b[0;32m    100\u001b[0m \u001b[39mdef\u001b[39;00m \u001b[39mhandler\u001b[39m(\u001b[39mself\u001b[39m, operation_name\u001b[39m=\u001b[39m\u001b[39mNone\u001b[39;00m, request\u001b[39m=\u001b[39m\u001b[39mNone\u001b[39;00m, \u001b[39m*\u001b[39m\u001b[39m*\u001b[39mkwargs):\n\u001b[0;32m    101\u001b[0m     \u001b[39m# This is typically hooked up to the \"request-created\" event\u001b[39;00m\n\u001b[0;32m    102\u001b[0m     \u001b[39m# from a client's event emitter.  When a new request is created\u001b[39;00m\n\u001b[0;32m    103\u001b[0m     \u001b[39m# this method is invoked to sign the request.\u001b[39;00m\n\u001b[0;32m    104\u001b[0m     \u001b[39m# Don't call this method directly.\u001b[39;00m\n\u001b[1;32m--> 105\u001b[0m     \u001b[39mreturn\u001b[39;00m \u001b[39mself\u001b[39m\u001b[39m.\u001b[39msign(operation_name, request)\n",
      "File \u001b[1;32mc:\\Users\\silvh\\.conda\\envs\\projects\\Lib\\site-packages\\botocore\\signers.py:180\u001b[0m, in \u001b[0;36mRequestSigner.sign\u001b[1;34m(self, operation_name, request, region_name, signing_type, expires_in, signing_name)\u001b[0m\n\u001b[0;32m    178\u001b[0m     kwargs[\u001b[39m'\u001b[39m\u001b[39msigning_name\u001b[39m\u001b[39m'\u001b[39m] \u001b[39m=\u001b[39m signing_context[\u001b[39m'\u001b[39m\u001b[39msigning_name\u001b[39m\u001b[39m'\u001b[39m]\n\u001b[0;32m    179\u001b[0m \u001b[39mtry\u001b[39;00m:\n\u001b[1;32m--> 180\u001b[0m     auth \u001b[39m=\u001b[39m \u001b[39mself\u001b[39m\u001b[39m.\u001b[39mget_auth_instance(\u001b[39m*\u001b[39m\u001b[39m*\u001b[39mkwargs)\n\u001b[0;32m    181\u001b[0m \u001b[39mexcept\u001b[39;00m UnknownSignatureVersionError \u001b[39mas\u001b[39;00m e:\n\u001b[0;32m    182\u001b[0m     \u001b[39mif\u001b[39;00m signing_type \u001b[39m!=\u001b[39m \u001b[39m'\u001b[39m\u001b[39mstandard\u001b[39m\u001b[39m'\u001b[39m:\n",
      "File \u001b[1;32mc:\\Users\\silvh\\.conda\\envs\\projects\\Lib\\site-packages\\botocore\\signers.py:284\u001b[0m, in \u001b[0;36mRequestSigner.get_auth_instance\u001b[1;34m(self, signing_name, region_name, signature_version, **kwargs)\u001b[0m\n\u001b[0;32m    282\u001b[0m frozen_credentials \u001b[39m=\u001b[39m \u001b[39mNone\u001b[39;00m\n\u001b[0;32m    283\u001b[0m \u001b[39mif\u001b[39;00m \u001b[39mself\u001b[39m\u001b[39m.\u001b[39m_credentials \u001b[39mis\u001b[39;00m \u001b[39mnot\u001b[39;00m \u001b[39mNone\u001b[39;00m:\n\u001b[1;32m--> 284\u001b[0m     frozen_credentials \u001b[39m=\u001b[39m \u001b[39mself\u001b[39m\u001b[39m.\u001b[39m_credentials\u001b[39m.\u001b[39mget_frozen_credentials()\n\u001b[0;32m    285\u001b[0m kwargs[\u001b[39m'\u001b[39m\u001b[39mcredentials\u001b[39m\u001b[39m'\u001b[39m] \u001b[39m=\u001b[39m frozen_credentials\n\u001b[0;32m    286\u001b[0m \u001b[39mif\u001b[39;00m \u001b[39mcls\u001b[39m\u001b[39m.\u001b[39mREQUIRES_REGION:\n",
      "File \u001b[1;32mc:\\Users\\silvh\\.conda\\envs\\projects\\Lib\\site-packages\\botocore\\credentials.py:611\u001b[0m, in \u001b[0;36mRefreshableCredentials.get_frozen_credentials\u001b[1;34m(self)\u001b[0m\n\u001b[0;32m    577\u001b[0m \u001b[39mdef\u001b[39;00m \u001b[39mget_frozen_credentials\u001b[39m(\u001b[39mself\u001b[39m):\n\u001b[0;32m    578\u001b[0m \u001b[39m    \u001b[39m\u001b[39m\"\"\"Return immutable credentials.\u001b[39;00m\n\u001b[0;32m    579\u001b[0m \n\u001b[0;32m    580\u001b[0m \u001b[39m    The ``access_key``, ``secret_key``, and ``token`` properties\u001b[39;00m\n\u001b[1;32m   (...)\u001b[0m\n\u001b[0;32m    609\u001b[0m \n\u001b[0;32m    610\u001b[0m \u001b[39m    \"\"\"\u001b[39;00m\n\u001b[1;32m--> 611\u001b[0m     \u001b[39mself\u001b[39m\u001b[39m.\u001b[39m_refresh()\n\u001b[0;32m    612\u001b[0m     \u001b[39mreturn\u001b[39;00m \u001b[39mself\u001b[39m\u001b[39m.\u001b[39m_frozen_credentials\n",
      "File \u001b[1;32mc:\\Users\\silvh\\.conda\\envs\\projects\\Lib\\site-packages\\botocore\\credentials.py:499\u001b[0m, in \u001b[0;36mRefreshableCredentials._refresh\u001b[1;34m(self)\u001b[0m\n\u001b[0;32m    495\u001b[0m         \u001b[39mreturn\u001b[39;00m\n\u001b[0;32m    496\u001b[0m     is_mandatory_refresh \u001b[39m=\u001b[39m \u001b[39mself\u001b[39m\u001b[39m.\u001b[39mrefresh_needed(\n\u001b[0;32m    497\u001b[0m         \u001b[39mself\u001b[39m\u001b[39m.\u001b[39m_mandatory_refresh_timeout\n\u001b[0;32m    498\u001b[0m     )\n\u001b[1;32m--> 499\u001b[0m     \u001b[39mself\u001b[39m\u001b[39m.\u001b[39m_protected_refresh(is_mandatory\u001b[39m=\u001b[39mis_mandatory_refresh)\n\u001b[0;32m    500\u001b[0m     \u001b[39mreturn\u001b[39;00m\n\u001b[0;32m    501\u001b[0m \u001b[39mfinally\u001b[39;00m:\n",
      "File \u001b[1;32mc:\\Users\\silvh\\.conda\\envs\\projects\\Lib\\site-packages\\botocore\\credentials.py:515\u001b[0m, in \u001b[0;36mRefreshableCredentials._protected_refresh\u001b[1;34m(self, is_mandatory)\u001b[0m\n\u001b[0;32m    511\u001b[0m \u001b[39mdef\u001b[39;00m \u001b[39m_protected_refresh\u001b[39m(\u001b[39mself\u001b[39m, is_mandatory):\n\u001b[0;32m    512\u001b[0m     \u001b[39m# precondition: this method should only be called if you've acquired\u001b[39;00m\n\u001b[0;32m    513\u001b[0m     \u001b[39m# the self._refresh_lock.\u001b[39;00m\n\u001b[0;32m    514\u001b[0m     \u001b[39mtry\u001b[39;00m:\n\u001b[1;32m--> 515\u001b[0m         metadata \u001b[39m=\u001b[39m \u001b[39mself\u001b[39m\u001b[39m.\u001b[39m_refresh_using()\n\u001b[0;32m    516\u001b[0m     \u001b[39mexcept\u001b[39;00m \u001b[39mException\u001b[39;00m:\n\u001b[0;32m    517\u001b[0m         period_name \u001b[39m=\u001b[39m \u001b[39m'\u001b[39m\u001b[39mmandatory\u001b[39m\u001b[39m'\u001b[39m \u001b[39mif\u001b[39;00m is_mandatory \u001b[39melse\u001b[39;00m \u001b[39m'\u001b[39m\u001b[39madvisory\u001b[39m\u001b[39m'\u001b[39m\n",
      "File \u001b[1;32mc:\\Users\\silvh\\.conda\\envs\\projects\\Lib\\site-packages\\botocore\\credentials.py:662\u001b[0m, in \u001b[0;36mCachedCredentialFetcher.fetch_credentials\u001b[1;34m(self)\u001b[0m\n\u001b[0;32m    661\u001b[0m \u001b[39mdef\u001b[39;00m \u001b[39mfetch_credentials\u001b[39m(\u001b[39mself\u001b[39m):\n\u001b[1;32m--> 662\u001b[0m     \u001b[39mreturn\u001b[39;00m \u001b[39mself\u001b[39m\u001b[39m.\u001b[39m_get_cached_credentials()\n",
      "File \u001b[1;32mc:\\Users\\silvh\\.conda\\envs\\projects\\Lib\\site-packages\\botocore\\credentials.py:672\u001b[0m, in \u001b[0;36mCachedCredentialFetcher._get_cached_credentials\u001b[1;34m(self)\u001b[0m\n\u001b[0;32m    670\u001b[0m response \u001b[39m=\u001b[39m \u001b[39mself\u001b[39m\u001b[39m.\u001b[39m_load_from_cache()\n\u001b[0;32m    671\u001b[0m \u001b[39mif\u001b[39;00m response \u001b[39mis\u001b[39;00m \u001b[39mNone\u001b[39;00m:\n\u001b[1;32m--> 672\u001b[0m     response \u001b[39m=\u001b[39m \u001b[39mself\u001b[39m\u001b[39m.\u001b[39m_get_credentials()\n\u001b[0;32m    673\u001b[0m     \u001b[39mself\u001b[39m\u001b[39m.\u001b[39m_write_to_cache(response)\n\u001b[0;32m    674\u001b[0m \u001b[39melse\u001b[39;00m:\n",
      "File \u001b[1;32mc:\\Users\\silvh\\.conda\\envs\\projects\\Lib\\site-packages\\botocore\\credentials.py:2115\u001b[0m, in \u001b[0;36mSSOCredentialFetcher._get_credentials\u001b[1;34m(self)\u001b[0m\n\u001b[0;32m   2113\u001b[0m \u001b[39mif\u001b[39;00m \u001b[39mself\u001b[39m\u001b[39m.\u001b[39m_token_provider:\n\u001b[0;32m   2114\u001b[0m     initial_token_data \u001b[39m=\u001b[39m \u001b[39mself\u001b[39m\u001b[39m.\u001b[39m_token_provider\u001b[39m.\u001b[39mload_token()\n\u001b[1;32m-> 2115\u001b[0m     token \u001b[39m=\u001b[39m initial_token_data\u001b[39m.\u001b[39mget_frozen_token()\u001b[39m.\u001b[39mtoken\n\u001b[0;32m   2116\u001b[0m \u001b[39melse\u001b[39;00m:\n\u001b[0;32m   2117\u001b[0m     token \u001b[39m=\u001b[39m \u001b[39mself\u001b[39m\u001b[39m.\u001b[39m_token_loader(\u001b[39mself\u001b[39m\u001b[39m.\u001b[39m_start_url)[\u001b[39m'\u001b[39m\u001b[39maccessToken\u001b[39m\u001b[39m'\u001b[39m]\n",
      "File \u001b[1;32mc:\\Users\\silvh\\.conda\\envs\\projects\\Lib\\site-packages\\botocore\\tokens.py:82\u001b[0m, in \u001b[0;36mDeferredRefreshableToken.get_frozen_token\u001b[1;34m(self)\u001b[0m\n\u001b[0;32m     81\u001b[0m \u001b[39mdef\u001b[39;00m \u001b[39mget_frozen_token\u001b[39m(\u001b[39mself\u001b[39m):\n\u001b[1;32m---> 82\u001b[0m     \u001b[39mself\u001b[39m\u001b[39m.\u001b[39m_refresh()\n\u001b[0;32m     83\u001b[0m     \u001b[39mreturn\u001b[39;00m \u001b[39mself\u001b[39m\u001b[39m.\u001b[39m_frozen_token\n",
      "File \u001b[1;32mc:\\Users\\silvh\\.conda\\envs\\projects\\Lib\\site-packages\\botocore\\tokens.py:95\u001b[0m, in \u001b[0;36mDeferredRefreshableToken._refresh\u001b[1;34m(self)\u001b[0m\n\u001b[0;32m     93\u001b[0m \u001b[39mif\u001b[39;00m \u001b[39mself\u001b[39m\u001b[39m.\u001b[39m_refresh_lock\u001b[39m.\u001b[39macquire(block_for_refresh):\n\u001b[0;32m     94\u001b[0m     \u001b[39mtry\u001b[39;00m:\n\u001b[1;32m---> 95\u001b[0m         \u001b[39mself\u001b[39m\u001b[39m.\u001b[39m_protected_refresh()\n\u001b[0;32m     96\u001b[0m     \u001b[39mfinally\u001b[39;00m:\n\u001b[0;32m     97\u001b[0m         \u001b[39mself\u001b[39m\u001b[39m.\u001b[39m_refresh_lock\u001b[39m.\u001b[39mrelease()\n",
      "File \u001b[1;32mc:\\Users\\silvh\\.conda\\envs\\projects\\Lib\\site-packages\\botocore\\tokens.py:122\u001b[0m, in \u001b[0;36mDeferredRefreshableToken._protected_refresh\u001b[1;34m(self)\u001b[0m\n\u001b[0;32m    118\u001b[0m         \u001b[39mraise\u001b[39;00m\n\u001b[0;32m    120\u001b[0m \u001b[39mif\u001b[39;00m \u001b[39mself\u001b[39m\u001b[39m.\u001b[39m_is_expired():\n\u001b[0;32m    121\u001b[0m     \u001b[39m# Fresh credentials should never be expired\u001b[39;00m\n\u001b[1;32m--> 122\u001b[0m     \u001b[39mraise\u001b[39;00m TokenRetrievalError(\n\u001b[0;32m    123\u001b[0m         provider\u001b[39m=\u001b[39m\u001b[39mself\u001b[39m\u001b[39m.\u001b[39mmethod,\n\u001b[0;32m    124\u001b[0m         error_msg\u001b[39m=\u001b[39m\u001b[39m\"\u001b[39m\u001b[39mToken has expired and refresh failed\u001b[39m\u001b[39m\"\u001b[39m,\n\u001b[0;32m    125\u001b[0m     )\n",
      "\u001b[1;31mTokenRetrievalError\u001b[0m: Error when retrieving token from sso: Token has expired and refresh failed"
     ]
    }
   ],
   "source": [
    "table.query(\n",
    "        KeyConditionExpression=Key('SessionId').eq('test')\n",
    "    )"
   ]
  },
  {
   "cell_type": "markdown",
   "metadata": {},
   "source": [
    "## 1.4 after deleteing `config` file"
   ]
  },
  {
   "cell_type": "code",
   "execution_count": 10,
   "metadata": {},
   "outputs": [
    {
     "data": {
      "text/plain": [
       "{'Items': [{'History': [{'type': 'ai',\n",
       "     'data': {'type': 'ai',\n",
       "      'content': 'This is a test message',\n",
       "      'additional_kwargs': {},\n",
       "      'example': False}},\n",
       "    {'type': 'human',\n",
       "     'data': {'type': 'human',\n",
       "      'content': 'This is a test inbound message',\n",
       "      'additional_kwargs': {},\n",
       "      'example': False}},\n",
       "    {'type': 'human',\n",
       "     'data': {'type': 'human',\n",
       "      'content': 'This is another test inbound message',\n",
       "      'additional_kwargs': {},\n",
       "      'example': False}},\n",
       "    {'type': 'human',\n",
       "     'data': {'type': 'human',\n",
       "      'content': 'This is a test inbound message',\n",
       "      'additional_kwargs': {},\n",
       "      'example': False}}],\n",
       "   'SessionId': 'test',\n",
       "   'type': 'ChatHistory'},\n",
       "  {'SessionId': 'test',\n",
       "   'messageType': 'SMS',\n",
       "   'business': 'SAM Lab',\n",
       "   'attachments': '',\n",
       "   'conversationId': 'fcanlLgpbQgQhderivVs',\n",
       "   'contentType': 'text/plain',\n",
       "   'userId': '80pzXdC3MCqKRpzrteuj',\n",
       "   'dateAdded': '2023-11-10T10:26:02.000Z',\n",
       "   'direction': 'inbound',\n",
       "   'locationId': 'QSZ6lvarPNxtmTFl84W8',\n",
       "   'body': 'This is a test inbound message',\n",
       "   'type': 'InboundMessage_2023-11-10 14:50:02'},\n",
       "  {'SessionId': 'test',\n",
       "   'messageType': 'SMS',\n",
       "   'business': 'SAM Lab',\n",
       "   'attachments': '',\n",
       "   'conversationId': 'fcanlLgpbQgQhderivVs',\n",
       "   'contentType': 'text/plain',\n",
       "   'userId': '80pzXdC3MCqKRpzrteuj',\n",
       "   'dateAdded': '2023-11-10T12:26:02.000Z',\n",
       "   'direction': 'inbound',\n",
       "   'locationId': 'QSZ6lvarPNxtmTFl84W8',\n",
       "   'body': 'This is another test inbound message',\n",
       "   'type': 'InboundMessage_2023-11-10 14:54:25'},\n",
       "  {'SessionId': 'test',\n",
       "   'messageType': 'SMS',\n",
       "   'business': 'SAM Lab',\n",
       "   'attachments': '',\n",
       "   'conversationId': 'fcanlLgpbQgQhderivVs',\n",
       "   'contentType': 'text/plain',\n",
       "   'userId': '80pzXdC3MCqKRpzrteuj',\n",
       "   'dateAdded': '2023-11-10T12:26:02.000Z',\n",
       "   'direction': 'inbound',\n",
       "   'locationId': 'QSZ6lvarPNxtmTFl84W8',\n",
       "   'body': 'This is another test inbound message',\n",
       "   'type': 'InboundMessage_2023-11-10 14:54:37'},\n",
       "  {'SessionId': 'test',\n",
       "   'messageType': 'SMS',\n",
       "   'business': 'SAM Lab',\n",
       "   'attachments': '',\n",
       "   'conversationId': 'fcanlLgpbQgQhderivVs',\n",
       "   'contentType': 'text/plain',\n",
       "   'userId': '80pzXdC3MCqKRpzrteuj',\n",
       "   'dateAdded': '2023-11-10T10:26:02.000Z',\n",
       "   'direction': 'inbound',\n",
       "   'locationId': 'QSZ6lvarPNxtmTFl84W8',\n",
       "   'body': 'This is a test inbound message',\n",
       "   'type': 'InboundMessage_2023-11-10 15:10:43'},\n",
       "  {'SessionId': 'test',\n",
       "   'messageType': 'SMS',\n",
       "   'business': 'SAM Lab',\n",
       "   'attachments': '',\n",
       "   'conversationId': 'fcanlLgpbQgQhderivVs',\n",
       "   'contentType': 'text/plain',\n",
       "   'userId': '80pzXdC3MCqKRpzrteuj',\n",
       "   'dateAdded': '2023-11-10T12:26:02.000Z',\n",
       "   'direction': 'inbound',\n",
       "   'locationId': 'QSZ6lvarPNxtmTFl84W8',\n",
       "   'body': 'This is another test inbound message',\n",
       "   'type': 'InboundMessage_2023-11-10 16:45:17'},\n",
       "  {'SessionId': 'test',\n",
       "   'messageType': 'SMS',\n",
       "   'business': 'SAM Lab',\n",
       "   'attachments': '',\n",
       "   'conversationId': 'fcanlLgpbQgQhderivVs',\n",
       "   'contentType': 'text/plain',\n",
       "   'userId': '80pzXdC3MCqKRpzrteuj',\n",
       "   'dateAdded': '2023-11-10T10:26:02.000Z',\n",
       "   'direction': 'inbound',\n",
       "   'locationId': 'QSZ6lvarPNxtmTFl84W8',\n",
       "   'body': 'This is a test inbound message',\n",
       "   'type': 'InboundMessage_2023-11-11 20:25:53'}],\n",
       " 'Count': 7,\n",
       " 'ScannedCount': 7,\n",
       " 'ResponseMetadata': {'RequestId': '2ARKAPPPKIC8FQKHIJPGTG49VNVV4KQNSO5AEMVJF66Q9ASUAAJG',\n",
       "  'HTTPStatusCode': 200,\n",
       "  'HTTPHeaders': {'server': 'Server',\n",
       "   'date': 'Mon, 13 Nov 2023 01:10:28 GMT',\n",
       "   'content-type': 'application/x-amz-json-1.0',\n",
       "   'content-length': '3378',\n",
       "   'connection': 'keep-alive',\n",
       "   'x-amzn-requestid': '2ARKAPPPKIC8FQKHIJPGTG49VNVV4KQNSO5AEMVJF66Q9ASUAAJG',\n",
       "   'x-amz-crc32': '1603102620'},\n",
       "  'RetryAttempts': 0}}"
      ]
     },
     "execution_count": 10,
     "metadata": {},
     "output_type": "execute_result"
    }
   ],
   "source": [
    "import boto3\n",
    "from boto3.dynamodb.conditions import Key\n",
    "\n",
    "def query_dynamodb_table(table_name, value, key='SessionId', profile='mcgill', region_name=\"us-west-2\"):\n",
    "    \"\"\"\n",
    "    Query a Dynamodb table and print the results.\n",
    "    Parameters:\n",
    "        table_name (str): The name of the DynamoDB table.\n",
    "        value (str): The value of the key.\n",
    "        key (str): The name of the key.\n",
    "        region_name (str): The name of the AWS region.\n",
    "\n",
    "    Returns:\n",
    "        dict: The results of the query. The 'Items' key contains the table record.       \n",
    "    From 2023-10-22 notebook.\n",
    "    \"\"\"\n",
    "    session = boto3.Session(profile_name=profile)\n",
    "    dynamodb = session.resource('dynamodb', region_name=region_name)\n",
    "    table = dynamodb.Table(table_name)\n",
    "    response = table.query(\n",
    "        KeyConditionExpression=Key(key).eq(value)\n",
    "    )\n",
    "    return response\n",
    "\n",
    "iteration = 1.4\n",
    "query_dict[iteration] = query_dynamodb_table('SessionTable', 'test')\n",
    "query_dict[iteration]"
   ]
  },
  {
   "cell_type": "markdown",
   "metadata": {},
   "source": [
    "### Restored `config` file and renamed [mcgill] in `credentials` file to `mcgill_credentials`"
   ]
  },
  {
   "cell_type": "code",
   "execution_count": 11,
   "metadata": {},
   "outputs": [
    {
     "data": {
      "text/plain": [
       "{'Items': [{'History': [{'type': 'ai',\n",
       "     'data': {'type': 'ai',\n",
       "      'content': 'This is a test message',\n",
       "      'additional_kwargs': {},\n",
       "      'example': False}},\n",
       "    {'type': 'human',\n",
       "     'data': {'type': 'human',\n",
       "      'content': 'This is a test inbound message',\n",
       "      'additional_kwargs': {},\n",
       "      'example': False}},\n",
       "    {'type': 'human',\n",
       "     'data': {'type': 'human',\n",
       "      'content': 'This is another test inbound message',\n",
       "      'additional_kwargs': {},\n",
       "      'example': False}},\n",
       "    {'type': 'human',\n",
       "     'data': {'type': 'human',\n",
       "      'content': 'This is a test inbound message',\n",
       "      'additional_kwargs': {},\n",
       "      'example': False}}],\n",
       "   'SessionId': 'test',\n",
       "   'type': 'ChatHistory'},\n",
       "  {'SessionId': 'test',\n",
       "   'messageType': 'SMS',\n",
       "   'business': 'SAM Lab',\n",
       "   'attachments': '',\n",
       "   'conversationId': 'fcanlLgpbQgQhderivVs',\n",
       "   'contentType': 'text/plain',\n",
       "   'userId': '80pzXdC3MCqKRpzrteuj',\n",
       "   'dateAdded': '2023-11-10T10:26:02.000Z',\n",
       "   'direction': 'inbound',\n",
       "   'locationId': 'QSZ6lvarPNxtmTFl84W8',\n",
       "   'body': 'This is a test inbound message',\n",
       "   'type': 'InboundMessage_2023-11-10 14:50:02'},\n",
       "  {'SessionId': 'test',\n",
       "   'messageType': 'SMS',\n",
       "   'business': 'SAM Lab',\n",
       "   'attachments': '',\n",
       "   'conversationId': 'fcanlLgpbQgQhderivVs',\n",
       "   'contentType': 'text/plain',\n",
       "   'userId': '80pzXdC3MCqKRpzrteuj',\n",
       "   'dateAdded': '2023-11-10T12:26:02.000Z',\n",
       "   'direction': 'inbound',\n",
       "   'locationId': 'QSZ6lvarPNxtmTFl84W8',\n",
       "   'body': 'This is another test inbound message',\n",
       "   'type': 'InboundMessage_2023-11-10 14:54:25'},\n",
       "  {'SessionId': 'test',\n",
       "   'messageType': 'SMS',\n",
       "   'business': 'SAM Lab',\n",
       "   'attachments': '',\n",
       "   'conversationId': 'fcanlLgpbQgQhderivVs',\n",
       "   'contentType': 'text/plain',\n",
       "   'userId': '80pzXdC3MCqKRpzrteuj',\n",
       "   'dateAdded': '2023-11-10T12:26:02.000Z',\n",
       "   'direction': 'inbound',\n",
       "   'locationId': 'QSZ6lvarPNxtmTFl84W8',\n",
       "   'body': 'This is another test inbound message',\n",
       "   'type': 'InboundMessage_2023-11-10 14:54:37'},\n",
       "  {'SessionId': 'test',\n",
       "   'messageType': 'SMS',\n",
       "   'business': 'SAM Lab',\n",
       "   'attachments': '',\n",
       "   'conversationId': 'fcanlLgpbQgQhderivVs',\n",
       "   'contentType': 'text/plain',\n",
       "   'userId': '80pzXdC3MCqKRpzrteuj',\n",
       "   'dateAdded': '2023-11-10T10:26:02.000Z',\n",
       "   'direction': 'inbound',\n",
       "   'locationId': 'QSZ6lvarPNxtmTFl84W8',\n",
       "   'body': 'This is a test inbound message',\n",
       "   'type': 'InboundMessage_2023-11-10 15:10:43'},\n",
       "  {'SessionId': 'test',\n",
       "   'messageType': 'SMS',\n",
       "   'business': 'SAM Lab',\n",
       "   'attachments': '',\n",
       "   'conversationId': 'fcanlLgpbQgQhderivVs',\n",
       "   'contentType': 'text/plain',\n",
       "   'userId': '80pzXdC3MCqKRpzrteuj',\n",
       "   'dateAdded': '2023-11-10T12:26:02.000Z',\n",
       "   'direction': 'inbound',\n",
       "   'locationId': 'QSZ6lvarPNxtmTFl84W8',\n",
       "   'body': 'This is another test inbound message',\n",
       "   'type': 'InboundMessage_2023-11-10 16:45:17'},\n",
       "  {'SessionId': 'test',\n",
       "   'messageType': 'SMS',\n",
       "   'business': 'SAM Lab',\n",
       "   'attachments': '',\n",
       "   'conversationId': 'fcanlLgpbQgQhderivVs',\n",
       "   'contentType': 'text/plain',\n",
       "   'userId': '80pzXdC3MCqKRpzrteuj',\n",
       "   'dateAdded': '2023-11-10T10:26:02.000Z',\n",
       "   'direction': 'inbound',\n",
       "   'locationId': 'QSZ6lvarPNxtmTFl84W8',\n",
       "   'body': 'This is a test inbound message',\n",
       "   'type': 'InboundMessage_2023-11-11 20:25:53'}],\n",
       " 'Count': 7,\n",
       " 'ScannedCount': 7,\n",
       " 'ResponseMetadata': {'RequestId': 'R8IQT2LMPUHCNKGN8SATPSLEBVVV4KQNSO5AEMVJF66Q9ASUAAJG',\n",
       "  'HTTPStatusCode': 200,\n",
       "  'HTTPHeaders': {'server': 'Server',\n",
       "   'date': 'Mon, 13 Nov 2023 01:12:54 GMT',\n",
       "   'content-type': 'application/x-amz-json-1.0',\n",
       "   'content-length': '3378',\n",
       "   'connection': 'keep-alive',\n",
       "   'x-amzn-requestid': 'R8IQT2LMPUHCNKGN8SATPSLEBVVV4KQNSO5AEMVJF66Q9ASUAAJG',\n",
       "   'x-amz-crc32': '1603102620'},\n",
       "  'RetryAttempts': 0}}"
      ]
     },
     "execution_count": 11,
     "metadata": {},
     "output_type": "execute_result"
    }
   ],
   "source": [
    "import boto3\n",
    "from boto3.dynamodb.conditions import Key\n",
    "\n",
    "def query_dynamodb_table(table_name, value, key='SessionId', profile='mcgill_credentials', region_name=\"us-west-2\"):\n",
    "    \"\"\"\n",
    "    Query a Dynamodb table and print the results.\n",
    "    Parameters:\n",
    "        table_name (str): The name of the DynamoDB table.\n",
    "        value (str): The value of the key.\n",
    "        key (str): The name of the key.\n",
    "        region_name (str): The name of the AWS region.\n",
    "\n",
    "    Returns:\n",
    "        dict: The results of the query. The 'Items' key contains the table record.       \n",
    "    From 2023-10-22 notebook.\n",
    "    \"\"\"\n",
    "    session = boto3.Session(profile_name=profile)\n",
    "    dynamodb = session.resource('dynamodb', region_name=region_name)\n",
    "    table = dynamodb.Table(table_name)\n",
    "    response = table.query(\n",
    "        KeyConditionExpression=Key(key).eq(value)\n",
    "    )\n",
    "    return response\n",
    "\n",
    "iteration = 1.5\n",
    "query_dict[iteration] = query_dynamodb_table('SessionTable', 'test')\n",
    "query_dict[iteration]"
   ]
  },
  {
   "cell_type": "markdown",
   "metadata": {},
   "source": [
    "## 1.5"
   ]
  },
  {
   "cell_type": "code",
   "execution_count": 12,
   "metadata": {},
   "outputs": [
    {
     "name": "stdout",
     "output_type": "stream",
     "text": [
      "KeyConditionExpression: SessionId = :test AND type = :ChatHistory\n"
     ]
    },
    {
     "ename": "ClientError",
     "evalue": "An error occurred (ValidationException) when calling the Query operation: Invalid KeyConditionExpression: Attribute name is a reserved keyword; reserved keyword: type",
     "output_type": "error",
     "traceback": [
      "\u001b[1;31m---------------------------------------------------------------------------\u001b[0m",
      "\u001b[1;31mClientError\u001b[0m                               Traceback (most recent call last)",
      "\u001b[1;32mc:\\Users\\silvh\\OneDrive\\lighthouse\\portfolio-projects\\GHL-chat\\notebooks\\2023-11-12 DynamoDB and LangChain testing.ipynb Cell 22\u001b[0m line \u001b[0;36m3\n\u001b[0;32m     <a href='vscode-notebook-cell:/c%3A/Users/silvh/OneDrive/lighthouse/portfolio-projects/GHL-chat/notebooks/2023-11-12%20DynamoDB%20and%20LangChain%20testing.ipynb#X11sZmlsZQ%3D%3D?line=30'>31</a>\u001b[0m     \u001b[39mreturn\u001b[39;00m response\n\u001b[0;32m     <a href='vscode-notebook-cell:/c%3A/Users/silvh/OneDrive/lighthouse/portfolio-projects/GHL-chat/notebooks/2023-11-12%20DynamoDB%20and%20LangChain%20testing.ipynb#X11sZmlsZQ%3D%3D?line=32'>33</a>\u001b[0m iteration \u001b[39m=\u001b[39m \u001b[39m1.5\u001b[39m\n\u001b[1;32m---> <a href='vscode-notebook-cell:/c%3A/Users/silvh/OneDrive/lighthouse/portfolio-projects/GHL-chat/notebooks/2023-11-12%20DynamoDB%20and%20LangChain%20testing.ipynb#X11sZmlsZQ%3D%3D?line=33'>34</a>\u001b[0m query_dict[iteration] \u001b[39m=\u001b[39m query_dynamodb_table(\u001b[39m'\u001b[39m\u001b[39mSessionTable\u001b[39m\u001b[39m'\u001b[39m, \u001b[39m'\u001b[39m\u001b[39mtest\u001b[39m\u001b[39m'\u001b[39m, \u001b[39m'\u001b[39m\u001b[39mChatHistory\u001b[39m\u001b[39m'\u001b[39m)\n\u001b[0;32m     <a href='vscode-notebook-cell:/c%3A/Users/silvh/OneDrive/lighthouse/portfolio-projects/GHL-chat/notebooks/2023-11-12%20DynamoDB%20and%20LangChain%20testing.ipynb#X11sZmlsZQ%3D%3D?line=34'>35</a>\u001b[0m query_dict[iteration]\n",
      "\u001b[1;32mc:\\Users\\silvh\\OneDrive\\lighthouse\\portfolio-projects\\GHL-chat\\notebooks\\2023-11-12 DynamoDB and LangChain testing.ipynb Cell 22\u001b[0m line \u001b[0;36m2\n\u001b[0;32m     <a href='vscode-notebook-cell:/c%3A/Users/silvh/OneDrive/lighthouse/portfolio-projects/GHL-chat/notebooks/2023-11-12%20DynamoDB%20and%20LangChain%20testing.ipynb#X11sZmlsZQ%3D%3D?line=25'>26</a>\u001b[0m KeyConditionExpression \u001b[39m=\u001b[39m \u001b[39mf\u001b[39m\u001b[39m\"\u001b[39m\u001b[39m{\u001b[39;00mpartition_key\u001b[39m}\u001b[39;00m\u001b[39m = :\u001b[39m\u001b[39m{\u001b[39;00mpartition_key_value\u001b[39m}\u001b[39;00m\u001b[39m AND \u001b[39m\u001b[39m{\u001b[39;00msort_key\u001b[39m}\u001b[39;00m\u001b[39m = :\u001b[39m\u001b[39m{\u001b[39;00msort_key_value\u001b[39m}\u001b[39;00m\u001b[39m\"\u001b[39m\n\u001b[0;32m     <a href='vscode-notebook-cell:/c%3A/Users/silvh/OneDrive/lighthouse/portfolio-projects/GHL-chat/notebooks/2023-11-12%20DynamoDB%20and%20LangChain%20testing.ipynb#X11sZmlsZQ%3D%3D?line=26'>27</a>\u001b[0m \u001b[39mprint\u001b[39m(\u001b[39mf\u001b[39m\u001b[39m'\u001b[39m\u001b[39mKeyConditionExpression: \u001b[39m\u001b[39m{\u001b[39;00mKeyConditionExpression\u001b[39m}\u001b[39;00m\u001b[39m'\u001b[39m)\n\u001b[1;32m---> <a href='vscode-notebook-cell:/c%3A/Users/silvh/OneDrive/lighthouse/portfolio-projects/GHL-chat/notebooks/2023-11-12%20DynamoDB%20and%20LangChain%20testing.ipynb#X11sZmlsZQ%3D%3D?line=27'>28</a>\u001b[0m response \u001b[39m=\u001b[39m table\u001b[39m.\u001b[39mquery(\n\u001b[0;32m     <a href='vscode-notebook-cell:/c%3A/Users/silvh/OneDrive/lighthouse/portfolio-projects/GHL-chat/notebooks/2023-11-12%20DynamoDB%20and%20LangChain%20testing.ipynb#X11sZmlsZQ%3D%3D?line=28'>29</a>\u001b[0m     KeyConditionExpression\u001b[39m=\u001b[39mKeyConditionExpression,\n\u001b[0;32m     <a href='vscode-notebook-cell:/c%3A/Users/silvh/OneDrive/lighthouse/portfolio-projects/GHL-chat/notebooks/2023-11-12%20DynamoDB%20and%20LangChain%20testing.ipynb#X11sZmlsZQ%3D%3D?line=29'>30</a>\u001b[0m )\n\u001b[0;32m     <a href='vscode-notebook-cell:/c%3A/Users/silvh/OneDrive/lighthouse/portfolio-projects/GHL-chat/notebooks/2023-11-12%20DynamoDB%20and%20LangChain%20testing.ipynb#X11sZmlsZQ%3D%3D?line=30'>31</a>\u001b[0m \u001b[39mreturn\u001b[39;00m response\n",
      "File \u001b[1;32mc:\\Users\\silvh\\.conda\\envs\\projects\\Lib\\site-packages\\boto3\\resources\\factory.py:580\u001b[0m, in \u001b[0;36mResourceFactory._create_action.<locals>.do_action\u001b[1;34m(self, *args, **kwargs)\u001b[0m\n\u001b[0;32m    579\u001b[0m \u001b[39mdef\u001b[39;00m \u001b[39mdo_action\u001b[39m(\u001b[39mself\u001b[39m, \u001b[39m*\u001b[39margs, \u001b[39m*\u001b[39m\u001b[39m*\u001b[39mkwargs):\n\u001b[1;32m--> 580\u001b[0m     response \u001b[39m=\u001b[39m action(\u001b[39mself\u001b[39m, \u001b[39m*\u001b[39margs, \u001b[39m*\u001b[39m\u001b[39m*\u001b[39mkwargs)\n\u001b[0;32m    582\u001b[0m     \u001b[39mif\u001b[39;00m \u001b[39mhasattr\u001b[39m(\u001b[39mself\u001b[39m, \u001b[39m'\u001b[39m\u001b[39mload\u001b[39m\u001b[39m'\u001b[39m):\n\u001b[0;32m    583\u001b[0m         \u001b[39m# Clear cached data. It will be reloaded the next\u001b[39;00m\n\u001b[0;32m    584\u001b[0m         \u001b[39m# time that an attribute is accessed.\u001b[39;00m\n\u001b[0;32m    585\u001b[0m         \u001b[39m# TODO: Make this configurable in the future?\u001b[39;00m\n\u001b[0;32m    586\u001b[0m         \u001b[39mself\u001b[39m\u001b[39m.\u001b[39mmeta\u001b[39m.\u001b[39mdata \u001b[39m=\u001b[39m \u001b[39mNone\u001b[39;00m\n",
      "File \u001b[1;32mc:\\Users\\silvh\\.conda\\envs\\projects\\Lib\\site-packages\\boto3\\resources\\action.py:88\u001b[0m, in \u001b[0;36mServiceAction.__call__\u001b[1;34m(self, parent, *args, **kwargs)\u001b[0m\n\u001b[0;32m     79\u001b[0m params\u001b[39m.\u001b[39mupdate(kwargs)\n\u001b[0;32m     81\u001b[0m logger\u001b[39m.\u001b[39mdebug(\n\u001b[0;32m     82\u001b[0m     \u001b[39m'\u001b[39m\u001b[39mCalling \u001b[39m\u001b[39m%s\u001b[39;00m\u001b[39m:\u001b[39m\u001b[39m%s\u001b[39;00m\u001b[39m with \u001b[39m\u001b[39m%r\u001b[39;00m\u001b[39m'\u001b[39m,\n\u001b[0;32m     83\u001b[0m     parent\u001b[39m.\u001b[39mmeta\u001b[39m.\u001b[39mservice_name,\n\u001b[0;32m     84\u001b[0m     operation_name,\n\u001b[0;32m     85\u001b[0m     params,\n\u001b[0;32m     86\u001b[0m )\n\u001b[1;32m---> 88\u001b[0m response \u001b[39m=\u001b[39m \u001b[39mgetattr\u001b[39m(parent\u001b[39m.\u001b[39mmeta\u001b[39m.\u001b[39mclient, operation_name)(\u001b[39m*\u001b[39margs, \u001b[39m*\u001b[39m\u001b[39m*\u001b[39mparams)\n\u001b[0;32m     90\u001b[0m logger\u001b[39m.\u001b[39mdebug(\u001b[39m'\u001b[39m\u001b[39mResponse: \u001b[39m\u001b[39m%r\u001b[39;00m\u001b[39m'\u001b[39m, response)\n\u001b[0;32m     92\u001b[0m \u001b[39mreturn\u001b[39;00m \u001b[39mself\u001b[39m\u001b[39m.\u001b[39m_response_handler(parent, params, response)\n",
      "File \u001b[1;32mc:\\Users\\silvh\\.conda\\envs\\projects\\Lib\\site-packages\\botocore\\client.py:535\u001b[0m, in \u001b[0;36mClientCreator._create_api_method.<locals>._api_call\u001b[1;34m(self, *args, **kwargs)\u001b[0m\n\u001b[0;32m    531\u001b[0m     \u001b[39mraise\u001b[39;00m \u001b[39mTypeError\u001b[39;00m(\n\u001b[0;32m    532\u001b[0m         \u001b[39mf\u001b[39m\u001b[39m\"\u001b[39m\u001b[39m{\u001b[39;00mpy_operation_name\u001b[39m}\u001b[39;00m\u001b[39m() only accepts keyword arguments.\u001b[39m\u001b[39m\"\u001b[39m\n\u001b[0;32m    533\u001b[0m     )\n\u001b[0;32m    534\u001b[0m \u001b[39m# The \"self\" in this scope is referring to the BaseClient.\u001b[39;00m\n\u001b[1;32m--> 535\u001b[0m \u001b[39mreturn\u001b[39;00m \u001b[39mself\u001b[39m\u001b[39m.\u001b[39m_make_api_call(operation_name, kwargs)\n",
      "File \u001b[1;32mc:\\Users\\silvh\\.conda\\envs\\projects\\Lib\\site-packages\\botocore\\client.py:980\u001b[0m, in \u001b[0;36mBaseClient._make_api_call\u001b[1;34m(self, operation_name, api_params)\u001b[0m\n\u001b[0;32m    978\u001b[0m     error_code \u001b[39m=\u001b[39m parsed_response\u001b[39m.\u001b[39mget(\u001b[39m\"\u001b[39m\u001b[39mError\u001b[39m\u001b[39m\"\u001b[39m, {})\u001b[39m.\u001b[39mget(\u001b[39m\"\u001b[39m\u001b[39mCode\u001b[39m\u001b[39m\"\u001b[39m)\n\u001b[0;32m    979\u001b[0m     error_class \u001b[39m=\u001b[39m \u001b[39mself\u001b[39m\u001b[39m.\u001b[39mexceptions\u001b[39m.\u001b[39mfrom_code(error_code)\n\u001b[1;32m--> 980\u001b[0m     \u001b[39mraise\u001b[39;00m error_class(parsed_response, operation_name)\n\u001b[0;32m    981\u001b[0m \u001b[39melse\u001b[39;00m:\n\u001b[0;32m    982\u001b[0m     \u001b[39mreturn\u001b[39;00m parsed_response\n",
      "\u001b[1;31mClientError\u001b[0m: An error occurred (ValidationException) when calling the Query operation: Invalid KeyConditionExpression: Attribute name is a reserved keyword; reserved keyword: type"
     ]
    }
   ],
   "source": [
    "import boto3\n",
    "from boto3.dynamodb.conditions import Key\n",
    "\n",
    "\n",
    "def query_dynamodb_table(\n",
    "    table_name, partition_key_value, sort_key_value, partition_key='SessionId', sort_key='type', \n",
    "    profile='mcgill_credentials', region_name=\"us-west-2\"\n",
    "    ):\n",
    "    \"\"\"\n",
    "    Query a Dynamodb table based on both the partition key and sort key.\n",
    "    Parameters:\n",
    "        table_name (str): The name of the DynamoDB table.\n",
    "        partition_key_value (str): The value of the partition key.\n",
    "        sort_key_value (str): The value of the sort key.\n",
    "        partition_key (str): The name of the partition key.\n",
    "        sort_key (str): The name of the sort key.\n",
    "        region_name (str): The name of the AWS region.\n",
    "\n",
    "    Returns:\n",
    "        dict: The results of the query. The 'Items' key contains the table record.       \n",
    "    From 2023-10-22 notebook.\n",
    "    \"\"\"\n",
    "    session = boto3.Session(profile_name=profile)\n",
    "    dynamodb = session.resource('dynamodb', region_name=region_name)\n",
    "    table = dynamodb.Table(table_name)\n",
    "    KeyConditionExpression = f\"{partition_key} = :{partition_key_value} AND {sort_key} = :{sort_key_value}\"\n",
    "    print(f'KeyConditionExpression: {KeyConditionExpression}')\n",
    "    response = table.query(\n",
    "        KeyConditionExpression=KeyConditionExpression,\n",
    "    )\n",
    "    return response\n",
    "\n",
    "iteration = 1.5\n",
    "query_dict[iteration] = query_dynamodb_table('SessionTable', 'test', 'ChatHistory')\n",
    "query_dict[iteration]"
   ]
  },
  {
   "cell_type": "code",
   "execution_count": 13,
   "metadata": {},
   "outputs": [
    {
     "name": "stdout",
     "output_type": "stream",
     "text": [
      "KeyConditionExpression: SessionId = :JiITbu1ctIVEmktUGRtL AND firstName = :Silvia\n"
     ]
    },
    {
     "ename": "ClientError",
     "evalue": "An error occurred (ValidationException) when calling the Query operation: Invalid KeyConditionExpression: An expression attribute value used in expression is not defined; attribute value: :JiITbu1ctIVEmktUGRtL",
     "output_type": "error",
     "traceback": [
      "\u001b[1;31m---------------------------------------------------------------------------\u001b[0m",
      "\u001b[1;31mClientError\u001b[0m                               Traceback (most recent call last)",
      "\u001b[1;32mc:\\Users\\silvh\\OneDrive\\lighthouse\\portfolio-projects\\GHL-chat\\notebooks\\2023-11-12 DynamoDB and LangChain testing.ipynb Cell 23\u001b[0m line \u001b[0;36m2\n\u001b[0;32m      <a href='vscode-notebook-cell:/c%3A/Users/silvh/OneDrive/lighthouse/portfolio-projects/GHL-chat/notebooks/2023-11-12%20DynamoDB%20and%20LangChain%20testing.ipynb#X60sZmlsZQ%3D%3D?line=0'>1</a>\u001b[0m iteration \u001b[39m=\u001b[39m \u001b[39m1.51\u001b[39m\n\u001b[1;32m----> <a href='vscode-notebook-cell:/c%3A/Users/silvh/OneDrive/lighthouse/portfolio-projects/GHL-chat/notebooks/2023-11-12%20DynamoDB%20and%20LangChain%20testing.ipynb#X60sZmlsZQ%3D%3D?line=1'>2</a>\u001b[0m query_dict[iteration] \u001b[39m=\u001b[39m query_dynamodb_table(\u001b[39m'\u001b[39m\u001b[39mSessionTable\u001b[39m\u001b[39m'\u001b[39m, \u001b[39m'\u001b[39m\u001b[39mJiITbu1ctIVEmktUGRtL\u001b[39m\u001b[39m'\u001b[39m, \u001b[39m'\u001b[39m\u001b[39mSilvia\u001b[39m\u001b[39m'\u001b[39m, sort_key\u001b[39m=\u001b[39m\u001b[39m'\u001b[39m\u001b[39mfirstName\u001b[39m\u001b[39m'\u001b[39m)\n\u001b[0;32m      <a href='vscode-notebook-cell:/c%3A/Users/silvh/OneDrive/lighthouse/portfolio-projects/GHL-chat/notebooks/2023-11-12%20DynamoDB%20and%20LangChain%20testing.ipynb#X60sZmlsZQ%3D%3D?line=2'>3</a>\u001b[0m query_dict[iteration]\n",
      "\u001b[1;32mc:\\Users\\silvh\\OneDrive\\lighthouse\\portfolio-projects\\GHL-chat\\notebooks\\2023-11-12 DynamoDB and LangChain testing.ipynb Cell 23\u001b[0m line \u001b[0;36m2\n\u001b[0;32m     <a href='vscode-notebook-cell:/c%3A/Users/silvh/OneDrive/lighthouse/portfolio-projects/GHL-chat/notebooks/2023-11-12%20DynamoDB%20and%20LangChain%20testing.ipynb#X60sZmlsZQ%3D%3D?line=25'>26</a>\u001b[0m KeyConditionExpression \u001b[39m=\u001b[39m \u001b[39mf\u001b[39m\u001b[39m\"\u001b[39m\u001b[39m{\u001b[39;00mpartition_key\u001b[39m}\u001b[39;00m\u001b[39m = :\u001b[39m\u001b[39m{\u001b[39;00mpartition_key_value\u001b[39m}\u001b[39;00m\u001b[39m AND \u001b[39m\u001b[39m{\u001b[39;00msort_key\u001b[39m}\u001b[39;00m\u001b[39m = :\u001b[39m\u001b[39m{\u001b[39;00msort_key_value\u001b[39m}\u001b[39;00m\u001b[39m\"\u001b[39m\n\u001b[0;32m     <a href='vscode-notebook-cell:/c%3A/Users/silvh/OneDrive/lighthouse/portfolio-projects/GHL-chat/notebooks/2023-11-12%20DynamoDB%20and%20LangChain%20testing.ipynb#X60sZmlsZQ%3D%3D?line=26'>27</a>\u001b[0m \u001b[39mprint\u001b[39m(\u001b[39mf\u001b[39m\u001b[39m'\u001b[39m\u001b[39mKeyConditionExpression: \u001b[39m\u001b[39m{\u001b[39;00mKeyConditionExpression\u001b[39m}\u001b[39;00m\u001b[39m'\u001b[39m)\n\u001b[1;32m---> <a href='vscode-notebook-cell:/c%3A/Users/silvh/OneDrive/lighthouse/portfolio-projects/GHL-chat/notebooks/2023-11-12%20DynamoDB%20and%20LangChain%20testing.ipynb#X60sZmlsZQ%3D%3D?line=27'>28</a>\u001b[0m response \u001b[39m=\u001b[39m table\u001b[39m.\u001b[39mquery(\n\u001b[0;32m     <a href='vscode-notebook-cell:/c%3A/Users/silvh/OneDrive/lighthouse/portfolio-projects/GHL-chat/notebooks/2023-11-12%20DynamoDB%20and%20LangChain%20testing.ipynb#X60sZmlsZQ%3D%3D?line=28'>29</a>\u001b[0m     KeyConditionExpression\u001b[39m=\u001b[39mKeyConditionExpression,\n\u001b[0;32m     <a href='vscode-notebook-cell:/c%3A/Users/silvh/OneDrive/lighthouse/portfolio-projects/GHL-chat/notebooks/2023-11-12%20DynamoDB%20and%20LangChain%20testing.ipynb#X60sZmlsZQ%3D%3D?line=29'>30</a>\u001b[0m )\n\u001b[0;32m     <a href='vscode-notebook-cell:/c%3A/Users/silvh/OneDrive/lighthouse/portfolio-projects/GHL-chat/notebooks/2023-11-12%20DynamoDB%20and%20LangChain%20testing.ipynb#X60sZmlsZQ%3D%3D?line=30'>31</a>\u001b[0m \u001b[39mreturn\u001b[39;00m response\n",
      "File \u001b[1;32mc:\\Users\\silvh\\.conda\\envs\\projects\\Lib\\site-packages\\boto3\\resources\\factory.py:580\u001b[0m, in \u001b[0;36mResourceFactory._create_action.<locals>.do_action\u001b[1;34m(self, *args, **kwargs)\u001b[0m\n\u001b[0;32m    579\u001b[0m \u001b[39mdef\u001b[39;00m \u001b[39mdo_action\u001b[39m(\u001b[39mself\u001b[39m, \u001b[39m*\u001b[39margs, \u001b[39m*\u001b[39m\u001b[39m*\u001b[39mkwargs):\n\u001b[1;32m--> 580\u001b[0m     response \u001b[39m=\u001b[39m action(\u001b[39mself\u001b[39m, \u001b[39m*\u001b[39margs, \u001b[39m*\u001b[39m\u001b[39m*\u001b[39mkwargs)\n\u001b[0;32m    582\u001b[0m     \u001b[39mif\u001b[39;00m \u001b[39mhasattr\u001b[39m(\u001b[39mself\u001b[39m, \u001b[39m'\u001b[39m\u001b[39mload\u001b[39m\u001b[39m'\u001b[39m):\n\u001b[0;32m    583\u001b[0m         \u001b[39m# Clear cached data. It will be reloaded the next\u001b[39;00m\n\u001b[0;32m    584\u001b[0m         \u001b[39m# time that an attribute is accessed.\u001b[39;00m\n\u001b[0;32m    585\u001b[0m         \u001b[39m# TODO: Make this configurable in the future?\u001b[39;00m\n\u001b[0;32m    586\u001b[0m         \u001b[39mself\u001b[39m\u001b[39m.\u001b[39mmeta\u001b[39m.\u001b[39mdata \u001b[39m=\u001b[39m \u001b[39mNone\u001b[39;00m\n",
      "File \u001b[1;32mc:\\Users\\silvh\\.conda\\envs\\projects\\Lib\\site-packages\\boto3\\resources\\action.py:88\u001b[0m, in \u001b[0;36mServiceAction.__call__\u001b[1;34m(self, parent, *args, **kwargs)\u001b[0m\n\u001b[0;32m     79\u001b[0m params\u001b[39m.\u001b[39mupdate(kwargs)\n\u001b[0;32m     81\u001b[0m logger\u001b[39m.\u001b[39mdebug(\n\u001b[0;32m     82\u001b[0m     \u001b[39m'\u001b[39m\u001b[39mCalling \u001b[39m\u001b[39m%s\u001b[39;00m\u001b[39m:\u001b[39m\u001b[39m%s\u001b[39;00m\u001b[39m with \u001b[39m\u001b[39m%r\u001b[39;00m\u001b[39m'\u001b[39m,\n\u001b[0;32m     83\u001b[0m     parent\u001b[39m.\u001b[39mmeta\u001b[39m.\u001b[39mservice_name,\n\u001b[0;32m     84\u001b[0m     operation_name,\n\u001b[0;32m     85\u001b[0m     params,\n\u001b[0;32m     86\u001b[0m )\n\u001b[1;32m---> 88\u001b[0m response \u001b[39m=\u001b[39m \u001b[39mgetattr\u001b[39m(parent\u001b[39m.\u001b[39mmeta\u001b[39m.\u001b[39mclient, operation_name)(\u001b[39m*\u001b[39margs, \u001b[39m*\u001b[39m\u001b[39m*\u001b[39mparams)\n\u001b[0;32m     90\u001b[0m logger\u001b[39m.\u001b[39mdebug(\u001b[39m'\u001b[39m\u001b[39mResponse: \u001b[39m\u001b[39m%r\u001b[39;00m\u001b[39m'\u001b[39m, response)\n\u001b[0;32m     92\u001b[0m \u001b[39mreturn\u001b[39;00m \u001b[39mself\u001b[39m\u001b[39m.\u001b[39m_response_handler(parent, params, response)\n",
      "File \u001b[1;32mc:\\Users\\silvh\\.conda\\envs\\projects\\Lib\\site-packages\\botocore\\client.py:535\u001b[0m, in \u001b[0;36mClientCreator._create_api_method.<locals>._api_call\u001b[1;34m(self, *args, **kwargs)\u001b[0m\n\u001b[0;32m    531\u001b[0m     \u001b[39mraise\u001b[39;00m \u001b[39mTypeError\u001b[39;00m(\n\u001b[0;32m    532\u001b[0m         \u001b[39mf\u001b[39m\u001b[39m\"\u001b[39m\u001b[39m{\u001b[39;00mpy_operation_name\u001b[39m}\u001b[39;00m\u001b[39m() only accepts keyword arguments.\u001b[39m\u001b[39m\"\u001b[39m\n\u001b[0;32m    533\u001b[0m     )\n\u001b[0;32m    534\u001b[0m \u001b[39m# The \"self\" in this scope is referring to the BaseClient.\u001b[39;00m\n\u001b[1;32m--> 535\u001b[0m \u001b[39mreturn\u001b[39;00m \u001b[39mself\u001b[39m\u001b[39m.\u001b[39m_make_api_call(operation_name, kwargs)\n",
      "File \u001b[1;32mc:\\Users\\silvh\\.conda\\envs\\projects\\Lib\\site-packages\\botocore\\client.py:980\u001b[0m, in \u001b[0;36mBaseClient._make_api_call\u001b[1;34m(self, operation_name, api_params)\u001b[0m\n\u001b[0;32m    978\u001b[0m     error_code \u001b[39m=\u001b[39m parsed_response\u001b[39m.\u001b[39mget(\u001b[39m\"\u001b[39m\u001b[39mError\u001b[39m\u001b[39m\"\u001b[39m, {})\u001b[39m.\u001b[39mget(\u001b[39m\"\u001b[39m\u001b[39mCode\u001b[39m\u001b[39m\"\u001b[39m)\n\u001b[0;32m    979\u001b[0m     error_class \u001b[39m=\u001b[39m \u001b[39mself\u001b[39m\u001b[39m.\u001b[39mexceptions\u001b[39m.\u001b[39mfrom_code(error_code)\n\u001b[1;32m--> 980\u001b[0m     \u001b[39mraise\u001b[39;00m error_class(parsed_response, operation_name)\n\u001b[0;32m    981\u001b[0m \u001b[39melse\u001b[39;00m:\n\u001b[0;32m    982\u001b[0m     \u001b[39mreturn\u001b[39;00m parsed_response\n",
      "\u001b[1;31mClientError\u001b[0m: An error occurred (ValidationException) when calling the Query operation: Invalid KeyConditionExpression: An expression attribute value used in expression is not defined; attribute value: :JiITbu1ctIVEmktUGRtL"
     ]
    }
   ],
   "source": [
    "iteration = 1.51\n",
    "query_dict[iteration] = query_dynamodb_table('SessionTable', 'JiITbu1ctIVEmktUGRtL', 'Silvia', sort_key='firstName')\n",
    "query_dict[iteration]"
   ]
  },
  {
   "cell_type": "code",
   "execution_count": 16,
   "metadata": {},
   "outputs": [
    {
     "name": "stdout",
     "output_type": "stream",
     "text": [
      "KeyConditionExpression: SessionId = :test AND contentType = :text/plain\n"
     ]
    },
    {
     "ename": "ClientError",
     "evalue": "An error occurred (ValidationException) when calling the Query operation: Invalid KeyConditionExpression: Syntax error; token: \"/\", near: \":text/plain\"",
     "output_type": "error",
     "traceback": [
      "\u001b[1;31m---------------------------------------------------------------------------\u001b[0m",
      "\u001b[1;31mClientError\u001b[0m                               Traceback (most recent call last)",
      "\u001b[1;32mc:\\Users\\silvh\\OneDrive\\lighthouse\\portfolio-projects\\GHL-chat\\notebooks\\2023-11-12 DynamoDB and LangChain testing.ipynb Cell 24\u001b[0m line \u001b[0;36m2\n\u001b[0;32m      <a href='vscode-notebook-cell:/c%3A/Users/silvh/OneDrive/lighthouse/portfolio-projects/GHL-chat/notebooks/2023-11-12%20DynamoDB%20and%20LangChain%20testing.ipynb#X61sZmlsZQ%3D%3D?line=0'>1</a>\u001b[0m iteration \u001b[39m=\u001b[39m \u001b[39m1.52\u001b[39m\n\u001b[1;32m----> <a href='vscode-notebook-cell:/c%3A/Users/silvh/OneDrive/lighthouse/portfolio-projects/GHL-chat/notebooks/2023-11-12%20DynamoDB%20and%20LangChain%20testing.ipynb#X61sZmlsZQ%3D%3D?line=1'>2</a>\u001b[0m query_dict[iteration] \u001b[39m=\u001b[39m query_dynamodb_table(\u001b[39m'\u001b[39m\u001b[39mSessionTable\u001b[39m\u001b[39m'\u001b[39m, \u001b[39m'\u001b[39m\u001b[39mtest\u001b[39m\u001b[39m'\u001b[39m, \u001b[39m'\u001b[39m\u001b[39mtext/plain\u001b[39m\u001b[39m'\u001b[39m, sort_key\u001b[39m=\u001b[39m\u001b[39m'\u001b[39m\u001b[39mcontentType\u001b[39m\u001b[39m'\u001b[39m)\n\u001b[0;32m      <a href='vscode-notebook-cell:/c%3A/Users/silvh/OneDrive/lighthouse/portfolio-projects/GHL-chat/notebooks/2023-11-12%20DynamoDB%20and%20LangChain%20testing.ipynb#X61sZmlsZQ%3D%3D?line=2'>3</a>\u001b[0m query_dict[iteration]\n",
      "\u001b[1;32mc:\\Users\\silvh\\OneDrive\\lighthouse\\portfolio-projects\\GHL-chat\\notebooks\\2023-11-12 DynamoDB and LangChain testing.ipynb Cell 24\u001b[0m line \u001b[0;36m2\n\u001b[0;32m     <a href='vscode-notebook-cell:/c%3A/Users/silvh/OneDrive/lighthouse/portfolio-projects/GHL-chat/notebooks/2023-11-12%20DynamoDB%20and%20LangChain%20testing.ipynb#X61sZmlsZQ%3D%3D?line=25'>26</a>\u001b[0m KeyConditionExpression \u001b[39m=\u001b[39m \u001b[39mf\u001b[39m\u001b[39m\"\u001b[39m\u001b[39m{\u001b[39;00mpartition_key\u001b[39m}\u001b[39;00m\u001b[39m = :\u001b[39m\u001b[39m{\u001b[39;00mpartition_key_value\u001b[39m}\u001b[39;00m\u001b[39m AND \u001b[39m\u001b[39m{\u001b[39;00msort_key\u001b[39m}\u001b[39;00m\u001b[39m = :\u001b[39m\u001b[39m{\u001b[39;00msort_key_value\u001b[39m}\u001b[39;00m\u001b[39m\"\u001b[39m\n\u001b[0;32m     <a href='vscode-notebook-cell:/c%3A/Users/silvh/OneDrive/lighthouse/portfolio-projects/GHL-chat/notebooks/2023-11-12%20DynamoDB%20and%20LangChain%20testing.ipynb#X61sZmlsZQ%3D%3D?line=26'>27</a>\u001b[0m \u001b[39mprint\u001b[39m(\u001b[39mf\u001b[39m\u001b[39m'\u001b[39m\u001b[39mKeyConditionExpression: \u001b[39m\u001b[39m{\u001b[39;00mKeyConditionExpression\u001b[39m}\u001b[39;00m\u001b[39m'\u001b[39m)\n\u001b[1;32m---> <a href='vscode-notebook-cell:/c%3A/Users/silvh/OneDrive/lighthouse/portfolio-projects/GHL-chat/notebooks/2023-11-12%20DynamoDB%20and%20LangChain%20testing.ipynb#X61sZmlsZQ%3D%3D?line=27'>28</a>\u001b[0m response \u001b[39m=\u001b[39m table\u001b[39m.\u001b[39mquery(\n\u001b[0;32m     <a href='vscode-notebook-cell:/c%3A/Users/silvh/OneDrive/lighthouse/portfolio-projects/GHL-chat/notebooks/2023-11-12%20DynamoDB%20and%20LangChain%20testing.ipynb#X61sZmlsZQ%3D%3D?line=28'>29</a>\u001b[0m     KeyConditionExpression\u001b[39m=\u001b[39mKeyConditionExpression,\n\u001b[0;32m     <a href='vscode-notebook-cell:/c%3A/Users/silvh/OneDrive/lighthouse/portfolio-projects/GHL-chat/notebooks/2023-11-12%20DynamoDB%20and%20LangChain%20testing.ipynb#X61sZmlsZQ%3D%3D?line=29'>30</a>\u001b[0m )\n\u001b[0;32m     <a href='vscode-notebook-cell:/c%3A/Users/silvh/OneDrive/lighthouse/portfolio-projects/GHL-chat/notebooks/2023-11-12%20DynamoDB%20and%20LangChain%20testing.ipynb#X61sZmlsZQ%3D%3D?line=30'>31</a>\u001b[0m \u001b[39mreturn\u001b[39;00m response\n",
      "File \u001b[1;32mc:\\Users\\silvh\\.conda\\envs\\projects\\Lib\\site-packages\\boto3\\resources\\factory.py:580\u001b[0m, in \u001b[0;36mResourceFactory._create_action.<locals>.do_action\u001b[1;34m(self, *args, **kwargs)\u001b[0m\n\u001b[0;32m    579\u001b[0m \u001b[39mdef\u001b[39;00m \u001b[39mdo_action\u001b[39m(\u001b[39mself\u001b[39m, \u001b[39m*\u001b[39margs, \u001b[39m*\u001b[39m\u001b[39m*\u001b[39mkwargs):\n\u001b[1;32m--> 580\u001b[0m     response \u001b[39m=\u001b[39m action(\u001b[39mself\u001b[39m, \u001b[39m*\u001b[39margs, \u001b[39m*\u001b[39m\u001b[39m*\u001b[39mkwargs)\n\u001b[0;32m    582\u001b[0m     \u001b[39mif\u001b[39;00m \u001b[39mhasattr\u001b[39m(\u001b[39mself\u001b[39m, \u001b[39m'\u001b[39m\u001b[39mload\u001b[39m\u001b[39m'\u001b[39m):\n\u001b[0;32m    583\u001b[0m         \u001b[39m# Clear cached data. It will be reloaded the next\u001b[39;00m\n\u001b[0;32m    584\u001b[0m         \u001b[39m# time that an attribute is accessed.\u001b[39;00m\n\u001b[0;32m    585\u001b[0m         \u001b[39m# TODO: Make this configurable in the future?\u001b[39;00m\n\u001b[0;32m    586\u001b[0m         \u001b[39mself\u001b[39m\u001b[39m.\u001b[39mmeta\u001b[39m.\u001b[39mdata \u001b[39m=\u001b[39m \u001b[39mNone\u001b[39;00m\n",
      "File \u001b[1;32mc:\\Users\\silvh\\.conda\\envs\\projects\\Lib\\site-packages\\boto3\\resources\\action.py:88\u001b[0m, in \u001b[0;36mServiceAction.__call__\u001b[1;34m(self, parent, *args, **kwargs)\u001b[0m\n\u001b[0;32m     79\u001b[0m params\u001b[39m.\u001b[39mupdate(kwargs)\n\u001b[0;32m     81\u001b[0m logger\u001b[39m.\u001b[39mdebug(\n\u001b[0;32m     82\u001b[0m     \u001b[39m'\u001b[39m\u001b[39mCalling \u001b[39m\u001b[39m%s\u001b[39;00m\u001b[39m:\u001b[39m\u001b[39m%s\u001b[39;00m\u001b[39m with \u001b[39m\u001b[39m%r\u001b[39;00m\u001b[39m'\u001b[39m,\n\u001b[0;32m     83\u001b[0m     parent\u001b[39m.\u001b[39mmeta\u001b[39m.\u001b[39mservice_name,\n\u001b[0;32m     84\u001b[0m     operation_name,\n\u001b[0;32m     85\u001b[0m     params,\n\u001b[0;32m     86\u001b[0m )\n\u001b[1;32m---> 88\u001b[0m response \u001b[39m=\u001b[39m \u001b[39mgetattr\u001b[39m(parent\u001b[39m.\u001b[39mmeta\u001b[39m.\u001b[39mclient, operation_name)(\u001b[39m*\u001b[39margs, \u001b[39m*\u001b[39m\u001b[39m*\u001b[39mparams)\n\u001b[0;32m     90\u001b[0m logger\u001b[39m.\u001b[39mdebug(\u001b[39m'\u001b[39m\u001b[39mResponse: \u001b[39m\u001b[39m%r\u001b[39;00m\u001b[39m'\u001b[39m, response)\n\u001b[0;32m     92\u001b[0m \u001b[39mreturn\u001b[39;00m \u001b[39mself\u001b[39m\u001b[39m.\u001b[39m_response_handler(parent, params, response)\n",
      "File \u001b[1;32mc:\\Users\\silvh\\.conda\\envs\\projects\\Lib\\site-packages\\botocore\\client.py:535\u001b[0m, in \u001b[0;36mClientCreator._create_api_method.<locals>._api_call\u001b[1;34m(self, *args, **kwargs)\u001b[0m\n\u001b[0;32m    531\u001b[0m     \u001b[39mraise\u001b[39;00m \u001b[39mTypeError\u001b[39;00m(\n\u001b[0;32m    532\u001b[0m         \u001b[39mf\u001b[39m\u001b[39m\"\u001b[39m\u001b[39m{\u001b[39;00mpy_operation_name\u001b[39m}\u001b[39;00m\u001b[39m() only accepts keyword arguments.\u001b[39m\u001b[39m\"\u001b[39m\n\u001b[0;32m    533\u001b[0m     )\n\u001b[0;32m    534\u001b[0m \u001b[39m# The \"self\" in this scope is referring to the BaseClient.\u001b[39;00m\n\u001b[1;32m--> 535\u001b[0m \u001b[39mreturn\u001b[39;00m \u001b[39mself\u001b[39m\u001b[39m.\u001b[39m_make_api_call(operation_name, kwargs)\n",
      "File \u001b[1;32mc:\\Users\\silvh\\.conda\\envs\\projects\\Lib\\site-packages\\botocore\\client.py:980\u001b[0m, in \u001b[0;36mBaseClient._make_api_call\u001b[1;34m(self, operation_name, api_params)\u001b[0m\n\u001b[0;32m    978\u001b[0m     error_code \u001b[39m=\u001b[39m parsed_response\u001b[39m.\u001b[39mget(\u001b[39m\"\u001b[39m\u001b[39mError\u001b[39m\u001b[39m\"\u001b[39m, {})\u001b[39m.\u001b[39mget(\u001b[39m\"\u001b[39m\u001b[39mCode\u001b[39m\u001b[39m\"\u001b[39m)\n\u001b[0;32m    979\u001b[0m     error_class \u001b[39m=\u001b[39m \u001b[39mself\u001b[39m\u001b[39m.\u001b[39mexceptions\u001b[39m.\u001b[39mfrom_code(error_code)\n\u001b[1;32m--> 980\u001b[0m     \u001b[39mraise\u001b[39;00m error_class(parsed_response, operation_name)\n\u001b[0;32m    981\u001b[0m \u001b[39melse\u001b[39;00m:\n\u001b[0;32m    982\u001b[0m     \u001b[39mreturn\u001b[39;00m parsed_response\n",
      "\u001b[1;31mClientError\u001b[0m: An error occurred (ValidationException) when calling the Query operation: Invalid KeyConditionExpression: Syntax error; token: \"/\", near: \":text/plain\""
     ]
    }
   ],
   "source": [
    "iteration = 1.52\n",
    "query_dict[iteration] = query_dynamodb_table('SessionTable', 'test', 'text/plain', sort_key='contentType')\n",
    "query_dict[iteration]"
   ]
  },
  {
   "cell_type": "markdown",
   "metadata": {},
   "source": [
    "## 1.6"
   ]
  },
  {
   "cell_type": "code",
   "execution_count": 17,
   "metadata": {},
   "outputs": [
    {
     "name": "stdout",
     "output_type": "stream",
     "text": [
      "KeyConditionExpression: <boto3.dynamodb.conditions.And object at 0x0000021FB5E5E610>\n"
     ]
    },
    {
     "data": {
      "text/plain": [
       "{'Items': [{'History': [{'type': 'ai',\n",
       "     'data': {'type': 'ai',\n",
       "      'content': 'This is a test message',\n",
       "      'additional_kwargs': {},\n",
       "      'example': False}},\n",
       "    {'type': 'human',\n",
       "     'data': {'type': 'human',\n",
       "      'content': 'This is a test inbound message',\n",
       "      'additional_kwargs': {},\n",
       "      'example': False}},\n",
       "    {'type': 'human',\n",
       "     'data': {'type': 'human',\n",
       "      'content': 'This is another test inbound message',\n",
       "      'additional_kwargs': {},\n",
       "      'example': False}},\n",
       "    {'type': 'human',\n",
       "     'data': {'type': 'human',\n",
       "      'content': 'This is a test inbound message',\n",
       "      'additional_kwargs': {},\n",
       "      'example': False}}],\n",
       "   'SessionId': 'test',\n",
       "   'type': 'ChatHistory'}],\n",
       " 'Count': 1,\n",
       " 'ScannedCount': 1,\n",
       " 'ResponseMetadata': {'RequestId': 'N932VHBRQV0D4G5ORGMV92C5EVVV4KQNSO5AEMVJF66Q9ASUAAJG',\n",
       "  'HTTPStatusCode': 200,\n",
       "  'HTTPHeaders': {'server': 'Server',\n",
       "   'date': 'Mon, 13 Nov 2023 01:24:05 GMT',\n",
       "   'content-type': 'application/x-amz-json-1.0',\n",
       "   'content-length': '774',\n",
       "   'connection': 'keep-alive',\n",
       "   'x-amzn-requestid': 'N932VHBRQV0D4G5ORGMV92C5EVVV4KQNSO5AEMVJF66Q9ASUAAJG',\n",
       "   'x-amz-crc32': '3351122738'},\n",
       "  'RetryAttempts': 0}}"
      ]
     },
     "execution_count": 17,
     "metadata": {},
     "output_type": "execute_result"
    }
   ],
   "source": [
    "import boto3\n",
    "from boto3.dynamodb.conditions import Key\n",
    "\n",
    "\n",
    "def query_dynamodb_table(\n",
    "    table_name, partition_key_value, sort_key_value, partition_key='SessionId', sort_key='type', \n",
    "    profile='mcgill_credentials', region_name=\"us-west-2\"\n",
    "    ):\n",
    "    \"\"\"\n",
    "    Query a Dynamodb table based on both the partition key and sort key.\n",
    "    Parameters:\n",
    "        table_name (str): The name of the DynamoDB table.\n",
    "        partition_key_value (str): The value of the partition key.\n",
    "        sort_key_value (str): The value of the sort key.\n",
    "        partition_key (str): The name of the partition key.\n",
    "        sort_key (str): The name of the sort key.\n",
    "        region_name (str): The name of the AWS region.\n",
    "\n",
    "    Returns:\n",
    "        dict: The results of the query. The 'Items' key contains the table record.       \n",
    "    From 2023-10-22 notebook.\n",
    "    \"\"\"\n",
    "    session = boto3.Session(profile_name=profile)\n",
    "    dynamodb = session.resource('dynamodb', region_name=region_name)\n",
    "    table = dynamodb.Table(table_name)\n",
    "    KeyConditionExpression = Key(partition_key).eq(partition_key_value) & Key(sort_key).eq(sort_key_value)\n",
    "    print(f'KeyConditionExpression: {KeyConditionExpression}')\n",
    "    response = table.query(\n",
    "        KeyConditionExpression=KeyConditionExpression,\n",
    "    )\n",
    "    return response\n",
    "\n",
    "iteration = 1.6\n",
    "query_dict[iteration] = query_dynamodb_table('SessionTable', 'test', 'ChatHistory')\n",
    "query_dict[iteration]"
   ]
  },
  {
   "cell_type": "code",
   "execution_count": 18,
   "metadata": {},
   "outputs": [
    {
     "name": "stdout",
     "output_type": "stream",
     "text": [
      "KeyConditionExpression: <boto3.dynamodb.conditions.And object at 0x0000021FB67CE490>\n"
     ]
    },
    {
     "data": {
      "text/plain": [
       "{'Items': [{'SessionId': 'JiITbu1ctIVEmktUGRtL',\n",
       "   'dateAdded': '2023-10-26T05:57:07.551Z',\n",
       "   'locationId': 'QSZ6lvarPNxtmTFl84W8',\n",
       "   'id': 'g429yP1voWxNrmfICDGo',\n",
       "   'body': '2023-10-25 22:57',\n",
       "   'type': 'NoteCreate'}],\n",
       " 'Count': 1,\n",
       " 'ScannedCount': 1,\n",
       " 'ResponseMetadata': {'RequestId': 'VIODOTS15BFSOL5U0LCASIGMIBVV4KQNSO5AEMVJF66Q9ASUAAJG',\n",
       "  'HTTPStatusCode': 200,\n",
       "  'HTTPHeaders': {'server': 'Server',\n",
       "   'date': 'Mon, 13 Nov 2023 01:25:50 GMT',\n",
       "   'content-type': 'application/x-amz-json-1.0',\n",
       "   'content-length': '260',\n",
       "   'connection': 'keep-alive',\n",
       "   'x-amzn-requestid': 'VIODOTS15BFSOL5U0LCASIGMIBVV4KQNSO5AEMVJF66Q9ASUAAJG',\n",
       "   'x-amz-crc32': '3749659416'},\n",
       "  'RetryAttempts': 0}}"
      ]
     },
     "execution_count": 18,
     "metadata": {},
     "output_type": "execute_result"
    }
   ],
   "source": [
    "iteration = 1.61\n",
    "query_dict[iteration] = query_dynamodb_table('SessionTable', 'JiITbu1ctIVEmktUGRtL', 'NoteCreate')\n",
    "query_dict[iteration]"
   ]
  },
  {
   "cell_type": "markdown",
   "metadata": {},
   "source": [
    "## 1.7 allow for only partition key query"
   ]
  },
  {
   "cell_type": "code",
   "execution_count": null,
   "metadata": {},
   "outputs": [],
   "source": [
    "import boto3\n",
    "from boto3.dynamodb.conditions import Key\n",
    "\n",
    "\n",
    "def query_dynamodb_table(\n",
    "    table_name, partition_key_value, sort_key_value='', partition_key='SessionId', sort_key=None, \n",
    "    profile='mcgill_credentials', region_name=\"us-west-2\"\n",
    "    ):\n",
    "    \"\"\"\n",
    "    Query a Dynamodb table based on both the partition key and sort key.\n",
    "    Parameters:\n",
    "        table_name (str): The name of the DynamoDB table.\n",
    "        partition_key_value (str): The value of the partition key.\n",
    "        sort_key_value (str): The value of the sort key.\n",
    "        partition_key (str): The name of the partition key.\n",
    "        sort_key (str): The name of the sort key.\n",
    "        region_name (str): The name of the AWS region.\n",
    "\n",
    "    Returns:\n",
    "        dict: The results of the query. The 'Items' key contains the table record.       \n",
    "    From 2023-10-22 notebook.\n",
    "    \"\"\"\n",
    "    session = boto3.Session(profile_name=profile)\n",
    "    dynamodb = session.resource('dynamodb', region_name=region_name)\n",
    "    table = dynamodb.Table(table_name)\n",
    "    if sort_key:\n",
    "        KeyConditionExpression = Key(partition_key).eq(partition_key_value) & Key(sort_key).eq(sort_key_value)\n",
    "    else:\n",
    "        KeyConditionExpression = Key(partition_key).eq(partition_key_value)\n",
    "    print(f'KeyConditionExpression: {KeyConditionExpression}')\n",
    "    response = table.query(\n",
    "        KeyConditionExpression=KeyConditionExpression,\n",
    "    )\n",
    "    return response\n",
    "\n",
    "iteration = 1.7\n",
    "query_dict[iteration] = query_dynamodb_table('SessionTable', 'JiITbu1ctIVEmktUGRtL')"
   ]
  },
  {
   "cell_type": "markdown",
   "metadata": {},
   "source": [
    "## 1.8 allow for profile to be empty"
   ]
  },
  {
   "cell_type": "code",
   "execution_count": 22,
   "metadata": {},
   "outputs": [
    {
     "name": "stdout",
     "output_type": "stream",
     "text": [
      "KeyConditionExpression: <boto3.dynamodb.conditions.Equals object at 0x0000021FB6B73FD0>\n"
     ]
    }
   ],
   "source": [
    "import boto3\n",
    "from boto3.dynamodb.conditions import Key\n",
    "\n",
    "\n",
    "def query_dynamodb_table(\n",
    "    table_name, partition_key_value, sort_key_value='', partition_key='SessionId', sort_key=None, \n",
    "    profile='mcgill_credentials', region_name=\"us-west-2\"\n",
    "    ):\n",
    "    \"\"\"\n",
    "    Query a Dynamodb table based on both the partition key and sort key.\n",
    "    Parameters:\n",
    "        table_name (str): The name of the DynamoDB table.\n",
    "        partition_key_value (str): The value of the partition key.\n",
    "        sort_key_value (str): The value of the sort key.\n",
    "        partition_key (str): The name of the partition key.\n",
    "        sort_key (str): The name of the sort key.\n",
    "        region_name (str): The name of the AWS region.\n",
    "\n",
    "    Returns:\n",
    "        dict: The results of the query. The 'Items' key contains the table record.       \n",
    "    From 2023-10-22 notebook.\n",
    "    \"\"\"\n",
    "    if profile:\n",
    "        session = boto3.Session(profile_name=profile)\n",
    "        dynamodb = session.resource('dynamodb', region_name=region_name)\n",
    "    else:\n",
    "        dynamodb = boto3.resource('dynamodb', region_name=region_name)\n",
    "    table = dynamodb.Table(table_name)\n",
    "    if sort_key:\n",
    "        KeyConditionExpression = Key(partition_key).eq(partition_key_value) & Key(sort_key).eq(sort_key_value)\n",
    "    else:\n",
    "        KeyConditionExpression = Key(partition_key).eq(partition_key_value)\n",
    "    print(f'KeyConditionExpression: {KeyConditionExpression}')\n",
    "    response = table.query(\n",
    "        KeyConditionExpression=KeyConditionExpression,\n",
    "    )\n",
    "    return response\n",
    "\n",
    "iteration = 1.7\n",
    "query_dict[iteration] = query_dynamodb_table('SessionTable', 'test', 'ChatHistory', profile=None)"
   ]
  },
  {
   "cell_type": "code",
   "execution_count": 23,
   "metadata": {},
   "outputs": [
    {
     "data": {
      "text/plain": [
       "{'Items': [{'SessionId': 'test',\n",
       "   'History': [{'type': 'human',\n",
       "     'data': {'type': 'human',\n",
       "      'content': 'Where do I find parking?',\n",
       "      'additional_kwargs': {},\n",
       "      'example': False}},\n",
       "    {'type': 'ai',\n",
       "     'data': {'type': 'ai',\n",
       "      'content': 'There is parking available outside the gym on McEvoy St, as well as on the surrounding side streets. Additionally, you can park for free in the car park next to Tuga Pastries.',\n",
       "      'additional_kwargs': {},\n",
       "      'example': False}},\n",
       "    {'type': 'human',\n",
       "     'data': {'type': 'human',\n",
       "      'content': 'What is the name of the gym?',\n",
       "      'additional_kwargs': {},\n",
       "      'example': False}},\n",
       "    {'type': 'ai',\n",
       "     'data': {'type': 'ai',\n",
       "      'content': 'The name of the gym is Strength and Movement Lab.',\n",
       "      'additional_kwargs': {},\n",
       "      'example': False}},\n",
       "    {'type': 'human',\n",
       "     'data': {'type': 'human',\n",
       "      'content': 'Where do I find parking?',\n",
       "      'additional_kwargs': {},\n",
       "      'example': False}},\n",
       "    {'type': 'ai',\n",
       "     'data': {'type': 'ai',\n",
       "      'content': 'There is parking available outside the gym on McEvoy St, as well as on the surrounding side streets. Additionally, you can park for free in the car park next to Tuga Pastries.',\n",
       "      'additional_kwargs': {},\n",
       "      'example': False}},\n",
       "    {'type': 'human',\n",
       "     'data': {'type': 'human',\n",
       "      'content': 'How long is the introductor session?',\n",
       "      'additional_kwargs': {},\n",
       "      'example': False}},\n",
       "    {'type': 'ai',\n",
       "     'data': {'type': 'ai',\n",
       "      'content': 'The introductory session typically lasts around 30 minutes. During this session, we will have a chat, show you the gym, and go through some basic movements to ensure you are moving safely and effectively.',\n",
       "      'additional_kwargs': {},\n",
       "      'example': False}},\n",
       "    {'type': 'human',\n",
       "     'data': {'type': 'human',\n",
       "      'content': 'Where do I find parking?',\n",
       "      'additional_kwargs': {},\n",
       "      'example': False}},\n",
       "    {'type': 'ai',\n",
       "     'data': {'type': 'ai',\n",
       "      'content': 'There is parking available outside the gym on McEvoy St, as well as on the surrounding side streets. Additionally, you can park for free in the car park next to Tuga Pastries.',\n",
       "      'additional_kwargs': {},\n",
       "      'example': False}},\n",
       "    {'type': 'human',\n",
       "     'data': {'type': 'human',\n",
       "      'content': 'What if I have injuries',\n",
       "      'additional_kwargs': {},\n",
       "      'example': False}},\n",
       "    {'type': 'ai',\n",
       "     'data': {'type': 'ai',\n",
       "      'content': \"If you have any injuries, don't worry! We have experience working with members who have different types of injuries, and we can adapt the program to accommodate your needs. During the introductory session, we will also go through a movement screen to ensure that you are moving safely, effectively, and without any pain.\",\n",
       "      'additional_kwargs': {},\n",
       "      'example': False}}]}],\n",
       " 'Count': 1,\n",
       " 'ScannedCount': 1,\n",
       " 'ResponseMetadata': {'RequestId': 'UKJAVSC3H5BB8G4092UURC0LUJVV4KQNSO5AEMVJF66Q9ASUAAJG',\n",
       "  'HTTPStatusCode': 200,\n",
       "  'HTTPHeaders': {'server': 'Server',\n",
       "   'date': 'Mon, 13 Nov 2023 01:31:56 GMT',\n",
       "   'content-type': 'application/x-amz-json-1.0',\n",
       "   'content-length': '2960',\n",
       "   'connection': 'keep-alive',\n",
       "   'x-amzn-requestid': 'UKJAVSC3H5BB8G4092UURC0LUJVV4KQNSO5AEMVJF66Q9ASUAAJG',\n",
       "   'x-amz-crc32': '2546537099'},\n",
       "  'RetryAttempts': 0}}"
      ]
     },
     "execution_count": 23,
     "metadata": {},
     "output_type": "execute_result"
    }
   ],
   "source": [
    "query_dict[iteration]"
   ]
  },
  {
   "cell_type": "markdown",
   "metadata": {},
   "source": []
  },
  {
   "cell_type": "code",
   "execution_count": null,
   "metadata": {},
   "outputs": [],
   "source": []
  },
  {
   "cell_type": "code",
   "execution_count": null,
   "metadata": {},
   "outputs": [],
   "source": []
  },
  {
   "cell_type": "code",
   "execution_count": null,
   "metadata": {},
   "outputs": [],
   "source": []
  },
  {
   "cell_type": "code",
   "execution_count": null,
   "metadata": {},
   "outputs": [],
   "source": []
  },
  {
   "cell_type": "code",
   "execution_count": null,
   "metadata": {},
   "outputs": [],
   "source": []
  },
  {
   "cell_type": "code",
   "execution_count": null,
   "metadata": {},
   "outputs": [],
   "source": []
  },
  {
   "cell_type": "code",
   "execution_count": null,
   "metadata": {},
   "outputs": [],
   "source": []
  },
  {
   "cell_type": "code",
   "execution_count": null,
   "metadata": {},
   "outputs": [],
   "source": []
  },
  {
   "cell_type": "code",
   "execution_count": null,
   "metadata": {},
   "outputs": [],
   "source": []
  },
  {
   "cell_type": "code",
   "execution_count": null,
   "metadata": {},
   "outputs": [],
   "source": []
  },
  {
   "cell_type": "code",
   "execution_count": null,
   "metadata": {},
   "outputs": [],
   "source": []
  },
  {
   "attachments": {},
   "cell_type": "markdown",
   "metadata": {},
   "source": [
    "# *End of Page*"
   ]
  }
 ],
 "metadata": {
  "kernelspec": {
   "display_name": "Python 3.9.13 64-bit",
   "language": "python",
   "name": "python3"
  },
  "language_info": {
   "codemirror_mode": {
    "name": "ipython",
    "version": 3
   },
   "file_extension": ".py",
   "mimetype": "text/x-python",
   "name": "python",
   "nbconvert_exporter": "python",
   "pygments_lexer": "ipython3",
   "version": "3.11.4"
  },
  "orig_nbformat": 4,
  "vscode": {
   "interpreter": {
    "hash": "11938c6bc6919ae2720b4d5011047913343b08a43b18698fd82dedb0d4417594"
   }
  }
 },
 "nbformat": 4,
 "nbformat_minor": 2
}
