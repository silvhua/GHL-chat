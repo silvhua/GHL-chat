{
 "cells": [
  {
   "attachments": {},
   "cell_type": "markdown",
   "metadata": {},
   "source": [
    "# Title\n",
    "[]()"
   ]
  },
  {
   "cell_type": "code",
   "execution_count": 1,
   "metadata": {},
   "outputs": [],
   "source": [
    "\n",
    "import pandas as pd\n",
    "import sys\n",
    "sys.path.append(r\"C:\\Users\\silvh\\OneDrive\\lighthouse\\custom_python\")\n",
    "sys.path.append(r\"C:\\Users\\silvh\\OneDrive\\lighthouse\\portfolio-projects\\GHL-chat\\src\")\n",
    "from silvhua import *"
   ]
  },
  {
   "cell_type": "markdown",
   "metadata": {},
   "source": [
    "# Set up"
   ]
  },
  {
   "cell_type": "code",
   "execution_count": 6,
   "metadata": {},
   "outputs": [],
   "source": [
    "response_dict = dict()"
   ]
  },
  {
   "cell_type": "code",
   "execution_count": 35,
   "metadata": {},
   "outputs": [],
   "source": [
    "with open('../private/contacts.json') as contacts_file:\n",
    "    contacts = json.load(contacts_file)"
   ]
  },
  {
   "cell_type": "markdown",
   "metadata": {},
   "source": [
    "# Iteration 1"
   ]
  },
  {
   "cell_type": "code",
   "execution_count": 9,
   "metadata": {},
   "outputs": [
    {
     "name": "stdout",
     "output_type": "stream",
     "text": [
      "Sending messages with these parameters:\n",
      "{'message': 'Hi, Silvia. This is a test message from the GHL API using Python at 2023-07-30 16:57:25', 'subject': 'Testing GHL API with Python', 'emailFrom': 'Brian Quinlan <brian@ownitfit.com.au>'}\n"
     ]
    }
   ],
   "source": [
    "import requests\n",
    "from datetime import datetime\n",
    "\n",
    "def send_message(contactId, message_dict, type='Email', scheduledTimestamp=None):\n",
    "    url = \"https://services.leadconnectorhq.com/conversations/messages\"\n",
    "    with open('../private/auth_token_response.json') as token_file:\n",
    "        token = json.load(token_file)\n",
    "    print(f'Sending messages with these parameters:')\n",
    "    print(message_dict)\n",
    "    message = message_dict['message']\n",
    "    subject = message_dict['subject']\n",
    "\n",
    "    payload = {\n",
    "        \"contactId\": contactId,\n",
    "        \"html\": message,\n",
    "        \"subject\": subject\n",
    "    }\n",
    "    if type == 'Email':\n",
    "        emailFrom = message_dict['emailFrom']\n",
    "        payload['type'] = 'Email',\n",
    "        payload['emailFrom'] = emailFrom\n",
    "    \n",
    "    headers = {\n",
    "        \"Authorization\": f\"Bearer {token['access_token']}\",\n",
    "        \"Version\": \"2021-04-15\",\n",
    "        \"Content-Type\": \"application/json\",\n",
    "        \"Accept\": \"application/json\"\n",
    "    }\n",
    "\n",
    "    response = requests.post(url, json=payload, headers=headers)\n",
    "\n",
    "    return response.json()\n",
    "\n",
    "iteration = 1\n",
    "message_dict = {\n",
    "    \"message\": f\"Hi, Silvia. This is a test message from the GHL API using Python at {datetime.strftime(datetime.now(), '%Y-%m-%d %H:%M:%S')}\",\n",
    "    \"subject\": \"Testing GHL API with Python\",\n",
    "    \"emailFrom\": \"Brian Quinlan <brian@ownitfit.com.au>\"\n",
    "}\n",
    "contactId = 'zoFkUynVdKLnIaVtuy2k'\n",
    "\n",
    "response_dict[iteration] = send_message(contactId, message_dict)"
   ]
  },
  {
   "cell_type": "code",
   "execution_count": 10,
   "metadata": {},
   "outputs": [
    {
     "data": {
      "text/plain": [
       "{'statusCode': 422,\n",
       " 'message': ['type must be a valid enum value'],\n",
       " 'error': 'Unprocessable Entity',\n",
       " 'traceId': '2bc500228026ef54822895da5975a42f'}"
      ]
     },
     "execution_count": 10,
     "metadata": {},
     "output_type": "execute_result"
    }
   ],
   "source": [
    "response_dict[iteration]"
   ]
  },
  {
   "cell_type": "code",
   "execution_count": 12,
   "metadata": {},
   "outputs": [
    {
     "ename": "AttributeError",
     "evalue": "'dict' object has no attribute 'status_code'",
     "output_type": "error",
     "traceback": [
      "\u001b[1;31m---------------------------------------------------------------------------\u001b[0m",
      "\u001b[1;31mAttributeError\u001b[0m                            Traceback (most recent call last)",
      "Cell \u001b[1;32mIn[12], line 1\u001b[0m\n\u001b[1;32m----> 1\u001b[0m response_dict[iteration]\u001b[39m.\u001b[39;49mstatus_code\n",
      "\u001b[1;31mAttributeError\u001b[0m: 'dict' object has no attribute 'status_code'"
     ]
    }
   ],
   "source": [
    "response_dict[iteration].status_code"
   ]
  },
  {
   "cell_type": "markdown",
   "metadata": {},
   "source": [
    "## 1.1"
   ]
  },
  {
   "cell_type": "code",
   "execution_count": 13,
   "metadata": {},
   "outputs": [
    {
     "name": "stdout",
     "output_type": "stream",
     "text": [
      "Sending messages with these parameters:\n",
      "{'message': 'Hi, Silvia. This is a test message from the GHL API using Python at 2023-07-30 17:00:35', 'subject': 'Testing GHL API with Python', 'emailFrom': 'Brian Quinlan <brian@ownitfit.com.au>'}\n",
      "422: Unprocessable Entity\n"
     ]
    }
   ],
   "source": [
    "import requests\n",
    "from datetime import datetime\n",
    "\n",
    "def send_message(contactId, message_dict, type='Email', scheduledTimestamp=None):\n",
    "    url = \"https://services.leadconnectorhq.com/conversations/messages\"\n",
    "    with open('../private/auth_token_response.json') as token_file:\n",
    "        token = json.load(token_file)\n",
    "    print(f'Sending messages with these parameters:')\n",
    "    print(message_dict)\n",
    "    message = message_dict['message']\n",
    "    subject = message_dict['subject']\n",
    "\n",
    "    payload = {\n",
    "        \"type\": type,\n",
    "        \"contactId\": contactId,\n",
    "        \"html\": message,\n",
    "        \"subject\": subject\n",
    "    }\n",
    "    if type == 'Email':\n",
    "        emailFrom = message_dict['emailFrom']\n",
    "        payload['type'] = 'Email',\n",
    "        payload['emailFrom'] = emailFrom\n",
    "    \n",
    "    headers = {\n",
    "        \"Authorization\": f\"Bearer {token['access_token']}\",\n",
    "        \"Version\": \"2021-04-15\",\n",
    "        \"Content-Type\": \"application/json\",\n",
    "        \"Accept\": \"application/json\"\n",
    "    }\n",
    "\n",
    "    response = requests.post(url, json=payload, headers=headers)\n",
    "    print(f'{response.status_code}: {response.reason}')\n",
    "\n",
    "    return response.json()\n",
    "\n",
    "iteration = 1\n",
    "message_dict = {\n",
    "    \"message\": f\"Hi, Silvia. This is a test message from the GHL API using Python at {datetime.strftime(datetime.now(), '%Y-%m-%d %H:%M:%S')}\",\n",
    "    \"subject\": \"Testing GHL API with Python\",\n",
    "    \"emailFrom\": \"Brian Quinlan <brian@ownitfit.com.au>\"\n",
    "}\n",
    "contactId = 'zoFkUynVdKLnIaVtuy2k'\n",
    "\n",
    "response_dict[iteration] = send_message(contactId, message_dict)"
   ]
  },
  {
   "cell_type": "code",
   "execution_count": 14,
   "metadata": {},
   "outputs": [
    {
     "data": {
      "text/plain": [
       "{'statusCode': 422,\n",
       " 'message': ['type must be a valid enum value'],\n",
       " 'error': 'Unprocessable Entity',\n",
       " 'traceId': '566bae68fab4ee85bf788e386873300e'}"
      ]
     },
     "execution_count": 14,
     "metadata": {},
     "output_type": "execute_result"
    }
   ],
   "source": [
    "response_dict[iteration]"
   ]
  },
  {
   "cell_type": "markdown",
   "metadata": {},
   "source": [
    "## 1.11"
   ]
  },
  {
   "cell_type": "code",
   "execution_count": 15,
   "metadata": {},
   "outputs": [
    {
     "name": "stdout",
     "output_type": "stream",
     "text": [
      "Sending Emailmessages with these parameters:\n",
      "{'message': 'Hi, Silvia. This is a test message from the GHL API using Python at 2023-07-30 17:02:46', 'subject': 'Testing GHL API with Python', 'emailFrom': 'Brian Quinlan <brian@ownitfit.com.au>'}\n",
      "Status code 201: Created\n"
     ]
    }
   ],
   "source": [
    "import requests\n",
    "from datetime import datetime\n",
    "\n",
    "def send_message(contactId, message_dict, type='Email', scheduledTimestamp=None):\n",
    "    url = \"https://services.leadconnectorhq.com/conversations/messages\"\n",
    "    with open('../private/auth_token_response.json') as token_file:\n",
    "        token = json.load(token_file)\n",
    "    print(f'Sending {type }messages with these parameters:')\n",
    "    print(message_dict)\n",
    "    message = message_dict['message']\n",
    "    subject = message_dict['subject']\n",
    "\n",
    "    payload = {\n",
    "        \"type\": type,\n",
    "        \"contactId\": contactId,\n",
    "        \"html\": message,\n",
    "        \"subject\": subject\n",
    "    }\n",
    "    if type == 'Email':\n",
    "        emailFrom = message_dict['emailFrom']\n",
    "        payload['emailFrom'] = emailFrom\n",
    "    \n",
    "    headers = {\n",
    "        \"Authorization\": f\"Bearer {token['access_token']}\",\n",
    "        \"Version\": \"2021-04-15\",\n",
    "        \"Content-Type\": \"application/json\",\n",
    "        \"Accept\": \"application/json\"\n",
    "    }\n",
    "\n",
    "    response = requests.post(url, json=payload, headers=headers)\n",
    "    print(f'Status code {response.status_code}: {response.reason}')\n",
    "\n",
    "    return response\n",
    "\n",
    "iteration = 1\n",
    "message_dict = {\n",
    "    \"message\": f\"Hi, Silvia. This is a test message from the GHL API using Python at {datetime.strftime(datetime.now(), '%Y-%m-%d %H:%M:%S')}\",\n",
    "    \"subject\": \"Testing GHL API with Python\",\n",
    "    \"emailFrom\": \"Brian Quinlan <brian@ownitfit.com.au>\"\n",
    "}\n",
    "contactId = 'zoFkUynVdKLnIaVtuy2k'\n",
    "\n",
    "response_dict[iteration] = send_message(contactId, message_dict)"
   ]
  },
  {
   "cell_type": "code",
   "execution_count": 17,
   "metadata": {},
   "outputs": [
    {
     "data": {
      "text/plain": [
       "{'threadId': 'Y0ecBIIPiHa7bpZr616G',\n",
       " 'messageId': 'qv31ECFTPxJOJcke1xjA',\n",
       " 'msg': 'Email queued successfully.',\n",
       " 'conversationId': '2G4Utj0HcTO58ueEuqga',\n",
       " 'traceId': 'bab6572d82ca014a7e6c15fa6b0ef53d'}"
      ]
     },
     "execution_count": 17,
     "metadata": {},
     "output_type": "execute_result"
    }
   ],
   "source": [
    "response_dict[iteration].json()"
   ]
  },
  {
   "cell_type": "markdown",
   "metadata": {},
   "source": [
    "## 1.2"
   ]
  },
  {
   "cell_type": "code",
   "execution_count": 26,
   "metadata": {},
   "outputs": [
    {
     "name": "stdout",
     "output_type": "stream",
     "text": [
      "Sending Email messages with these parameters:\n",
      "{'message': 'Hi, Silvia. This is a test message from the GHL API using Python at 2023-07-30 17:09:13', 'subject': 'Testing GHL API with Python threadId', 'emailFrom': 'Brian Quinlan <brian@ownitfit.com.au>', 'threadId': 'Y0ecBIIPiHa7bpZr616G'}\n",
      "Status code 201: Created\n"
     ]
    }
   ],
   "source": [
    "import requests\n",
    "from datetime import datetime\n",
    "\n",
    "def send_message(contactId, message_dict, type='Email'):\n",
    "    url = \"https://services.leadconnectorhq.com/conversations/messages\"\n",
    "    with open('../private/auth_token_response.json') as token_file:\n",
    "        token = json.load(token_file)\n",
    "    print(f'Sending {type} messages with these parameters:')\n",
    "    print(message_dict)\n",
    "    message = message_dict['message']\n",
    "    subject = message_dict['subject']\n",
    "    threadId = message_dict.get('threadId', None)\n",
    "\n",
    "    payload = {\n",
    "        \"type\": type,\n",
    "        \"contactId\": contactId,\n",
    "        \"html\": message,\n",
    "        \"subject\": subject\n",
    "    }\n",
    "    if type == 'Email':\n",
    "        emailFrom = message_dict['emailFrom']\n",
    "        payload['emailFrom'] = emailFrom\n",
    "    if threadId:\n",
    "        payload['threadId'] = threadId\n",
    "    \n",
    "    headers = {\n",
    "        \"Authorization\": f\"Bearer {token['access_token']}\",\n",
    "        \"Version\": \"2021-04-15\",\n",
    "        \"Content-Type\": \"application/json\",\n",
    "        \"Accept\": \"application/json\"\n",
    "    }\n",
    "    response = requests.post(url, json=payload, headers=headers)\n",
    "    print(f'Status code {response.status_code}: {response.reason}')\n",
    "\n",
    "    return response.json()\n",
    "    # return payload\n",
    "\n",
    "iteration = 1.2\n",
    "message_dict = {\n",
    "    \"message\": f\"Hi, Silvia. This is a test message from the GHL API using Python at {datetime.strftime(datetime.now(), '%Y-%m-%d %H:%M:%S')}\",\n",
    "    \"subject\": \"Testing GHL API with Python threadId\",\n",
    "    \"emailFrom\": \"Brian Quinlan <brian@ownitfit.com.au>\",\n",
    "    \"threadId\": 'Y0ecBIIPiHa7bpZr616G'\n",
    "}\n",
    "contactId = 'zoFkUynVdKLnIaVtuy2k'\n",
    "\n",
    "response_dict[iteration] = send_message(contactId, message_dict)"
   ]
  },
  {
   "cell_type": "code",
   "execution_count": 27,
   "metadata": {},
   "outputs": [
    {
     "data": {
      "text/plain": [
       "{'threadId': 'Y0ecBIIPiHa7bpZr616G',\n",
       " 'messageId': 'eU9YQdgW3omNKaSl1Lok',\n",
       " 'msg': 'Email queued successfully.',\n",
       " 'conversationId': '2G4Utj0HcTO58ueEuqga',\n",
       " 'traceId': 'b29d3b819157835b569898c1c3952f25'}"
      ]
     },
     "execution_count": 27,
     "metadata": {},
     "output_type": "execute_result"
    }
   ],
   "source": [
    "response_dict[iteration]"
   ]
  },
  {
   "cell_type": "markdown",
   "metadata": {},
   "source": [
    "# 2 Send SMS"
   ]
  },
  {
   "cell_type": "code",
   "execution_count": 29,
   "metadata": {},
   "outputs": [
    {
     "name": "stdout",
     "output_type": "stream",
     "text": [
      "Sending Email messages with these parameters:\n",
      "{'message': 'Hi, Silvia. This is a test message from the GHL API using Python at 2023-07-30 17:09:13', 'subject': 'Testing GHL API with Python threadId', 'emailFrom': 'Brian Quinlan <brian@ownitfit.com.au>', 'threadId': 'Y0ecBIIPiHa7bpZr616G'}\n",
      "Status code 201: Created\n"
     ]
    }
   ],
   "source": [
    "import requests\n",
    "from datetime import datetime\n",
    "\n",
    "def send_message(contactId, message_dict, type='Email'):\n",
    "    url = \"https://services.leadconnectorhq.com/conversations/messages\"\n",
    "    with open('../private/auth_token_response.json') as token_file:\n",
    "        token = json.load(token_file)\n",
    "    print(f'Sending {type} messages with these parameters:')\n",
    "    print(message_dict)\n",
    "    message = message_dict['message']\n",
    "    subject = message_dict['subject']\n",
    "    threadId = message_dict.get('threadId', None)\n",
    "\n",
    "    payload = {\n",
    "        \"type\": type,\n",
    "        \"contactId\": contactId,\n",
    "        \"html\": message,\n",
    "        \"subject\": subject\n",
    "    }\n",
    "    if type == 'Email':\n",
    "        emailFrom = message_dict['emailFrom']\n",
    "        payload['emailFrom'] = emailFrom\n",
    "    if threadId:\n",
    "        payload['threadId'] = threadId\n",
    "    \n",
    "    headers = {\n",
    "        \"Authorization\": f\"Bearer {token['access_token']}\",\n",
    "        \"Version\": \"2021-04-15\",\n",
    "        \"Content-Type\": \"application/json\",\n",
    "        \"Accept\": \"application/json\"\n",
    "    }\n",
    "    response = requests.post(url, json=payload, headers=headers)\n",
    "    print(f'Status code {response.status_code}: {response.reason}')\n",
    "\n",
    "    return response.json()\n",
    "    # return payload\n",
    "\n",
    "iteration = 2\n",
    "# message_dict = {\n",
    "#     \"message\": f\"Hi, Brian. This is a test message from the GHL API using Python at {datetime.strftime(datetime.now(), '%Y-%m-%d %H:%M:%S')} Pacific time\",\n",
    "#     \"subject\": \"Testing GHL API with Python threadId\",\n",
    "#     \"emailFrom\": \"Brian Quinlan <brian@ownitfit.com.au>\",\n",
    "#     # \"threadId\": 'Y0ecBIIPiHa7bpZr616G'\n",
    "# }\n",
    "\n",
    "response_dict[iteration] = send_message(contacts['me'], message_dict)"
   ]
  },
  {
   "cell_type": "code",
   "execution_count": 30,
   "metadata": {},
   "outputs": [
    {
     "data": {
      "text/plain": [
       "{'threadId': 'Y0ecBIIPiHa7bpZr616G',\n",
       " 'messageId': 'ai6oitAAgnaqMdot4rrX',\n",
       " 'msg': 'Email queued successfully.',\n",
       " 'conversationId': '2G4Utj0HcTO58ueEuqga',\n",
       " 'traceId': 'a125aed4e3c07952a19ed60309522a50'}"
      ]
     },
     "execution_count": 30,
     "metadata": {},
     "output_type": "execute_result"
    }
   ],
   "source": [
    "response_dict[iteration]"
   ]
  },
  {
   "cell_type": "markdown",
   "metadata": {},
   "source": [
    "## 2.1"
   ]
  },
  {
   "cell_type": "code",
   "execution_count": 32,
   "metadata": {},
   "outputs": [
    {
     "name": "stdout",
     "output_type": "stream",
     "text": [
      "Sending Email messages with these parameters:\n",
      "{'message': 'Hi, Silvia. This is a test message from the GHL API using Python at 2023-07-30 17:09:13', 'subject': 'Testing GHL API with Python threadId', 'emailFrom': 'Brian Quinlan <brian@ownitfit.com.au>', 'threadId': 'Y0ecBIIPiHa7bpZr616G'}\n",
      "Status code 201: Created\n"
     ]
    }
   ],
   "source": [
    "import requests\n",
    "from datetime import datetime\n",
    "\n",
    "def send_message(contactId, message_dict, type='Email'):\n",
    "    url = \"https://services.leadconnectorhq.com/conversations/messages\"\n",
    "    with open('../private/auth_token_response.json') as token_file:\n",
    "        token = json.load(token_file)\n",
    "    print(f'Sending {type} messages with these parameters:')\n",
    "    print(message_dict)\n",
    "    message = message_dict['message']\n",
    "    subject = message_dict['subject']\n",
    "    threadId = message_dict.get('threadId', None)\n",
    "\n",
    "    payload = {\n",
    "        \"type\": type,\n",
    "        \"contactId\": contactId,\n",
    "        \"subject\": subject\n",
    "    }\n",
    "    if type == 'Email':\n",
    "        emailFrom = message_dict['emailFrom']\n",
    "        payload['emailFrom'] = emailFrom\n",
    "        payload['html'] = message\n",
    "    elif type == 'SMS':\n",
    "        payload['message'] = message\n",
    "        \n",
    "    \n",
    "    if threadId:\n",
    "        payload['threadId'] = threadId\n",
    "    \n",
    "    headers = {\n",
    "        \"Authorization\": f\"Bearer {token['access_token']}\",\n",
    "        \"Version\": \"2021-04-15\",\n",
    "        \"Content-Type\": \"application/json\",\n",
    "        \"Accept\": \"application/json\"\n",
    "    }\n",
    "    response = requests.post(url, json=payload, headers=headers)\n",
    "    print(f'Status code {response.status_code}: {response.reason}')\n",
    "\n",
    "    return response.json()\n",
    "    # return payload\n",
    "\n",
    "iteration = 2\n",
    "timestamp = datetime.strftime(datetime.now(), '%Y-%m-%d %H:%M:%S')\n",
    "# message_dict = {\n",
    "#     \"message\": f\"Hi, Brian. This is a test message from the GHL API using Python at {timestamp} Pacific time\",\n",
    "#     \"subject\": \"Testing GHL API with Python threadId\",\n",
    "#     \"emailFrom\": \"Brian Quinlan <brian@ownitfit.com.au>\",\n",
    "#     # \"threadId\": 'Y0ecBIIPiHa7bpZr616G'\n",
    "# }\n",
    "\n",
    "# response_dict[iteration] = send_message(contacts['Brian_cell'], message_dict)\n",
    "response_dict[iteration] = send_message(contacts['me'], message_dict)"
   ]
  },
  {
   "cell_type": "code",
   "execution_count": 33,
   "metadata": {},
   "outputs": [
    {
     "data": {
      "text/plain": [
       "{'threadId': 'Y0ecBIIPiHa7bpZr616G',\n",
       " 'messageId': 'Vyz2hnaRcgSkYv9bcZEV',\n",
       " 'msg': 'Email queued successfully.',\n",
       " 'conversationId': '2G4Utj0HcTO58ueEuqga',\n",
       " 'traceId': '97066a5c2f596d2e4a1bf1e9f7360ec2'}"
      ]
     },
     "execution_count": 33,
     "metadata": {},
     "output_type": "execute_result"
    }
   ],
   "source": [
    "response_dict[iteration]"
   ]
  },
  {
   "cell_type": "markdown",
   "metadata": {},
   "source": [
    "## 2.11"
   ]
  },
  {
   "cell_type": "code",
   "execution_count": 36,
   "metadata": {},
   "outputs": [
    {
     "name": "stdout",
     "output_type": "stream",
     "text": [
      "Sending SMS messages with these parameters:\n",
      "{'message': 'Hi, Brian. This is a test message from the GHL API using Python at 2023-07-30 17:27:36 Pacific time', 'subject': 'Testing GHL API with Python threadId', 'emailFrom': 'Brian Quinlan <brian@ownitfit.com.au>'}\n",
      "Status code 201: Created\n"
     ]
    }
   ],
   "source": [
    "import requests\n",
    "from datetime import datetime\n",
    "\n",
    "def send_message(contactId, message_dict, type='Email'):\n",
    "    url = \"https://services.leadconnectorhq.com/conversations/messages\"\n",
    "    with open('../private/auth_token_response.json') as token_file:\n",
    "        token = json.load(token_file)\n",
    "    print(f'Sending {type} messages with these parameters:')\n",
    "    print(message_dict)\n",
    "    message = message_dict['message']\n",
    "    subject = message_dict['subject']\n",
    "    threadId = message_dict.get('threadId', None)\n",
    "\n",
    "    payload = {\n",
    "        \"type\": type,\n",
    "        \"contactId\": contactId,\n",
    "        \"subject\": subject\n",
    "    }\n",
    "    if type == 'Email':\n",
    "        emailFrom = message_dict['emailFrom']\n",
    "        payload['emailFrom'] = emailFrom\n",
    "        payload['html'] = message\n",
    "    elif type == 'SMS':\n",
    "        payload['message'] = message\n",
    "        \n",
    "    \n",
    "    if threadId:\n",
    "        payload['threadId'] = threadId\n",
    "    \n",
    "    headers = {\n",
    "        \"Authorization\": f\"Bearer {token['access_token']}\",\n",
    "        \"Version\": \"2021-04-15\",\n",
    "        \"Content-Type\": \"application/json\",\n",
    "        \"Accept\": \"application/json\"\n",
    "    }\n",
    "    response = requests.post(url, json=payload, headers=headers)\n",
    "    print(f'Status code {response.status_code}: {response.reason}')\n",
    "\n",
    "    return response.json()\n",
    "    # return payload\n",
    "\n",
    "iteration = 2.11\n",
    "timestamp = datetime.strftime(datetime.now(), '%Y-%m-%d %H:%M:%S')\n",
    "message_dict = {\n",
    "    \"message\": f\"Hi, Brian. This is a test message from the GHL API using Python at {timestamp} Pacific time\",\n",
    "    \"subject\": \"Testing GHL API with Python threadId\",\n",
    "    \"emailFrom\": \"Brian Quinlan <brian@ownitfit.com.au>\",\n",
    "    # \"threadId\": 'Y0ecBIIPiHa7bpZr616G'\n",
    "}\n",
    "\n",
    "response_dict[iteration] = send_message(contacts['Brian_cell'], message_dict, type='SMS')\n",
    "# response_dict[iteration] = send_message(contacts['me'], message_dict)"
   ]
  },
  {
   "cell_type": "code",
   "execution_count": 37,
   "metadata": {},
   "outputs": [
    {
     "data": {
      "text/plain": [
       "{'conversationId': 'hlTYzrXpLzR1xmGKulh4',\n",
       " 'messageId': 'nYXcoYq69FCG6ASzZFjS',\n",
       " 'traceId': 'dae6dc1558177e5cd232c1bdddf96bd1'}"
      ]
     },
     "execution_count": 37,
     "metadata": {},
     "output_type": "execute_result"
    }
   ],
   "source": [
    "response_dict[iteration]"
   ]
  },
  {
   "cell_type": "markdown",
   "metadata": {},
   "source": [
    "## 2.12 put the type in the message_dict"
   ]
  },
  {
   "cell_type": "code",
   "execution_count": 39,
   "metadata": {},
   "outputs": [
    {
     "name": "stdout",
     "output_type": "stream",
     "text": [
      "Sending Email messages with these parameters:\n",
      "{'type': 'Email', 'message': 'Hi, me. This is a test message from the GHL API using Python at 2023-07-30 17:42:26 Pacific time', 'subject': 'Testing GHL API with Python threadId', 'emailFrom': 'Brian Quinlan <brian@ownitfit.com.au>', 'threadId': 'Y0ecBIIPiHa7bpZr616G'}\n"
     ]
    },
    {
     "name": "stdout",
     "output_type": "stream",
     "text": [
      "Status code 201: Created\n"
     ]
    }
   ],
   "source": [
    "import requests\n",
    "from datetime import datetime\n",
    "\n",
    "def send_message(contactId, message_dict):\n",
    "    url = \"https://services.leadconnectorhq.com/conversations/messages\"\n",
    "    with open('../private/auth_token_response.json') as token_file:\n",
    "        token = json.load(token_file)\n",
    "    type = message_dict['type']\n",
    "    message = message_dict['message']\n",
    "    subject = message_dict['subject']\n",
    "    threadId = message_dict.get('threadId', None)\n",
    "    print(f'Sending {type} messages with these parameters:')\n",
    "    print(message_dict)\n",
    "\n",
    "    payload = {\n",
    "        \"type\": type,\n",
    "        \"contactId\": contactId\n",
    "    }\n",
    "    if type == 'Email':\n",
    "        emailFrom = message_dict['emailFrom']\n",
    "        payload['emailFrom'] = emailFrom\n",
    "        payload['html'] = message\n",
    "        payload[\"subject\"] = subject\n",
    "    elif type == 'SMS':\n",
    "        payload['message'] = message\n",
    "        \n",
    "    \n",
    "    if threadId:\n",
    "        payload['threadId'] = threadId\n",
    "    \n",
    "    headers = {\n",
    "        \"Authorization\": f\"Bearer {token['access_token']}\",\n",
    "        \"Version\": \"2021-04-15\",\n",
    "        \"Content-Type\": \"application/json\",\n",
    "        \"Accept\": \"application/json\"\n",
    "    }\n",
    "    response = requests.post(url, json=payload, headers=headers)\n",
    "    print(f'Status code {response.status_code}: {response.reason}')\n",
    "\n",
    "    return response.json()\n",
    "    # return payload\n",
    "\n",
    "iteration = 2.12\n",
    "timestamp = datetime.strftime(datetime.now(), '%Y-%m-%d %H:%M:%S')\n",
    "message_dict = {\n",
    "    \"type\": \"Email\",\n",
    "    \"message\": f\"Hi, me. This is a test message from the GHL API using Python at {timestamp} Pacific time\",\n",
    "    \"subject\": \"Testing GHL API with Python threadId\",\n",
    "    \"emailFrom\": \"Brian Quinlan <brian@ownitfit.com.au>\",\n",
    "    \"threadId\": 'Y0ecBIIPiHa7bpZr616G'\n",
    "}\n",
    "\n",
    "response_dict[iteration] = send_message(contacts['me'], message_dict)\n",
    "# response_dict[iteration] = send_message(contacts['me'], message_dict)"
   ]
  },
  {
   "cell_type": "code",
   "execution_count": 40,
   "metadata": {},
   "outputs": [
    {
     "data": {
      "text/plain": [
       "{'threadId': 'Y0ecBIIPiHa7bpZr616G',\n",
       " 'messageId': 'vhUok50V7yyANoqYAAbk',\n",
       " 'msg': 'Email queued successfully.',\n",
       " 'conversationId': '2G4Utj0HcTO58ueEuqga',\n",
       " 'traceId': '8a715889034e5d959f0a9f40c28bce9f'}"
      ]
     },
     "execution_count": 40,
     "metadata": {},
     "output_type": "execute_result"
    }
   ],
   "source": [
    "response_dict[iteration]"
   ]
  },
  {
   "cell_type": "code",
   "execution_count": 43,
   "metadata": {},
   "outputs": [
    {
     "data": {
      "text/plain": [
       "datetime.datetime(2023, 7, 30, 17, 44, 33, 687865)"
      ]
     },
     "execution_count": 43,
     "metadata": {},
     "output_type": "execute_result"
    }
   ],
   "source": [
    "datetime.now()"
   ]
  },
  {
   "cell_type": "code",
   "execution_count": 44,
   "metadata": {},
   "outputs": [
    {
     "data": {
      "text/plain": [
       "1690764284.227057"
      ]
     },
     "execution_count": 44,
     "metadata": {},
     "output_type": "execute_result"
    }
   ],
   "source": [
    "datetime.now().timestamp()"
   ]
  },
  {
   "cell_type": "code",
   "execution_count": 47,
   "metadata": {},
   "outputs": [
    {
     "data": {
      "text/plain": [
       "datetime.datetime(2023, 7, 30, 17, 44, 44, 227057)"
      ]
     },
     "execution_count": 47,
     "metadata": {},
     "output_type": "execute_result"
    }
   ],
   "source": [
    "# convert time stamp to datetime object\n",
    "datetime.fromtimestamp(1690764284.227057)\n"
   ]
  },
  {
   "cell_type": "markdown",
   "metadata": {},
   "source": []
  },
  {
   "cell_type": "code",
   "execution_count": null,
   "metadata": {},
   "outputs": [],
   "source": []
  },
  {
   "cell_type": "code",
   "execution_count": null,
   "metadata": {},
   "outputs": [],
   "source": []
  },
  {
   "cell_type": "code",
   "execution_count": null,
   "metadata": {},
   "outputs": [],
   "source": []
  },
  {
   "cell_type": "code",
   "execution_count": null,
   "metadata": {},
   "outputs": [],
   "source": []
  },
  {
   "cell_type": "code",
   "execution_count": null,
   "metadata": {},
   "outputs": [],
   "source": []
  },
  {
   "cell_type": "code",
   "execution_count": null,
   "metadata": {},
   "outputs": [],
   "source": []
  },
  {
   "cell_type": "code",
   "execution_count": null,
   "metadata": {},
   "outputs": [],
   "source": []
  },
  {
   "cell_type": "code",
   "execution_count": null,
   "metadata": {},
   "outputs": [],
   "source": []
  },
  {
   "attachments": {},
   "cell_type": "markdown",
   "metadata": {},
   "source": [
    "# *End of Page*"
   ]
  }
 ],
 "metadata": {
  "kernelspec": {
   "display_name": "Python 3.9.13 64-bit",
   "language": "python",
   "name": "python3"
  },
  "language_info": {
   "codemirror_mode": {
    "name": "ipython",
    "version": 3
   },
   "file_extension": ".py",
   "mimetype": "text/x-python",
   "name": "python",
   "nbconvert_exporter": "python",
   "pygments_lexer": "ipython3",
   "version": "3.10.11"
  },
  "orig_nbformat": 4,
  "vscode": {
   "interpreter": {
    "hash": "11938c6bc6919ae2720b4d5011047913343b08a43b18698fd82dedb0d4417594"
   }
  }
 },
 "nbformat": 4,
 "nbformat_minor": 2
}
