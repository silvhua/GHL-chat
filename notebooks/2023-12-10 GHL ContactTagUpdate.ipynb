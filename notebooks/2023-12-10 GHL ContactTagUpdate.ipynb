{
 "cells": [
  {
   "attachments": {},
   "cell_type": "markdown",
   "metadata": {},
   "source": [
    "# Title\n",
    "[]()"
   ]
  },
  {
   "cell_type": "code",
   "execution_count": 3,
   "metadata": {},
   "outputs": [],
   "source": [
    "\n",
    "# import pandas as pd\n",
    "import sys\n",
    "sys.path.append(r\"C:\\Users\\silvh\\OneDrive\\lighthouse\\custom_python\")\n",
    "from silvhua import *\n",
    "# from datetime import datetime\n",
    "# sys.path.append(r\"C:\\Users\\silvh\\OneDrive\\lighthouse\\portfolio-projects\\online-PT-social-media-NLP\\src\")"
   ]
  },
  {
   "cell_type": "markdown",
   "metadata": {},
   "source": [
    "# Initiate dictionaries"
   ]
  },
  {
   "cell_type": "code",
   "execution_count": 1,
   "metadata": {},
   "outputs": [],
   "source": [
    "results_dict = dict()"
   ]
  },
  {
   "cell_type": "code",
   "execution_count": 5,
   "metadata": {},
   "outputs": [],
   "source": [
    "contacts = load_json('contacts.json', '../src/private/')"
   ]
  },
  {
   "cell_type": "markdown",
   "metadata": {},
   "source": [
    "# Iteration 1"
   ]
  },
  {
   "cell_type": "code",
   "execution_count": 8,
   "metadata": {},
   "outputs": [
    {
     "name": "stdout",
     "output_type": "stream",
     "text": [
      "Status code 200: OK\n"
     ]
    },
    {
     "data": {
      "text/plain": [
       "{'contact': {'id': 'C3a796qLEF4HtDjvKJ1K',\n",
       "  'country': 'AU',\n",
       "  'fullNameLowerCase': 'silvia test 2023-08-16 13:35',\n",
       "  'lastName': 'test 2023-08-16 13:35',\n",
       "  'type': 'lead',\n",
       "  'firstNameLowerCase': 'silvia',\n",
       "  'createdBy': {'sourceId': 'AwjBxNxoPkiLEKKZ1Gbb',\n",
       "   'channel': 'APP',\n",
       "   'source': 'WEB_USER',\n",
       "   'sourceName': 'silvia hua',\n",
       "   'timestamp': '2023-08-16T20:35:47.598Z'},\n",
       "  'locationId': 'QSZ6lvarPNxtmTFl84W8',\n",
       "  'tags': [],\n",
       "  'dateAdded': '2023-08-16T20:35:47.598Z',\n",
       "  'additionalEmails': [],\n",
       "  'attributionSource': {'sessionSource': 'CRM UI',\n",
       "   'mediumId': None,\n",
       "   'medium': 'manual'},\n",
       "  'lastNameLowerCase': 'test 2023-08-16 13:35',\n",
       "  'firstName': 'Silvia',\n",
       "  'additionalPhones': [],\n",
       "  'emailLowerCase': 'silvia.hua@mail.mcgill.ca',\n",
       "  'email': 'silvia.hua@mail.mcgill.ca',\n",
       "  'dndSettings': {'Call': {'code': '103',\n",
       "    'message': \"Updated by 'silvia hua' at 2023-08-16T20:38:29.868Z\",\n",
       "    'status': 'inactive'},\n",
       "   'Email': {'code': '103',\n",
       "    'message': \"Updated by 'silvia hua' at 2023-08-16T20:38:29.868Z\",\n",
       "    'status': 'inactive'},\n",
       "   'SMS': {'code': '103',\n",
       "    'message': \"Updated by 'silvia hua' at 2023-08-16T20:38:29.868Z\",\n",
       "    'status': 'inactive'},\n",
       "   'FB': {'code': '103',\n",
       "    'message': \"Updated by 'silvia hua' at 2023-08-16T20:38:29.868Z\",\n",
       "    'status': 'inactive'},\n",
       "   'GMB': {'code': '103',\n",
       "    'message': \"Updated by 'silvia hua' at 2023-08-16T20:38:29.868Z\",\n",
       "    'status': 'inactive'}},\n",
       "  'dnd': False,\n",
       "  'phone': '+17787087189',\n",
       "  'dateUpdated': '2023-11-13T23:09:21.977Z',\n",
       "  'customFields': []},\n",
       " 'traceId': '977cd3f1-f880-4647-adb9-72d648005d5c',\n",
       " 'status_code': 200,\n",
       " 'response_reason': 'OK'}"
      ]
     },
     "execution_count": 8,
     "metadata": {},
     "output_type": "execute_result"
    }
   ],
   "source": [
    "import requests\n",
    "from datetime import datetime\n",
    "import json\n",
    "import sys\n",
    "from urllib.parse import urlencode\n",
    "# import boto3\n",
    "\n",
    "def ghl_request(\n",
    "        contactId, endpoint='createTask', text=None, payload=None, location='SamLab',\n",
    "        auth_token_path='private/auth_token_response.json'\n",
    "        ):\n",
    "    \"\"\"\n",
    "    Send a message to a contact in GoHighLevel or retrieve email history.\n",
    "\n",
    "    Parameters:\n",
    "    - contactId (str): Contact ID.\n",
    "    - endpoint (str): API endpoint. Valid values are 'createTask', 'createNote', 'send_message', and 'getEmailHistory'.\n",
    "    - payload (dict): Dictionary containing the payload for the request.\n",
    "    - params_dict (dict): Dictionary containing additional parameters for the request.\n",
    "    - location (str): Location value for retrieving the authentication token.\n",
    "    - auth_token_path (str): Local path to the JSON file containing the authentication token.\n",
    "        Default value works if script is run from project root folder.If running from notebook directory, use '../src/private/auth_token_response.json'\n",
    "\n",
    "    Example payload for sendMessage endpoint:\n",
    "        \n",
    "            payload = {\n",
    "                \"type\": \"Email\",\n",
    "                \"message\": f\"Hi, me. This is a test message from the GHL API using Python at {timestamp} Pacific time\",\n",
    "                \"subject\": \"Testing GHL API with Python threadId\",\n",
    "                \"emailFrom\": \"Brian Quinlan <brian@ownitfit.com.au>\",\n",
    "                \"threadId\": 'Y0ecBIIPiHa7bpZr616G'\n",
    "            }\n",
    "\n",
    "    Returns:\n",
    "    - response_dict (dict): Dictionary containing the response from the API.\n",
    "    \"\"\"\n",
    "    url_root = 'https://services.leadconnectorhq.com/'\n",
    "    if payload:\n",
    "        print(f'input payload: {payload}')\n",
    "    try:\n",
    "        if endpoint == 'getContact':\n",
    "            endpoint_url = f'contacts/{contactId}'\n",
    "            request_type = 'GET'\n",
    "            payload = None\n",
    "        elif endpoint == 'createTask':\n",
    "            endpoint_url = f'contacts/{contactId}/tasks'\n",
    "            request_type = 'POST'\n",
    "            if payload == None:\n",
    "                payload = {}\n",
    "                payload['title'] = f'Send message to contact {contactId}'\n",
    "                payload['body'] = text if text else f\"Test task via GHL API at {datetime.utcnow().strftime('%Y-%m-%dT%H:%M:%SZ')} Pacific time\"\n",
    "            payload['dueDate'] = payload[3] if len(payload) > 3 else datetime.utcnow().strftime('%Y-%m-%dT%H:%M:%SZ')\n",
    "            payload['completed'] = False\n",
    "        elif endpoint == 'createNote':\n",
    "            endpoint_url = f'contacts/{contactId}/notes'\n",
    "            request_type = 'POST'\n",
    "            if payload == None:\n",
    "                payload = {}\n",
    "                payload['body'] = (f\"Reply to SMS (contactID {contactId}) {datetime.utcnow().strftime('%Y-%m-%dT%H:%M:%SZ')}\" if text==None else text)\n",
    "                payload['userId'] = contactId\n",
    "        elif endpoint == 'sendMessage':\n",
    "            endpoint_url = f'conversations/messages'\n",
    "            request_type = 'POST'\n",
    "            payload[\"contactId\"] = contactId\n",
    "            if payload['type'] == 'Email':\n",
    "                payload['html'] = payload['message']\n",
    "        elif endpoint == 'getEmailHistory':\n",
    "            endpoint_url = f'conversations/search?contactId={contactId}'\n",
    "            request_type = 'GET'\n",
    "            payload = None\n",
    "        else:\n",
    "            raise ValueError(\"Invalid endpoint value. Valid values are 'createTask', 'createNote', 'sendMessage', and 'getEmailHistory'.\")\n",
    "\n",
    "        url = f'{url_root}{endpoint_url}'\n",
    "        try:\n",
    "            with open(auth_token_path) as token_file:\n",
    "                token = json.load(token_file)[location]\n",
    "        except:\n",
    "            try:\n",
    "                s3 = boto3.client('s3')\n",
    "                response = s3.get_object(Bucket='ownitfit-silvhua', Key='auth_token_response.json')\n",
    "                token = json.loads(response['Body'].read().decode('utf-8'))[location]\n",
    "            except Exception as error:\n",
    "                exc_type, exc_obj, tb = sys.exc_info()\n",
    "                f = tb.tb_frame\n",
    "                lineno = tb.tb_lineno\n",
    "                filename = f.f_code.co_filename\n",
    "                print(f'Error in line {lineno} of {filename}: {str(error)}')\n",
    "                return None\n",
    "\n",
    "        headers = {\n",
    "            \"Authorization\": f\"Bearer {token['access_token']}\",\n",
    "            \"Version\": \"2021-04-15\",\n",
    "            \"Content-Type\": \"application/json\",\n",
    "            \"Accept\": \"application/json\"\n",
    "        }\n",
    "\n",
    "\n",
    "        if request_type == 'POST':\n",
    "            response = requests.post(\n",
    "                url, headers=headers, \n",
    "                json=payload if payload else None\n",
    "            )\n",
    "        elif request_type == 'GET':\n",
    "            response = requests.get(\n",
    "                url, headers=headers, \n",
    "                json=payload if payload else None\n",
    "            )\n",
    "        else:\n",
    "            raise ValueError(\"Invalid request type. Valid values are 'POST' and 'GET'.\")\n",
    "\n",
    "        print(f'Status code {response.status_code}: {response.reason}')\n",
    "        data = response.json()\n",
    "        data['status_code'] = response.status_code\n",
    "        data['response_reason'] = response.reason\n",
    "        try:\n",
    "            if endpoint == 'getEmailHistory':\n",
    "                email_timestamp = data['conversations'][0]['dateUpdated']/1000\n",
    "                utc_time = datetime.utcfromtimestamp(email_timestamp)\n",
    "                pacific_time = utc_time.replace(tzinfo=pytz.utc).astimezone(pytz.timezone('US/Pacific'))\n",
    "                email_timestamp_str = pacific_time.strftime('%Y-%m-%d %H:%M:%S')\n",
    "\n",
    "                print(f'Last email sent: {email_timestamp_str} Pacific time')\n",
    "                data['emailTimestamp_pacific'] = email_timestamp_str\n",
    "        except Exception as error:\n",
    "            exc_type, exc_obj, tb = sys.exc_info()\n",
    "            f = tb.tb_frame\n",
    "            lineno = tb.tb_lineno\n",
    "            filename = f.f_code.co_filename\n",
    "            print(f'Error in line {lineno} of {filename}: {str(error)}')\n",
    "            return '[Chatbot response]'\n",
    "        return data\n",
    "    except Exception as error:\n",
    "        exc_type, exc_obj, tb = sys.exc_info()\n",
    "        f = tb.tb_frame\n",
    "        lineno = tb.tb_lineno\n",
    "        filename = f.f_code.co_filename\n",
    "        print(f'Error in line {lineno} of {filename}: {str(error)}')\n",
    "        return '[Chatbot response]'\n",
    "    \n",
    "iteration = 1\n",
    "contactId = contacts['me']\n",
    "results_dict[iteration] = ghl_request(\n",
    "    contactId, 'getContact', auth_token_path='../src/private/auth_token_response.json'\n",
    "    )\n",
    "results_dict[iteration]"
   ]
  },
  {
   "cell_type": "code",
   "execution_count": 13,
   "metadata": {},
   "outputs": [
    {
     "name": "stdout",
     "output_type": "stream",
     "text": [
      "dict_keys(['contact', 'traceId', 'status_code', 'response_reason'])\n",
      "dict_keys(['id', 'country', 'fullNameLowerCase', 'lastName', 'type', 'firstNameLowerCase', 'createdBy', 'locationId', 'tags', 'dateAdded', 'additionalEmails', 'attributionSource', 'lastNameLowerCase', 'firstName', 'additionalPhones', 'emailLowerCase', 'email', 'dndSettings', 'dnd', 'phone', 'dateUpdated', 'customFields'])\n"
     ]
    },
    {
     "data": {
      "text/plain": [
       "{'id': 'C3a796qLEF4HtDjvKJ1K',\n",
       " 'country': 'AU',\n",
       " 'fullNameLowerCase': 'silvia test 2023-08-16 13:35',\n",
       " 'lastName': 'test 2023-08-16 13:35',\n",
       " 'type': 'lead',\n",
       " 'firstNameLowerCase': 'silvia',\n",
       " 'createdBy': {'sourceId': 'AwjBxNxoPkiLEKKZ1Gbb',\n",
       "  'channel': 'APP',\n",
       "  'source': 'WEB_USER',\n",
       "  'sourceName': 'silvia hua',\n",
       "  'timestamp': '2023-08-16T20:35:47.598Z'},\n",
       " 'locationId': 'QSZ6lvarPNxtmTFl84W8',\n",
       " 'tags': [],\n",
       " 'dateAdded': '2023-08-16T20:35:47.598Z',\n",
       " 'additionalEmails': [],\n",
       " 'attributionSource': {'sessionSource': 'CRM UI',\n",
       "  'mediumId': None,\n",
       "  'medium': 'manual'},\n",
       " 'lastNameLowerCase': 'test 2023-08-16 13:35',\n",
       " 'firstName': 'Silvia',\n",
       " 'additionalPhones': [],\n",
       " 'emailLowerCase': 'silvia.hua@mail.mcgill.ca',\n",
       " 'email': 'silvia.hua@mail.mcgill.ca',\n",
       " 'dndSettings': {'Call': {'code': '103',\n",
       "   'message': \"Updated by 'silvia hua' at 2023-08-16T20:38:29.868Z\",\n",
       "   'status': 'inactive'},\n",
       "  'Email': {'code': '103',\n",
       "   'message': \"Updated by 'silvia hua' at 2023-08-16T20:38:29.868Z\",\n",
       "   'status': 'inactive'},\n",
       "  'SMS': {'code': '103',\n",
       "   'message': \"Updated by 'silvia hua' at 2023-08-16T20:38:29.868Z\",\n",
       "   'status': 'inactive'},\n",
       "  'FB': {'code': '103',\n",
       "   'message': \"Updated by 'silvia hua' at 2023-08-16T20:38:29.868Z\",\n",
       "   'status': 'inactive'},\n",
       "  'GMB': {'code': '103',\n",
       "   'message': \"Updated by 'silvia hua' at 2023-08-16T20:38:29.868Z\",\n",
       "   'status': 'inactive'}},\n",
       " 'dnd': False,\n",
       " 'phone': '+17787087189',\n",
       " 'dateUpdated': '2023-11-13T23:09:21.977Z',\n",
       " 'customFields': []}"
      ]
     },
     "execution_count": 13,
     "metadata": {},
     "output_type": "execute_result"
    }
   ],
   "source": [
    "print(results_dict[iteration].keys())\n",
    "print(results_dict[iteration]['contact'].keys())\n",
    "results_dict[iteration]['contact']"
   ]
  },
  {
   "cell_type": "code",
   "execution_count": 14,
   "metadata": {},
   "outputs": [
    {
     "data": {
      "text/plain": [
       "[]"
      ]
     },
     "execution_count": 14,
     "metadata": {},
     "output_type": "execute_result"
    }
   ],
   "source": [
    "results_dict[iteration]['contact']['tags']"
   ]
  },
  {
   "cell_type": "code",
   "execution_count": 15,
   "metadata": {},
   "outputs": [
    {
     "name": "stdout",
     "output_type": "stream",
     "text": [
      "Status code 200: OK\n"
     ]
    },
    {
     "data": {
      "text/plain": [
       "['\"sam lab members\"', '\"sam lab total list\"']"
      ]
     },
     "execution_count": 15,
     "metadata": {},
     "output_type": "execute_result"
    }
   ],
   "source": [
    "iteration = 1.1\n",
    "contactId = contacts['me']\n",
    "results_dict[iteration] = ghl_request(\n",
    "    contactId, 'getContact', auth_token_path='../src/private/auth_token_response.json'\n",
    "    )\n",
    "results_dict[iteration]['contact']['tags']"
   ]
  },
  {
   "cell_type": "code",
   "execution_count": 20,
   "metadata": {},
   "outputs": [
    {
     "name": "stdout",
     "output_type": "stream",
     "text": [
      "<class 'list'>\n",
      "<class 'str'>\n",
      "<class 'str'>\n",
      "\"sam lab members\"\n"
     ]
    },
    {
     "data": {
      "text/plain": [
       "'\"'"
      ]
     },
     "execution_count": 20,
     "metadata": {},
     "output_type": "execute_result"
    }
   ],
   "source": [
    "print(type(results_dict[iteration]['contact']['tags']))\n",
    "print(type(results_dict[iteration]['contact']['tags'][0]))\n",
    "print(type(results_dict[iteration]['contact']['tags'][0]))\n",
    "print(results_dict[iteration]['contact']['tags'][0])\n",
    "results_dict[iteration]['contact']['tags'][0][0]"
   ]
  },
  {
   "cell_type": "code",
   "execution_count": null,
   "metadata": {},
   "outputs": [],
   "source": []
  },
  {
   "cell_type": "code",
   "execution_count": null,
   "metadata": {},
   "outputs": [],
   "source": []
  },
  {
   "cell_type": "code",
   "execution_count": null,
   "metadata": {},
   "outputs": [],
   "source": []
  },
  {
   "cell_type": "code",
   "execution_count": null,
   "metadata": {},
   "outputs": [],
   "source": []
  },
  {
   "cell_type": "code",
   "execution_count": null,
   "metadata": {},
   "outputs": [],
   "source": []
  },
  {
   "cell_type": "code",
   "execution_count": null,
   "metadata": {},
   "outputs": [],
   "source": []
  },
  {
   "cell_type": "code",
   "execution_count": null,
   "metadata": {},
   "outputs": [],
   "source": []
  },
  {
   "cell_type": "code",
   "execution_count": null,
   "metadata": {},
   "outputs": [],
   "source": []
  },
  {
   "cell_type": "code",
   "execution_count": null,
   "metadata": {},
   "outputs": [],
   "source": []
  },
  {
   "cell_type": "code",
   "execution_count": null,
   "metadata": {},
   "outputs": [],
   "source": []
  },
  {
   "cell_type": "code",
   "execution_count": null,
   "metadata": {},
   "outputs": [],
   "source": []
  },
  {
   "cell_type": "code",
   "execution_count": null,
   "metadata": {},
   "outputs": [],
   "source": []
  },
  {
   "cell_type": "code",
   "execution_count": null,
   "metadata": {},
   "outputs": [],
   "source": []
  },
  {
   "cell_type": "code",
   "execution_count": null,
   "metadata": {},
   "outputs": [],
   "source": []
  },
  {
   "cell_type": "code",
   "execution_count": null,
   "metadata": {},
   "outputs": [],
   "source": []
  },
  {
   "cell_type": "code",
   "execution_count": null,
   "metadata": {},
   "outputs": [],
   "source": []
  },
  {
   "cell_type": "code",
   "execution_count": null,
   "metadata": {},
   "outputs": [],
   "source": []
  },
  {
   "cell_type": "code",
   "execution_count": null,
   "metadata": {},
   "outputs": [],
   "source": []
  },
  {
   "attachments": {},
   "cell_type": "markdown",
   "metadata": {},
   "source": [
    "# *End of Page*"
   ]
  }
 ],
 "metadata": {
  "kernelspec": {
   "display_name": "Python 3.9.13 64-bit",
   "language": "python",
   "name": "python3"
  },
  "language_info": {
   "codemirror_mode": {
    "name": "ipython",
    "version": 3
   },
   "file_extension": ".py",
   "mimetype": "text/x-python",
   "name": "python",
   "nbconvert_exporter": "python",
   "pygments_lexer": "ipython3",
   "version": "3.11.4"
  },
  "orig_nbformat": 4,
  "vscode": {
   "interpreter": {
    "hash": "11938c6bc6919ae2720b4d5011047913343b08a43b18698fd82dedb0d4417594"
   }
  }
 },
 "nbformat": 4,
 "nbformat_minor": 2
}
