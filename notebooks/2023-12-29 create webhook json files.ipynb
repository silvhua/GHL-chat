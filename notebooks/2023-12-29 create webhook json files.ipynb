{
 "cells": [
  {
   "attachments": {},
   "cell_type": "markdown",
   "metadata": {},
   "source": [
    "# Title\n",
    "[]()"
   ]
  },
  {
   "cell_type": "code",
   "execution_count": 1,
   "metadata": {},
   "outputs": [],
   "source": [
    "\n",
    "import sys\n",
    "sys.path.append(r\"/home/silvhua/custom_python\")\n",
    "from silvhua import *"
   ]
  },
  {
   "cell_type": "code",
   "execution_count": 2,
   "metadata": {},
   "outputs": [],
   "source": [
    "# set the option to wrap text within cells\n",
    "pd.set_option('display.max_colwidth', 100)\n",
    "# pd.set_option('display.max_colwidth', None)\n",
    "pd.set_option('display.max_rows', 20)\n",
    "pd.set_option('display.max_columns', None)\n",
    "pd.set_option('display.width', None)"
   ]
  },
  {
   "cell_type": "code",
   "execution_count": 3,
   "metadata": {},
   "outputs": [],
   "source": [
    "webhook_string = \"\"\"\n",
    "{'contact_id': '6kIAuqeiBUxJ3nWTwNVE', 'first_name': 'Silvia', 'last_name': 'Hua', 'full_name': 'Silvia Hua', 'tags': 'chatbot', 'date_created': '2023-12-29T04:51:50.798Z', 'full_address': '', 'contact_type': 'lead', 'location': {'name': 'Coach Mc Loone', 'address': '92 Mcevoy st, level 1', 'city': 'Alexandria', 'state': 'NSW', 'country': 'AU', 'postalCode': '2015', 'fullAddress': '92 Mcevoy st, level 1, Alexandria NSW 2015', 'id': 'fsdVH26v30hoBBQOBttG'}, 'message': {'type': 11, 'body': 'test task and new lambda 2023-12-28 21:46', 'direction': 'inbound', 'status': 'delivered'}, 'workflow': {'id': 'd453e1aa-8b09-4a52-a105-c9389ab1aa65', 'name': 'silvia test: 1703825075577'}, 'contact': {'attributionSource': {'sessionSource': 'Other', 'mediumId': '6975421785872187', 'medium': 'facebook'}, 'lastAttributionSource': {}}, 'attributionSource': {}, 'customData': {}}\n",
    "\"\"\".strip()\n",
    "\n",
    "path = '/home/silvhua/repositories/GHL-chat/events/'\n",
    "filename = 'customInboundMessage'\n",
    "\n",
    "webhook_dict = json.loads(webhook_string.replace(\"\\'\", '\\\"'))\n"
   ]
  },
  {
   "cell_type": "code",
   "execution_count": 4,
   "metadata": {},
   "outputs": [
    {
     "name": "stdout",
     "output_type": "stream",
     "text": [
      "Object saved as JSON: /home/silvhua/repositories/GHL-chat/events//customInboundMessage.json\n"
     ]
    }
   ],
   "source": [
    "\n",
    "save_to_json(webhook_dict, filename, description=None, append_version=0, path=path)"
   ]
  },
  {
   "cell_type": "markdown",
   "metadata": {},
   "source": [
    "# convert workflow webhooks to standard webhook format\n",
    "```\n",
    "{\n",
    "  \"body\": {\n",
    "    \"type\": \"InboundMessage\",\n",
    "    \"locationId\": \"QSZ6lvarPNxtmTFl84W8\",\n",
    "    \"attachments\": [],\n",
    "    \"body\": \"This is a test inbound message\",\n",
    "    \"contactId\": \"C3a796qLEF4HtDjvKJ1K\",\n",
    "    \"contentType\": \"text/plain\",\n",
    "    \"conversationId\": \"fcanlLgpbQgQhderivVs\",\n",
    "    \"dateAdded\": \"2023-12-10T20:45:00.000Z\",\n",
    "    \"direction\": \"inbound\",\n",
    "    \"messageType\": \"SMS\",\n",
    "    \"userId\": \"80pzXdC3MCqKRpzrteuj\",\n",
    "    \"noReply\": \"1\"\n",
    "  }\n",
    "}\n",
    "```"
   ]
  },
  {
   "cell_type": "code",
   "execution_count": 14,
   "metadata": {},
   "outputs": [
    {
     "data": {
      "text/plain": [
       "{'contact_id': '6kIAuqeiBUxJ3nWTwNVE',\n",
       " 'first_name': 'Silvia',\n",
       " 'last_name': 'Hua',\n",
       " 'full_name': 'Silvia Hua',\n",
       " 'tags': 'chatbot',\n",
       " 'date_created': '2023-12-29T04:51:50.798Z',\n",
       " 'full_address': '',\n",
       " 'contact_type': 'lead',\n",
       " 'location': {'name': 'Coach Mc Loone',\n",
       "  'address': '92 Mcevoy st, level 1',\n",
       "  'city': 'Alexandria',\n",
       "  'state': 'NSW',\n",
       "  'country': 'AU',\n",
       "  'postalCode': '2015',\n",
       "  'fullAddress': '92 Mcevoy st, level 1, Alexandria NSW 2015',\n",
       "  'id': 'fsdVH26v30hoBBQOBttG'},\n",
       " 'message': {'type': 11,\n",
       "  'body': 'testing webhooks Lambda function',\n",
       "  'direction': 'inbound',\n",
       "  'status': 'delivered'},\n",
       " 'workflow': {'id': 'd453e1aa-8b09-4a52-a105-c9389ab1aa65',\n",
       "  'name': 'silvia test: 1703825075577'},\n",
       " 'contact': {'attributionSource': {'sessionSource': 'Other',\n",
       "   'mediumId': '6975421785872187',\n",
       "   'medium': 'facebook'},\n",
       "  'lastAttributionSource': {}},\n",
       " 'attributionSource': {},\n",
       " 'customData': {},\n",
       " 'noReply': '1'}"
      ]
     },
     "execution_count": 14,
     "metadata": {},
     "output_type": "execute_result"
    }
   ],
   "source": [
    "custom_webhook = load_json('CustomInboundMessageTest.json', path)['body']\n",
    "custom_webhook"
   ]
  },
  {
   "cell_type": "code",
   "execution_count": 17,
   "metadata": {},
   "outputs": [
    {
     "data": {
      "text/plain": [
       "{'locationId': 'fsdVH26v30hoBBQOBttG',\n",
       " 'type': 'WorkflowInboundMessage',\n",
       " 'messageType': 11,\n",
       " 'direction': 'inbound',\n",
       " 'body': 'testing webhooks Lambda function',\n",
       " 'contactId': '6kIAuqeiBUxJ3nWTwNVE',\n",
       " 'dateAdded': '2023-12-29T04:51:50.798Z',\n",
       " 'noReply': '1'}"
      ]
     },
     "execution_count": 17,
     "metadata": {},
     "output_type": "execute_result"
    }
   ],
   "source": [
    "def transform_webhook(payload):\n",
    "    processed_webhook = dict()\n",
    "    processed_webhook['locationId'] = payload['location']['id']\n",
    "    if payload.get('message'):\n",
    "        message_dict = payload['message']\n",
    "        if message_dict.get('direction') == 'inbound':\n",
    "            processed_webhook['type'] = 'InboundMessage'\n",
    "            processed_webhook['messageType'] = message_dict.get('type')\n",
    "        processed_webhook['direction'] = message_dict.get('direction')\n",
    "        processed_webhook['body'] = message_dict.get('body')\n",
    "\n",
    "    else:\n",
    "        processed_webhook['type'] = 'OtherCustomWebhook'\n",
    "\n",
    "    processed_webhook['contactId'] = payload.get('contact_id', 'no contact id')\n",
    "    if payload.get('date_created'):\n",
    "        processed_webhook['dateAdded'] = payload['date_created']\n",
    "    if payload.get('noReply'):\n",
    "        processed_webhook['noReply'] = payload['noReply']\n",
    "    return processed_webhook\n",
    "\n",
    "transform_webhook(custom_webhook)"
   ]
  },
  {
   "cell_type": "code",
   "execution_count": null,
   "metadata": {},
   "outputs": [],
   "source": []
  },
  {
   "cell_type": "code",
   "execution_count": null,
   "metadata": {},
   "outputs": [],
   "source": []
  },
  {
   "cell_type": "code",
   "execution_count": null,
   "metadata": {},
   "outputs": [],
   "source": []
  },
  {
   "cell_type": "code",
   "execution_count": null,
   "metadata": {},
   "outputs": [],
   "source": []
  },
  {
   "cell_type": "code",
   "execution_count": null,
   "metadata": {},
   "outputs": [],
   "source": []
  },
  {
   "cell_type": "code",
   "execution_count": null,
   "metadata": {},
   "outputs": [],
   "source": []
  },
  {
   "cell_type": "code",
   "execution_count": null,
   "metadata": {},
   "outputs": [],
   "source": []
  },
  {
   "cell_type": "code",
   "execution_count": null,
   "metadata": {},
   "outputs": [],
   "source": []
  },
  {
   "cell_type": "code",
   "execution_count": null,
   "metadata": {},
   "outputs": [],
   "source": []
  },
  {
   "cell_type": "code",
   "execution_count": null,
   "metadata": {},
   "outputs": [],
   "source": []
  },
  {
   "cell_type": "code",
   "execution_count": null,
   "metadata": {},
   "outputs": [],
   "source": []
  },
  {
   "cell_type": "code",
   "execution_count": null,
   "metadata": {},
   "outputs": [],
   "source": []
  },
  {
   "cell_type": "code",
   "execution_count": null,
   "metadata": {},
   "outputs": [],
   "source": []
  },
  {
   "cell_type": "code",
   "execution_count": null,
   "metadata": {},
   "outputs": [],
   "source": []
  },
  {
   "cell_type": "code",
   "execution_count": null,
   "metadata": {},
   "outputs": [],
   "source": []
  },
  {
   "cell_type": "code",
   "execution_count": null,
   "metadata": {},
   "outputs": [],
   "source": []
  },
  {
   "cell_type": "code",
   "execution_count": null,
   "metadata": {},
   "outputs": [],
   "source": []
  },
  {
   "cell_type": "code",
   "execution_count": null,
   "metadata": {},
   "outputs": [],
   "source": []
  },
  {
   "attachments": {},
   "cell_type": "markdown",
   "metadata": {},
   "source": [
    "# *End of Page*"
   ]
  }
 ],
 "metadata": {
  "kernelspec": {
   "display_name": "Python 3.9.13 64-bit",
   "language": "python",
   "name": "python3"
  },
  "language_info": {
   "codemirror_mode": {
    "name": "ipython",
    "version": 3
   },
   "file_extension": ".py",
   "mimetype": "text/x-python",
   "name": "python",
   "nbconvert_exporter": "python",
   "pygments_lexer": "ipython3",
   "version": "3.10.12"
  },
  "orig_nbformat": 4,
  "vscode": {
   "interpreter": {
    "hash": "11938c6bc6919ae2720b4d5011047913343b08a43b18698fd82dedb0d4417594"
   }
  }
 },
 "nbformat": 4,
 "nbformat_minor": 2
}
