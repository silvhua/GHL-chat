{
 "cells": [
  {
   "attachments": {},
   "cell_type": "markdown",
   "metadata": {},
   "source": [
    "# Title\n",
    "[]()"
   ]
  },
  {
   "cell_type": "code",
   "execution_count": 1,
   "metadata": {},
   "outputs": [],
   "source": [
    "\n",
    "import sys\n",
    "sys.path.append(r\"/home/silvhua/custom_python\")\n",
    "sys.path.append(r'/home/silvhua/repositories/GHL-chat/src/')\n",
    "from silvhua import *\n",
    "\n",
    "from openai import OpenAI\n",
    "import os\n",
    "from time import time\n",
    "\n",
    "from langchain.chat_models import ChatOpenAI\n",
    "\n",
    "# Create memory \n",
    "from langchain.memory.chat_message_histories import DynamoDBChatMessageHistory\n",
    "from langchain.memory import ConversationBufferMemory\n",
    "\n",
    "from langchain.agents.openai_functions_agent.base import OpenAIFunctionsAgent\n",
    "from langchain.schema.messages import SystemMessage\n",
    "\n",
    "from langchain.prompts import MessagesPlaceholder\n",
    "\n",
    "from langchain.agents import AgentExecutor\n",
    "\n",
    "from langchain.agents import Tool\n"
   ]
  },
  {
   "cell_type": "code",
   "execution_count": 2,
   "metadata": {},
   "outputs": [],
   "source": [
    "\n",
    "conversation_dict = dict()\n",
    "system_message_dict = dict()\n",
    "reply_dict = dict()\n",
    "contacts = load_json('contacts.json', '../src/app/private')\n"
   ]
  },
  {
   "cell_type": "markdown",
   "metadata": {},
   "source": [
    "# Load `inbound_dict`"
   ]
  },
  {
   "cell_type": "code",
   "execution_count": 8,
   "metadata": {},
   "outputs": [
    {
     "data": {
      "text/plain": [
       "{'alert': {'1': 'Can you give me an Olympic lifting program to improve my technique?',\n",
       "  '2': 'I have a diagnosed eating disorder. Can you help me with that?',\n",
       "  '3': 'What is the capital of Canada?',\n",
       "  '4': \"Yes, let's book a call\"},\n",
       " 'no_alert': {'1': 'What does the program involve?',\n",
       "  '2': 'What are your qualifications?',\n",
       "  '3': 'I feel lost with my nutrition',\n",
       "  '4': 'Is this a bot or human?'}}"
      ]
     },
     "execution_count": 8,
     "metadata": {},
     "output_type": "execute_result"
    }
   ],
   "source": [
    "inbound_filename = '/home/silvhua/repositories/GHL-chat/events/InboundMessage_content.json'\n",
    "\n",
    "inbound_dict = load_json(inbound_filename, '')\n",
    "inbound_dict\n"
   ]
  },
  {
   "cell_type": "markdown",
   "metadata": {},
   "source": [
    "# Iteration 1"
   ]
  },
  {
   "cell_type": "code",
   "execution_count": 3,
   "metadata": {},
   "outputs": [
    {
     "name": "stdout",
     "output_type": "stream",
     "text": [
      "Chat history length: 0\n",
      "\n",
      "\n",
      "\u001b[1m> Entering new AgentExecutor chain...\u001b[0m\n",
      "\u001b[32;1m\u001b[1;3m{\n",
      "  \"response\": \"I am a degree qualified nutritionist and coach with over 10 years experience. I educate women about the importance of health and wellness, so they can live a sustainable, healthy and balanced lifestyle. The Strong and Sassy programme includes 1:1 nutrition habit coaching, personalized resistance training programs, weekly group coaching calls, in-house mindset coaching, nutrition education, unlimited accountability, community meet-ups, and free recipe e-books.\",\n",
      "  \"alert_human\": false\n",
      "}\n",
      "{\n",
      "  \"response\": \"I am a degree qualified nutritionist and coach with over 10 years experience. I educate women about the importance of health and wellness, so they can live a sustainable, healthy and balanced lifestyle. The Strong and Sassy programme includes 1:1 nutrition habit coaching, personalized resistance training programs, weekly group coaching calls, in-house mindset coaching, nutrition education, unlimited accountability, community meet-ups, and free recipe e-books.\",\n",
      "  \"alert_human\": false\n",
      "}\u001b[0m\n",
      "\n",
      "\u001b[1m> Finished chain.\u001b[0m\n",
      "Response time: 5.142815351486206 seconds\n",
      "Reply from `chat_with_chatbot`: {\n",
      "  \"response\": \"I am a degree qualified nutritionist and coach with over 10 years experience. I educate women about the importance of health and wellness, so they can live a sustainable, healthy and balanced lifestyle. The Strong and Sassy programme includes 1:1 nutrition habit coaching, personalized resistance training programs, weekly group coaching calls, in-house mindset coaching, nutrition education, unlimited accountability, community meet-ups, and free recipe e-books.\",\n",
      "  \"alert_human\": false\n",
      "}\n",
      "{\n",
      "  \"response\": \"I am a degree qualified nutritionist and coach with over 10 years experience. I educate women about the importance of health and wellness, so they can live a sustainable, healthy and balanced lifestyle. The Strong and Sassy programme includes 1:1 nutrition habit coaching, personalized resistance training programs, weekly group coaching calls, in-house mindset coaching, nutrition education, unlimited accountability, community meet-ups, and free recipe e-books.\",\n",
      "  \"alert_human\": false\n",
      "}\n"
     ]
    }
   ],
   "source": [
    "from langchain.output_parsers.json import SimpleJsonOutputParser\n",
    "from langchain_core.pydantic_v1 import BaseModel, Field\n",
    "\n",
    "class Chatbot_Response(BaseModel):\n",
    "    response: str = Field(description=\"The response to the InboundMessage.\")\n",
    "    alert_human: bool = Field(description=\"Whether or not to alert a human to review the response.\")\n",
    "\n",
    "def create_system_message(\n",
    "        business_name, \n",
    "        prompts_filepath='../private/prompts',\n",
    "        examples_filepath='../private/data/chat_examples', doc_filepath='../private/data/rag_docs'\n",
    "        ):\n",
    "    \n",
    "    instructions = load_txt(f'{business_name}.md', prompts_filepath)\n",
    "    examples = load_txt(f'{business_name}.txt', examples_filepath)\n",
    "    document = load_txt(f'{business_name}_doc.md', doc_filepath)\n",
    "\n",
    "    system_message = f\"\"\"# Stage 1\n",
    "\n",
    "{instructions}\n",
    "\n",
    "## Other Messages\n",
    "\n",
    "Only repond to inbound messages that can be answered by the message templates or provided \n",
    "documenation. Otherwise, return \"[ALERT HUMAN]\". \n",
    "The \"[ALERT HUMAN]\" message will trigger a human staff member to review the messages to write a response. \n",
    "It is better to err on the side of caution and flag a staff rather than give a wrong response.\n",
    "\n",
    "Return your response on a JSON format with the following keys:\n",
    "- \"response\" (string): The response to the InboundMessage, if applicable. If a human is to be alerted, the value will be [ALERT HUMAN]\n",
    "- \"alert_human\" (True or False): Whether or not to alert a human to review the response.\n",
    "\n",
    "## Examples\n",
    "\n",
    "Below are example conversations with leads. Each lead as a unique contact ID.\n",
    "An InboundMessage is from the lead. An OutboundMessage is from you.\n",
    "\n",
    "{examples}\n",
    "\n",
    "## Relevant documentation\n",
    "\n",
    "{document}\n",
    "\n",
    "# Stage 2\n",
    "\n",
    "Review your response from stage 1. \n",
    "Revise your response if needed to make sure you followed the instructions.\n",
    "Make sure that if the question cannot be answered through the message templates or documentation, \n",
    "you return \"[ALERT HUMAN]\".\n",
    "\n",
    "# Stage 3\n",
    "\n",
    "Review your response from stage 2 to ensure your response is concise.\n",
    "    \"\"\"\n",
    "\n",
    "    prompt = \"\"\"\n",
    "    Write the next OutboundMessage based on the following InboundMessage, \n",
    "    which is delimited by triple backticks: ```{InboundMessage}```\n",
    "    \"\"\"\n",
    "    system_message = f'{system_message}{prompt}'\n",
    "    return system_message\n",
    "\n",
    "def create_chatbot(contactId, system_message, tools, model=\"gpt-3.5-turbo-1106\", verbose=True):\n",
    "\n",
    "    llm = ChatOpenAI(\n",
    "        temperature = 0,\n",
    "        openai_organization=os.environ['openai_organization'],\n",
    "        openai_api_key=os.environ['openai_api_key'],\n",
    "        model=model, \n",
    "        model_kwargs={\"response_format\": {\"type\": \"json_object\"}} # https://platform.openai.com/docs/guides/text-generation/json-mode  # https://api.python.langchain.com/en/latest/chat_models/langchain_community.chat_models.openai.ChatOpenAI.html?highlight=chatopenai#\n",
    "        )\n",
    "    message_history = DynamoDBChatMessageHistory(\n",
    "        table_name=\"SessionTable\", session_id=contactId,\n",
    "        key={\n",
    "            \"SessionId\": contactId,\n",
    "            \"type\": 'ChatHistory',\n",
    "            }\n",
    "        )\n",
    "    system_message = SystemMessage(\n",
    "        content=(system_message),\n",
    "        input_variables=['InboundMessage']\n",
    "    )\n",
    "\n",
    "    prompt = OpenAIFunctionsAgent.create_prompt(\n",
    "        system_message=system_message,\n",
    "        extra_prompt_messages=[\n",
    "            MessagesPlaceholder(variable_name='chat_history')\n",
    "            ]\n",
    "    )\n",
    "\n",
    "    parser = SimpleJsonOutputParser(pydantic_object=Chatbot_Response)\n",
    "    agent = OpenAIFunctionsAgent(llm=llm, tools=tools, prompt=prompt)\n",
    "    agent_executor = AgentExecutor( # Example of creating a custom agent: https://python.langchain.com/docs/modules/agents/how_to/custom_agent\n",
    "        agent=agent, tools=tools, \n",
    "        verbose=verbose, return_intermediate_steps=True,\n",
    "        parser=parser  # Add the parser instance to the agent_executor\n",
    "        )\n",
    "    agent_info = {\n",
    "        'agent': agent,\n",
    "        'agent_executor': agent_executor,\n",
    "        'chat_history': message_history.messages\n",
    "    }\n",
    "    return agent_info\n",
    "\n",
    "def chat_with_chatbot(user_input, agent_info):\n",
    "    start_time = time()\n",
    "    print(f'Chat history length: {len(agent_info[\"chat_history\"])}')\n",
    "    chat_history = agent_info['chat_history']\n",
    "    result = agent_info['agent_executor']({\n",
    "            \"input\": user_input,\n",
    "            \"chat_history\": chat_history\n",
    "        })  \n",
    "    print(f'Response time: {time() - start_time} seconds')\n",
    "    \n",
    "    return result\n",
    "\n",
    "def alert_human(str) -> str:\n",
    "    return {\"response\": \"[ALERT HUMAN]\", \"alert_human\": True}\n",
    "\n",
    "def placeholder_function(str):\n",
    "    return None\n",
    "\n",
    "tools = [\n",
    "    # Tool(\n",
    "    #     name=f\"alert_human_function\",\n",
    "    #     func=alert_human,\n",
    "    #     description=f\"If the InboundMessage cannot be answered from your instructions or documentation, use this function.\",\n",
    "    # ),\n",
    "    Tool(\n",
    "        name=f\"placeholder_function\",\n",
    "        func=placeholder_function,\n",
    "        description=f\"This function does not do anything.\",\n",
    "    )\n",
    "]\n",
    "\n",
    "conversation_id = 1\n",
    "InboundMessage = \"Tell me more about the program\"\n",
    "reply_dict[conversation_id] = dict()\n",
    "question_id = 1\n",
    "\n",
    "contactId = 'test_cm'\n",
    "system_message_dict[conversation_id] = create_system_message(\n",
    "    'CoachMcloone', \n",
    "    prompts_filepath='../private/prompts',\n",
    "    examples_filepath='../private/data/chat_examples', doc_filepath='../private/data/rag_docs'\n",
    ")\n",
    "conversation_dict[conversation_id] = create_chatbot(\n",
    "    contactId, system_message_dict[conversation_id], tools=tools,\n",
    "    # model='gpt-4-32k'\n",
    "    )\n",
    "\n",
    "reply_dict[conversation_id][question_id] = chat_with_chatbot(\n",
    "    InboundMessage, conversation_dict[conversation_id]\n",
    ")\n",
    "reply_text = reply_dict[conversation_id][question_id][\"output\"]\n",
    "print(f'Reply from `chat_with_chatbot`: {reply_text}')\n"
   ]
  },
  {
   "cell_type": "code",
   "execution_count": 14,
   "metadata": {},
   "outputs": [
    {
     "name": "stdout",
     "output_type": "stream",
     "text": [
      "Chat history length: 0\n",
      "\n",
      "\n",
      "\u001b[1m> Entering new AgentExecutor chain...\u001b[0m\n",
      "\u001b[32;1m\u001b[1;3m{\"response\":\"I am a degree qualified nutritionist and coach with over 10 years experience. I educate women about the importance of health and wellness, so they can live a sustainable, healthy and balanced lifestyle.\",\"alert_human\":false}\n",
      "{\"response\":\"I am a degree qualified nutritionist and coach with over 10 years experience. I educate women about the importance of health and wellness, so they can live a sustainable, healthy and balanced lifestyle.\",\"alert_human\":false}\u001b[0m\n",
      "\n",
      "\u001b[1m> Finished chain.\u001b[0m\n",
      "Response time: 3.3333845138549805 seconds\n",
      "Reply from `chat_with_chatbot`: {\"response\":\"I am a degree qualified nutritionist and coach with over 10 years experience. I educate women about the importance of health and wellness, so they can live a sustainable, healthy and balanced lifestyle.\",\"alert_human\":false}\n",
      "{\"response\":\"I am a degree qualified nutritionist and coach with over 10 years experience. I educate women about the importance of health and wellness, so they can live a sustainable, healthy and balanced lifestyle.\",\"alert_human\":false}\n"
     ]
    }
   ],
   "source": [
    "question_id = 2\n",
    "alert = 'no_alert'\n",
    "InboundMessage = inbound_dict[alert][str(question_id)]\n",
    "\n",
    "\n",
    "reply_dict[conversation_id][question_id] = chat_with_chatbot(\n",
    "    InboundMessage, conversation_dict[conversation_id]\n",
    ")\n",
    "reply_text = reply_dict[conversation_id][question_id][\"output\"]\n",
    "print(f'Reply from `chat_with_chatbot`: {reply_text}')"
   ]
  },
  {
   "cell_type": "code",
   "execution_count": 13,
   "metadata": {},
   "outputs": [
    {
     "data": {
      "text/plain": [
       "'What are your qualifications?'"
      ]
     },
     "execution_count": 13,
     "metadata": {},
     "output_type": "execute_result"
    }
   ],
   "source": [
    "inbound_dict[alert]['2']"
   ]
  },
  {
   "cell_type": "markdown",
   "metadata": {},
   "source": [
    "# Iteration 2"
   ]
  },
  {
   "cell_type": "code",
   "execution_count": 15,
   "metadata": {},
   "outputs": [
    {
     "name": "stdout",
     "output_type": "stream",
     "text": [
      "Chat history length: 0\n",
      "\n",
      "\n",
      "\u001b[1m> Entering new AgentExecutor chain...\u001b[0m\n",
      "\u001b[32;1m\u001b[1;3m{\"response\":\"I'm Amanda - creator of the Strong and Sassy programme. I am a degree qualified nutritionist and coach with over 10 years experience. I educate women about the importance of health and wellness, so they can live a sustainable, healthy and balanced lifestyle. I help women become super confident, strong and happy within themselves. The Strong and Sassy programme includes 1:1 Nutrition habit coaching, Personalised Resistance training programmes, Weekly group coaching calls, In House mindset coach, Nutrition education, Unlimited Accountability, Community meet ups, and Free Recipe E-Books.\",\"alert_human\":false}\n",
      "{\"response\":\"I'm Amanda - creator of the Strong and Sassy programme. I am a degree qualified nutritionist and coach with over 10 years experience. I educate women about the importance of health and wellness, so they can live a sustainable, healthy and balanced lifestyle. I help women become super confident, strong and happy within themselves. The Strong and Sassy programme includes 1:1 Nutrition habit coaching, Personalised Resistance training programmes, Weekly group coaching calls, In House mindset coach, Nutrition education, Unlimited Accountability, Community meet ups, and Free Recipe E-Books.\",\"alert_human\":false}\u001b[0m\n",
      "\n",
      "\u001b[1m> Finished chain.\u001b[0m\n",
      "Response time: 5.797706127166748 seconds\n",
      "Reply from `chat_with_chatbot`: {\"response\":\"I'm Amanda - creator of the Strong and Sassy programme. I am a degree qualified nutritionist and coach with over 10 years experience. I educate women about the importance of health and wellness, so they can live a sustainable, healthy and balanced lifestyle. I help women become super confident, strong and happy within themselves. The Strong and Sassy programme includes 1:1 Nutrition habit coaching, Personalised Resistance training programmes, Weekly group coaching calls, In House mindset coach, Nutrition education, Unlimited Accountability, Community meet ups, and Free Recipe E-Books.\",\"alert_human\":false}\n",
      "{\"response\":\"I'm Amanda - creator of the Strong and Sassy programme. I am a degree qualified nutritionist and coach with over 10 years experience. I educate women about the importance of health and wellness, so they can live a sustainable, healthy and balanced lifestyle. I help women become super confident, strong and happy within themselves. The Strong and Sassy programme includes 1:1 Nutrition habit coaching, Personalised Resistance training programmes, Weekly group coaching calls, In House mindset coach, Nutrition education, Unlimited Accountability, Community meet ups, and Free Recipe E-Books.\",\"alert_human\":false}\n"
     ]
    }
   ],
   "source": [
    "from langchain.output_parsers.json import SimpleJsonOutputParser\n",
    "from langchain_core.pydantic_v1 import BaseModel, Field\n",
    "\n",
    "class Chatbot_Response(BaseModel):\n",
    "    response: str = Field(description=\"The response to the InboundMessage.\")\n",
    "    alert_human: bool = Field(description=\"Whether or not to alert a human to review the response.\")\n",
    "\n",
    "def create_system_message(\n",
    "        business_name, \n",
    "        prompts_filepath='../private/prompts',\n",
    "        examples_filepath='../private/data/chat_examples', doc_filepath='../private/data/rag_docs'\n",
    "        ):\n",
    "    \n",
    "    instructions = load_txt(f'{business_name}.md', prompts_filepath)\n",
    "    examples = load_txt(f'{business_name}.txt', examples_filepath)\n",
    "    document = load_txt(f'{business_name}_doc.md', doc_filepath)\n",
    "\n",
    "    system_message = f\"\"\"{instructions}\n",
    "\n",
    "## Other Messages\n",
    "\n",
    "Only repond to inbound messages that can be answered by the message templates or provided \n",
    "documenation. Otherwise, return \"[ALERT HUMAN]\". \n",
    "The \"[ALERT HUMAN]\" message will trigger a human staff member to review the messages to write a response. \n",
    "It is better to err on the side of caution and flag a staff rather than give a wrong response.\n",
    "    \n",
    "# Stage 1\n",
    "\n",
    "Determine if you should generate a response to the inbound message. If so, generate the response and proceed \n",
    "to Stage 2. Otherwise, return \"[ALERT HUMAN]\".\n",
    "\n",
    "Return your response on a JSON format with the following keys:\n",
    "- \"response\" (string): The response to the InboundMessage, if applicable. If a human is to be alerted, the value will be [ALERT HUMAN]\n",
    "- \"alert_human\" (True or False): Whether or not to alert a human to review the response.\n",
    "\n",
    "## Examples\n",
    "\n",
    "Below are example conversations with leads. Each lead as a unique contact ID.\n",
    "An InboundMessage is from the lead. An OutboundMessage is from you.\n",
    "\n",
    "{examples}\n",
    "\n",
    "## Relevant documentation\n",
    "\n",
    "{document}\n",
    "\n",
    "# Stage 2\n",
    "\n",
    "Review your response from stage 1. \n",
    "Revise your response if needed to make sure you followed the instructions.\n",
    "Make sure that if the question cannot be answered through the message templates or documentation, \n",
    "you return \"[ALERT HUMAN]\".\n",
    "\n",
    "# Stage 3\n",
    "\n",
    "Review your response from stage 2 to revise as needed to make it concise.\n",
    "    \"\"\"\n",
    "\n",
    "    prompt = \"\"\"\n",
    "    Write the next OutboundMessage based on the following InboundMessage, \n",
    "    which is delimited by triple backticks: ```{InboundMessage}```\n",
    "    \"\"\"\n",
    "    system_message = f'{system_message}{prompt}'\n",
    "    return system_message\n",
    "\n",
    "def create_chatbot(contactId, system_message, tools, model=\"gpt-3.5-turbo-1106\", verbose=True):\n",
    "\n",
    "    llm = ChatOpenAI(\n",
    "        temperature = 0,\n",
    "        openai_organization=os.environ['openai_organization'],\n",
    "        openai_api_key=os.environ['openai_api_key'],\n",
    "        model=model, \n",
    "        model_kwargs={\"response_format\": {\"type\": \"json_object\"}} # https://platform.openai.com/docs/guides/text-generation/json-mode  # https://api.python.langchain.com/en/latest/chat_models/langchain_community.chat_models.openai.ChatOpenAI.html?highlight=chatopenai#\n",
    "        )\n",
    "    message_history = DynamoDBChatMessageHistory(\n",
    "        table_name=\"SessionTable\", session_id=contactId,\n",
    "        key={\n",
    "            \"SessionId\": contactId,\n",
    "            \"type\": 'ChatHistory',\n",
    "            }\n",
    "        )\n",
    "    system_message = SystemMessage(\n",
    "        content=(system_message),\n",
    "        input_variables=['InboundMessage']\n",
    "    )\n",
    "\n",
    "    prompt = OpenAIFunctionsAgent.create_prompt(\n",
    "        system_message=system_message,\n",
    "        extra_prompt_messages=[\n",
    "            MessagesPlaceholder(variable_name='chat_history')\n",
    "            ]\n",
    "    )\n",
    "\n",
    "    parser = SimpleJsonOutputParser(pydantic_object=Chatbot_Response)\n",
    "    agent = OpenAIFunctionsAgent(llm=llm, tools=tools, prompt=prompt)\n",
    "    agent_executor = AgentExecutor( # Example of creating a custom agent: https://python.langchain.com/docs/modules/agents/how_to/custom_agent\n",
    "        agent=agent, tools=tools, \n",
    "        verbose=verbose, return_intermediate_steps=True,\n",
    "        parser=parser  # Add the parser instance to the agent_executor\n",
    "        )\n",
    "    agent_info = {\n",
    "        'agent': agent,\n",
    "        'agent_executor': agent_executor,\n",
    "        'chat_history': message_history.messages\n",
    "    }\n",
    "    return agent_info\n",
    "\n",
    "def chat_with_chatbot(user_input, agent_info):\n",
    "    start_time = time()\n",
    "    print(f'Chat history length: {len(agent_info[\"chat_history\"])}')\n",
    "    chat_history = agent_info['chat_history']\n",
    "    result = agent_info['agent_executor']({\n",
    "            \"input\": user_input,\n",
    "            \"chat_history\": chat_history\n",
    "        })  \n",
    "    print(f'Response time: {time() - start_time} seconds')\n",
    "    \n",
    "    return result\n",
    "\n",
    "def alert_human(str) -> str:\n",
    "    return {\"response\": \"[ALERT HUMAN]\", \"alert_human\": True}\n",
    "\n",
    "def placeholder_function(str):\n",
    "    return None\n",
    "\n",
    "tools = [\n",
    "    # Tool(\n",
    "    #     name=f\"alert_human_function\",\n",
    "    #     func=alert_human,\n",
    "    #     description=f\"If the InboundMessage cannot be answered from your instructions or documentation, use this function.\",\n",
    "    # ),\n",
    "    Tool(\n",
    "        name=f\"placeholder_function\",\n",
    "        func=placeholder_function,\n",
    "        description=f\"This function does not do anything.\",\n",
    "    )\n",
    "]\n",
    "\n",
    "conversation_id = 2\n",
    "reply_dict[conversation_id] = dict()\n",
    "question_id = 1\n",
    "InboundMessage = inbound_dict[alert][str(question_id)]\n",
    "\n",
    "contactId = 'test_cm'\n",
    "system_message_dict[conversation_id] = create_system_message(\n",
    "    'CoachMcloone', \n",
    "    prompts_filepath='../private/prompts',\n",
    "    examples_filepath='../private/data/chat_examples', doc_filepath='../private/data/rag_docs'\n",
    ")\n",
    "conversation_dict[conversation_id] = create_chatbot(\n",
    "    contactId, system_message_dict[conversation_id], tools=tools,\n",
    "    # model='gpt-4-32k'\n",
    "    )\n",
    "\n",
    "reply_dict[conversation_id][question_id] = chat_with_chatbot(\n",
    "    InboundMessage, conversation_dict[conversation_id]\n",
    ")\n",
    "reply_text = reply_dict[conversation_id][question_id][\"output\"]\n",
    "print(f'Reply from `chat_with_chatbot`: {reply_text}')\n"
   ]
  },
  {
   "cell_type": "code",
   "execution_count": 16,
   "metadata": {},
   "outputs": [
    {
     "name": "stdout",
     "output_type": "stream",
     "text": [
      "InboundMessage: What are your qualifications?\n",
      "\n",
      "Chat history length: 0\n",
      "\n",
      "\n",
      "\u001b[1m> Entering new AgentExecutor chain...\u001b[0m\n",
      "\u001b[32;1m\u001b[1;3m{\"response\":\"I am a degree qualified nutritionist and coach with over 10 years experience. I educate women about the importance of health and wellness, so they can live a sustainable, healthy and balanced lifestyle.\",\"alert_human\":false}\n",
      "{\"response\":\"I am a degree qualified nutritionist and coach with over 10 years experience. I educate women about the importance of health and wellness, so they can live a sustainable, healthy and balanced lifestyle.\",\"alert_human\":false}\u001b[0m\n",
      "\n",
      "\u001b[1m> Finished chain.\u001b[0m\n",
      "Response time: 3.204585075378418 seconds\n",
      "Reply from `chat_with_chatbot`: {\"response\":\"I am a degree qualified nutritionist and coach with over 10 years experience. I educate women about the importance of health and wellness, so they can live a sustainable, healthy and balanced lifestyle.\",\"alert_human\":false}\n",
      "{\"response\":\"I am a degree qualified nutritionist and coach with over 10 years experience. I educate women about the importance of health and wellness, so they can live a sustainable, healthy and balanced lifestyle.\",\"alert_human\":false}\n"
     ]
    }
   ],
   "source": [
    "question_id +=1\n",
    "alert = 'no_alert'\n",
    "InboundMessage = inbound_dict[alert][str(question_id)]\n",
    "print(f'InboundMessage: {InboundMessage}\\n')\n",
    "\n",
    "reply_dict[conversation_id][question_id] = chat_with_chatbot(\n",
    "    InboundMessage, conversation_dict[conversation_id]\n",
    ")\n",
    "reply_text = reply_dict[conversation_id][question_id][\"output\"]\n",
    "print(f'Reply from `chat_with_chatbot`: {reply_text}')"
   ]
  },
  {
   "cell_type": "code",
   "execution_count": 17,
   "metadata": {},
   "outputs": [
    {
     "data": {
      "text/plain": [
       "[]"
      ]
     },
     "execution_count": 17,
     "metadata": {},
     "output_type": "execute_result"
    }
   ],
   "source": [
    "reply_dict[conversation_id][question_id]['intermediate_steps']"
   ]
  },
  {
   "cell_type": "code",
   "execution_count": 18,
   "metadata": {},
   "outputs": [
    {
     "name": "stdout",
     "output_type": "stream",
     "text": [
      "InboundMessage: I feel lost with my nutrition\n",
      "\n",
      "Chat history length: 0\n",
      "\n",
      "\n",
      "\u001b[1m> Entering new AgentExecutor chain...\u001b[0m\n",
      "\u001b[32;1m\u001b[1;3m\n",
      "\t\t{\n",
      "\t\"response\": \"Ah that's a great goal! Just curious, why is <the desired result> important to you, and how will that impact your life? I'd love to help you out the best that I can! ❤️\",\n",
      "\t\"alert_human\": false\n",
      "}\u001b[0m\n",
      "\n",
      "\u001b[1m> Finished chain.\u001b[0m\n",
      "Response time: 2.094564437866211 seconds\n",
      "Reply from `chat_with_chatbot`: \n",
      "\t\t{\n",
      "\t\"response\": \"Ah that's a great goal! Just curious, why is <the desired result> important to you, and how will that impact your life? I'd love to help you out the best that I can! ❤️\",\n",
      "\t\"alert_human\": false\n",
      "}\n"
     ]
    }
   ],
   "source": [
    "question_id +=1\n",
    "alert = 'no_alert'\n",
    "InboundMessage = inbound_dict[alert][str(question_id)]\n",
    "print(f'InboundMessage: {InboundMessage}\\n')\n",
    "\n",
    "reply_dict[conversation_id][question_id] = chat_with_chatbot(\n",
    "    InboundMessage, conversation_dict[conversation_id]\n",
    ")\n",
    "reply_text = reply_dict[conversation_id][question_id][\"output\"]\n",
    "print(f'Reply from `chat_with_chatbot`: {reply_text}')"
   ]
  },
  {
   "cell_type": "code",
   "execution_count": 19,
   "metadata": {},
   "outputs": [
    {
     "name": "stdout",
     "output_type": "stream",
     "text": [
      "InboundMessage: Is this a bot or human?\n",
      "\n",
      "Chat history length: 0\n",
      "\n",
      "\n",
      "\u001b[1m> Entering new AgentExecutor chain...\u001b[0m\n",
      "\u001b[32;1m\u001b[1;3m\n",
      "    {\n",
      "        \"response\": \"[ALERT HUMAN]\",\n",
      "        \"alert_human\": true\n",
      "    }\n",
      "\n",
      "    {\n",
      "        \"response\": \"[ALERT HUMAN]\",\n",
      "        \"alert_human\": true\n",
      "    }\u001b[0m\n",
      "\n",
      "\u001b[1m> Finished chain.\u001b[0m\n",
      "Response time: 1.930250644683838 seconds\n",
      "Reply from `chat_with_chatbot`: \n",
      "    {\n",
      "        \"response\": \"[ALERT HUMAN]\",\n",
      "        \"alert_human\": true\n",
      "    }\n",
      "\n",
      "    {\n",
      "        \"response\": \"[ALERT HUMAN]\",\n",
      "        \"alert_human\": true\n",
      "    }\n"
     ]
    }
   ],
   "source": [
    "question_id +=1\n",
    "alert = 'no_alert'\n",
    "InboundMessage = inbound_dict[alert][str(question_id)]\n",
    "print(f'InboundMessage: {InboundMessage}\\n')\n",
    "\n",
    "reply_dict[conversation_id][question_id] = chat_with_chatbot(\n",
    "    InboundMessage, conversation_dict[conversation_id]\n",
    ")\n",
    "reply_text = reply_dict[conversation_id][question_id][\"output\"]\n",
    "print(f'Reply from `chat_with_chatbot`: {reply_text}')"
   ]
  },
  {
   "cell_type": "code",
   "execution_count": 20,
   "metadata": {},
   "outputs": [
    {
     "name": "stdout",
     "output_type": "stream",
     "text": [
      "InboundMessage: Can you give me an Olympic lifting program to improve my technique?\n",
      "\n",
      "Chat history length: 0\n",
      "\n",
      "\n",
      "\u001b[1m> Entering new AgentExecutor chain...\u001b[0m\n",
      "\u001b[32;1m\u001b[1;3m\n",
      "  {\"response\": \"[ALERT HUMAN]\", \"alert_human\": true}\u001b[0m\n",
      "\n",
      "\u001b[1m> Finished chain.\u001b[0m\n",
      "Response time: 1.186612606048584 seconds\n",
      "Reply from `chat_with_chatbot`: \n",
      "  {\"response\": \"[ALERT HUMAN]\", \"alert_human\": true}\n"
     ]
    }
   ],
   "source": [
    "question_id = 1\n",
    "alert = 'alert'\n",
    "InboundMessage = inbound_dict[alert][str(question_id)]\n",
    "print(f'InboundMessage: {InboundMessage}\\n')\n",
    "\n",
    "reply_dict[conversation_id][question_id] = chat_with_chatbot(\n",
    "    InboundMessage, conversation_dict[conversation_id]\n",
    ")\n",
    "reply_text = reply_dict[conversation_id][question_id][\"output\"]\n",
    "print(f'Reply from `chat_with_chatbot`: {reply_text}')"
   ]
  },
  {
   "cell_type": "code",
   "execution_count": 21,
   "metadata": {},
   "outputs": [
    {
     "name": "stdout",
     "output_type": "stream",
     "text": [
      "InboundMessage: I have a diagnosed eating disorder. Can you help me with that?\n",
      "\n",
      "Chat history length: 0\n",
      "\n",
      "\n",
      "\u001b[1m> Entering new AgentExecutor chain...\u001b[0m\n",
      "\u001b[32;1m\u001b[1;3m\n",
      "    {\"response\": \"[ALERT HUMAN]\", \"alert_human\": true}\u001b[0m\n",
      "\n",
      "\u001b[1m> Finished chain.\u001b[0m\n",
      "Response time: 1.927816390991211 seconds\n",
      "Reply from `chat_with_chatbot`: \n",
      "    {\"response\": \"[ALERT HUMAN]\", \"alert_human\": true}\n"
     ]
    }
   ],
   "source": [
    "question_id += 1\n",
    "alert = 'alert'\n",
    "InboundMessage = inbound_dict[alert][str(question_id)]\n",
    "print(f'InboundMessage: {InboundMessage}\\n')\n",
    "\n",
    "reply_dict[conversation_id][question_id] = chat_with_chatbot(\n",
    "    InboundMessage, conversation_dict[conversation_id]\n",
    ")\n",
    "reply_text = reply_dict[conversation_id][question_id][\"output\"]\n",
    "print(f'Reply from `chat_with_chatbot`: {reply_text}')"
   ]
  },
  {
   "cell_type": "code",
   "execution_count": 22,
   "metadata": {},
   "outputs": [
    {
     "name": "stdout",
     "output_type": "stream",
     "text": [
      "InboundMessage: What is the capital of Canada?\n",
      "\n",
      "Chat history length: 0\n",
      "\n",
      "\n",
      "\u001b[1m> Entering new AgentExecutor chain...\u001b[0m\n",
      "\u001b[32;1m\u001b[1;3m\n",
      "  {\n",
      "    \"response\": \"[ALERT HUMAN]\",\n",
      "    \"alert_human\": true\n",
      "  }\u001b[0m\n",
      "\n",
      "\u001b[1m> Finished chain.\u001b[0m\n",
      "Response time: 1.2443015575408936 seconds\n",
      "Reply from `chat_with_chatbot`: \n",
      "  {\n",
      "    \"response\": \"[ALERT HUMAN]\",\n",
      "    \"alert_human\": true\n",
      "  }\n"
     ]
    }
   ],
   "source": [
    "question_id += 1\n",
    "alert = 'alert'\n",
    "InboundMessage = inbound_dict[alert][str(question_id)]\n",
    "print(f'InboundMessage: {InboundMessage}\\n')\n",
    "\n",
    "reply_dict[conversation_id][question_id] = chat_with_chatbot(\n",
    "    InboundMessage, conversation_dict[conversation_id]\n",
    ")\n",
    "reply_text = reply_dict[conversation_id][question_id][\"output\"]\n",
    "print(f'Reply from `chat_with_chatbot`: {reply_text}')"
   ]
  },
  {
   "cell_type": "code",
   "execution_count": 23,
   "metadata": {},
   "outputs": [
    {
     "name": "stdout",
     "output_type": "stream",
     "text": [
      "Chat history length: 0\n",
      "\n",
      "\n",
      "\u001b[1m> Entering new AgentExecutor chain...\u001b[0m\n",
      "\u001b[32;1m\u001b[1;3m\n",
      "  {\n",
      "    \"response\": \"[ALERT HUMAN]\",\n",
      "    \"alert_human\": true\n",
      "  }\u001b[0m\n",
      "\n",
      "\u001b[1m> Finished chain.\u001b[0m\n",
      "Response time: 1.3051986694335938 seconds\n",
      "Reply from `chat_with_chatbot`: \n",
      "  {\n",
      "    \"response\": \"[ALERT HUMAN]\",\n",
      "    \"alert_human\": true\n",
      "  }\n"
     ]
    }
   ],
   "source": [
    "reply_dict[conversation_id][question_id] = chat_with_chatbot(\n",
    "    InboundMessage, conversation_dict[conversation_id]\n",
    ")\n",
    "reply_text = reply_dict[conversation_id][question_id][\"output\"]\n",
    "print(f'Reply from `chat_with_chatbot`: {reply_text}')"
   ]
  },
  {
   "cell_type": "code",
   "execution_count": 24,
   "metadata": {},
   "outputs": [
    {
     "name": "stdout",
     "output_type": "stream",
     "text": [
      "Chat history length: 0\n",
      "\n",
      "\n",
      "\u001b[1m> Entering new AgentExecutor chain...\u001b[0m\n",
      "\u001b[32;1m\u001b[1;3m  {\"response\":\"[ALERT HUMAN]\",\"alert_human\":true}\n",
      "{\"response\":\"[ALERT HUMAN]\",\"alert_human\":true}\u001b[0m\n",
      "\n",
      "\u001b[1m> Finished chain.\u001b[0m\n",
      "Response time: 1.6409404277801514 seconds\n",
      "Reply from `chat_with_chatbot`:   {\"response\":\"[ALERT HUMAN]\",\"alert_human\":true}\n",
      "{\"response\":\"[ALERT HUMAN]\",\"alert_human\":true}\n"
     ]
    }
   ],
   "source": [
    "reply_dict[conversation_id][question_id] = chat_with_chatbot(\n",
    "    InboundMessage, conversation_dict[conversation_id]\n",
    ")\n",
    "reply_text = reply_dict[conversation_id][question_id][\"output\"]\n",
    "print(f'Reply from `chat_with_chatbot`: {reply_text}')"
   ]
  },
  {
   "cell_type": "code",
   "execution_count": 25,
   "metadata": {},
   "outputs": [
    {
     "name": "stdout",
     "output_type": "stream",
     "text": [
      "InboundMessage: Yes, let's book a call\n",
      "\n",
      "Chat history length: 0\n",
      "\n",
      "\n",
      "\u001b[1m> Entering new AgentExecutor chain...\u001b[0m\n",
      "\u001b[32;1m\u001b[1;3m{\n",
      "  \"response\": \"[ALERT HUMAN]\",\n",
      "  \"alert_human\": true\n",
      "}\u001b[0m\n",
      "\n",
      "\u001b[1m> Finished chain.\u001b[0m\n",
      "Response time: 1.2324841022491455 seconds\n",
      "Reply from `chat_with_chatbot`: {\n",
      "  \"response\": \"[ALERT HUMAN]\",\n",
      "  \"alert_human\": true\n",
      "}\n"
     ]
    }
   ],
   "source": [
    "question_id += 1\n",
    "alert = 'alert'\n",
    "InboundMessage = inbound_dict[alert][str(question_id)]\n",
    "print(f'InboundMessage: {InboundMessage}\\n')\n",
    "\n",
    "reply_dict[conversation_id][question_id] = chat_with_chatbot(\n",
    "    InboundMessage, conversation_dict[conversation_id]\n",
    ")\n",
    "reply_text = reply_dict[conversation_id][question_id][\"output\"]\n",
    "print(f'Reply from `chat_with_chatbot`: {reply_text}')"
   ]
  },
  {
   "cell_type": "markdown",
   "metadata": {},
   "source": []
  },
  {
   "cell_type": "code",
   "execution_count": null,
   "metadata": {},
   "outputs": [],
   "source": []
  },
  {
   "cell_type": "code",
   "execution_count": null,
   "metadata": {},
   "outputs": [],
   "source": []
  },
  {
   "cell_type": "code",
   "execution_count": null,
   "metadata": {},
   "outputs": [],
   "source": []
  },
  {
   "cell_type": "code",
   "execution_count": null,
   "metadata": {},
   "outputs": [],
   "source": []
  },
  {
   "cell_type": "code",
   "execution_count": null,
   "metadata": {},
   "outputs": [],
   "source": []
  },
  {
   "cell_type": "code",
   "execution_count": null,
   "metadata": {},
   "outputs": [],
   "source": []
  },
  {
   "cell_type": "code",
   "execution_count": null,
   "metadata": {},
   "outputs": [],
   "source": []
  },
  {
   "attachments": {},
   "cell_type": "markdown",
   "metadata": {},
   "source": [
    "# *End of Page*"
   ]
  }
 ],
 "metadata": {
  "kernelspec": {
   "display_name": ".ghl-env",
   "language": "python",
   "name": "python3"
  },
  "language_info": {
   "codemirror_mode": {
    "name": "ipython",
    "version": 3
   },
   "file_extension": ".py",
   "mimetype": "text/x-python",
   "name": "python",
   "nbconvert_exporter": "python",
   "pygments_lexer": "ipython3",
   "version": "3.10.12"
  },
  "orig_nbformat": 4
 },
 "nbformat": 4,
 "nbformat_minor": 2
}
